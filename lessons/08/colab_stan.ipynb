{
 "cells": [
  {
   "cell_type": "markdown",
   "id": "9cb14472-b8f9-4ddc-887d-0329ced40a70",
   "metadata": {},
   "source": [
    "# Using Stan with Google Colab\n",
    "\n",
    "<hr>"
   ]
  },
  {
   "cell_type": "markdown",
   "id": "8fbaa12c-44f4-40d2-b232-8c43b0cb92de",
   "metadata": {},
   "source": [
    "Using Stan with Google Colab is fairly straightforward. You just need to be sure to install CmdStanPy and Stan at the top of your notebook."
   ]
  },
  {
   "cell_type": "markdown",
   "id": "110d4dbb-6a99-4c33-9c12-3907b1c27969",
   "metadata": {},
   "source": [
    "## Installation of most recent version of Stan\n",
    "\n",
    "[CmdStanPy](https://cmdstanpy.readthedocs.io/) has an `install_cmdstan()` function that will install the latest version of CmdStan, which provides the Stan engine for all of your calculations. At the top of a Colab notebook, you can install CmdStanPy by running\n",
    "\n",
    "    !pip install --upgrade cmdstanpy\n",
    "\n",
    "After CmdStanPy is installed, you can install CmdStan using\n",
    "\n",
    "    import cmdstanpy\n",
    "    cmdstanpy.install_cmdstan()\n",
    "    \n",
    "A complete Colab setup cell at the top of the notebook would then look something like this:"
   ]
  },
  {
   "cell_type": "code",
   "execution_count": 1,
   "id": "9b0f4d12-b2e7-4a8e-b20e-6bdd0f53cd46",
   "metadata": {},
   "outputs": [],
   "source": [
    "# Colab setup ------------------\n",
    "import os, sys, subprocess\n",
    "if \"google.colab\" in sys.modules:\n",
    "    cmd = \"pip install --upgrade iqplot bebi103 arviz cmdstanpy watermark\"\n",
    "    process = subprocess.Popen(cmd.split(), stdout=subprocess.PIPE, stderr=subprocess.PIPE)\n",
    "    stdout, stderr = process.communicate()\n",
    "    import cmdstanpy; cmdstanpy.install_cmdstan()\n",
    "    data_path = \"https://s3.amazonaws.com/bebi103.caltech.edu/data/\"\n",
    "else:\n",
    "    data_path = \"../data/\"\n",
    "# ------------------------------"
   ]
  },
  {
   "cell_type": "markdown",
   "id": "85b26b64-4bfd-4cb3-a922-81324ea65e48",
   "metadata": {},
   "source": [
    "There is another method for installing CmdStan shown below. In all of the lesson notebooks in this course, we will use the above method."
   ]
  },
  {
   "cell_type": "markdown",
   "id": "9a9b8aa1-436c-4fdb-a852-af927e112dce",
   "metadata": {},
   "source": [
    "## Installation of CmdStan binaries\n",
    "\n",
    "The drawback with using the above method is that the installation of CmdStan takes several minutes. As an alternative, if you want to quick installation, you can use pre-built binaries of CmdStan for Colab. Unfortunately, binaries are not built for the most recent version of Stan (as of December 2021), but for version 2.23. This version should be sufficient, and you can install it quickly as follows.\n",
    "\n",
    "Again, you will need to install CmdStanPy\n",
    "\n",
    "    !pip install --upgrade cmdstanpy\n",
    "    \n",
    "Next, you need to install the pre-built binary\n",
    "\n",
    "    import os\n",
    "    import urllib\n",
    "    import shutil\n",
    "    \n",
    "    fname = \"colab-cmdstan-2.23.0.tar.gz\"\n",
    "    cmdstan_url = \"https://github.com/stan-dev/cmdstan/releases/download/v2.23.0/\" + fname\n",
    "    \n",
    "    if not os.path.exists(fname):\n",
    "        urllib.request.urlretrieve(cmdstan_url, fname)\n",
    "        shutil.unpack_archive(fname)\n",
    "\n",
    "    # Let cmdstanpy know where CmdStan is\n",
    "    os.environ[\"CMDSTAN\"] = \"./cmdstan-2.23.0\"\n",
    "    \n",
    "So, your Colab setup cell would look something like this:"
   ]
  },
  {
   "cell_type": "code",
   "execution_count": 2,
   "id": "9ad22e78-f4fe-4f7e-844b-52013113664e",
   "metadata": {},
   "outputs": [],
   "source": [
    "# Colab setup ------------------\n",
    "import os, shutil, sys, subprocess, urllib.request\n",
    "if \"google.colab\" in sys.modules:\n",
    "    cmd = \"pip install --upgrade iqplot bebi103 arviz cmdstanpy watermark\"\n",
    "    process = subprocess.Popen(cmd.split(), stdout=subprocess.PIPE, stderr=subprocess.PIPE)\n",
    "    stdout, stderr = process.communicate()\n",
    "    fname = \"colab-cmdstan-2.23.0.tar.gz\"\n",
    "    cmdstan_url = \"https://github.com/stan-dev/cmdstan/releases/download/v2.23.0/\" + fname\n",
    "    urllib.request.urlretrieve(cmdstan_url, fname)\n",
    "    shutil.unpack_archive(fname)\n",
    "    os.environ[\"CMDSTAN\"] = \"./cmdstan-2.23.0\"\n",
    "    data_path = \"https://s3.amazonaws.com/bebi103.caltech.edu/data/\"\n",
    "else:\n",
    "    data_path = \"../data/\"\n",
    "# ------------------------------"
   ]
  }
 ],
 "metadata": {
  "kernelspec": {
   "display_name": "Python 3 (ipykernel)",
   "language": "python",
   "name": "python3"
  },
  "language_info": {
   "codemirror_mode": {
    "name": "ipython",
    "version": 3
   },
   "file_extension": ".py",
   "mimetype": "text/x-python",
   "name": "python",
   "nbconvert_exporter": "python",
   "pygments_lexer": "ipython3",
   "version": "3.9.7"
  }
 },
 "nbformat": 4,
 "nbformat_minor": 5
}
