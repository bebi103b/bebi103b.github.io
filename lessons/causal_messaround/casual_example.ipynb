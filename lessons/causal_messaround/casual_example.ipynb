{
 "cells": [
  {
   "cell_type": "code",
   "execution_count": 52,
   "id": "5b7fe4c2-2bf1-436a-8a97-80b03b2e19af",
   "metadata": {},
   "outputs": [
    {
     "data": {
      "text/html": [
       "    <style>\n",
       "        .bk-notebook-logo {\n",
       "            display: block;\n",
       "            width: 20px;\n",
       "            height: 20px;\n",
       "            background-image: url(data:image/png;base64,iVBORw0KGgoAAAANSUhEUgAAABQAAAAUCAYAAACNiR0NAAAABHNCSVQICAgIfAhkiAAAAAlwSFlzAAALEgAACxIB0t1+/AAAABx0RVh0U29mdHdhcmUAQWRvYmUgRmlyZXdvcmtzIENTNui8sowAAAOkSURBVDiNjZRtaJVlGMd/1/08zzln5zjP1LWcU9N0NkN8m2CYjpgQYQXqSs0I84OLIC0hkEKoPtiH3gmKoiJDU7QpLgoLjLIQCpEsNJ1vqUOdO7ppbuec5+V+rj4ctwzd8IIbbi6u+8f1539dt3A78eXC7QizUF7gyV1fD1Yqg4JWz84yffhm0qkFqBogB9rM8tZdtwVsPUhWhGcFJngGeWrPzHm5oaMmkfEg1usvLFyc8jLRqDOMru7AyC8saQr7GG7f5fvDeH7Ej8CM66nIF+8yngt6HWaKh7k49Soy9nXurCi1o3qUbS3zWfrYeQDTB/Qj6kX6Ybhw4B+bOYoLKCC9H3Nu/leUTZ1JdRWkkn2ldcCamzrcf47KKXdAJllSlxAOkRgyHsGC/zRday5Qld9DyoM4/q/rUoy/CXh3jzOu3bHUVZeU+DEn8FInkPBFlu3+nW3Nw0mk6vCDiWg8CeJaxEwuHS3+z5RgY+YBR6V1Z1nxSOfoaPa4LASWxxdNp+VWTk7+4vzaou8v8PN+xo+KY2xsw6une2frhw05CTYOmQvsEhjhWjn0bmXPjpE1+kplmmkP3suftwTubK9Vq22qKmrBhpY4jvd5afdRA3wGjFAgcnTK2s4hY0/GPNIb0nErGMCRxWOOX64Z8RAC4oCXdklmEvcL8o0BfkNK4lUg9HTl+oPlQxdNo3Mg4Nv175e/1LDGzZen30MEjRUtmXSfiTVu1kK8W4txyV6BMKlbgk3lMwYCiusNy9fVfvvwMxv8Ynl6vxoByANLTWplvuj/nF9m2+PDtt1eiHPBr1oIfhCChQMBw6Aw0UulqTKZdfVvfG7VcfIqLG9bcldL/+pdWTLxLUy8Qq38heUIjh4XlzZxzQm19lLFlr8vdQ97rjZVOLf8nclzckbcD4wxXMidpX30sFd37Fv/GtwwhzhxGVAprjbg0gCAEeIgwCZyTV2Z1REEW8O4py0wsjeloKoMr6iCY6dP92H6Vw/oTyICIthibxjm/DfN9lVz8IqtqKYLUXfoKVMVQVVJOElGjrnnUt9T9wbgp8AyYKaGlqingHZU/uG2NTZSVqwHQTWkx9hxjkpWDaCg6Ckj5qebgBVbT3V3NNXMSiWSDdGV3hrtzla7J+duwPOToIg42ChPQOQjspnSlp1V+Gjdged7+8UN5CRAV7a5EdFNwCjEaBR27b3W890TE7g24NAP/mMDXRWrGoFPQI9ls/MWO2dWFAar/xcOIImbbpA3zgAAAABJRU5ErkJggg==);\n",
       "        }\n",
       "    </style>\n",
       "    <div>\n",
       "        <a href=\"https://bokeh.org\" target=\"_blank\" class=\"bk-notebook-logo\"></a>\n",
       "        <span id=\"e49d2fc4-83e1-4fdc-a3c4-a78a6a6723a3\">Loading BokehJS ...</span>\n",
       "    </div>\n"
      ]
     },
     "metadata": {},
     "output_type": "display_data"
    },
    {
     "data": {
      "application/javascript": [
       "'use strict';\n",
       "(function(root) {\n",
       "  function now() {\n",
       "    return new Date();\n",
       "  }\n",
       "\n",
       "  const force = true;\n",
       "\n",
       "  if (typeof root._bokeh_onload_callbacks === \"undefined\" || force === true) {\n",
       "    root._bokeh_onload_callbacks = [];\n",
       "    root._bokeh_is_loading = undefined;\n",
       "  }\n",
       "\n",
       "const JS_MIME_TYPE = 'application/javascript';\n",
       "  const HTML_MIME_TYPE = 'text/html';\n",
       "  const EXEC_MIME_TYPE = 'application/vnd.bokehjs_exec.v0+json';\n",
       "  const CLASS_NAME = 'output_bokeh rendered_html';\n",
       "\n",
       "  /**\n",
       "   * Render data to the DOM node\n",
       "   */\n",
       "  function render(props, node) {\n",
       "    const script = document.createElement(\"script\");\n",
       "    node.appendChild(script);\n",
       "  }\n",
       "\n",
       "  /**\n",
       "   * Handle when an output is cleared or removed\n",
       "   */\n",
       "  function handleClearOutput(event, handle) {\n",
       "    function drop(id) {\n",
       "      const view = Bokeh.index.get_by_id(id)\n",
       "      if (view != null) {\n",
       "        view.model.document.clear()\n",
       "        Bokeh.index.delete(view)\n",
       "      }\n",
       "    }\n",
       "\n",
       "    const cell = handle.cell;\n",
       "\n",
       "    const id = cell.output_area._bokeh_element_id;\n",
       "    const server_id = cell.output_area._bokeh_server_id;\n",
       "\n",
       "    // Clean up Bokeh references\n",
       "    if (id != null) {\n",
       "      drop(id)\n",
       "    }\n",
       "\n",
       "    if (server_id !== undefined) {\n",
       "      // Clean up Bokeh references\n",
       "      const cmd_clean = \"from bokeh.io.state import curstate; print(curstate().uuid_to_server['\" + server_id + \"'].get_sessions()[0].document.roots[0]._id)\";\n",
       "      cell.notebook.kernel.execute(cmd_clean, {\n",
       "        iopub: {\n",
       "          output: function(msg) {\n",
       "            const id = msg.content.text.trim()\n",
       "            drop(id)\n",
       "          }\n",
       "        }\n",
       "      });\n",
       "      // Destroy server and session\n",
       "      const cmd_destroy = \"import bokeh.io.notebook as ion; ion.destroy_server('\" + server_id + \"')\";\n",
       "      cell.notebook.kernel.execute(cmd_destroy);\n",
       "    }\n",
       "  }\n",
       "\n",
       "  /**\n",
       "   * Handle when a new output is added\n",
       "   */\n",
       "  function handleAddOutput(event, handle) {\n",
       "    const output_area = handle.output_area;\n",
       "    const output = handle.output;\n",
       "\n",
       "    // limit handleAddOutput to display_data with EXEC_MIME_TYPE content only\n",
       "    if ((output.output_type != \"display_data\") || (!Object.prototype.hasOwnProperty.call(output.data, EXEC_MIME_TYPE))) {\n",
       "      return\n",
       "    }\n",
       "\n",
       "    const toinsert = output_area.element.find(\".\" + CLASS_NAME.split(' ')[0]);\n",
       "\n",
       "    if (output.metadata[EXEC_MIME_TYPE][\"id\"] !== undefined) {\n",
       "      toinsert[toinsert.length - 1].firstChild.textContent = output.data[JS_MIME_TYPE];\n",
       "      // store reference to embed id on output_area\n",
       "      output_area._bokeh_element_id = output.metadata[EXEC_MIME_TYPE][\"id\"];\n",
       "    }\n",
       "    if (output.metadata[EXEC_MIME_TYPE][\"server_id\"] !== undefined) {\n",
       "      const bk_div = document.createElement(\"div\");\n",
       "      bk_div.innerHTML = output.data[HTML_MIME_TYPE];\n",
       "      const script_attrs = bk_div.children[0].attributes;\n",
       "      for (let i = 0; i < script_attrs.length; i++) {\n",
       "        toinsert[toinsert.length - 1].firstChild.setAttribute(script_attrs[i].name, script_attrs[i].value);\n",
       "        toinsert[toinsert.length - 1].firstChild.textContent = bk_div.children[0].textContent\n",
       "      }\n",
       "      // store reference to server id on output_area\n",
       "      output_area._bokeh_server_id = output.metadata[EXEC_MIME_TYPE][\"server_id\"];\n",
       "    }\n",
       "  }\n",
       "\n",
       "  function register_renderer(events, OutputArea) {\n",
       "\n",
       "    function append_mime(data, metadata, element) {\n",
       "      // create a DOM node to render to\n",
       "      const toinsert = this.create_output_subarea(\n",
       "        metadata,\n",
       "        CLASS_NAME,\n",
       "        EXEC_MIME_TYPE\n",
       "      );\n",
       "      this.keyboard_manager.register_events(toinsert);\n",
       "      // Render to node\n",
       "      const props = {data: data, metadata: metadata[EXEC_MIME_TYPE]};\n",
       "      render(props, toinsert[toinsert.length - 1]);\n",
       "      element.append(toinsert);\n",
       "      return toinsert\n",
       "    }\n",
       "\n",
       "    /* Handle when an output is cleared or removed */\n",
       "    events.on('clear_output.CodeCell', handleClearOutput);\n",
       "    events.on('delete.Cell', handleClearOutput);\n",
       "\n",
       "    /* Handle when a new output is added */\n",
       "    events.on('output_added.OutputArea', handleAddOutput);\n",
       "\n",
       "    /**\n",
       "     * Register the mime type and append_mime function with output_area\n",
       "     */\n",
       "    OutputArea.prototype.register_mime_type(EXEC_MIME_TYPE, append_mime, {\n",
       "      /* Is output safe? */\n",
       "      safe: true,\n",
       "      /* Index of renderer in `output_area.display_order` */\n",
       "      index: 0\n",
       "    });\n",
       "  }\n",
       "\n",
       "  // register the mime type if in Jupyter Notebook environment and previously unregistered\n",
       "  if (root.Jupyter !== undefined) {\n",
       "    const events = require('base/js/events');\n",
       "    const OutputArea = require('notebook/js/outputarea').OutputArea;\n",
       "\n",
       "    if (OutputArea.prototype.mime_types().indexOf(EXEC_MIME_TYPE) == -1) {\n",
       "      register_renderer(events, OutputArea);\n",
       "    }\n",
       "  }\n",
       "  if (typeof (root._bokeh_timeout) === \"undefined\" || force === true) {\n",
       "    root._bokeh_timeout = Date.now() + 5000;\n",
       "    root._bokeh_failed_load = false;\n",
       "  }\n",
       "\n",
       "  const NB_LOAD_WARNING = {'data': {'text/html':\n",
       "     \"<div style='background-color: #fdd'>\\n\"+\n",
       "     \"<p>\\n\"+\n",
       "     \"BokehJS does not appear to have successfully loaded. If loading BokehJS from CDN, this \\n\"+\n",
       "     \"may be due to a slow or bad network connection. Possible fixes:\\n\"+\n",
       "     \"</p>\\n\"+\n",
       "     \"<ul>\\n\"+\n",
       "     \"<li>re-rerun `output_notebook()` to attempt to load from CDN again, or</li>\\n\"+\n",
       "     \"<li>use INLINE resources instead, as so:</li>\\n\"+\n",
       "     \"</ul>\\n\"+\n",
       "     \"<code>\\n\"+\n",
       "     \"from bokeh.resources import INLINE\\n\"+\n",
       "     \"output_notebook(resources=INLINE)\\n\"+\n",
       "     \"</code>\\n\"+\n",
       "     \"</div>\"}};\n",
       "\n",
       "  function display_loaded(error = null) {\n",
       "    const el = document.getElementById(\"e49d2fc4-83e1-4fdc-a3c4-a78a6a6723a3\");\n",
       "    if (el != null) {\n",
       "      const html = (() => {\n",
       "        if (typeof root.Bokeh === \"undefined\") {\n",
       "          if (error == null) {\n",
       "            return \"BokehJS is loading ...\";\n",
       "          } else {\n",
       "            return \"BokehJS failed to load.\";\n",
       "          }\n",
       "        } else {\n",
       "          const prefix = `BokehJS ${root.Bokeh.version}`;\n",
       "          if (error == null) {\n",
       "            return `${prefix} successfully loaded.`;\n",
       "          } else {\n",
       "            return `${prefix} <b>encountered errors</b> while loading and may not function as expected.`;\n",
       "          }\n",
       "        }\n",
       "      })();\n",
       "      el.innerHTML = html;\n",
       "\n",
       "      if (error != null) {\n",
       "        const wrapper = document.createElement(\"div\");\n",
       "        wrapper.style.overflow = \"auto\";\n",
       "        wrapper.style.height = \"5em\";\n",
       "        wrapper.style.resize = \"vertical\";\n",
       "        const content = document.createElement(\"div\");\n",
       "        content.style.fontFamily = \"monospace\";\n",
       "        content.style.whiteSpace = \"pre-wrap\";\n",
       "        content.style.backgroundColor = \"rgb(255, 221, 221)\";\n",
       "        content.textContent = error.stack ?? error.toString();\n",
       "        wrapper.append(content);\n",
       "        el.append(wrapper);\n",
       "      }\n",
       "    } else if (Date.now() < root._bokeh_timeout) {\n",
       "      setTimeout(() => display_loaded(error), 100);\n",
       "    }\n",
       "  }\n",
       "\n",
       "  function run_callbacks() {\n",
       "    try {\n",
       "      root._bokeh_onload_callbacks.forEach(function(callback) {\n",
       "        if (callback != null)\n",
       "          callback();\n",
       "      });\n",
       "    } finally {\n",
       "      delete root._bokeh_onload_callbacks\n",
       "    }\n",
       "    console.debug(\"Bokeh: all callbacks have finished\");\n",
       "  }\n",
       "\n",
       "  function load_libs(css_urls, js_urls, callback) {\n",
       "    if (css_urls == null) css_urls = [];\n",
       "    if (js_urls == null) js_urls = [];\n",
       "\n",
       "    root._bokeh_onload_callbacks.push(callback);\n",
       "    if (root._bokeh_is_loading > 0) {\n",
       "      console.debug(\"Bokeh: BokehJS is being loaded, scheduling callback at\", now());\n",
       "      return null;\n",
       "    }\n",
       "    if (js_urls == null || js_urls.length === 0) {\n",
       "      run_callbacks();\n",
       "      return null;\n",
       "    }\n",
       "    console.debug(\"Bokeh: BokehJS not loaded, scheduling load and callback at\", now());\n",
       "    root._bokeh_is_loading = css_urls.length + js_urls.length;\n",
       "\n",
       "    function on_load() {\n",
       "      root._bokeh_is_loading--;\n",
       "      if (root._bokeh_is_loading === 0) {\n",
       "        console.debug(\"Bokeh: all BokehJS libraries/stylesheets loaded\");\n",
       "        run_callbacks()\n",
       "      }\n",
       "    }\n",
       "\n",
       "    function on_error(url) {\n",
       "      console.error(\"failed to load \" + url);\n",
       "    }\n",
       "\n",
       "    for (let i = 0; i < css_urls.length; i++) {\n",
       "      const url = css_urls[i];\n",
       "      const element = document.createElement(\"link\");\n",
       "      element.onload = on_load;\n",
       "      element.onerror = on_error.bind(null, url);\n",
       "      element.rel = \"stylesheet\";\n",
       "      element.type = \"text/css\";\n",
       "      element.href = url;\n",
       "      console.debug(\"Bokeh: injecting link tag for BokehJS stylesheet: \", url);\n",
       "      document.body.appendChild(element);\n",
       "    }\n",
       "\n",
       "    for (let i = 0; i < js_urls.length; i++) {\n",
       "      const url = js_urls[i];\n",
       "      const element = document.createElement('script');\n",
       "      element.onload = on_load;\n",
       "      element.onerror = on_error.bind(null, url);\n",
       "      element.async = false;\n",
       "      element.src = url;\n",
       "      console.debug(\"Bokeh: injecting script tag for BokehJS library: \", url);\n",
       "      document.head.appendChild(element);\n",
       "    }\n",
       "  };\n",
       "\n",
       "  function inject_raw_css(css) {\n",
       "    const element = document.createElement(\"style\");\n",
       "    element.appendChild(document.createTextNode(css));\n",
       "    document.body.appendChild(element);\n",
       "  }\n",
       "\n",
       "  const js_urls = [\"https://cdn.bokeh.org/bokeh/release/bokeh-3.4.0.min.js\", \"https://cdn.bokeh.org/bokeh/release/bokeh-gl-3.4.0.min.js\", \"https://cdn.bokeh.org/bokeh/release/bokeh-widgets-3.4.0.min.js\", \"https://cdn.bokeh.org/bokeh/release/bokeh-tables-3.4.0.min.js\", \"https://cdn.bokeh.org/bokeh/release/bokeh-mathjax-3.4.0.min.js\", \"https://unpkg.com/@holoviz/panel@1.4.2/dist/panel.min.js\"];\n",
       "  const css_urls = [];\n",
       "\n",
       "  const inline_js = [    function(Bokeh) {\n",
       "      Bokeh.set_log_level(\"info\");\n",
       "    },\n",
       "function(Bokeh) {\n",
       "    }\n",
       "  ];\n",
       "\n",
       "  function run_inline_js() {\n",
       "    if (root.Bokeh !== undefined || force === true) {\n",
       "      try {\n",
       "            for (let i = 0; i < inline_js.length; i++) {\n",
       "      inline_js[i].call(root, root.Bokeh);\n",
       "    }\n",
       "\n",
       "      } catch (error) {display_loaded(error);throw error;\n",
       "      }if (force === true) {\n",
       "        display_loaded();\n",
       "      }} else if (Date.now() < root._bokeh_timeout) {\n",
       "      setTimeout(run_inline_js, 100);\n",
       "    } else if (!root._bokeh_failed_load) {\n",
       "      console.log(\"Bokeh: BokehJS failed to load within specified timeout.\");\n",
       "      root._bokeh_failed_load = true;\n",
       "    } else if (force !== true) {\n",
       "      const cell = $(document.getElementById(\"e49d2fc4-83e1-4fdc-a3c4-a78a6a6723a3\")).parents('.cell').data().cell;\n",
       "      cell.output_area.append_execute_result(NB_LOAD_WARNING)\n",
       "    }\n",
       "  }\n",
       "\n",
       "  if (root._bokeh_is_loading === 0) {\n",
       "    console.debug(\"Bokeh: BokehJS loaded, going straight to plotting\");\n",
       "    run_inline_js();\n",
       "  } else {\n",
       "    load_libs(css_urls, js_urls, function() {\n",
       "      console.debug(\"Bokeh: BokehJS plotting callback run at\", now());\n",
       "      run_inline_js();\n",
       "    });\n",
       "  }\n",
       "}(window));"
      ],
      "application/vnd.bokehjs_load.v0+json": "'use strict';\n(function(root) {\n  function now() {\n    return new Date();\n  }\n\n  const force = true;\n\n  if (typeof root._bokeh_onload_callbacks === \"undefined\" || force === true) {\n    root._bokeh_onload_callbacks = [];\n    root._bokeh_is_loading = undefined;\n  }\n\n\n  if (typeof (root._bokeh_timeout) === \"undefined\" || force === true) {\n    root._bokeh_timeout = Date.now() + 5000;\n    root._bokeh_failed_load = false;\n  }\n\n  const NB_LOAD_WARNING = {'data': {'text/html':\n     \"<div style='background-color: #fdd'>\\n\"+\n     \"<p>\\n\"+\n     \"BokehJS does not appear to have successfully loaded. If loading BokehJS from CDN, this \\n\"+\n     \"may be due to a slow or bad network connection. Possible fixes:\\n\"+\n     \"</p>\\n\"+\n     \"<ul>\\n\"+\n     \"<li>re-rerun `output_notebook()` to attempt to load from CDN again, or</li>\\n\"+\n     \"<li>use INLINE resources instead, as so:</li>\\n\"+\n     \"</ul>\\n\"+\n     \"<code>\\n\"+\n     \"from bokeh.resources import INLINE\\n\"+\n     \"output_notebook(resources=INLINE)\\n\"+\n     \"</code>\\n\"+\n     \"</div>\"}};\n\n  function display_loaded(error = null) {\n    const el = document.getElementById(\"e49d2fc4-83e1-4fdc-a3c4-a78a6a6723a3\");\n    if (el != null) {\n      const html = (() => {\n        if (typeof root.Bokeh === \"undefined\") {\n          if (error == null) {\n            return \"BokehJS is loading ...\";\n          } else {\n            return \"BokehJS failed to load.\";\n          }\n        } else {\n          const prefix = `BokehJS ${root.Bokeh.version}`;\n          if (error == null) {\n            return `${prefix} successfully loaded.`;\n          } else {\n            return `${prefix} <b>encountered errors</b> while loading and may not function as expected.`;\n          }\n        }\n      })();\n      el.innerHTML = html;\n\n      if (error != null) {\n        const wrapper = document.createElement(\"div\");\n        wrapper.style.overflow = \"auto\";\n        wrapper.style.height = \"5em\";\n        wrapper.style.resize = \"vertical\";\n        const content = document.createElement(\"div\");\n        content.style.fontFamily = \"monospace\";\n        content.style.whiteSpace = \"pre-wrap\";\n        content.style.backgroundColor = \"rgb(255, 221, 221)\";\n        content.textContent = error.stack ?? error.toString();\n        wrapper.append(content);\n        el.append(wrapper);\n      }\n    } else if (Date.now() < root._bokeh_timeout) {\n      setTimeout(() => display_loaded(error), 100);\n    }\n  }\n\n  function run_callbacks() {\n    try {\n      root._bokeh_onload_callbacks.forEach(function(callback) {\n        if (callback != null)\n          callback();\n      });\n    } finally {\n      delete root._bokeh_onload_callbacks\n    }\n    console.debug(\"Bokeh: all callbacks have finished\");\n  }\n\n  function load_libs(css_urls, js_urls, callback) {\n    if (css_urls == null) css_urls = [];\n    if (js_urls == null) js_urls = [];\n\n    root._bokeh_onload_callbacks.push(callback);\n    if (root._bokeh_is_loading > 0) {\n      console.debug(\"Bokeh: BokehJS is being loaded, scheduling callback at\", now());\n      return null;\n    }\n    if (js_urls == null || js_urls.length === 0) {\n      run_callbacks();\n      return null;\n    }\n    console.debug(\"Bokeh: BokehJS not loaded, scheduling load and callback at\", now());\n    root._bokeh_is_loading = css_urls.length + js_urls.length;\n\n    function on_load() {\n      root._bokeh_is_loading--;\n      if (root._bokeh_is_loading === 0) {\n        console.debug(\"Bokeh: all BokehJS libraries/stylesheets loaded\");\n        run_callbacks()\n      }\n    }\n\n    function on_error(url) {\n      console.error(\"failed to load \" + url);\n    }\n\n    for (let i = 0; i < css_urls.length; i++) {\n      const url = css_urls[i];\n      const element = document.createElement(\"link\");\n      element.onload = on_load;\n      element.onerror = on_error.bind(null, url);\n      element.rel = \"stylesheet\";\n      element.type = \"text/css\";\n      element.href = url;\n      console.debug(\"Bokeh: injecting link tag for BokehJS stylesheet: \", url);\n      document.body.appendChild(element);\n    }\n\n    for (let i = 0; i < js_urls.length; i++) {\n      const url = js_urls[i];\n      const element = document.createElement('script');\n      element.onload = on_load;\n      element.onerror = on_error.bind(null, url);\n      element.async = false;\n      element.src = url;\n      console.debug(\"Bokeh: injecting script tag for BokehJS library: \", url);\n      document.head.appendChild(element);\n    }\n  };\n\n  function inject_raw_css(css) {\n    const element = document.createElement(\"style\");\n    element.appendChild(document.createTextNode(css));\n    document.body.appendChild(element);\n  }\n\n  const js_urls = [\"https://cdn.bokeh.org/bokeh/release/bokeh-3.4.0.min.js\", \"https://cdn.bokeh.org/bokeh/release/bokeh-gl-3.4.0.min.js\", \"https://cdn.bokeh.org/bokeh/release/bokeh-widgets-3.4.0.min.js\", \"https://cdn.bokeh.org/bokeh/release/bokeh-tables-3.4.0.min.js\", \"https://cdn.bokeh.org/bokeh/release/bokeh-mathjax-3.4.0.min.js\", \"https://unpkg.com/@holoviz/panel@1.4.2/dist/panel.min.js\"];\n  const css_urls = [];\n\n  const inline_js = [    function(Bokeh) {\n      Bokeh.set_log_level(\"info\");\n    },\nfunction(Bokeh) {\n    }\n  ];\n\n  function run_inline_js() {\n    if (root.Bokeh !== undefined || force === true) {\n      try {\n            for (let i = 0; i < inline_js.length; i++) {\n      inline_js[i].call(root, root.Bokeh);\n    }\n\n      } catch (error) {display_loaded(error);throw error;\n      }if (force === true) {\n        display_loaded();\n      }} else if (Date.now() < root._bokeh_timeout) {\n      setTimeout(run_inline_js, 100);\n    } else if (!root._bokeh_failed_load) {\n      console.log(\"Bokeh: BokehJS failed to load within specified timeout.\");\n      root._bokeh_failed_load = true;\n    } else if (force !== true) {\n      const cell = $(document.getElementById(\"e49d2fc4-83e1-4fdc-a3c4-a78a6a6723a3\")).parents('.cell').data().cell;\n      cell.output_area.append_execute_result(NB_LOAD_WARNING)\n    }\n  }\n\n  if (root._bokeh_is_loading === 0) {\n    console.debug(\"Bokeh: BokehJS loaded, going straight to plotting\");\n    run_inline_js();\n  } else {\n    load_libs(css_urls, js_urls, function() {\n      console.debug(\"Bokeh: BokehJS plotting callback run at\", now());\n      run_inline_js();\n    });\n  }\n}(window));"
     },
     "metadata": {},
     "output_type": "display_data"
    }
   ],
   "source": [
    "import numpy as np\n",
    "import daft\n",
    "# import graphviz\n",
    "\n",
    "import cmdstanpy\n",
    "import arviz as az\n",
    "\n",
    "import iqplot\n",
    "import bebi103\n",
    "\n",
    "import bokeh.io\n",
    "bokeh.io.output_notebook()\n",
    "\n",
    "%config InlineBackend.figure_format='retina'"
   ]
  },
  {
   "attachments": {},
   "cell_type": "markdown",
   "id": "b9a3c287-382d-436a-9f93-d6d4e9d35c5f",
   "metadata": {},
   "source": [
    "We will consider three generative models described in [this blog post](https://www.inference.vc/causal-inference-2-illustrating-interventions-in-a-toy-example/) by Ferenc Huszár, each of which gives $x, y$. To clarify, consider model zero, in which $x$ and $y$ are drawn from a bivariate Gaussian,\n",
    "\n",
    "\\begin{align}\n",
    "\\begin{pmatrix}\n",
    "x_i \\\\\n",
    "y_i\n",
    "\\end{pmatrix} \\sim \\text{Norm}\\left(\n",
    "\\begin{pmatrix}\n",
    "\\mu_x \\\\\n",
    "\\mu_y\n",
    "\\end{pmatrix},\n",
    "\\begin{pmatrix}\n",
    "\\sigma_x^2 & \\sigma_x\\sigma_y\\rho\\\\\n",
    "\\sigma_x\\sigma_y\\rho & \\sigma_y^2\n",
    "\\end{pmatrix}\n",
    "\\right)\\;\\forall i.\n",
    "\\end{align}\n",
    "\n",
    "We will specify priors later; for now we will only discuss likelihoods.\n",
    "\n",
    "We can come up with generative processes, which we will define as models 1, 2, and 3, that result in identically distributed data as would be drawn from model 0."
   ]
  },
  {
   "cell_type": "markdown",
   "id": "747642c5-ffab-48dd-9059-7d6eb507aa7c",
   "metadata": {},
   "source": [
    "## Model 1\n",
    "\n",
    "For model 1, $x$ is drawn out of a Gaussian, and then $y$ is drawn out of a Gaussian based on the values of $x$. Graphically, this is represented as below."
   ]
  },
  {
   "cell_type": "code",
   "execution_count": 2,
   "id": "73439f54-c649-41ef-b2cd-529e1f521638",
   "metadata": {},
   "outputs": [
    {
     "data": {
      "image/png": "[encoded data removed]",
      "text/plain": [
       "<Figure size 133.858x133.858 with 1 Axes>"
      ]
     },
     "metadata": {
      "image/png": {
       "height": 153,
       "width": 153
      }
     },
     "output_type": "display_data"
    }
   ],
   "source": [
    "g = daft.PGM()\n",
    "g.add_node('x', \"x\", 0, 0)\n",
    "g.add_node('y', \"y\", 1, 0)\n",
    "g.add_node('z', \"z\", 0.5, 1)\n",
    "g.add_edge('x', 'y')\n",
    "\n",
    "g.render();\n",
    "\n",
    "# Below is how to make it with graphviz\n",
    "# # We'll use these graph attributes in all graphs\n",
    "# graph_attrs = dict(    \n",
    "#     node_attr=dict(style=\"filled\", color=\"lightgrey\", fontname=\"Helvetica\"),\n",
    "#     edge_attr=dict(arrowsize=\"0.5\"),\n",
    "#     graph_attr=dict(rankdir='LR', labelloc='t', fontname=\"Helvetica\"),    \n",
    "# )\n",
    "\n",
    "# # Build DAG\n",
    "# g = graphviz.Digraph(**graph_attrs)\n",
    "# g.graph_attr['label'] = 'Model 1'\n",
    "# g.node(name=\"x1\", label=\"x\")\n",
    "# g.node(name=\"y1\", label=\"y\")\n",
    "# g.node(name=\"z\", label=\"z\")\n",
    "# g.edge(tail_name=\"x1\", head_name=\"y1\")\n",
    "\n",
    "# # Display\n",
    "# g"
   ]
  },
  {
   "cell_type": "markdown",
   "id": "4bc4046d-e893-4907-82de-9a8244eabcad",
   "metadata": {},
   "source": [
    "We can convert the DAG to a statement involving conditional probabilities.\n",
    "\n",
    "\\begin{align}\n",
    "\\pi(x, y) = \\pi(y\\mid x) \\pi(x).\n",
    "\\end{align}\n",
    "\n",
    "In terms of the parameters specified for model 0, this is\n",
    "\n",
    "\\begin{align}\n",
    "&z \\sim \\text{Norm}(\\mu_z, \\sigma_z),\\\\[1em]\n",
    "&x_i \\sim \\text{Norm}(\\mu_x, \\sigma_x)\\;\\forall i,\\\\[1em]\n",
    "&y_i \\sim \\text{Norm}\\left(\\mu_y + \\frac{\\sigma_y}{\\sigma_x}\\,\\rho(x_i-\\mu_x), \\sqrt{1-\\rho^2}\\,\\sigma_y\\right)\\;\\forall i.\n",
    "\\end{align}"
   ]
  },
  {
   "cell_type": "markdown",
   "id": "0449a4da-f7dc-4a05-bc86-5f312cae8f25",
   "metadata": {},
   "source": [
    "## Model 2\n",
    "\n",
    "For a second model, y is drawn out of a Gaussian and then $y$ is drawn out of a Gaussian based on $x$. Its graphical representation is below."
   ]
  },
  {
   "cell_type": "code",
   "execution_count": 3,
   "id": "1b785646-8f8c-42fc-b0a4-00ca71098044",
   "metadata": {},
   "outputs": [
    {
     "data": {
      "image/png": "[encoded data removed]",
      "text/plain": [
       "<Figure size 133.858x133.858 with 1 Axes>"
      ]
     },
     "metadata": {
      "image/png": {
       "height": 153,
       "width": 153
      }
     },
     "output_type": "display_data"
    }
   ],
   "source": [
    "g = daft.PGM()\n",
    "g.add_node('x', \"x\", 0, 0)\n",
    "g.add_node('y', \"y\", 1, 0)\n",
    "g.add_node('z', \"z\", 0.5, 1)\n",
    "g.add_edge('y', 'x')\n",
    "\n",
    "g.render();\n",
    "\n",
    "# Graphviz\n",
    "# g = graphviz.Digraph(**graph_attrs)\n",
    "# g.graph_attr['label'] = 'Model 2'\n",
    "# g.node(name=\"x1\", label=\"x\")\n",
    "# g.node(name=\"y1\", label=\"y\")\n",
    "# g.node(name=\"z\", label=\"z\")\n",
    "# g.edge(tail_name=\"y1\", head_name=\"x1\", ordering='in')\n",
    "\n",
    "# g"
   ]
  },
  {
   "cell_type": "markdown",
   "id": "9f45d7b2-ba6f-41b9-929e-7d86faa909d5",
   "metadata": {},
   "source": [
    "We can convert the DAG to a statement involving conditional probabilities.\n",
    "\n",
    "\\begin{align}\n",
    "\\pi(x, y) = \\pi(x\\mid y) \\pi(y).\n",
    "\\end{align}\n",
    "\n",
    "The likelihood of the generative model is\n",
    "\n",
    "\\begin{align}\n",
    "&z \\sim \\text{Norm}(\\mu_z, \\sigma_z),\\\\[1em]\n",
    "&y_i \\sim \\text{Norm}(\\mu_y, \\sigma_y)\\;\\forall i,\\\\[1em]\n",
    "&x_i \\sim \\text{Norm}\\left(\\mu_x + \\frac{\\sigma_x}{\\sigma_y}\\,\\rho(y_i-\\mu_y), \\sqrt{1-\\rho^2}\\,\\sigma_x\\right)\\;\\forall i.\n",
    "\\end{align}"
   ]
  },
  {
   "cell_type": "markdown",
   "id": "b4f489e8-08e9-485d-a894-c101dd7b47c4",
   "metadata": {},
   "source": [
    "## Model 3\n",
    "\n",
    "For model 3, we can have that both x and y are drawn out of a Gaussian based on the value of a third variable $z$. Its graphical representation is below."
   ]
  },
  {
   "cell_type": "code",
   "execution_count": 4,
   "id": "b529ed4b-5cb9-4f53-9ec3-94e4fe67b156",
   "metadata": {},
   "outputs": [
    {
     "data": {
      "image/png": "[encoded data removed]",
      "text/plain": [
       "<Figure size 133.858x133.858 with 1 Axes>"
      ]
     },
     "metadata": {
      "image/png": {
       "height": 153,
       "width": 153
      }
     },
     "output_type": "display_data"
    }
   ],
   "source": [
    "g = daft.PGM()\n",
    "g.add_node('x', \"x\", 0, 0)\n",
    "g.add_node('y', \"y\", 1, 0)\n",
    "g.add_node('z', \"z\", 0.5, 1)\n",
    "g.add_edge('z', 'x')\n",
    "g.add_edge('z', 'y')\n",
    "\n",
    "g.render();\n",
    "\n",
    "# g = graphviz.Digraph(**graph_attrs)\n",
    "# g.graph_attr['label'] = 'Model 3'\n",
    "# g.node(name=\"z\", label=\"z\")\n",
    "# g.node(name=\"x\", label=\"x\")\n",
    "# g.node(name=\"y\", label=\"y\")\n",
    "# g.edge(tail_name=\"z\", head_name=\"x\")\n",
    "# g.edge(tail_name=\"z\", head_name=\"y\")\n",
    "\n",
    "# g"
   ]
  },
  {
   "cell_type": "markdown",
   "id": "dceed3ac-be4f-4f6b-aaa3-9966be063c65",
   "metadata": {},
   "source": [
    "We can convert the DAG to a statement involving conditional probabilities.\n",
    "\n",
    "\\begin{align}\n",
    "\\pi(x, y) = \\pi(x, y \\mid z)\\,\\pi(z) = \\pi(x\\mid z)\\,\\pi(y\\mid z)\\,\\pi(z).\n",
    "\\end{align}\n",
    "\n",
    "Here, in order to get the target correlation coefficient $\\rho$ between $x$ and $y$, we need to define the correlation coefficient between $x$ and $z$ and between $y$ and $z$, such that $\\rho_{xz} \\rho_{yz} = \\rho$. The generative likelihood is thus\n",
    "\n",
    "\\begin{align}\n",
    "&z \\sim \\text{Norm}(\\mu_z, \\sigma_z),\\\\[1em]\n",
    "&x_i \\sim \\text{Norm}\\left(\\mu_x + \\frac{\\sigma_x}{\\sigma_z}\\,\\rho_{xz}(z-\\mu_z), \\sqrt{1-\\rho_{xz}^2}\\,\\sigma_x\\right)\\;\\forall i,\\\\[1em]\n",
    "&y_i \\sim \\text{Norm}\\left(\\mu_y + \\frac{\\sigma_y}{\\sigma_z}\\,\\rho_{yz}(z-\\mu_z), \\sqrt{1-\\rho_{yz}^2}\\,\\sigma_y\\right)\\;\\forall i.\n",
    "\\end{align}"
   ]
  },
  {
   "cell_type": "markdown",
   "id": "a1bf22ef-ce24-40e6-8733-17c952bb07c5",
   "metadata": {},
   "source": [
    "## They all give the same data!\n",
    "\n",
    "All three models give the same data, which follows from the fact that, given a bivariate Normal distribution,\n",
    "\n",
    "\\begin{align}\n",
    "\\begin{pmatrix}\n",
    "x \\\\\n",
    "y\n",
    "\\end{pmatrix} \\sim \\text{Norm}\\left(\n",
    "\\begin{pmatrix}\n",
    "\\mu_x \\\\\n",
    "\\mu_y\n",
    "\\end{pmatrix},\n",
    "\\begin{pmatrix}\n",
    "\\sigma_x^2 & \\sigma_x\\sigma_y\\rho\\\\\n",
    "\\sigma_x\\sigma_y\\rho & \\sigma_y^2\n",
    "\\end{pmatrix}\n",
    "\\right),\n",
    "\\end{align}\n",
    "\n",
    "the conditional distribution is\n",
    "\n",
    "\\begin{align}\n",
    "x \\mid y = \\text{Norm}\\left(\\mu_x + \\frac{\\sigma_x}{\\sigma_y}\\,\\rho(y-\\mu_y), (1-\\rho^2)\\sigma_x^2\\right).\n",
    "\\end{align}\n",
    "\n",
    "To demonstrate, let us choose parameter values and draw out of the respective models."
   ]
  },
  {
   "cell_type": "code",
   "execution_count": 3,
   "id": "3f26fa31-0873-4178-bf02-04626a3713c8",
   "metadata": {},
   "outputs": [
    {
     "data": {
      "text/html": [
       "\n",
       "  <div id=\"dd49226e-194a-4fed-8615-1f8bb0f6e3c9\" data-root-id=\"p1002\" style=\"display: contents;\"></div>\n"
      ]
     },
     "metadata": {},
     "output_type": "display_data"
    },
    {
     "data": {
      "application/javascript": [
       "(function(root) {\n",
       "  function embed_document(root) {\n",
       "  const docs_json = {\"cabead98-4325-44c7-ae28-fe10c91ae3cd\":{\"version\":\"3.4.0\",\"title\":\"Bokeh Application\",\"roots\":[{\"type\":\"object\",\"name\":\"Figure\",\"id\":\"p1002\",\"attributes\":{\"x_range\":{\"type\":\"object\",\"name\":\"DataRange1d\",\"id\":\"p1003\"},\"y_range\":{\"type\":\"object\",\"name\":\"DataRange1d\",\"id\":\"p1004\"},\"x_scale\":{\"type\":\"object\",\"name\":\"LinearScale\",\"id\":\"p1011\"},\"y_scale\":{\"type\":\"object\",\"name\":\"LinearScale\",\"id\":\"p1012\"},\"title\":{\"type\":\"object\",\"name\":\"Title\",\"id\":\"p1009\"},\"renderers\":[{\"type\":\"object\",\"name\":\"GlyphRenderer\",\"id\":\"p1040\",\"attributes\":{\"data_source\":{\"type\":\"object\",\"name\":\"ColumnDataSource\",\"id\":\"p1034\",\"attributes\":{\"selected\":{\"type\":\"object\",\"name\":\"Selection\",\"id\":\"p1035\",\"attributes\":{\"indices\":[],\"line_indices\":[]}},\"selection_policy\":{\"type\":\"object\",\"name\":\"UnionRenderers\",\"id\":\"p1036\"},\"data\":{\"type\":\"map\",\"entries\":[[\"x\",{\"type\":\"ndarray\",\"array\":{\"type\":\"bytes\",\"data\":\"eEZBH3lOyD90KAWgIeffv9EdP2bp3+O/9SpQKIaF9L/BSkqqkO/4v73cw1ZJzcg/4SdTxqyk/b8blV1ZgezzP0hiQqjd9+c/1flmqtZj4L96eQ1nMA/yvyAzqk73JNe/yoWKMx1Z+b8gIc4HDUThv+w5zcNqBfy/9Jl5+/TpAEAaUTOdhhL3P13HNUMFf7k/kDRqnAgnx7+AQrdBfpncv18Ybx20t+y/cRKTjzrF57+7wJ5I9lfiP7aYYnXOAeE/E81z++ME9b9Y8dLVBPzUP5XPmc6aA+C/uo4CqZWI579pekWqxPXdP+72PDb2qfO/6VravQDdkL82EUVc7o0IwEF/qFUtHd4/3Ix6UZhO2b/UvN5djJLxP3cKr08p3wDA+cYMBOFAvT8dlFlwgf/xP/dh0qfEyMu/wcaSSMXJ9790D4z3dyXwP/IHaxZFP/0/0/X3PChz8r8btPEyOtD+P5v0LsNtSMU/VNlTTR5d7D9vIqC2OSTsP9cIWXhOTNA/Pcs+JewX6r8lQaSJTs/ev8LZWrD70+k/Stk/3QSGeT8d899zUurKPzdR/8iq+c4/VidfA3d7yT9qWTnWqbrxP6Rzpnjs/fW/FM8Rcmjh7T9CPScHiGjwP12fqb7Y7+S/iZ4rmccP0b+PLvGt+/vrP5gn+6lWrvI/t6hCXQbA5L877x5l7RO7P3BURHhqvtA/4Oia2iSo1T9fhfgYZS3mv7lpzqJ+zNI/ZQa2ENa+7z+OgOuU6aYBwKTaoj7DVdC/tIFm5aJ25T+aqSV3AtnTPwjmKx5SHWk/55ieQJhXvL/qXDkuE7njP7oNmVYEMdy/11qGN1cj0D/rjpqKL0oIwCoMaN6MbMu/3rDTT5f08j8ATnl7SqDwv/ogfo1UPOY/7IQ1VzZ38T/eFfJ4+efmP60PTAYD7eU/2ogcWQGv7T+cyg+SUm7mv7eZ+5jEDOS/KGLHT/eX5j/onFzh6An2vwL0yC4TG9Q//vT0b2M087+UMdgctyajv7dCbaaF7/E/UsZje2B8yr+7+Li4hMXBv6XoryDzW/A/LU9CBhfWAUA=\"},\"shape\":[100],\"dtype\":\"float64\",\"order\":\"little\"}],[\"y\",{\"type\":\"ndarray\",\"array\":{\"type\":\"bytes\",\"data\":\"TpxV4LZn5r884Qips7kAQNKpFpwL0fO/AFI1FPRFrz+YMH431t8BwGpGLP8lUvk/wFlSTvtNDMDGNTuHXGEHQG6SwEiP1+W/9jUttwW10j8aH9RDR/kBQHDf+7ovdMS/wAf6z2K25L/T4mSfQ4gQQMdW24gspvM/F9+hu54dB0CCVxdRnwX5PzAGN0FMAeA/1HChzYmY+b9Iu4QdvQ4AQHwmuW9hSPC/uNPV0ean/7/XR0ARgTPwP97kQwo4FeU/8fOOMszi9T9KyHCEUvPwP1QvczoXnABAYOsTg+gL8L+AhYfSZ94PQKD/7l5sbsS/wqi4/kl8C0Cqw02vXcf1P6JP9CjBz/A/3u/rsvWuDUB2GCEng5YCQIrLhpyMv/a/5kJ0tEGW3T/WIcRmwFkXQK4NeTiShf0/RB3xJXk66j+sVIezETn4PzjEOpL/G9O/C+AUFMlSBcBw5gqyft0CQCzljcHsgsY/ceDNAli6C0CxauCY0McNQEai6za4WQlAftoCb8FA+D+IUsPum521PyKp9LQCbBFAOjn/PBraAUBgi7ChCIXcP1uIglKnyQVAaLjPTnJ2BED6HX7zK+UEQPLHUwQr/O6/bkTyD4Zs+D/+2gHaVFUKQPA6bX454+I/7jluoWI50j/PhFNxXDEHQILejgH/PANA2uOdkfWa8r+e4KLsxLX2Pzj0CCz8/+y/nGxAZ4VL97+UJckni6/yv/6uVgwZMPg/RnoHHqYbBEAIfjIJ5vTqP/vcT9DJ3QbARZg56HhqBkCmMd1zWgsDQPoi/mXIHtc/6KR1QVUN3r/sPNIUAG8EQADyDU8mtae/LCvyEMs5AUA8yXbTLGz7v10awUaXAPw/yH9Hel8R+r8Oss28nDkHQJ6HQcySIvA/wgWvYsQlAkDiiiUw/OcAQKTC6izoTABAcQIQ43d97j/ZGfU0ex8BwM3ae6wDWPY/t+n6KlT4CkD4pEXCDgHQv7qmGdfZcv8/QMcnQXWq9784b1EghKrYv1ZwXc/9GQBAxe1u9KO//j+rz6GUWHvwPxjo0Ai4MBBAlEhQeN9hBkA=\"},\"shape\":[100],\"dtype\":\"float64\",\"order\":\"little\"}]]}}},\"view\":{\"type\":\"object\",\"name\":\"CDSView\",\"id\":\"p1041\",\"attributes\":{\"filter\":{\"type\":\"object\",\"name\":\"AllIndices\",\"id\":\"p1042\"}}},\"glyph\":{\"type\":\"object\",\"name\":\"Scatter\",\"id\":\"p1037\",\"attributes\":{\"x\":{\"type\":\"field\",\"field\":\"x\"},\"y\":{\"type\":\"field\",\"field\":\"y\"},\"line_color\":{\"type\":\"value\",\"value\":\"#e41a1c\"},\"line_alpha\":{\"type\":\"value\",\"value\":0.3},\"fill_color\":{\"type\":\"value\",\"value\":\"#e41a1c\"},\"fill_alpha\":{\"type\":\"value\",\"value\":0.3},\"hatch_color\":{\"type\":\"value\",\"value\":\"#e41a1c\"},\"hatch_alpha\":{\"type\":\"value\",\"value\":0.3}}},\"nonselection_glyph\":{\"type\":\"object\",\"name\":\"Scatter\",\"id\":\"p1038\",\"attributes\":{\"x\":{\"type\":\"field\",\"field\":\"x\"},\"y\":{\"type\":\"field\",\"field\":\"y\"},\"line_color\":{\"type\":\"value\",\"value\":\"#e41a1c\"},\"line_alpha\":{\"type\":\"value\",\"value\":0.1},\"fill_color\":{\"type\":\"value\",\"value\":\"#e41a1c\"},\"fill_alpha\":{\"type\":\"value\",\"value\":0.1},\"hatch_color\":{\"type\":\"value\",\"value\":\"#e41a1c\"},\"hatch_alpha\":{\"type\":\"value\",\"value\":0.1}}},\"muted_glyph\":{\"type\":\"object\",\"name\":\"Scatter\",\"id\":\"p1039\",\"attributes\":{\"x\":{\"type\":\"field\",\"field\":\"x\"},\"y\":{\"type\":\"field\",\"field\":\"y\"},\"line_color\":{\"type\":\"value\",\"value\":\"#e41a1c\"},\"line_alpha\":{\"type\":\"value\",\"value\":0.2},\"fill_color\":{\"type\":\"value\",\"value\":\"#e41a1c\"},\"fill_alpha\":{\"type\":\"value\",\"value\":0.2},\"hatch_color\":{\"type\":\"value\",\"value\":\"#e41a1c\"},\"hatch_alpha\":{\"type\":\"value\",\"value\":0.2}}}}},{\"type\":\"object\",\"name\":\"GlyphRenderer\",\"id\":\"p1049\",\"attributes\":{\"data_source\":{\"type\":\"object\",\"name\":\"ColumnDataSource\",\"id\":\"p1043\",\"attributes\":{\"selected\":{\"type\":\"object\",\"name\":\"Selection\",\"id\":\"p1044\",\"attributes\":{\"indices\":[],\"line_indices\":[]}},\"selection_policy\":{\"type\":\"object\",\"name\":\"UnionRenderers\",\"id\":\"p1045\"},\"data\":{\"type\":\"map\",\"entries\":[[\"x\",{\"type\":\"ndarray\",\"array\":{\"type\":\"bytes\",\"data\":\"qcApax1S1r8m2ZiDoVDFvwVYAcLrTf0/9paGQBG22b8gVbe0ms0EQI8lziCSRM+/ETweC4Kc6T9Eww9mJwnFP6WmO/2xx+M/+Y7TDwCW/z9zgcu3ZTXeP7RniQeopNq/17xzlx8Z9L/oHK6iURrNv1S3HHDDMPc/KbDTl58D6r9Sow+Hxp/SP1M1vwNjoei/fHhspFJqzT/etR/74OzUv2cSFUuFIuq/uArTqRHvAEDXeWos5JvOP4jGxjEbwfY/mQO5Hs2w3j8YDzAnhXDHv7z7zL0yRuA/9NJ8CQ/A2b859GtHo3YCwAro2+/sc+U/XK65r4xP7z8mFKBZTknbPxGgcT+9+tw/H1jlOamC1L+1mF+FCYC6v5algh2qhtM/IjQfRu/P5L8KVm4Ct+H0P5Z1vv1GcMi/2/BO9ysy4b/x3+hBcCUDQLSD7h408fE/yRp6gkuL9T+L6+IrcwngP9F1GfNxqem/f4N0jylg9r9Hsp8jzDXhv/JD2eP5gbM/dJ/+VYpY7T9UclKibbHzvye4OQGcHwBA+iXVojU4kL9netlVl0+PP7gAy6OZ3OY/IUCtPtXM1j/vAUOMmxoBQFYgm6HQUdw/BHoMBVvB4L9e+57gjZ8CwHh9uq3BGpq/bStYIy9Au7+w+njfG9/Rv1/unvzsy7W/lBADhQAB6j/ZpLO+tvvoP61hfIioJse/qkpCB5mSwD8dUNUa3Ar8P4qa5RuTpe4/Ajpkjrqw/L/dNp3ARafxP0FIzUEHkgRAgq921tK+8L/P0cBQIlfdvwHmdoMtX+E/54i4LR0i0j8xVoQ2jvDFv1cBDa7q0MG/iXWtBB+Wwr9+KXRZ1kHxvyPFWxFcpeS/pSgTzLFt1r/PHbFmnvHzP+o7Zk64Xu8/8j4iSRe40T+4J7sn+G/uPzGbxUCtDZY/ssH+SXog/T8uTfRgc+oCwBMbYZS/k8O/a8KH6dBp6L9A1MZVBmDzP7mrw6JREO6/2klUcZaD07/18p00infqP0pvptvtefG/UapsbTNk679/Zi5qILjkv1z5bQYIScy/xrxX/nBU3j8=\"},\"shape\":[100],\"dtype\":\"float64\",\"order\":\"little\"}],[\"y\",{\"type\":\"ndarray\",\"array\":{\"type\":\"bytes\",\"data\":\"tAa2a+6u+7+6XLoVAKvqPymAPIzr0hRAfnogoFHLvT/bRdjJRMQHQKJwZ8WyTeE/sSpbvMBJ+7+v8GfLOd3Kv/775F2XPNW/qMdbgCdnEED6trmHpNkFQLNT1KvByMs/krMDcwY2xb92EZXhzLPlP9PsEDte8+O/7hxFP5pIEEAYByzBrLIJQHlzkev01++/dsS2c9irAEDxXLpxyePZP+V+CPCMLty/b3E22HDb+D9zLC+Ub1b/P9mc8MMiwwpAJ3AX8znn/z+Rm/Moxpr9P1JkfAjfNxVApXa9qrq3C0A6ilCVHdMDQGR7Mucnw96/w69Rg2gPBEBH62lIt/AAQOpkZxM19wJAAYySZhYOqr/OSXGdM4LqP5Wa+X423P8/c4BEIbYu6j8aYOUAamoSQH6B7H3zO+A/JRcx2PPS/T9tAkFl37UKQEAAQluo6P8/jWFjcyq5A0AFMAKWkeT2P8fCt1M/RfM/Ge8FYoSa778LQ7o3MAryvzUANnmBlwJAzoW2dEmeA0AmMAzV9nzxPwmH9wAa1fs/F1ji234C67932oh+Omf7P80IYXF2IwBAhlMSOGkA+r9kRQc12ScJQJnyEdpH1+I/8cgmmQ8Wz79iHIf7MsnlP1VFgNmHoes/8TjtkgtrBkBHoEMHwcLyP8SM2ur14O4/5ywByrb1BEBOU5olMjoRQNnoTsImoPm/QJeDn1gU8r+tSjDE6f/9Pxnm5MbvJ/6/tiuXz6X7DcDfwQcSNVgAQBzyxrN4xARA9niLH7od+r9gcXwJvwb2P61m25p+ZwVA+BsL340s0z/mx41oz6b1v/ZSDQaXif4/RLJVBf1fsD8ntEMw/pjIPxVfPprDMeC/JuGkW+fR/78u+NpojngKQPE4ZKMkSRBAy5h1ZBxVCUDVUXLPfSAOQHRfjD3vDL0/FK2dmlM2D0B8zJ7qGg3yv0kDEFOOzvg/GQ09/h050D9AyHkCfMYPQA5peBfzMAjA1lVQgA5zAUCge2bPs6YBQBuRg2OVz9q/vdQH2GXgA0C7dMEAe9PJvzKhBguT/ANAgzvwY9VB+z8=\"},\"shape\":[100],\"dtype\":\"float64\",\"order\":\"little\"}]]}}},\"view\":{\"type\":\"object\",\"name\":\"CDSView\",\"id\":\"p1050\",\"attributes\":{\"filter\":{\"type\":\"object\",\"name\":\"AllIndices\",\"id\":\"p1051\"}}},\"glyph\":{\"type\":\"object\",\"name\":\"Scatter\",\"id\":\"p1046\",\"attributes\":{\"x\":{\"type\":\"field\",\"field\":\"x\"},\"y\":{\"type\":\"field\",\"field\":\"y\"},\"line_color\":{\"type\":\"value\",\"value\":\"#377eb8\"},\"line_alpha\":{\"type\":\"value\",\"value\":0.3},\"fill_color\":{\"type\":\"value\",\"value\":\"#377eb8\"},\"fill_alpha\":{\"type\":\"value\",\"value\":0.3},\"hatch_color\":{\"type\":\"value\",\"value\":\"#377eb8\"},\"hatch_alpha\":{\"type\":\"value\",\"value\":0.3}}},\"nonselection_glyph\":{\"type\":\"object\",\"name\":\"Scatter\",\"id\":\"p1047\",\"attributes\":{\"x\":{\"type\":\"field\",\"field\":\"x\"},\"y\":{\"type\":\"field\",\"field\":\"y\"},\"line_color\":{\"type\":\"value\",\"value\":\"#377eb8\"},\"line_alpha\":{\"type\":\"value\",\"value\":0.1},\"fill_color\":{\"type\":\"value\",\"value\":\"#377eb8\"},\"fill_alpha\":{\"type\":\"value\",\"value\":0.1},\"hatch_color\":{\"type\":\"value\",\"value\":\"#377eb8\"},\"hatch_alpha\":{\"type\":\"value\",\"value\":0.1}}},\"muted_glyph\":{\"type\":\"object\",\"name\":\"Scatter\",\"id\":\"p1048\",\"attributes\":{\"x\":{\"type\":\"field\",\"field\":\"x\"},\"y\":{\"type\":\"field\",\"field\":\"y\"},\"line_color\":{\"type\":\"value\",\"value\":\"#377eb8\"},\"line_alpha\":{\"type\":\"value\",\"value\":0.2},\"fill_color\":{\"type\":\"value\",\"value\":\"#377eb8\"},\"fill_alpha\":{\"type\":\"value\",\"value\":0.2},\"hatch_color\":{\"type\":\"value\",\"value\":\"#377eb8\"},\"hatch_alpha\":{\"type\":\"value\",\"value\":0.2}}}}},{\"type\":\"object\",\"name\":\"GlyphRenderer\",\"id\":\"p1058\",\"attributes\":{\"data_source\":{\"type\":\"object\",\"name\":\"ColumnDataSource\",\"id\":\"p1052\",\"attributes\":{\"selected\":{\"type\":\"object\",\"name\":\"Selection\",\"id\":\"p1053\",\"attributes\":{\"indices\":[],\"line_indices\":[]}},\"selection_policy\":{\"type\":\"object\",\"name\":\"UnionRenderers\",\"id\":\"p1054\"},\"data\":{\"type\":\"map\",\"entries\":[[\"x\",{\"type\":\"ndarray\",\"array\":{\"type\":\"bytes\",\"data\":\"qryERa9rBMAb/rv9EqqgP1cT09ILVsW/OdLsM1DB1z/FtNdOPIDQPxRVSFLcVGq/yxf8myorxj9zfzGa+Vblvwn5VSDKOuw/2HMWwpm207/KSdPZR97bP7G186aIddS/cCYlivJy6D/DdWX8xGzyvxFU/8gb+gBA9uwEApyy8L+6se1ry0jpvyhk2VbP1cO/qGTGcrhUpb/u7DrdXp+1P3m5tapfLck/lcpGJtQv0T8Vmy7ycqH8P9Sfla4pUt2/Zjj3M/BQ9798Y8EOmEXAvz0RC14Mwrc/V/pqMXGe/j+Xl/GUuzXQP/q/Gj7Tnt6/lSZigF8T5b/puL0UAhLnP765yIkysv6/n6Nm+/9+AcC2YH+qXGvov/S3re4J2PW/5L4PTGHC4j+EAKWDZtPbP7IGq+GWxOK/BqBW54sssr+dGNvqC7n2v+hilp2IHNk/QZ8XjSRA6D88XGXgrlb0vw5jKX8cpPs/mRVAJtY25b82Tco1vrzUP9YMr1STiN6/zUKKKcBH4r8VduqbK63OvxrjUlgLq8e/EXq1ygr13D+3gaEPcCLePwxLWBz4Zse/cp9wgl9N/r+QCMe+yUXJv1xDyiIxZOo/naIm+jHW17+j/k9mRzLnv0V8cJbPbvG/SUsr673cnj+tIA6SfKD+v/Lfs8eXl+K/Ai+UN8XV5795Yu4iUQn0v5vg6MNfMPs/a89iSibl3L9jULSJdhPOP/M0fr6Y9di/HIriat988L/7wL6esBP0vwM4nvPjscw/Mte5KmgivL8wGOTtzxTiP+aR2agCmuS/18oZjvlF4L8oEHwGDOPuv1F+8XJcHb6/OAfoFaYJ9D+nDnG4eyfQP0KCAIY+KeK/kOTVuwG3qj/38XXBQErmPxKIjqH0cPC/4kii1+fV+D/Wr/SZ0ULWv0S7u2PGI82//jjzANze0r+N0jrmwqfdPxiA6Xa3R+Q/5vHPBGwk8z+vMCbJ3HXCv7QBkl3Y4N0/uWz4Yyah8D+FuZhmXwToP2AIjYyLXf0/XJw6UVxE+L8qRfnPI/nqvwHo0bcSJvK/SrY886kn8j8=\"},\"shape\":[100],\"dtype\":\"float64\",\"order\":\"little\"}],[\"y\",{\"type\":\"ndarray\",\"array\":{\"type\":\"bytes\",\"data\":\"VDF2pXc19r+AQoocxuTjv/YxjUxTvdM/0Lqq+g/QsT/4hfZiBLH2P3gHj1xERuS/rIqp6grn9z8UOAcxqLfmPyIpKogKf/g/NfRgjmUj8z/cYVOErzLxv/T0DIs6KNM/lQyFfPzg6z8iyisVGWTyv39jCIIW3ew/EHwON77C3L9CrJ3cm334vzqF/u9tTAJA3G82CVzOzz8tEzZF1dMLQLEyr5zMl+M/jumhvQuv/j88bLDNYLTDPyRKvyl58fs/4mPiB0O90z9gfuKlInm1v0ibqIMa4PY/2XIPy01c4D+BHQKnDTEBQALB0QD2avM/Tlf5Z0Vn6T9EyFP6u3Xxv6hHFLShk/2/UHZm/TabCMC0tdnDXs/Qv1GiWSGtWeI/u3rlbETT4T8gFlHwuSawv7BVMmAdntM/Z20zeOaB8D9cGh/Oy8zyv9bR7Oo7DQVADjiJkHe58z+w6TH0NaXDv45Xngw7Bfc/ACDEBOgXor+4Ss+9Wlb6vzi6UBgOx9I/7NPePokc2z+ZKrIXjpz4P26JP3cJhfK/nmcatrFnEUAETlZJbnoAQBLEhQAucuy/7BjP6W/L3r+4+sJYfBsDQPp3cxReSBNAsN+6XFVxw78U8it9qwoEQDhJ55d0A/C/YnryMCc5AEAUhleblLX2v3D6Sza+5bm/kPa+x9aA0b/UR+0UjdL9v2Ql/EZ3MQNAIHRsZtoy+b/WUfRP/hHtv8vAhGTl3fc/gMql+4NdfD9Y8dYptmriP0QMkHoLneU/NKwI4sBE179MHDIg2msFQEwaQPsjOfS/ovEvXVEUAkAYab2TM4rMv7Ya1NEOY9o/jDw4o6jeA0DweChvsjHIP7DcoAMTLe4/K39BmQUw8z/aTvEXPTP+P7o43fOchtw/5BQVx+YOEUBAkMJfc6P+P7fkRz90ggdAeZM+4ORzBUAkfhBdYlETQIy4cNy9DBRAFmYLwxufA0By2T/YbVYGQP4zfzq9LwtAKL5Iy5dExb9q7PEU59gGQFbrVVV9tAtACNHZRbez878770xU4S71P3CvA7VZYfU/ZhYjPFfNBEA=\"},\"shape\":[100],\"dtype\":\"float64\",\"order\":\"little\"}]]}}},\"view\":{\"type\":\"object\",\"name\":\"CDSView\",\"id\":\"p1059\",\"attributes\":{\"filter\":{\"type\":\"object\",\"name\":\"AllIndices\",\"id\":\"p1060\"}}},\"glyph\":{\"type\":\"object\",\"name\":\"Scatter\",\"id\":\"p1055\",\"attributes\":{\"x\":{\"type\":\"field\",\"field\":\"x\"},\"y\":{\"type\":\"field\",\"field\":\"y\"},\"line_color\":{\"type\":\"value\",\"value\":\"#4daf4a\"},\"line_alpha\":{\"type\":\"value\",\"value\":0.3},\"fill_color\":{\"type\":\"value\",\"value\":\"#4daf4a\"},\"fill_alpha\":{\"type\":\"value\",\"value\":0.3},\"hatch_color\":{\"type\":\"value\",\"value\":\"#4daf4a\"},\"hatch_alpha\":{\"type\":\"value\",\"value\":0.3}}},\"nonselection_glyph\":{\"type\":\"object\",\"name\":\"Scatter\",\"id\":\"p1056\",\"attributes\":{\"x\":{\"type\":\"field\",\"field\":\"x\"},\"y\":{\"type\":\"field\",\"field\":\"y\"},\"line_color\":{\"type\":\"value\",\"value\":\"#4daf4a\"},\"line_alpha\":{\"type\":\"value\",\"value\":0.1},\"fill_color\":{\"type\":\"value\",\"value\":\"#4daf4a\"},\"fill_alpha\":{\"type\":\"value\",\"value\":0.1},\"hatch_color\":{\"type\":\"value\",\"value\":\"#4daf4a\"},\"hatch_alpha\":{\"type\":\"value\",\"value\":0.1}}},\"muted_glyph\":{\"type\":\"object\",\"name\":\"Scatter\",\"id\":\"p1057\",\"attributes\":{\"x\":{\"type\":\"field\",\"field\":\"x\"},\"y\":{\"type\":\"field\",\"field\":\"y\"},\"line_color\":{\"type\":\"value\",\"value\":\"#4daf4a\"},\"line_alpha\":{\"type\":\"value\",\"value\":0.2},\"fill_color\":{\"type\":\"value\",\"value\":\"#4daf4a\"},\"fill_alpha\":{\"type\":\"value\",\"value\":0.2},\"hatch_color\":{\"type\":\"value\",\"value\":\"#4daf4a\"},\"hatch_alpha\":{\"type\":\"value\",\"value\":0.2}}}}},{\"type\":\"object\",\"name\":\"GlyphRenderer\",\"id\":\"p1067\",\"attributes\":{\"data_source\":{\"type\":\"object\",\"name\":\"ColumnDataSource\",\"id\":\"p1061\",\"attributes\":{\"selected\":{\"type\":\"object\",\"name\":\"Selection\",\"id\":\"p1062\",\"attributes\":{\"indices\":[],\"line_indices\":[]}},\"selection_policy\":{\"type\":\"object\",\"name\":\"UnionRenderers\",\"id\":\"p1063\"},\"data\":{\"type\":\"map\",\"entries\":[[\"x\",{\"type\":\"ndarray\",\"array\":{\"type\":\"bytes\",\"data\":\"xr8zlLDn5D/6JcXSkq3sP3MSL8jFEu8//U15zWBAwD+wMcEhF9L3PxIKC5USBco/76mLxJle5D+u7BMabQ3xv0Sgt53rEPM/ElXG4zfU3j8L8uk92jTov+7KqyJSlyg/TfRRSXhX8r/jp7oysfynv/RYOheaIva/tjUsuOcf3b+is7v9uTvyP4XQNyVeR9q/S48Z5Sdb/L+V+2tI6nv4P9aMbEpfX+K/PCTqmLCP4b9wAlslTtz2v2W1IAcvOPi/RpLBgdsM5b9oJv6Lf93xv4S81QwafMc/91+BeKqS7L/vqioyAWzhP3zdtS+XZt+/Vm4Mkese4T/ffIbqxUNxP0lk9Vsy6/M/nLoMlNCgwz9zrSV/Ti2zvyXgGBg9W/W/IVH8TAUO2r9ybMLVavDxvxf3uyJzEfG/KOIt7dip17+5ewtuOk0PQCK9T/Io6uS/jviKzP0p6j+xVe/rFgv0v/f7HBl1WdS/8GDTC3gTtD87NYiepFzpv/XBYDuSu/K/K5KCMDfO2j9PlGoVF4fcv7ck2yY1lgNAW7I+NC4G/r/L01MKZkPDP8KXwL6av+q/TR7V5W+T578L6FXzMdrCvxcp2Pm/89O/zyoY4e031z+IsdYAaxHYvySCcmpPTvS/1orY+rg08T8ljjMSUHzfPw2SDGskh/y/Quxvk8wU4r/4QuY/gnjkv9zoo0mEef0/ecCyDy731b+sV95dTRjrPwDIvs6kBOG/POcVcqH62L+BCibXRSLqv5r+xA1VZsC/IVojggbg9z9pHScnlFfsP/gSJ1GiX8W/9JXZ1iS/0z83bbL6dJX9v6aHU8DXKfa/upfL41ivAEA1Tx0lgGvjv0ot08bIuuc/w9anffX81z+rCHpB3OTxPzZp20R9+N6/CrM3Cskt2z+EbrYj223Vv4gW7EHExOk/pQkrPkjL2D+o71kkNC/wP4D0C5g/Ye4/WeSvBTQj17/w3ON52ST2v5C1IlSccvW/HdJoOQC247+7BbYn4bKpv6azv7eYmPE/DMfUAMd46j8Fk2yT+TLCP440/XM+ZtS/K9gbSG6Cvr8=\"},\"shape\":[100],\"dtype\":\"float64\",\"order\":\"little\"}],[\"y\",{\"type\":\"ndarray\",\"array\":{\"type\":\"bytes\",\"data\":\"xtNiIvJv2T/v6RFSAJINQLwb+tKgtAZA10Xc1Zzz2r8vPVFHkVcZQBcvEdMJRq+/iem+YZpwCECUyoigWkkGwPtsnk5LKA5AI1KsgBOa67+h5BFr1yAAwOcVNseLU/K/etVAfRUX1L+At6c3I4P4v+qLvXY+Vue/6niPI2/UwL/iztr75V74v0AWAFylcPS/zH/DP2vrBUB/C5mvjSYRQIJKGiMDWgDA9NixkrPOAMCWbKbt7gr/v+Tr01AUluC/qQs7Koeb5D+ZD/TQ55IAwDm5+i/T1eI/yFKlTqrYCcDomZuwBLoLwAYN22CaAu+/yZhV8BE+5D+NwfxWzewEwGipdJK+MPM/hin9ekT+AEC5LC+pmXjeP1d5Vfz2Qvc/fPzmVpsZ979BXOPIR6zlP4dMEDeCVPQ//19+hsMW2T/F0REN4lATQD0uji0WSOi/W5KEnVmQ/z+tUeJW7xX4vzxmHvYmdwjAcK6XQPib+T+Po7qgCqgLQDWRzQAvjw5AOrZi5WFe578dm8+TLEH0PyvTsI3qAR1AXA989nDoFMCoFl5MJVQGQJzCNxshl5A/nmNyN6AL8L8tE+2oAx4RwPRYFYKRUu8/tsLw7QQUAsCySWATOmACQJbHKja4/dE/X2k1FZ5RBUAZPV+qtNb6PxVPS1Ht9/y/9ox6kqsEC0ChUGmH/pcQQIRnUgmkqgpAzPC8I8uo+b/h6TuXgy4EQJ8VuJNHbg3ASs2zTvHA+7/kYU0D/c37PyDltR0A7Pe/L8iYLL8WAUCvsXxIPvn1P1MgaPOG0QFA0e3F1cjx/T8PZ3ATgDP2vxO0RrRy1gLAo1AIulWVEEAx7WS4tcbtP3MQHohT8ABAiN/VnoO87T+11HTwuTDLP6T/qihs8bE/B1ivueCK9z8NXIAtG+EIwPmWyDZ/7AFA6jl7effl9T9t8GH9d4nlvwhQkZn7Fd0/mr8K0zBN+L+e+Am6vGOGv23L+0vNYOe/OBScixBeEUCkhoar31iXv9RIhYJAwf4/vNOY/nHMCEBnYA+kHr8MQAkaBucDafG/KTy0YFhU9z8=\"},\"shape\":[100],\"dtype\":\"float64\",\"order\":\"little\"}]]}}},\"view\":{\"type\":\"object\",\"name\":\"CDSView\",\"id\":\"p1068\",\"attributes\":{\"filter\":{\"type\":\"object\",\"name\":\"AllIndices\",\"id\":\"p1069\"}}},\"glyph\":{\"type\":\"object\",\"name\":\"Scatter\",\"id\":\"p1064\",\"attributes\":{\"x\":{\"type\":\"field\",\"field\":\"x\"},\"y\":{\"type\":\"field\",\"field\":\"y\"},\"line_color\":{\"type\":\"value\",\"value\":\"#984ea3\"},\"line_alpha\":{\"type\":\"value\",\"value\":0.3},\"fill_color\":{\"type\":\"value\",\"value\":\"#984ea3\"},\"fill_alpha\":{\"type\":\"value\",\"value\":0.3},\"hatch_color\":{\"type\":\"value\",\"value\":\"#984ea3\"},\"hatch_alpha\":{\"type\":\"value\",\"value\":0.3}}},\"nonselection_glyph\":{\"type\":\"object\",\"name\":\"Scatter\",\"id\":\"p1065\",\"attributes\":{\"x\":{\"type\":\"field\",\"field\":\"x\"},\"y\":{\"type\":\"field\",\"field\":\"y\"},\"line_color\":{\"type\":\"value\",\"value\":\"#984ea3\"},\"line_alpha\":{\"type\":\"value\",\"value\":0.1},\"fill_color\":{\"type\":\"value\",\"value\":\"#984ea3\"},\"fill_alpha\":{\"type\":\"value\",\"value\":0.1},\"hatch_color\":{\"type\":\"value\",\"value\":\"#984ea3\"},\"hatch_alpha\":{\"type\":\"value\",\"value\":0.1}}},\"muted_glyph\":{\"type\":\"object\",\"name\":\"Scatter\",\"id\":\"p1066\",\"attributes\":{\"x\":{\"type\":\"field\",\"field\":\"x\"},\"y\":{\"type\":\"field\",\"field\":\"y\"},\"line_color\":{\"type\":\"value\",\"value\":\"#984ea3\"},\"line_alpha\":{\"type\":\"value\",\"value\":0.2},\"fill_color\":{\"type\":\"value\",\"value\":\"#984ea3\"},\"fill_alpha\":{\"type\":\"value\",\"value\":0.2},\"hatch_color\":{\"type\":\"value\",\"value\":\"#984ea3\"},\"hatch_alpha\":{\"type\":\"value\",\"value\":0.2}}}}}],\"toolbar\":{\"type\":\"object\",\"name\":\"Toolbar\",\"id\":\"p1010\",\"attributes\":{\"tools\":[{\"type\":\"object\",\"name\":\"PanTool\",\"id\":\"p1023\"},{\"type\":\"object\",\"name\":\"WheelZoomTool\",\"id\":\"p1024\",\"attributes\":{\"renderers\":\"auto\"}},{\"type\":\"object\",\"name\":\"BoxZoomTool\",\"id\":\"p1025\",\"attributes\":{\"overlay\":{\"type\":\"object\",\"name\":\"BoxAnnotation\",\"id\":\"p1026\",\"attributes\":{\"syncable\":false,\"level\":\"overlay\",\"visible\":false,\"left\":{\"type\":\"number\",\"value\":\"nan\"},\"right\":{\"type\":\"number\",\"value\":\"nan\"},\"top\":{\"type\":\"number\",\"value\":\"nan\"},\"bottom\":{\"type\":\"number\",\"value\":\"nan\"},\"left_units\":\"canvas\",\"right_units\":\"canvas\",\"top_units\":\"canvas\",\"bottom_units\":\"canvas\",\"line_color\":\"black\",\"line_alpha\":1.0,\"line_width\":2,\"line_dash\":[4,4],\"fill_color\":\"lightgrey\",\"fill_alpha\":0.5}}}},{\"type\":\"object\",\"name\":\"SaveTool\",\"id\":\"p1031\"},{\"type\":\"object\",\"name\":\"ResetTool\",\"id\":\"p1032\"},{\"type\":\"object\",\"name\":\"HelpTool\",\"id\":\"p1033\"}]}},\"left\":[{\"type\":\"object\",\"name\":\"LinearAxis\",\"id\":\"p1018\",\"attributes\":{\"ticker\":{\"type\":\"object\",\"name\":\"BasicTicker\",\"id\":\"p1019\",\"attributes\":{\"mantissas\":[1,2,5]}},\"formatter\":{\"type\":\"object\",\"name\":\"BasicTickFormatter\",\"id\":\"p1020\"},\"axis_label\":\"y\",\"major_label_policy\":{\"type\":\"object\",\"name\":\"AllLabels\",\"id\":\"p1021\"}}}],\"right\":[{\"type\":\"object\",\"name\":\"Legend\",\"id\":\"p1070\",\"attributes\":{\"click_policy\":\"hide\",\"items\":[{\"type\":\"object\",\"name\":\"LegendItem\",\"id\":\"p1071\",\"attributes\":{\"label\":{\"type\":\"value\",\"value\":\"Model 0\"},\"renderers\":[{\"id\":\"p1040\"}]}},{\"type\":\"object\",\"name\":\"LegendItem\",\"id\":\"p1072\",\"attributes\":{\"label\":{\"type\":\"value\",\"value\":\"Model 1\"},\"renderers\":[{\"id\":\"p1049\"}]}},{\"type\":\"object\",\"name\":\"LegendItem\",\"id\":\"p1073\",\"attributes\":{\"label\":{\"type\":\"value\",\"value\":\"Model 2\"},\"renderers\":[{\"id\":\"p1058\"}]}},{\"type\":\"object\",\"name\":\"LegendItem\",\"id\":\"p1074\",\"attributes\":{\"label\":{\"type\":\"value\",\"value\":\"Model 3\"},\"renderers\":[{\"id\":\"p1067\"}]}}]}}],\"below\":[{\"type\":\"object\",\"name\":\"LinearAxis\",\"id\":\"p1013\",\"attributes\":{\"ticker\":{\"type\":\"object\",\"name\":\"BasicTicker\",\"id\":\"p1014\",\"attributes\":{\"mantissas\":[1,2,5]}},\"formatter\":{\"type\":\"object\",\"name\":\"BasicTickFormatter\",\"id\":\"p1015\"},\"axis_label\":\"x\",\"major_label_policy\":{\"type\":\"object\",\"name\":\"AllLabels\",\"id\":\"p1016\"}}}],\"center\":[{\"type\":\"object\",\"name\":\"Grid\",\"id\":\"p1017\",\"attributes\":{\"axis\":{\"id\":\"p1013\"}}},{\"type\":\"object\",\"name\":\"Grid\",\"id\":\"p1022\",\"attributes\":{\"dimension\":1,\"axis\":{\"id\":\"p1018\"}}}],\"frame_width\":200,\"frame_height\":200}}],\"defs\":[{\"type\":\"model\",\"name\":\"ReactiveHTML1\"},{\"type\":\"model\",\"name\":\"FlexBox1\",\"properties\":[{\"name\":\"align_content\",\"kind\":\"Any\",\"default\":\"flex-start\"},{\"name\":\"align_items\",\"kind\":\"Any\",\"default\":\"flex-start\"},{\"name\":\"flex_direction\",\"kind\":\"Any\",\"default\":\"row\"},{\"name\":\"flex_wrap\",\"kind\":\"Any\",\"default\":\"wrap\"},{\"name\":\"gap\",\"kind\":\"Any\",\"default\":\"\"},{\"name\":\"justify_content\",\"kind\":\"Any\",\"default\":\"flex-start\"}]},{\"type\":\"model\",\"name\":\"FloatPanel1\",\"properties\":[{\"name\":\"config\",\"kind\":\"Any\",\"default\":{\"type\":\"map\"}},{\"name\":\"contained\",\"kind\":\"Any\",\"default\":true},{\"name\":\"position\",\"kind\":\"Any\",\"default\":\"right-top\"},{\"name\":\"offsetx\",\"kind\":\"Any\",\"default\":null},{\"name\":\"offsety\",\"kind\":\"Any\",\"default\":null},{\"name\":\"theme\",\"kind\":\"Any\",\"default\":\"primary\"},{\"name\":\"status\",\"kind\":\"Any\",\"default\":\"normalized\"}]},{\"type\":\"model\",\"name\":\"GridStack1\",\"properties\":[{\"name\":\"mode\",\"kind\":\"Any\",\"default\":\"warn\"},{\"name\":\"ncols\",\"kind\":\"Any\",\"default\":null},{\"name\":\"nrows\",\"kind\":\"Any\",\"default\":null},{\"name\":\"allow_resize\",\"kind\":\"Any\",\"default\":true},{\"name\":\"allow_drag\",\"kind\":\"Any\",\"default\":true},{\"name\":\"state\",\"kind\":\"Any\",\"default\":[]}]},{\"type\":\"model\",\"name\":\"drag1\",\"properties\":[{\"name\":\"slider_width\",\"kind\":\"Any\",\"default\":5},{\"name\":\"slider_color\",\"kind\":\"Any\",\"default\":\"black\"},{\"name\":\"value\",\"kind\":\"Any\",\"default\":50}]},{\"type\":\"model\",\"name\":\"click1\",\"properties\":[{\"name\":\"terminal_output\",\"kind\":\"Any\",\"default\":\"\"},{\"name\":\"debug_name\",\"kind\":\"Any\",\"default\":\"\"},{\"name\":\"clears\",\"kind\":\"Any\",\"default\":0}]},{\"type\":\"model\",\"name\":\"FastWrapper1\",\"properties\":[{\"name\":\"object\",\"kind\":\"Any\",\"default\":null},{\"name\":\"style\",\"kind\":\"Any\",\"default\":null}]},{\"type\":\"model\",\"name\":\"NotificationAreaBase1\",\"properties\":[{\"name\":\"js_events\",\"kind\":\"Any\",\"default\":{\"type\":\"map\"}},{\"name\":\"position\",\"kind\":\"Any\",\"default\":\"bottom-right\"},{\"name\":\"_clear\",\"kind\":\"Any\",\"default\":0}]},{\"type\":\"model\",\"name\":\"NotificationArea1\",\"properties\":[{\"name\":\"js_events\",\"kind\":\"Any\",\"default\":{\"type\":\"map\"}},{\"name\":\"notifications\",\"kind\":\"Any\",\"default\":[]},{\"name\":\"position\",\"kind\":\"Any\",\"default\":\"bottom-right\"},{\"name\":\"_clear\",\"kind\":\"Any\",\"default\":0},{\"name\":\"types\",\"kind\":\"Any\",\"default\":[{\"type\":\"map\",\"entries\":[[\"type\",\"warning\"],[\"background\",\"#ffc107\"],[\"icon\",{\"type\":\"map\",\"entries\":[[\"className\",\"fas fa-exclamation-triangle\"],[\"tagName\",\"i\"],[\"color\",\"white\"]]}]]},{\"type\":\"map\",\"entries\":[[\"type\",\"info\"],[\"background\",\"#007bff\"],[\"icon\",{\"type\":\"map\",\"entries\":[[\"className\",\"fas fa-info-circle\"],[\"tagName\",\"i\"],[\"color\",\"white\"]]}]]}]}]},{\"type\":\"model\",\"name\":\"Notification\",\"properties\":[{\"name\":\"background\",\"kind\":\"Any\",\"default\":null},{\"name\":\"duration\",\"kind\":\"Any\",\"default\":3000},{\"name\":\"icon\",\"kind\":\"Any\",\"default\":null},{\"name\":\"message\",\"kind\":\"Any\",\"default\":\"\"},{\"name\":\"notification_type\",\"kind\":\"Any\",\"default\":null},{\"name\":\"_destroyed\",\"kind\":\"Any\",\"default\":false}]},{\"type\":\"model\",\"name\":\"TemplateActions1\",\"properties\":[{\"name\":\"open_modal\",\"kind\":\"Any\",\"default\":0},{\"name\":\"close_modal\",\"kind\":\"Any\",\"default\":0}]},{\"type\":\"model\",\"name\":\"BootstrapTemplateActions1\",\"properties\":[{\"name\":\"open_modal\",\"kind\":\"Any\",\"default\":0},{\"name\":\"close_modal\",\"kind\":\"Any\",\"default\":0}]},{\"type\":\"model\",\"name\":\"TemplateEditor1\",\"properties\":[{\"name\":\"layout\",\"kind\":\"Any\",\"default\":[]}]},{\"type\":\"model\",\"name\":\"MaterialTemplateActions1\",\"properties\":[{\"name\":\"open_modal\",\"kind\":\"Any\",\"default\":0},{\"name\":\"close_modal\",\"kind\":\"Any\",\"default\":0}]},{\"type\":\"model\",\"name\":\"copy_to_clipboard1\",\"properties\":[{\"name\":\"fill\",\"kind\":\"Any\",\"default\":\"none\"},{\"name\":\"value\",\"kind\":\"Any\",\"default\":null}]}]}};\n",
       "  const render_items = [{\"docid\":\"cabead98-4325-44c7-ae28-fe10c91ae3cd\",\"roots\":{\"p1002\":\"dd49226e-194a-4fed-8615-1f8bb0f6e3c9\"},\"root_ids\":[\"p1002\"]}];\n",
       "  void root.Bokeh.embed.embed_items_notebook(docs_json, render_items);\n",
       "  }\n",
       "  if (root.Bokeh !== undefined) {\n",
       "    embed_document(root);\n",
       "  } else {\n",
       "    let attempts = 0;\n",
       "    const timer = setInterval(function(root) {\n",
       "      if (root.Bokeh !== undefined) {\n",
       "        clearInterval(timer);\n",
       "        embed_document(root);\n",
       "      } else {\n",
       "        attempts++;\n",
       "        if (attempts > 100) {\n",
       "          clearInterval(timer);\n",
       "          console.log(\"Bokeh: ERROR: Unable to run BokehJS code because BokehJS library is missing\");\n",
       "        }\n",
       "      }\n",
       "    }, 10, root)\n",
       "  }\n",
       "})(window);"
      ],
      "application/vnd.bokehjs_exec.v0+json": ""
     },
     "metadata": {
      "application/vnd.bokehjs_exec.v0+json": {
       "id": "p1002"
      }
     },
     "output_type": "display_data"
    }
   ],
   "source": [
    "# Instantiate RNG\n",
    "rng = np.random.default_rng(3252)\n",
    "\n",
    "# Parameter values\n",
    "mu_x = 0\n",
    "mu_y = 1\n",
    "mu_z = 0\n",
    "sigma_x = 1\n",
    "sigma_y = 2\n",
    "sigma_z = 5\n",
    "rho = 0.5\n",
    "rho_zx = 0.8\n",
    "rho_zy = rho / rho_zx\n",
    "\n",
    "# How many samples we want to draw\n",
    "n_samples = 100\n",
    "\n",
    "\n",
    "# Convenient function to draw out of conditional normal\n",
    "def cond_norm(cond_samples, mu_1, mu_2, sigma_1, sigma_2, rho):\n",
    "    return rng.normal(\n",
    "        mu_2 + sigma_2 / sigma_1 * rho * (cond_samples - mu_1),\n",
    "        np.sqrt(1 - rho**2) * sigma_2,\n",
    "    )\n",
    "\n",
    "\n",
    "# Model 0\n",
    "x0, y0 = rng.multivariate_normal(\n",
    "    [mu_x, mu_y],\n",
    "    [[sigma_x**2, sigma_x * sigma_y * rho], [sigma_x * sigma_y * rho, sigma_y**2]],\n",
    "    size=n_samples,\n",
    ").transpose()\n",
    "\n",
    "# Model 1\n",
    "x1 = rng.normal(mu_x, sigma_x, size=n_samples)\n",
    "y1 = cond_norm(x1, mu_x, mu_y, sigma_x, sigma_y, rho)\n",
    "\n",
    "# Model 2\n",
    "y2 = rng.normal(mu_y, sigma_y, size=n_samples)\n",
    "x2 = cond_norm(y2, mu_y, mu_x, sigma_y, sigma_x, rho)\n",
    "\n",
    "# Model 3\n",
    "z = rng.normal(mu_z, sigma_z, size=n_samples)\n",
    "x3 = cond_norm(z, mu_z, mu_x, sigma_z, sigma_x, rho_zx)\n",
    "y3 = cond_norm(z, mu_z, mu_y, sigma_z, sigma_y, rho_zy)\n",
    "\n",
    "p = bokeh.plotting.figure(\n",
    "    frame_width=200, frame_height=200, x_axis_label=\"x\", y_axis_label=\"y\"\n",
    ")\n",
    "\n",
    "colors = [\"#e41a1c\", \"#377eb8\", \"#4daf4a\", \"#984ea3\"]\n",
    "legend_items = [\n",
    "    (\"Model 0\", [p.scatter(x0, y0, alpha=0.3, color=colors[0])]),\n",
    "    (\"Model 1\", [p.scatter(x1, y1, alpha=0.3, color=colors[1])]),\n",
    "    (\"Model 2\", [p.scatter(x2, y2, alpha=0.3, color=colors[2])]),\n",
    "    (\"Model 3\", [p.scatter(x3, y3, alpha=0.3, color=colors[3])]),\n",
    "]\n",
    "\n",
    "p.add_layout(bokeh.models.Legend(items=legend_items, click_policy=\"hide\"), \"right\")\n",
    "\n",
    "bokeh.io.show(p)"
   ]
  },
  {
   "cell_type": "markdown",
   "id": "d0aa94f6-a4b9-437e-b088-3097b5349e62",
   "metadata": {},
   "source": [
    "## Conditional distributions\n",
    "\n",
    "We will now consider how $y$ is conditioned on a specific value of $x$, say $x_0$. Specifically, we seek to compute\n",
    "\n",
    "\\begin{align}\n",
    "f(y\\mid x=x_0) = \\frac{f(x=x_0, y)}{f(x=x_0)}.\n",
    "\\end{align}\n",
    "\n",
    "Let us perform this calculation for each of the models."
   ]
  },
  {
   "cell_type": "markdown",
   "id": "534f3df4-893f-4f04-9ec9-85a08999b7f5",
   "metadata": {},
   "source": [
    "### Model 0\n",
    "\n",
    "For Model 0, we can directly use the above result for the conditional distribution of a bivariate normal to get\n",
    "\n",
    "\\begin{align}\n",
    "y\\mid x=x_0 \\sim \\text{Norm}\\left(\\mu_y + \\frac{\\sigma_y}{\\sigma_x}\\,\\rho(x_0-\\mu_x),\\sqrt{1-\\rho^2}\\,\\sigma_y\\right),\n",
    "\\end{align}"
   ]
  },
  {
   "cell_type": "markdown",
   "id": "54d4ff04-4ad6-45e1-9cb2-b8475b0389d4",
   "metadata": {},
   "source": [
    "### Model 1\n",
    "\n",
    "For Model 1, $x$ is independent of $y$, so the marginal pdf of $x$ is\n",
    "\n",
    "\\begin{align}\n",
    "f(x) = \\frac{1}{\\sqrt{2\\pi\\sigma_x^2}}\\,\\mathrm{e}^{-\\frac{(x-\\mu_x)^2}{2\\sigma_x^2}}.\n",
    "\\end{align}\n",
    "\n",
    "The joint distribution is\n",
    "\n",
    "\\begin{align}\n",
    "f(x, y) = \\frac{1}{\\sqrt{2\\pi\\sigma_x^2}}\\,\\exp\\left[-\\frac{(x-\\mu_x)^2}{2\\sigma_x^2}\\right]\\,\\frac{1}{\\sqrt{2\\pi(1-\\rho^2)\\sigma_y^2}}\\,\\exp\\left[-\\frac{\\left(y- \\mu_y - \\frac{\\sigma_y}{\\sigma_x}\\,\\rho(x-\\mu_x)\\right)^2}{2(1-\\rho^2)\\sigma_y^2}\\right].\n",
    "\\end{align}\n",
    "\n",
    "Therefore,\n",
    "\n",
    "\\begin{align}\n",
    "f(y\\mid x) = \\frac{f(x, y)}{f(x)} = \\frac{1}{\\sqrt{2\\pi(1-\\rho^2)\\sigma_y^2}}\\,\\exp\\left[-\\frac{\\left(y- \\mu_y - \\frac{\\sigma_y}{\\sigma_x}\\,\\rho(x-\\mu_x)\\right)^2}{2(1-\\rho^2)\\sigma_y^2}\\right].\n",
    "\\end{align}\n",
    "\n",
    "Therefore, for Model 1,\n",
    "\n",
    "\\begin{align}\n",
    "y\\mid x=x_0 \\sim \\text{Norm}\\left(\\mu_y + \\frac{\\sigma_y}{\\sigma_x}\\,\\rho(x_0-\\mu_x),\\sqrt{1-\\rho^2}\\,\\sigma_y\\right),\n",
    "\\end{align}\n",
    "\n",
    "the same as Model 0."
   ]
  },
  {
   "cell_type": "markdown",
   "id": "b6affebc-7df5-4a2b-a9b2-7fce76448b06",
   "metadata": {},
   "source": [
    "### Model 2\n",
    "\n",
    "For Model 2, observations of $x$ are dependent on $y$, so we cannot immediately state the marginal distribution $f(x)$. In this case, the joint distribution is\n",
    "\n",
    "\\begin{align}\n",
    "f(x, y) = \\frac{1}{\\sqrt{2\\pi\\sigma_y^2}}\\,\\exp\\left[-\\frac{(y-\\mu_y)^2}{2\\sigma_y^2}\\right]\\,\\frac{1}{\\sqrt{2\\pi(1-\\rho^2)\\sigma_x^2}}\\,\\exp\\left[-\\frac{\\left(x- \\mu_x - \\frac{\\sigma_x}{\\sigma_y}\\,\\rho(y-\\mu_y)\\right)^2}{2(1-\\rho^2)\\sigma_x^2}\\right].\n",
    "\\end{align}\n",
    "\n",
    "We can therefore compute the marginal distribution as\n",
    "\n",
    "\\begin{align}\n",
    "f(x) = \\int_{-\\infty}^\\infty\\mathrm{d}y\\,f(x, y).\n",
    "\\end{align}\n",
    "\n",
    "Computing the integral and then computing $f(y\\mid x) = f(x, y) / f(x)$ involves plenty of algebraic grunge. The result is, unsurprisingly,\n",
    "\n",
    "\\begin{align}\n",
    "y\\mid x=x_0 \\sim \\text{Norm}\\left(\\mu_y + \\frac{\\sigma_y}{\\sigma_x}\\,\\rho(x_0-\\mu_x), \\sqrt{1-\\rho^2}\\,\\sigma_y\\right),\n",
    "\\end{align}\n",
    "\n",
    "the same as Models 0 and 1."
   ]
  },
  {
   "cell_type": "markdown",
   "id": "e1098404-f613-441a-ace9-ed6d6e5295d6",
   "metadata": {},
   "source": [
    "### Model 3\n",
    "\n",
    "Finally, for Model 3, we have the joint\n",
    "\n",
    "\\begin{align}\n",
    "&f(x, y, z) = \\frac{\\exp\\left[-\\frac{1}{2}\\left(\\left(\\frac{z-\\mu_z}{\\sigma_z}\\right)^2 + \\left(x-\\mu_x-\\frac{\\sigma_x}{\\sigma_z}\\,\\rho_{xz}(z-\\mu_z)\\right)^2 + \\left(y-\\mu_y-\\frac{\\sigma_y}{\\sigma_z}\\,\\rho_{xz}(z-\\mu_z)\\right)^2\\right)\\right]}{\\sqrt{(2\\pi)^3\\sigma_z^2(1-\\rho_{xz}^2)(1-\\rho_{yz}^2)\\sigma_x^2\\sigma_y^2}}.\n",
    "\\end{align}\n",
    "\n",
    "First, we integrate with respect to $z$ to get\n",
    "\n",
    "\\begin{align}\n",
    "f(x, y) = \\int_{-\\infty}^\\infty\\mathrm{d}z\\,f(x, y, z) = \\frac{\\exp\\left[ -\\frac{1}{2} \\left( \\frac{(x - \\mu_x)^2}{\\sigma_x^2} + \\frac{(y - \\mu_y)^2}{\\sigma_y^2} - 2 \\frac{\\rho}{\\sigma_x \\sigma_y} (x - \\mu_x)(y - \\mu_y) \\right) \\right]}{2 \\pi \\sigma_x \\sigma_y \\sqrt{1 - \\rho^2}}.\n",
    "\\end{align}\n",
    "\n",
    "We recognize this result $f(x, y)$ as a bivariate normal, so we can use the result from Model 0 and immediately write, again, that\n",
    "\n",
    "\\begin{align}\n",
    "y\\mid x=x_0 \\sim \\text{Norm}\\left(\\mu_y + \\frac{\\sigma_y}{\\sigma_x}\\,\\rho(x_0-\\mu_x), \\sqrt{1-\\rho^2}\\,\\sigma_y\\right).\n",
    "\\end{align}\n",
    "\n",
    "Indeed, all three models have the same conditional distribution!"
   ]
  },
  {
   "cell_type": "markdown",
   "id": "f25b3cc0-6662-4bc0-b666-c83f9d38ed0b",
   "metadata": {},
   "source": [
    "## Interventional distribution\n",
    "\n",
    "We now consider an *intervention*, in which we *fix* $x$ to have value $x_0$. This intervention means that we fundamentally change the graphs describing the data generation process. Since we are fixing $x$, and input arrow to the $x$ node is deleted."
   ]
  },
  {
   "cell_type": "code",
   "execution_count": 13,
   "id": "e8088ee7-8c38-40c2-bb3d-198f77b366bb",
   "metadata": {},
   "outputs": [
    {
     "data": {
      "image/png": "[encoded data removed]",
      "text/plain": [
       "<Figure size 625.984x153.543 with 1 Axes>"
      ]
     },
     "metadata": {
      "image/png": {
       "height": 179,
       "width": 656
      }
     },
     "output_type": "display_data"
    }
   ],
   "source": [
    "g = daft.PGM()\n",
    "g.add_text(-0.5, 1.5, 'Interventional Model 1')\n",
    "g.add_node('x1', \"x₀\", 0, 0, fixed=True)\n",
    "g.add_node('y1', \"y\", 1, 0, observed=True)\n",
    "g.add_node('z1', \"z\", 0.5, 1)\n",
    "g.add_edge('x1', 'y1')\n",
    "\n",
    "dx = 3\n",
    "g.add_text(-0.5 + dx, 1.5, 'Interventional Model 2')\n",
    "g.add_node('x2', \"x₀\", 0 + dx, 0, fixed=True)\n",
    "g.add_node('y2', \"y\", 1 + dx, 0, observed=True)\n",
    "g.add_node('z2', \"z\", 0.5 + dx, 1)\n",
    "\n",
    "dx = 6\n",
    "g.add_text(-0.5 + dx, 1.5, 'Interventional Model 3')\n",
    "g.add_node('x3', \"x₀\", 0 + dx, 0, fixed=True)\n",
    "g.add_node('y3', \"y\", 1 + dx, 0, observed=True)\n",
    "g.add_node('z3', \"z\", 0.5 + dx, 1)\n",
    "g.add_edge('z3', 'y3')\n",
    "\n",
    "g.render();"
   ]
  },
  {
   "cell_type": "markdown",
   "id": "84d87467-ca9f-4599-ba41-6b09af2cc535",
   "metadata": {},
   "source": [
    "Interventional Model 1 is identical to Model 1, so\n",
    "\n",
    "\\begin{align}\n",
    "y\\mid do(x=x_0) \\sim \\text{Norm}\\left(\\mu_y + \\frac{\\sigma_y}{\\sigma_x}\\,\\rho(x_0-\\mu_x),\\sqrt{1-\\rho^2}\\,\\sigma_y\\right).\n",
    "\\end{align}\n",
    "\n",
    "For Interventional Model 2, we have\n",
    "\n",
    "\\begin{align}\n",
    "y \\mid do(x=x_0) \\sim \\text{Norm}(\\mu_y, \\sigma_y).\n",
    "\\end{align}\n",
    "\n",
    "Finally, for Interventional Model 3, we have\n",
    "\n",
    "\\begin{align}\n",
    "\\pi(y, z \\mid do(x=x_0)) = \\pi(y\\mid z)\\,\\pi(z),\n",
    "\\end{align}\n",
    "\n",
    "such that\n",
    "\n",
    "\\begin{align}\n",
    "\\pi(y\\mid do(x=x_0)) = \\int\\mathrm{d}z\\,\\pi(y\\mid z)\\,\\pi(z).\n",
    "\\end{align}\n",
    "\n",
    "We have\n",
    "\n",
    "\\begin{align}\n",
    "&z \\sim \\text{Norm}(\\mu_z, \\sigma_z),\\\\[1em]\n",
    "&y \\mid z \\sim \\text{Norm}\\left(\\mu_y + \\frac{\\sigma_y}{\\sigma_z}\\,\\rho_{yz}(z-\\mu_z), \\sqrt{1-\\rho_{yz}^2}\\,\\sigma_y\\right).\n",
    "\\end{align}\n",
    "\n",
    "Marginalizing over $z$, we have\n",
    "\n",
    "\\begin{align}\n",
    "y\\mid do(x=x_0) \\sim \\text{Norm}(\\mu_y, \\sigma_y),\n",
    "\\end{align}\n",
    "\n",
    "the same as Interventional Model 2.\n",
    "\n",
    "So, if we look at the interventional distributions, Interventional Model 1 will be different than other other two models, highlighting the causal link between X and Y."
   ]
  },
  {
   "cell_type": "markdown",
   "id": "6fe2f9aa-aa8b-497e-aa02-3bac56090c25",
   "metadata": {},
   "source": [
    "## More complex example\n",
    "\n",
    "Let us now consider a more complex model, given in Fig. 3.6 of Pearl's *Causality* book."
   ]
  },
  {
   "cell_type": "code",
   "execution_count": 12,
   "id": "859a6821-8521-4244-af67-ba0651cd1170",
   "metadata": {},
   "outputs": [
    {
     "data": {
      "image/png": "[encoded data removed]",
      "text/plain": [
       "<Figure size 212.598x133.858 with 1 Axes>"
      ]
     },
     "metadata": {
      "image/png": {
       "height": 153,
       "width": 232
      }
     },
     "output_type": "display_data"
    }
   ],
   "source": [
    "g = daft.PGM()\n",
    "g.add_node('X', \"X\", 0, 0, observed=True)\n",
    "g.add_node('Z', \"Z\", 1, 0, observed=True)\n",
    "g.add_node('Y', \"Y\", 2, 0, observed=True)\n",
    "g.add_node('U', \"U\", 1, 1)\n",
    "g.add_edge('U', 'X')\n",
    "g.add_edge('U', 'Y')\n",
    "g.add_edge('X', 'Z')\n",
    "g.add_edge('Z', 'Y')\n",
    "\n",
    "g.render();"
   ]
  },
  {
   "cell_type": "markdown",
   "id": "71072cf9-ba4f-4422-9321-32f004577ed5",
   "metadata": {},
   "source": [
    "Here, U is unobserved and X, Y, and Z are observed. The conditioning associated with this DAG is\n",
    "\n",
    "\\begin{align}\n",
    "\\pi(x, y, z, u) = \\pi(y \\mid u, z)\\,\\pi(z\\mid x)\\,\\pi(x\\mid u)\\,\\pi(u)\n",
    "= \\pi(y \\mid u, z)\\,\\pi(z\\mid x)\\,\\pi(x\\mid u)\\,\\pi(u)\n",
    "\\end{align}\n",
    "\n",
    "We are primarily interested in Y and its causal relationship with Z. We therefore wish to compute $\\pi(y\\mid do(z))$. We will use MCMC to do it.\n",
    "\n",
    "Let us first write down a full Bayesian model.\n",
    "\n",
    "\\begin{align}\n",
    "&\\mu_u, \\mu_x, \\mu_z, \\mu_y \\sim \\text{Norm}(0, 10),\\\\[1em]\n",
    "&\\sigma_u, \\sigma_x, \\sigma_z, \\sigma_y \\sim \\text{HalfNorm}(1),\\\\[1em]\n",
    "&u \\sim \\text{Norm}(\\mu_u, \\sigma_u)\\\\[1em]\n",
    "&x \\sim \\text{Norm}(u, \\sigma_x)\\\\[1em]\n",
    "&z \\sim \\text{Norm}(x, \\sigma_z)\\\\[1em]\n",
    "&y \\sim \\text{Norm}(u + z, \\sigma_y).\n",
    "\\end{align}\n",
    "\n",
    "If we consider an interventional model where we set $z = z_0$, our DAG is as follows."
   ]
  },
  {
   "cell_type": "code",
   "execution_count": 17,
   "id": "1f759b83-bbda-4130-81a1-921ab726d919",
   "metadata": {},
   "outputs": [
    {
     "data": {
      "image/png": "[encoded data removed]",
      "text/plain": [
       "<Figure size 212.598x133.858 with 1 Axes>"
      ]
     },
     "metadata": {
      "image/png": {
       "height": 153,
       "width": 232
      }
     },
     "output_type": "display_data"
    }
   ],
   "source": [
    "g = daft.PGM()\n",
    "g.add_node('X', \"X\", 0, 0, observed=True)\n",
    "g.add_node('Z', \"z₀\", 1, 0, fixed=True)\n",
    "g.add_node('Y', \"Y\", 2, 0, observed=True)\n",
    "g.add_node('U', \"U\", 1, 1)\n",
    "g.add_edge('U', 'X')\n",
    "g.add_edge('U', 'Y')\n",
    "g.add_edge('Z', 'Y')\n",
    "\n",
    "g.render();"
   ]
  },
  {
   "cell_type": "markdown",
   "id": "3cf8bf62-340f-4d01-9eb0-7ab2351f7400",
   "metadata": {},
   "source": [
    "The generative model for this is\n",
    "\n",
    "\\begin{align}\n",
    "&\\mu_u, \\mu_z, \\mu_y \\sim \\text{Norm}(0, 10),\\\\[1em]\n",
    "&\\sigma_u, \\sigma_z, \\sigma_y \\sim \\text{HalfNorm}(1),\\\\[1em]\n",
    "&u \\sim \\text{Norm}(\\mu_u, \\sigma_u)\\\\[1em]\n",
    "&x \\sim \\text{Norm}(u, \\sigma_x)\\\\[1em]\n",
    "&y \\sim \\text{Norm}(u + z_0, \\sigma_y).\n",
    "\\end{align}"
   ]
  },
  {
   "cell_type": "markdown",
   "id": "7376c703-b1e9-4aab-a852-b5131c0b7d81",
   "metadata": {},
   "source": [
    "Let's specify some parameters and generate some data."
   ]
  },
  {
   "cell_type": "code",
   "execution_count": 70,
   "id": "c28f6589-de83-42d0-afd4-c697666f4d1f",
   "metadata": {},
   "outputs": [],
   "source": [
    "N = 50\n",
    "mu_u = 0\n",
    "sigma_x, sigma_y, sigma_z, sigma_u = 1, 1.5, 0.5, 2\n",
    "\n",
    "u = rng.normal(mu_u, sigma_u, size=N)\n",
    "x = rng.normal(u, sigma_x)\n",
    "z = rng.normal(x, sigma_z)\n",
    "y = rng.normal(u + z, sigma_y)\n",
    "z_interventional = 9.0\n",
    "\n",
    "data = dict(N=N, x=x, y=y, z=z, z_interventional=z_interventional)"
   ]
  },
  {
   "cell_type": "markdown",
   "id": "7da4cf4b-b5ac-4cef-8e1d-32e95316725b",
   "metadata": {},
   "source": [
    "Now, we can code up the model and sampling out of the interventional distribution in Stan.\n",
    "\n",
    "```stan\n",
    "data {\n",
    "  int<lower=1> N;\n",
    "  vector[N] x;\n",
    "  vector[N] y;\n",
    "  vector[N] z;\n",
    "  real z_interventional;\n",
    "}\n",
    "\n",
    "\n",
    "parameters {\n",
    "  real mu_u;\n",
    "  real<lower=0> sigma_u;\n",
    "  real<lower=0> sigma_x;\n",
    "  real<lower=0> sigma_y;\n",
    "  real<lower=0> sigma_z;\n",
    "\n",
    "  // Unobserved\n",
    "  vector[N] u;\n",
    "}\n",
    "\n",
    "\n",
    "model {\n",
    "  mu_u ~ normal(0, 10);\n",
    "  sigma_u ~ normal(0, 1);\n",
    "  sigma_x ~ normal(0, 1);\n",
    "  sigma_y ~ normal(0, 1);\n",
    "  sigma_z ~ normal(0, 1);\n",
    "\n",
    "  u ~ normal(mu_u, sigma_u);\n",
    "  x ~ normal(u, sigma_x);\n",
    "  z ~ normal(x, sigma_z);\n",
    "  y ~ normal(u + z, sigma_y);\n",
    "}\n",
    "\n",
    "\n",
    "generated quantities {\n",
    "  array[N] real y_ppc;\n",
    "  array[N] real y_interventional;\n",
    "\n",
    "  for (i in 1:N) {\n",
    "    y_ppc[i] = normal_rng(u[i] + z[i], sigma_y);\n",
    "    y_interventional[i] = normal_rng(u[i] + z_interventional, sigma_y);\n",
    "  }\n",
    "}\n",
    "```\n",
    "\n",
    "Let's let 'er rip!"
   ]
  },
  {
   "cell_type": "code",
   "execution_count": 79,
   "id": "7faa663e-c9d9-45f3-a971-a98c0a5868ba",
   "metadata": {},
   "outputs": [
    {
     "data": {
      "application/vnd.jupyter.widget-view+json": {
       "model_id": "5c7d4871f5e1402889891a191476d901",
       "version_major": 2,
       "version_minor": 0
      },
      "text/plain": [
       "chain 1 |          | 00:00 Status"
      ]
     },
     "metadata": {},
     "output_type": "display_data"
    },
    {
     "data": {
      "application/vnd.jupyter.widget-view+json": {
       "model_id": "e2f560aea1b04a1aa49516ee6ad49b68",
       "version_major": 2,
       "version_minor": 0
      },
      "text/plain": [
       "chain 2 |          | 00:00 Status"
      ]
     },
     "metadata": {},
     "output_type": "display_data"
    },
    {
     "data": {
      "application/vnd.jupyter.widget-view+json": {
       "model_id": "63a6a59103ac426b9835705b1c71a44c",
       "version_major": 2,
       "version_minor": 0
      },
      "text/plain": [
       "chain 3 |          | 00:00 Status"
      ]
     },
     "metadata": {},
     "output_type": "display_data"
    },
    {
     "data": {
      "application/vnd.jupyter.widget-view+json": {
       "model_id": "5d95addb08fb411191b942b8f4e69049",
       "version_major": 2,
       "version_minor": 0
      },
      "text/plain": [
       "chain 4 |          | 00:00 Status"
      ]
     },
     "metadata": {},
     "output_type": "display_data"
    },
    {
     "name": "stdout",
     "output_type": "stream",
     "text": [
      "                                                                                                                                                                                                                                                                                                                                \n"
     ]
    }
   ],
   "source": [
    "with bebi103.stan.disable_logging():\n",
    "    sm = cmdstanpy.CmdStanModel(stan_file='pearl_3.6.stan')\n",
    "    samples = az.from_cmdstanpy(sm.sample(data=data, iter_sampling=8000, thin=8), posterior_predictive=['y_interventional', 'y_ppc'])"
   ]
  },
  {
   "cell_type": "markdown",
   "id": "c5d3b5cb-2110-4e03-b1ef-e23573ba4302",
   "metadata": {},
   "source": [
    "Let's look at the diagnostics to make sure everything went ok."
   ]
  },
  {
   "cell_type": "code",
   "execution_count": 80,
   "id": "985a31d5-a0fa-4da0-907b-60647df65109",
   "metadata": {},
   "outputs": [
    {
     "name": "stdout",
     "output_type": "stream",
     "text": [
      "Effective sample size looks reasonable for all parameters.\n",
      "\n",
      "Rhat looks reasonable for all parameters.\n",
      "\n",
      "0 of 4000 (0.0%) iterations ended with a divergence.\n",
      "\n",
      "0 of 4000 (0.0%) iterations saturated the maximum tree depth of 10.\n",
      "\n",
      "E-BFMI indicated no pathological behavior.\n"
     ]
    },
    {
     "data": {
      "text/plain": [
       "0"
      ]
     },
     "execution_count": 80,
     "metadata": {},
     "output_type": "execute_result"
    }
   ],
   "source": [
    "bebi103.stan.check_all_diagnostics(samples)"
   ]
  },
  {
   "cell_type": "markdown",
   "id": "e2018634-596b-45ed-a3c9-679acfc06714",
   "metadata": {},
   "source": [
    "Looks ok. Now, let's compare the distribution of data from real and interventional data."
   ]
  },
  {
   "cell_type": "code",
   "execution_count": 81,
   "id": "a2dc4944-a237-4059-a97e-36a049bc1f41",
   "metadata": {},
   "outputs": [
    {
     "data": {
      "text/html": [
       "\n",
       "  <div id=\"b60af7cd-a2c0-41a4-9c3c-a0a562de9fda\" data-root-id=\"p7018\" style=\"display: contents;\"></div>\n"
      ]
     },
     "metadata": {},
     "output_type": "display_data"
    },
    {
     "data": {
      "application/javascript": [
       "(function(root) {\n",
       "  function embed_document(root) {\n",
       "  const docs_json = {\"5eeed518-ac5d-4bd5-8f0b-e7659932b995\":{\"version\":\"3.4.0\",\"title\":\"Bokeh Application\",\"roots\":[{\"type\":\"object\",\"name\":\"Figure\",\"id\":\"p7018\",\"attributes\":{\"x_range\":{\"type\":\"object\",\"name\":\"DataRange1d\",\"id\":\"p7020\"},\"y_range\":{\"type\":\"object\",\"name\":\"DataRange1d\",\"id\":\"p7017\",\"attributes\":{\"start\":0}},\"x_scale\":{\"type\":\"object\",\"name\":\"LinearScale\",\"id\":\"p7027\"},\"y_scale\":{\"type\":\"object\",\"name\":\"LinearScale\",\"id\":\"p7028\"},\"title\":{\"type\":\"object\",\"name\":\"Title\",\"id\":\"p7025\"},\"renderers\":[{\"type\":\"object\",\"name\":\"GlyphRenderer\",\"id\":\"p7056\",\"attributes\":{\"data_source\":{\"type\":\"object\",\"name\":\"ColumnDataSource\",\"id\":\"p7050\",\"attributes\":{\"selected\":{\"type\":\"object\",\"name\":\"Selection\",\"id\":\"p7051\",\"attributes\":{\"indices\":[],\"line_indices\":[]}},\"selection_policy\":{\"type\":\"object\",\"name\":\"UnionRenderers\",\"id\":\"p7052\"},\"data\":{\"type\":\"map\",\"entries\":[[\"x\",{\"type\":\"ndarray\",\"array\":{\"type\":\"bytes\",\"data\":\"J/kRv2INy78n+RG/Yg3Lv1wZ1WqQyru/XBnVapDKu7+gBmR4taV3v6AGZHi1pXe/ipjIu9nVuD+KmMi72dW4P724i2cHk8k/vbiLZweTyT+akpn4kF3TP5qSmfiQXdM/2EhtPZ7x2T/YSG09nvHZP4p/IMHVQuA/in8gwdVC4D+oWopj3IzjP6haimPcjOM/xjX0BePW5j/GNfQF49bmP+QQXqjpIOo/5BBeqOkg6j8C7MdK8GrtPwLsx0rwau0/keOYdnta8D+R45h2e1rwPyDRzcd+//E/INHNx37/8T+vvgIZgqTzP6++AhmCpPM/Pqw3aoVJ9T8+rDdqhUn1P82ZbLuI7vY/zZlsu4ju9j9ch6EMjJP4P1yHoQyMk/g/63TWXY84+j/rdNZdjzj6P3piC6+S3fs/emILr5Ld+z8JUEAAloL9PwlQQACWgv0/mT11UZkn/z+ZPXVRmSf/P5QVVVFOZgBAlBVVUU5mAEBcjO/5zzgBQFyM7/nPOAFAJAOKolELAkAkA4qiUQsCQOt5JEvT3QJA63kkS9PdAkCz8L7zVLADQLPwvvNUsANAemdZnNaCBEB6Z1mc1oIEQELe80RYVQVAQt7zRFhVBUAJVY7t2ScGQAlVju3ZJwZA0csollv6BkDRyyiWW/oGQJhCwz7dzAdAmELDPt3MB0BguV3nXp8IQGC5XedenwhAKDD4j+BxCUAoMPiP4HEJQO+mkjhiRApA76aSOGJECkC3HS3h4xYLQLcdLeHjFgtAfpTHiWXpC0B+lMeJZekLQEYLYjLnuwxARgtiMue7DEANgvzaaI4NQA2C/Npojg1A1PiWg+pgDkDU+JaD6mAOQJxvMSxsMw9AnG8xLGwzD0Ay82Xq9gIQQDLzZer2AhBAli6zvjdsEECWLrO+N2wQQPppAJN41RBA+mkAk3jVEEBdpU1nuT4RQF2lTWe5PhFAweCaO/qnEUDB4Jo7+qcRQCUc6A87ERJAJRzoDzsREkCJVzXke3oSQIlXNeR7ehJA7ZKCuLzjEkDtkoK4vOMSQFDOz4z9TBNAUM7PjP1ME0C0CR1hPrYTQLQJHWE+thNAGEVqNX8fFEAYRWo1fx8UQHyAtwnAiBRAfIC3CcCIFEDfuwTeAPIUQN+7BN4A8hRAQ/dRskFbFUBD91GyQVsVQKcyn4aCxBVApzKfhoLEFUALbuxawy0WQAtu7FrDLRZAb6k5LwSXFkBvqTkvBJcWQNLkhgNFABdA0uSGA0UAF0A2INTXhWkXQDYg1NeFaRdAmlshrMbSF0CaWyGsxtIXQP6WboAHPBhA/pZugAc8GEBh0rtUSKUYQGHSu1RIpRhAxQ0JKYkOGUDFDQkpiQ4ZQClJVv3JdxlAKUlW/cl3GUCNhKPRCuEZQI2Eo9EK4RlA8b/wpUtKGkDxv/ClS0oaQFT7PXqMsxpAVPs9eoyzGkC4NotOzRwbQLg2i07NHBtAHHLYIg6GG0AcctgiDoYbQICtJfdO7xtAgK0l907vG0Dj6HLLj1gcQOPocsuPWBxARyTAn9DBHEBHJMCf0MEcQKtfDXQRKx1Aq18NdBErHUAPm1pIUpQdQA+bWkhSlB1Ac9anHJP9HUBz1qcck/0dQNYR9fDTZh5A1hH18NNmHkA6TULFFNAeQDpNQsUU0B5AnYiPmVU5H0CdiI+ZVTkfQAHE3G2Woh9AAcTcbZaiH0Cy/xSh6wUgQLL/FKHrBSBAZJ07C4w6IEBknTsLjDogQBY7YnUsbyBAFjtidSxvIEDI2IjfzKMgQMjYiN/MoyBAenavSW3YIEB6dq9JbdggQCwU1rMNDSFALBTWsw0NIUDesfwdrkEhQN6x/B2uQSFAj08jiE52IUCPTyOITnYhQEHtSfLuqiFAQe1J8u6qIUDzinBcj98hQPOKcFyP3yFApSiXxi8UIkClKJfGLxQiQFfGvTDQSCJAV8a9MNBIIkAJZOSacH0iQAlk5JpwfSJAuwELBRGyIkC7AQsFEbIiQG2fMW+x5iJAbZ8xb7HmIkAfPVjZURsjQB89WNlRGyNA0dp+Q/JPI0DR2n5D8k8jQIJ4pa2ShCNAgnilrZKEI0A0FswXM7kjQDQWzBczuSNA5rPygdPtI0Dms/KB0+0jQJhRGexzIiRAmFEZ7HMiJEBK7z9WFFckQErvP1YUVyRA/IxmwLSLJED8jGbAtIskQK4qjSpVwCRAriqNKlXAJEBgyLOU9fQkQGDIs5T19CRAEmba/pUpJUASZtr+lSklQMMDAWk2XiVAwwMBaTZeJUB1oSfT1pIlQHWhJ9PWkiVAJz9OPXfHJUAnP049d8clQNncdKcX/CVA2dx0pxf8JUCLepsRuDAmQIt6mxG4MCZAPRjCe1hlJkA9GMJ7WGUmQO+16OX4mSZA77Xo5fiZJkChUw9Qmc4mQKFTD1CZziZAU/E1ujkDJ0BT8TW6OQMnQASPXCTaNydABI9cJNo3J0C2LIOOemwnQLYsg456bCdAaMqp+BqhJ0Boyqn4GqEnQBpo0GK71SdAGmjQYrvVJ0DMBffMWwooQMwF98xbCihAfqMdN/w+KEB+ox03/D4oQDBBRKGccyhAMEFEoZxzKEDi3moLPagoQOLeags9qChAlHyRdd3cKECUfJF13dwoQEUauN99ESlARRq4330RKUD3t95JHkYpQPe33kkeRilAqVUFtL56KUCpVQW0vnopQFvzKx5frylAW/MrHl+vKUANkVKI/+MpQA2RUoj/4ylAvy558p8YKkC/LnnynxgqQHHMn1xATSpAccyfXEBNKkAjasbG4IEqQCNqxsbggSpA1QftMIG2KkDVB+0wgbYqQIalE5sh6ypAhqUTmyHrKkA4QzoFwh8rQDhDOgXCHytA6uBgb2JUK0Dq4GBvYlQrQJx+h9kCiStAnH6H2QKJK0BOHK5Do70rQE4crkOjvStAALrUrUPyK0AAutStQ/IrQLJX+xfkJixAslf7F+QmLEBk9SGChFssQGT1IYKEWyxAFpNI7CSQLEAWk0jsJJAsQMcwb1bFxCxAxzBvVsXELEB5zpXAZfksQHnOlcBl+SxAK2y8KgYuLUArbLwqBi4tQN0J45SmYi1A3QnjlKZiLUCPpwn/RpctQI+nCf9Gly1AQUUwaefLLUBBRTBp58stQPPiVtOHAC5A8+JW04cALkClgH09KDUuQKWAfT0oNS5AVx6kp8hpLkBXHqSnyGkuQAi8yhFpni5ACLzKEWmeLkC6WfF7CdMuQLpZ8XsJ0y5AbPcX5qkHL0Bs9xfmqQcvQB6VPlBKPC9AHpU+UEo8L0DQMmW66nAvQNAyZbrqcC9AgdCLJIulL0CB0Iski6UvQDNuso4r2i9AM26yjivaL0DzhWz8ZQcwQPOFbPxlBzBAzNR/MbYhMEDM1H8xtiEwQKUjk2YGPDBApSOTZgY8MEB+cqabVlYwQH5ypptWVjBAV8G50KZwMEBXwbnQpnAwQDAQzQX3ijBAMBDNBfeKMEAJX+A6R6UwQAlf4DpHpTBA4q3zb5e/MEDirfNvl78wQLv8BqXn2TBAu/wGpefZMECUSxraN/QwQJRLGto39DBAbZotD4gOMUBtmi0PiA4xQEbpQETYKDFARulARNgoMUAfOFR5KEMxQB84VHkoQzFA+IZnrnhdMUD4hmeueF0xQNHVeuPIdzFA0dV648h3MUCqJI4YGZIxQKokjhgZkjFAgnOhTWmsMUCCc6FNaawxQFvCtIK5xjFAW8K0grnGMUA0Eci3CeExQDQRyLcJ4TFADWDb7Fn7MUANYNvsWfsxQOau7iGqFTJA5q7uIaoVMkC//QFX+i8yQL/9AVf6LzJAmEwVjEpKMkCYTBWMSkoyQA==\"},\"shape\":[362],\"dtype\":\"float64\",\"order\":\"little\"}],[\"y\",{\"type\":\"ndarray\",\"array\":{\"type\":\"bytes\",\"data\":\"AAAAAAAAAADbM9Yp94AJP9sz1in3gAk/2zPWKfeACT/bM9Yp94AJPwAAAAAAAAAAAAAAAAAAAAAAAAAAAAAAAAAAAAAAAAAA3jPWKfeACT/eM9Yp94AJP9Qz1in3gAk/1DPWKfeACT/cM9Yp94AJP9wz1in3gAk/3DPWKfeAGT/cM9Yp94AZP9wz1in3gAk/3DPWKfeACT/mpmBfuSAjP+amYF+5ICM/3DPWKfeAGT/cM9Yp94AZP80z1in3gAk/zTPWKfeACT/TwEv0NOEvP9PAS/Q04S8/3DPWKfeAGT/cM9Yp94AZP9wz1in3gBk/3DPWKfeAGT/mpmBfuSAzP+amYF+5IDM/08BL9DThLz/TwEv0NOEvP9PAS/Q04S8/08BL9DThLz/mpmBfuSBDP+amYF+5IEM/p0PD7KmIQT+nQ8PsqYhBP51Dw+ypiEE/nUPD7KmIQT9hbZtE2FBGP2Ftm0TYUEY//5F0M6K8UD//kXQzorxQP80z1in3gEk/zTPWKfeAST8wCv7RyLhUPzAK/tHIuFQ/a+Uk4/5MWj9r5STj/kxaP02Ch3DvtFg/TYKHcO+0WD8hD/06LRVfPyEP/TotFV8/E5J0M6K8YD8TknQzorxgP2ycasmt7mE/bJxqya3uYT8+xkIh3LZmPz7GQiHctmY/Xyngk+tOaD9fKeCT605oP7UEB6Uh420/tQQHpSHjbT93tlVeKa9uP3e2VV4pr24/Fgr+0ci4dD8WCv7RyLh0PxV9jKXpG3g/FX2MpekbeD8ugodw77R4Py6Ch3DvtHg/Rw/9Oi0Vfz9HD/06LRV/P5BYrxjB7IM/kFivGMHsgz9snGrJre6BP2ycasmt7oE/inKWD97phj+KcpYP3umGP1CHhIqkL44/UIeEiqQvjj8VTjjb3UmQPxVOONvdSZA/cSRi0l5jkD9xJGLSXmOQP/BiJAf1rZI/8GIkB/Wtkj/S1bLaFRGWP9LVstoVEZY/KCTlyOW1lz8oJOXI5bWXP1H6j2c+QJo/UfqPZz5Amj8LYyilU3GcPwtjKKVTcZw/tQQHpSHjnT+1BAelIeOdP6tQdpTMzqE/q1B2lMzOoT+VchVoBnmkP5VyFWgGeaQ/ASei2vzJpj8BJ6La/MmmP6q7zTKo9ac/qrvNMqj1pz8m03Zw1m2pPybTdnDWbak/vNW0KcXyqj+81bQpxfKqP2chq61V9K8/ZyGrrVX0rz+vGE6Hs9+wP68YToez37A/sa4YPNbNsj+xrhg81s2yP/HR1cSvybM/8dHVxK/Jsz+p3Wq3Mr61P6ndarcyvrU/Y+QE368Ztz9j5ATfrxm3P31DRuMw27g/fUNG4zDbuD+ie27wScq5P6J7bvBJyrk/oJmxVfWdvD+gmbFV9Z28P5QqgT8S870/lCqBPxLzvT/ljqef4w7AP+WOp5/jDsA/t7+mqq95wD+3v6aqr3nAP5CF0Q0nEMI/kIXRDScQwj9e/mjfRcTCP17+aN9FxMI/88qswmJFwz/zyqzCYkXDP+gixcSWgsQ/6CLFxJaCxD/HaC9UouDEP8doL1Si4MQ/9G9YVu9kxT/0b1hW72TFP9vzdJjpc8Y/2/N0mOlzxj8HFpPES63GPwcWk8RLrcY/rzsNXzy9xj+vOw1fPL3GP20Cx5yDfMc/bQLHnIN8xz/DN7HwrebGP8M3sfCt5sY/R3kwN1tFyD9HeTA3W0XIP1frLeH8ncc/V+st4fydxz8+AJllPJHHPz4AmWU8kcc/DVlAQkD3xz8NWUBCQPfHP/s8rLuzf8c/+zysu7N/xz/dQjZhiUHHP91CNmGJQcc/ynVjo5yXxz/KdWOjnJfHP3EMrbDnFMc/cQytsOcUxz9iC50uQHvFP2ILnS5Ae8U/5fFGYaKIxj/l8UZhoojGP5nwpwQrxsU/mfCnBCvGxT8ZOc+lTTjFPxk5z6VNOMU/IujfpWZ/xD8i6N+lZn/EP/QAp5g0ScQ/9ACnmDRJxD8PzEsf2gfEPw/MSx/aB8Q/GOoN3a1qxD8Y6g3drWrEP2ncSrPjisI/adxKs+OKwj8YreoEj+LCPxit6gSP4sI/so4oR7t/wj+yjihHu3/CP8cbGxtyjcE/xxsbG3KNwT8G0CbmkG3BPwbQJuaQbcE/dUt7ycY1wT91S3vJxjXBP3L/jIHzur8/cv+MgfO6vz/vpLGAmsTAP++ksYCaxMA/7HXgrBVFwD/sdeCsFUXAPx7gK2eolb4/HuArZ6iVvj8l66BV3Fa9PyXroFXcVr0/BBc0cHJRvD8EFzRwclG8Pyex2etLpbs/J7HZ60uluz+RHU3wFzy7P5EdTfAXPLs/E0aEnB9guj8TRoScH2C6P0J+KwJh3rg/Qn4rAmHeuD8UKEE3dIy3PxQoQTd0jLc/DzlQTSWptz8POVBNJam3P8q38BxCrrU/yrfwHEKutT9HNNTaR5+0P0c01NpHn7Q/kkNElIH5sz+SQ0SUgfmzP+WEQjNX57I/5YRCM1fnsj/24mMziXWxP/biYzOJdbE/RKQipsqbsT9EpCKmypuxPwFSlElsILA/AVKUSWwgsD/xZ6QXMXuvP/FnpBcxe68/kYz+rdJXrD+RjP6t0lesP/L8THlVVKk/8vxMeVVUqT8AouiKOtqpPwCi6Io62qk/HUYD9Ufvpz8dRgP1R++nPzmCBskXRKY/OYIGyRdEpj9z2G/sLCWlP3PYb+wsJaU/NnXSeR2Noz82ddJ5HY2jPy3oXv6ODqI/Lehe/o4Ooj9yHKr1QbagP3IcqvVBtqA/o6blpO9Unz+jpuWk71SfP+sJAnAnfJ4/6wkCcCd8nj+ngggYxyWbP6eCCBjHJZs/2DNVgh8Qlz/YM1WCHxCXP4dDxTtZapY/h0PFO1lqlj+/u8vj+BOTP7+7y+P4E5M/Wz5JyXtgkz9bPknJe2CTP7+7y+P4E5M/v7vL4/gTkz8Ygom/npaNPxiCib+elo0/1sBJpYX/ij/WwEmlhf+KP+AEAwfDH4Q/4AQDB8MfhD9BBQMHwx+EP0EFAwfDH4Q/FVO46xkXfT8VU7jrGRd9P+sJAnAnfH4/6wkCcCd8fj8EOdH0/Bl6PwQ50fT8GXo/HGigedK3dT8caKB50rd1PxGsWyq/uXM/EaxbKr+5cz9y+gxxt+1yP3L6DHG37XI/nUPD7KmIcT+dQ8PsqYhxP5yMfQb75mk/nIx9BvvmaT9hH+r93xxnP2Ef6v3fHGc/C065grW6Yj8LTrmCtbpiPwtOuYK1umI/C065grW6Yj+0u0yL0IRVP7S7TIvQhFU/a+Uk4/5MWj9r5STj/kxaP/JDw+ypiFE/8kPD7KmIUT9UbZtE2FBWP1Rtm0TYUFY/JcBL9DThTz8lwEv0NOFPP80z1in3gEk/zTPWKfeAST/NM9Yp94BJP80z1in3gEk/nUPD7KmIQT+dQ8PsqYhBP9qmYF+5IEM/2qZgX7kgQz/apmBfuSAzP9qmYF+5IDM/v8BL9DThPz+/wEv0NOE/P7/AS/Q04S8/v8BL9DThLz/NM9Yp94ApP80z1in3gCk/2qZgX7kgMz/apmBfuSAzP9qmYF+5ICM/2qZgX7kgIz/NM9Yp94AZP80z1in3gBk/AAAAAAAAAAAAAAAAAAAAAAAAAAAAAAAAAAAAAAAAAADNM9Yp94AJP80z1in3gAk/zTPWKfeACT/NM9Yp94AJP8Q01in3gBk/xDTWKfeAGT8AAAAAAAAAAAAAAAAAAAAAAAAAAAAAAAAAAAAAAAAAAAAAAAAAAAAAAAAAAAAAAADNM9Yp94AJP80z1in3gAk/zTPWKfeACT/NM9Yp94AJP80z1in3gAk/zTPWKfeACT8AAAAAAAAAAA==\"},\"shape\":[362],\"dtype\":\"float64\",\"order\":\"little\"}]]}}},\"view\":{\"type\":\"object\",\"name\":\"CDSView\",\"id\":\"p7057\",\"attributes\":{\"filter\":{\"type\":\"object\",\"name\":\"AllIndices\",\"id\":\"p7058\"}}},\"glyph\":{\"type\":\"object\",\"name\":\"Line\",\"id\":\"p7053\",\"attributes\":{\"x\":{\"type\":\"field\",\"field\":\"x\"},\"y\":{\"type\":\"field\",\"field\":\"y\"},\"line_color\":\"#1f77b3\",\"line_width\":2}},\"nonselection_glyph\":{\"type\":\"object\",\"name\":\"Line\",\"id\":\"p7054\",\"attributes\":{\"x\":{\"type\":\"field\",\"field\":\"x\"},\"y\":{\"type\":\"field\",\"field\":\"y\"},\"line_color\":\"#1f77b3\",\"line_alpha\":0.1,\"line_width\":2}},\"muted_glyph\":{\"type\":\"object\",\"name\":\"Line\",\"id\":\"p7055\",\"attributes\":{\"x\":{\"type\":\"field\",\"field\":\"x\"},\"y\":{\"type\":\"field\",\"field\":\"y\"},\"line_color\":\"#1f77b3\",\"line_alpha\":0.2,\"line_width\":2}}}},{\"type\":\"object\",\"name\":\"GlyphRenderer\",\"id\":\"p7065\",\"attributes\":{\"data_source\":{\"type\":\"object\",\"name\":\"ColumnDataSource\",\"id\":\"p7059\",\"attributes\":{\"selected\":{\"type\":\"object\",\"name\":\"Selection\",\"id\":\"p7060\",\"attributes\":{\"indices\":[],\"line_indices\":[]}},\"selection_policy\":{\"type\":\"object\",\"name\":\"UnionRenderers\",\"id\":\"p7061\"},\"data\":{\"type\":\"map\",\"entries\":[[\"x\",{\"type\":\"ndarray\",\"array\":{\"type\":\"bytes\",\"data\":\"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\"},\"shape\":[318],\"dtype\":\"float64\",\"order\":\"little\"}],[\"y\",{\"type\":\"ndarray\",\"array\":{\"type\":\"bytes\",\"data\":\"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\"},\"shape\":[318],\"dtype\":\"float64\",\"order\":\"little\"}]]}}},\"view\":{\"type\":\"object\",\"name\":\"CDSView\",\"id\":\"p7066\",\"attributes\":{\"filter\":{\"type\":\"object\",\"name\":\"AllIndices\",\"id\":\"p7067\"}}},\"glyph\":{\"type\":\"object\",\"name\":\"Line\",\"id\":\"p7062\",\"attributes\":{\"x\":{\"type\":\"field\",\"field\":\"x\"},\"y\":{\"type\":\"field\",\"field\":\"y\"},\"line_color\":\"#1f77b3\",\"line_width\":2}},\"nonselection_glyph\":{\"type\":\"object\",\"name\":\"Line\",\"id\":\"p7063\",\"attributes\":{\"x\":{\"type\":\"field\",\"field\":\"x\"},\"y\":{\"type\":\"field\",\"field\":\"y\"},\"line_color\":\"#1f77b3\",\"line_alpha\":0.1,\"line_width\":2}},\"muted_glyph\":{\"type\":\"object\",\"name\":\"Line\",\"id\":\"p7064\",\"attributes\":{\"x\":{\"type\":\"field\",\"field\":\"x\"},\"y\":{\"type\":\"field\",\"field\":\"y\"},\"line_color\":\"#1f77b3\",\"line_alpha\":0.2,\"line_width\":2}}}},{\"type\":\"object\",\"name\":\"GlyphRenderer\",\"id\":\"p7074\",\"attributes\":{\"data_source\":{\"type\":\"object\",\"name\":\"ColumnDataSource\",\"id\":\"p7068\",\"attributes\":{\"selected\":{\"type\":\"object\",\"name\":\"Selection\",\"id\":\"p7069\",\"attributes\":{\"indices\":[],\"line_indices\":[]}},\"selection_policy\":{\"type\":\"object\",\"name\":\"UnionRenderers\",\"id\":\"p7070\"},\"data\":{\"type\":\"map\",\"entries\":[[\"x\",{\"type\":\"ndarray\",\"array\":{\"type\":\"bytes\",\"data\":\"rWg9PSiIIMCtaD09KIggwPAqag9GJBXA8CpqD0YkFcAMCbNId3ACwAwJs0h3cALAIA+5NXae5T8gD7k1dp7lP5yQj2OyPw1AnJCPY7I/DUC4btic44saQLhu2JzjixpAkYr0A/c7I0CRivQD9zsjQA==\"},\"shape\":[14],\"dtype\":\"float64\",\"order\":\"little\"}],[\"y\",{\"type\":\"ndarray\",\"array\":{\"type\":\"bytes\",\"data\":\"AAAAAAAAAAAIpKHhOHybPwikoeE4fJs/yImHU3XEuT/IiYdTdcS5P0ZVUzfuVLY/RlVTN+5Utj8IpKHhOHyrPwikoeE4fKs/Bjs5qSqdpD8GOzmpKp2kPwikoeE4fJs/CKSh4Th8mz8AAAAAAAAAAA==\"},\"shape\":[14],\"dtype\":\"float64\",\"order\":\"little\"}]]}}},\"view\":{\"type\":\"object\",\"name\":\"CDSView\",\"id\":\"p7075\",\"attributes\":{\"filter\":{\"type\":\"object\",\"name\":\"AllIndices\",\"id\":\"p7076\"}}},\"glyph\":{\"type\":\"object\",\"name\":\"Line\",\"id\":\"p7071\",\"attributes\":{\"x\":{\"type\":\"field\",\"field\":\"x\"},\"y\":{\"type\":\"field\",\"field\":\"y\"},\"line_color\":\"#1f77b3\",\"line_width\":2}},\"nonselection_glyph\":{\"type\":\"object\",\"name\":\"Line\",\"id\":\"p7072\",\"attributes\":{\"x\":{\"type\":\"field\",\"field\":\"x\"},\"y\":{\"type\":\"field\",\"field\":\"y\"},\"line_color\":\"#1f77b3\",\"line_alpha\":0.1,\"line_width\":2}},\"muted_glyph\":{\"type\":\"object\",\"name\":\"Line\",\"id\":\"p7073\",\"attributes\":{\"x\":{\"type\":\"field\",\"field\":\"x\"},\"y\":{\"type\":\"field\",\"field\":\"y\"},\"line_color\":\"#1f77b3\",\"line_alpha\":0.2,\"line_width\":2}}}}],\"toolbar\":{\"type\":\"object\",\"name\":\"Toolbar\",\"id\":\"p7026\",\"attributes\":{\"tools\":[{\"type\":\"object\",\"name\":\"PanTool\",\"id\":\"p7039\"},{\"type\":\"object\",\"name\":\"WheelZoomTool\",\"id\":\"p7040\",\"attributes\":{\"renderers\":\"auto\"}},{\"type\":\"object\",\"name\":\"BoxZoomTool\",\"id\":\"p7041\",\"attributes\":{\"overlay\":{\"type\":\"object\",\"name\":\"BoxAnnotation\",\"id\":\"p7042\",\"attributes\":{\"syncable\":false,\"level\":\"overlay\",\"visible\":false,\"left\":{\"type\":\"number\",\"value\":\"nan\"},\"right\":{\"type\":\"number\",\"value\":\"nan\"},\"top\":{\"type\":\"number\",\"value\":\"nan\"},\"bottom\":{\"type\":\"number\",\"value\":\"nan\"},\"left_units\":\"canvas\",\"right_units\":\"canvas\",\"top_units\":\"canvas\",\"bottom_units\":\"canvas\",\"line_color\":\"black\",\"line_alpha\":1.0,\"line_width\":2,\"line_dash\":[4,4],\"fill_color\":\"lightgrey\",\"fill_alpha\":0.5}}}},{\"type\":\"object\",\"name\":\"SaveTool\",\"id\":\"p7047\"},{\"type\":\"object\",\"name\":\"ResetTool\",\"id\":\"p7048\"},{\"type\":\"object\",\"name\":\"HelpTool\",\"id\":\"p7049\"}]}},\"toolbar_location\":\"above\",\"left\":[{\"type\":\"object\",\"name\":\"LinearAxis\",\"id\":\"p7034\",\"attributes\":{\"ticker\":{\"type\":\"object\",\"name\":\"BasicTicker\",\"id\":\"p7035\",\"attributes\":{\"mantissas\":[1,2,5]}},\"formatter\":{\"type\":\"object\",\"name\":\"BasicTickFormatter\",\"id\":\"p7036\"},\"axis_label\":\"density\",\"major_label_policy\":{\"type\":\"object\",\"name\":\"AllLabels\",\"id\":\"p7037\"}}}],\"below\":[{\"type\":\"object\",\"name\":\"LinearAxis\",\"id\":\"p7029\",\"attributes\":{\"ticker\":{\"type\":\"object\",\"name\":\"BasicTicker\",\"id\":\"p7030\",\"attributes\":{\"mantissas\":[1,2,5]}},\"formatter\":{\"type\":\"object\",\"name\":\"BasicTickFormatter\",\"id\":\"p7031\"},\"axis_label\":\"x\",\"major_label_policy\":{\"type\":\"object\",\"name\":\"AllLabels\",\"id\":\"p7032\"}}}],\"center\":[{\"type\":\"object\",\"name\":\"Grid\",\"id\":\"p7033\",\"attributes\":{\"axis\":{\"id\":\"p7029\"}}},{\"type\":\"object\",\"name\":\"Grid\",\"id\":\"p7038\",\"attributes\":{\"dimension\":1,\"axis\":{\"id\":\"p7034\"}}}],\"frame_width\":375,\"frame_height\":275}}],\"defs\":[{\"type\":\"model\",\"name\":\"ReactiveHTML1\"},{\"type\":\"model\",\"name\":\"FlexBox1\",\"properties\":[{\"name\":\"align_content\",\"kind\":\"Any\",\"default\":\"flex-start\"},{\"name\":\"align_items\",\"kind\":\"Any\",\"default\":\"flex-start\"},{\"name\":\"flex_direction\",\"kind\":\"Any\",\"default\":\"row\"},{\"name\":\"flex_wrap\",\"kind\":\"Any\",\"default\":\"wrap\"},{\"name\":\"gap\",\"kind\":\"Any\",\"default\":\"\"},{\"name\":\"justify_content\",\"kind\":\"Any\",\"default\":\"flex-start\"}]},{\"type\":\"model\",\"name\":\"FloatPanel1\",\"properties\":[{\"name\":\"config\",\"kind\":\"Any\",\"default\":{\"type\":\"map\"}},{\"name\":\"contained\",\"kind\":\"Any\",\"default\":true},{\"name\":\"position\",\"kind\":\"Any\",\"default\":\"right-top\"},{\"name\":\"offsetx\",\"kind\":\"Any\",\"default\":null},{\"name\":\"offsety\",\"kind\":\"Any\",\"default\":null},{\"name\":\"theme\",\"kind\":\"Any\",\"default\":\"primary\"},{\"name\":\"status\",\"kind\":\"Any\",\"default\":\"normalized\"}]},{\"type\":\"model\",\"name\":\"GridStack1\",\"properties\":[{\"name\":\"mode\",\"kind\":\"Any\",\"default\":\"warn\"},{\"name\":\"ncols\",\"kind\":\"Any\",\"default\":null},{\"name\":\"nrows\",\"kind\":\"Any\",\"default\":null},{\"name\":\"allow_resize\",\"kind\":\"Any\",\"default\":true},{\"name\":\"allow_drag\",\"kind\":\"Any\",\"default\":true},{\"name\":\"state\",\"kind\":\"Any\",\"default\":[]}]},{\"type\":\"model\",\"name\":\"drag1\",\"properties\":[{\"name\":\"slider_width\",\"kind\":\"Any\",\"default\":5},{\"name\":\"slider_color\",\"kind\":\"Any\",\"default\":\"black\"},{\"name\":\"value\",\"kind\":\"Any\",\"default\":50}]},{\"type\":\"model\",\"name\":\"click1\",\"properties\":[{\"name\":\"terminal_output\",\"kind\":\"Any\",\"default\":\"\"},{\"name\":\"debug_name\",\"kind\":\"Any\",\"default\":\"\"},{\"name\":\"clears\",\"kind\":\"Any\",\"default\":0}]},{\"type\":\"model\",\"name\":\"FastWrapper1\",\"properties\":[{\"name\":\"object\",\"kind\":\"Any\",\"default\":null},{\"name\":\"style\",\"kind\":\"Any\",\"default\":null}]},{\"type\":\"model\",\"name\":\"NotificationAreaBase1\",\"properties\":[{\"name\":\"js_events\",\"kind\":\"Any\",\"default\":{\"type\":\"map\"}},{\"name\":\"position\",\"kind\":\"Any\",\"default\":\"bottom-right\"},{\"name\":\"_clear\",\"kind\":\"Any\",\"default\":0}]},{\"type\":\"model\",\"name\":\"NotificationArea1\",\"properties\":[{\"name\":\"js_events\",\"kind\":\"Any\",\"default\":{\"type\":\"map\"}},{\"name\":\"notifications\",\"kind\":\"Any\",\"default\":[]},{\"name\":\"position\",\"kind\":\"Any\",\"default\":\"bottom-right\"},{\"name\":\"_clear\",\"kind\":\"Any\",\"default\":0},{\"name\":\"types\",\"kind\":\"Any\",\"default\":[{\"type\":\"map\",\"entries\":[[\"type\",\"warning\"],[\"background\",\"#ffc107\"],[\"icon\",{\"type\":\"map\",\"entries\":[[\"className\",\"fas fa-exclamation-triangle\"],[\"tagName\",\"i\"],[\"color\",\"white\"]]}]]},{\"type\":\"map\",\"entries\":[[\"type\",\"info\"],[\"background\",\"#007bff\"],[\"icon\",{\"type\":\"map\",\"entries\":[[\"className\",\"fas fa-info-circle\"],[\"tagName\",\"i\"],[\"color\",\"white\"]]}]]}]}]},{\"type\":\"model\",\"name\":\"Notification\",\"properties\":[{\"name\":\"background\",\"kind\":\"Any\",\"default\":null},{\"name\":\"duration\",\"kind\":\"Any\",\"default\":3000},{\"name\":\"icon\",\"kind\":\"Any\",\"default\":null},{\"name\":\"message\",\"kind\":\"Any\",\"default\":\"\"},{\"name\":\"notification_type\",\"kind\":\"Any\",\"default\":null},{\"name\":\"_destroyed\",\"kind\":\"Any\",\"default\":false}]},{\"type\":\"model\",\"name\":\"TemplateActions1\",\"properties\":[{\"name\":\"open_modal\",\"kind\":\"Any\",\"default\":0},{\"name\":\"close_modal\",\"kind\":\"Any\",\"default\":0}]},{\"type\":\"model\",\"name\":\"BootstrapTemplateActions1\",\"properties\":[{\"name\":\"open_modal\",\"kind\":\"Any\",\"default\":0},{\"name\":\"close_modal\",\"kind\":\"Any\",\"default\":0}]},{\"type\":\"model\",\"name\":\"TemplateEditor1\",\"properties\":[{\"name\":\"layout\",\"kind\":\"Any\",\"default\":[]}]},{\"type\":\"model\",\"name\":\"MaterialTemplateActions1\",\"properties\":[{\"name\":\"open_modal\",\"kind\":\"Any\",\"default\":0},{\"name\":\"close_modal\",\"kind\":\"Any\",\"default\":0}]},{\"type\":\"model\",\"name\":\"copy_to_clipboard1\",\"properties\":[{\"name\":\"fill\",\"kind\":\"Any\",\"default\":\"none\"},{\"name\":\"value\",\"kind\":\"Any\",\"default\":null}]}]}};\n",
       "  const render_items = [{\"docid\":\"5eeed518-ac5d-4bd5-8f0b-e7659932b995\",\"roots\":{\"p7018\":\"b60af7cd-a2c0-41a4-9c3c-a0a562de9fda\"},\"root_ids\":[\"p7018\"]}];\n",
       "  void root.Bokeh.embed.embed_items_notebook(docs_json, render_items);\n",
       "  }\n",
       "  if (root.Bokeh !== undefined) {\n",
       "    embed_document(root);\n",
       "  } else {\n",
       "    let attempts = 0;\n",
       "    const timer = setInterval(function(root) {\n",
       "      if (root.Bokeh !== undefined) {\n",
       "        clearInterval(timer);\n",
       "        embed_document(root);\n",
       "      } else {\n",
       "        attempts++;\n",
       "        if (attempts > 100) {\n",
       "          clearInterval(timer);\n",
       "          console.log(\"Bokeh: ERROR: Unable to run BokehJS code because BokehJS library is missing\");\n",
       "        }\n",
       "      }\n",
       "    }, 10, root)\n",
       "  }\n",
       "})(window);"
      ],
      "application/vnd.bokehjs_exec.v0+json": ""
     },
     "metadata": {
      "application/vnd.bokehjs_exec.v0+json": {
       "id": "p7018"
      }
     },
     "output_type": "display_data"
    }
   ],
   "source": [
    "p = iqplot.histogram(samples.posterior_predictive['y_interventional'].values.flatten(), density=True, rug=False)\n",
    "p = iqplot.histogram(samples.posterior_predictive['y_ppc'].values.flatten(), density=True, rug=False, p=p)\n",
    "p = iqplot.histogram(y, density=True, rug=False, p=p)\n",
    "bokeh.io.show(p)"
   ]
  },
  {
   "cell_type": "code",
   "execution_count": null,
   "id": "0f65043f-ab4d-4f32-9bfb-3ef55b0b9192",
   "metadata": {},
   "outputs": [],
   "source": []
  }
 ],
 "metadata": {
  "kernelspec": {
   "display_name": "Python 3 (ipykernel)",
   "language": "python",
   "name": "python3"
  },
  "language_info": {
   "codemirror_mode": {
    "name": "ipython",
    "version": 3
   },
   "file_extension": ".py",
   "mimetype": "text/x-python",
   "name": "python",
   "nbconvert_exporter": "python",
   "pygments_lexer": "ipython3",
   "version": "3.12.3"
  }
 },
 "nbformat": 4,
 "nbformat_minor": 5
}
