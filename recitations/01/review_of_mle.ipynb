{
 "cells": [
  {
   "cell_type": "markdown",
   "metadata": {},
   "source": [
    "# R1. Review of MLE\n",
    "\n",
    "*This recitation was prepared by Rosita Fu.*\n",
    "\n",
    "<hr>"
   ]
  },
  {
   "cell_type": "markdown",
   "metadata": {},
   "source": [
    "We'll review how to actually perform MLE analytically and numerically, and use these methods to construct confidence intervals for our parameters.  \n",
    "\n",
    "Numerical MLE for mortals tend to be somewhat challenging, so we are always on the look-out for more elegant approaches. For normal distributions, we will apply a very nice property that maximizing its likelihood is functionally equivalent to minimizing the residuals. We will do the math together. "
   ]
  },
  {
   "cell_type": "markdown",
   "metadata": {},
   "source": [
    "## Review of BE/Bi 103 a lessons\n",
    "\n",
    "The relevant BE/Bi103a lessons are linked, but they are essentially lessons [17](https://bebi103a.github.io/lessons/17/index.html), [18](https://bebi103a.github.io/lessons/18/index.html), and [20](https://bebi103a.github.io/lessons/20/index.html). \n",
    "\n",
    "1. MLE Introduction: [notes](https://bebi103a.github.io/lessons/17/mle.html)  \n",
    "2. Analytical MLE: [Poisson](https://bebi103a.github.io/lessons/17/mle.html#mle-for-rate-of-arrival-of-a-poisson-process) and [Normal](https://bebi103a.github.io/lessons/17/mle.html#mle-for-the-mean-and-variance-of-a-normal-distribution).\n",
    "3. Numerical MLE: [notes](https://bebi103a.github.io/lessons/18/numerical_mle.html)\n",
    "4. MLE Confidence Intervals: [notes](https://bebi103a.github.io/lessons/18/mle_confidence_intervals.html)\n",
    "5. Regression: [normal MLE](https://bebi103a.github.io/lessons/20/mle_normal.html) & [regression](https://bebi103a.github.io/lessons/20/regression.html)  \n",
    "\n",
    "For those who are just joining us this term, if time allows, to understand [confidence intervals](https://bebi103a.github.io/lessons/12/confidence_intervals.html), it might be helpful to review what [bootstrapping](https://bebi103a.github.io/lessons/16/intro_bootstrap.html) is. If the distributions themselves are new to you, you will become intimately familiar with them by the end of this term, so I wouldn't worry too much. I would recommend bookmarking [distribution-explorer.github.io](https://distribution-explorer.github.io/), or visiting the link so many times all you have to do is type 'd' + 'enter'. \n",
    "\n",
    "Our mathematical journey will be slightly different this term, but to reach the same state of enlightenment as your peers, it would be nice to compare how confidence intervals and likelihood estimates compare to credible intervals and parameter optimizations later on. \n",
    "\n",
    "For the unfamiliar with MLE, make sure you understand what the **likelihood function** is (it is *not* the likelihood in the Bayesian setting), and the **assumptions** we made when trying to maximize it. Your teammates might be more comfortable with the code, which seems daunting at first, but the bare-bones of which are:  \n",
    "1. Write a `def log_likelihood(...)` function that works. \n",
    "2. Write a `scipy.optimize.minimize(...)` function with kywargs: \n",
    "    `fun`: lambda parameters  \n",
    "    `x0`: initial guess for parameters of type array, (order should match the log_likelihood function you defined)  \n",
    "    `method`: either 'BFGS' or 'Powell'\n",
    "3. Add warning-filters and retrieve parameters"
   ]
  },
  {
   "cell_type": "markdown",
   "metadata": {},
   "source": [
    "## Notes\n",
    "\n",
    "Following are notes we will discuss in recitation."
   ]
  },
  {
   "cell_type": "markdown",
   "metadata": {},
   "source": [
    "![img1](img1.png)\n",
    "\n",
    "<br />\n",
    "<br />\n",
    "<hr>\n",
    "<br />\n",
    "<br />\n",
    "\n",
    "\n",
    "![img2](img2.png)\n",
    "\n",
    "<br />\n",
    "<br />\n",
    "<hr>\n",
    "<br />\n",
    "<br />\n",
    "\n",
    "\n",
    "![img3](img3.png)"
   ]
  }
 ],
 "metadata": {
  "kernelspec": {
   "display_name": "Python 3",
   "language": "python",
   "name": "python3"
  },
  "language_info": {
   "codemirror_mode": {
    "name": "ipython",
    "version": 3
   },
   "file_extension": ".py",
   "mimetype": "text/x-python",
   "name": "python",
   "nbconvert_exporter": "python",
   "pygments_lexer": "ipython3",
   "version": "3.8.5"
  }
 },
 "nbformat": 4,
 "nbformat_minor": 4
}
