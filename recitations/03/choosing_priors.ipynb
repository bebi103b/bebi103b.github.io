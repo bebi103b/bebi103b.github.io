{
 "cells": [
  {
   "cell_type": "markdown",
   "metadata": {},
   "source": [
    "# R3. Choosing priors\n",
    "\n",
    "*This recitation was conducted by Cece Andrews and Ariana Tribby.*\n",
    "\n",
    "<hr>"
   ]
  },
  {
   "cell_type": "code",
   "execution_count": 1,
   "metadata": {},
   "outputs": [
    {
     "data": {
      "text/html": [
       "\n",
       "    <div class=\"bk-root\">\n",
       "        <a href=\"https://bokeh.org\" target=\"_blank\" class=\"bk-logo bk-logo-small bk-logo-notebook\"></a>\n",
       "        <span id=\"1001\">Loading BokehJS ...</span>\n",
       "    </div>"
      ]
     },
     "metadata": {},
     "output_type": "display_data"
    },
    {
     "data": {
      "application/javascript": [
       "\n",
       "(function(root) {\n",
       "  function now() {\n",
       "    return new Date();\n",
       "  }\n",
       "\n",
       "  var force = true;\n",
       "\n",
       "  if (typeof root._bokeh_onload_callbacks === \"undefined\" || force === true) {\n",
       "    root._bokeh_onload_callbacks = [];\n",
       "    root._bokeh_is_loading = undefined;\n",
       "  }\n",
       "\n",
       "  var JS_MIME_TYPE = 'application/javascript';\n",
       "  var HTML_MIME_TYPE = 'text/html';\n",
       "  var EXEC_MIME_TYPE = 'application/vnd.bokehjs_exec.v0+json';\n",
       "  var CLASS_NAME = 'output_bokeh rendered_html';\n",
       "\n",
       "  /**\n",
       "   * Render data to the DOM node\n",
       "   */\n",
       "  function render(props, node) {\n",
       "    var script = document.createElement(\"script\");\n",
       "    node.appendChild(script);\n",
       "  }\n",
       "\n",
       "  /**\n",
       "   * Handle when an output is cleared or removed\n",
       "   */\n",
       "  function handleClearOutput(event, handle) {\n",
       "    var cell = handle.cell;\n",
       "\n",
       "    var id = cell.output_area._bokeh_element_id;\n",
       "    var server_id = cell.output_area._bokeh_server_id;\n",
       "    // Clean up Bokeh references\n",
       "    if (id != null && id in Bokeh.index) {\n",
       "      Bokeh.index[id].model.document.clear();\n",
       "      delete Bokeh.index[id];\n",
       "    }\n",
       "\n",
       "    if (server_id !== undefined) {\n",
       "      // Clean up Bokeh references\n",
       "      var cmd = \"from bokeh.io.state import curstate; print(curstate().uuid_to_server['\" + server_id + \"'].get_sessions()[0].document.roots[0]._id)\";\n",
       "      cell.notebook.kernel.execute(cmd, {\n",
       "        iopub: {\n",
       "          output: function(msg) {\n",
       "            var id = msg.content.text.trim();\n",
       "            if (id in Bokeh.index) {\n",
       "              Bokeh.index[id].model.document.clear();\n",
       "              delete Bokeh.index[id];\n",
       "            }\n",
       "          }\n",
       "        }\n",
       "      });\n",
       "      // Destroy server and session\n",
       "      var cmd = \"import bokeh.io.notebook as ion; ion.destroy_server('\" + server_id + \"')\";\n",
       "      cell.notebook.kernel.execute(cmd);\n",
       "    }\n",
       "  }\n",
       "\n",
       "  /**\n",
       "   * Handle when a new output is added\n",
       "   */\n",
       "  function handleAddOutput(event, handle) {\n",
       "    var output_area = handle.output_area;\n",
       "    var output = handle.output;\n",
       "\n",
       "    // limit handleAddOutput to display_data with EXEC_MIME_TYPE content only\n",
       "    if ((output.output_type != \"display_data\") || (!output.data.hasOwnProperty(EXEC_MIME_TYPE))) {\n",
       "      return\n",
       "    }\n",
       "\n",
       "    var toinsert = output_area.element.find(\".\" + CLASS_NAME.split(' ')[0]);\n",
       "\n",
       "    if (output.metadata[EXEC_MIME_TYPE][\"id\"] !== undefined) {\n",
       "      toinsert[toinsert.length - 1].firstChild.textContent = output.data[JS_MIME_TYPE];\n",
       "      // store reference to embed id on output_area\n",
       "      output_area._bokeh_element_id = output.metadata[EXEC_MIME_TYPE][\"id\"];\n",
       "    }\n",
       "    if (output.metadata[EXEC_MIME_TYPE][\"server_id\"] !== undefined) {\n",
       "      var bk_div = document.createElement(\"div\");\n",
       "      bk_div.innerHTML = output.data[HTML_MIME_TYPE];\n",
       "      var script_attrs = bk_div.children[0].attributes;\n",
       "      for (var i = 0; i < script_attrs.length; i++) {\n",
       "        toinsert[toinsert.length - 1].firstChild.setAttribute(script_attrs[i].name, script_attrs[i].value);\n",
       "        toinsert[toinsert.length - 1].firstChild.textContent = bk_div.children[0].textContent\n",
       "      }\n",
       "      // store reference to server id on output_area\n",
       "      output_area._bokeh_server_id = output.metadata[EXEC_MIME_TYPE][\"server_id\"];\n",
       "    }\n",
       "  }\n",
       "\n",
       "  function register_renderer(events, OutputArea) {\n",
       "\n",
       "    function append_mime(data, metadata, element) {\n",
       "      // create a DOM node to render to\n",
       "      var toinsert = this.create_output_subarea(\n",
       "        metadata,\n",
       "        CLASS_NAME,\n",
       "        EXEC_MIME_TYPE\n",
       "      );\n",
       "      this.keyboard_manager.register_events(toinsert);\n",
       "      // Render to node\n",
       "      var props = {data: data, metadata: metadata[EXEC_MIME_TYPE]};\n",
       "      render(props, toinsert[toinsert.length - 1]);\n",
       "      element.append(toinsert);\n",
       "      return toinsert\n",
       "    }\n",
       "\n",
       "    /* Handle when an output is cleared or removed */\n",
       "    events.on('clear_output.CodeCell', handleClearOutput);\n",
       "    events.on('delete.Cell', handleClearOutput);\n",
       "\n",
       "    /* Handle when a new output is added */\n",
       "    events.on('output_added.OutputArea', handleAddOutput);\n",
       "\n",
       "    /**\n",
       "     * Register the mime type and append_mime function with output_area\n",
       "     */\n",
       "    OutputArea.prototype.register_mime_type(EXEC_MIME_TYPE, append_mime, {\n",
       "      /* Is output safe? */\n",
       "      safe: true,\n",
       "      /* Index of renderer in `output_area.display_order` */\n",
       "      index: 0\n",
       "    });\n",
       "  }\n",
       "\n",
       "  // register the mime type if in Jupyter Notebook environment and previously unregistered\n",
       "  if (root.Jupyter !== undefined) {\n",
       "    var events = require('base/js/events');\n",
       "    var OutputArea = require('notebook/js/outputarea').OutputArea;\n",
       "\n",
       "    if (OutputArea.prototype.mime_types().indexOf(EXEC_MIME_TYPE) == -1) {\n",
       "      register_renderer(events, OutputArea);\n",
       "    }\n",
       "  }\n",
       "\n",
       "  \n",
       "  if (typeof (root._bokeh_timeout) === \"undefined\" || force === true) {\n",
       "    root._bokeh_timeout = Date.now() + 5000;\n",
       "    root._bokeh_failed_load = false;\n",
       "  }\n",
       "\n",
       "  var NB_LOAD_WARNING = {'data': {'text/html':\n",
       "     \"<div style='background-color: #fdd'>\\n\"+\n",
       "     \"<p>\\n\"+\n",
       "     \"BokehJS does not appear to have successfully loaded. If loading BokehJS from CDN, this \\n\"+\n",
       "     \"may be due to a slow or bad network connection. Possible fixes:\\n\"+\n",
       "     \"</p>\\n\"+\n",
       "     \"<ul>\\n\"+\n",
       "     \"<li>re-rerun `output_notebook()` to attempt to load from CDN again, or</li>\\n\"+\n",
       "     \"<li>use INLINE resources instead, as so:</li>\\n\"+\n",
       "     \"</ul>\\n\"+\n",
       "     \"<code>\\n\"+\n",
       "     \"from bokeh.resources import INLINE\\n\"+\n",
       "     \"output_notebook(resources=INLINE)\\n\"+\n",
       "     \"</code>\\n\"+\n",
       "     \"</div>\"}};\n",
       "\n",
       "  function display_loaded() {\n",
       "    var el = document.getElementById(\"1001\");\n",
       "    if (el != null) {\n",
       "      el.textContent = \"BokehJS is loading...\";\n",
       "    }\n",
       "    if (root.Bokeh !== undefined) {\n",
       "      if (el != null) {\n",
       "        el.textContent = \"BokehJS \" + root.Bokeh.version + \" successfully loaded.\";\n",
       "      }\n",
       "    } else if (Date.now() < root._bokeh_timeout) {\n",
       "      setTimeout(display_loaded, 100)\n",
       "    }\n",
       "  }\n",
       "\n",
       "\n",
       "  function run_callbacks() {\n",
       "    try {\n",
       "      root._bokeh_onload_callbacks.forEach(function(callback) {\n",
       "        if (callback != null)\n",
       "          callback();\n",
       "      });\n",
       "    } finally {\n",
       "      delete root._bokeh_onload_callbacks\n",
       "    }\n",
       "    console.debug(\"Bokeh: all callbacks have finished\");\n",
       "  }\n",
       "\n",
       "  function load_libs(css_urls, js_urls, callback) {\n",
       "    if (css_urls == null) css_urls = [];\n",
       "    if (js_urls == null) js_urls = [];\n",
       "\n",
       "    root._bokeh_onload_callbacks.push(callback);\n",
       "    if (root._bokeh_is_loading > 0) {\n",
       "      console.debug(\"Bokeh: BokehJS is being loaded, scheduling callback at\", now());\n",
       "      return null;\n",
       "    }\n",
       "    if (js_urls == null || js_urls.length === 0) {\n",
       "      run_callbacks();\n",
       "      return null;\n",
       "    }\n",
       "    console.debug(\"Bokeh: BokehJS not loaded, scheduling load and callback at\", now());\n",
       "    root._bokeh_is_loading = css_urls.length + js_urls.length;\n",
       "\n",
       "    function on_load() {\n",
       "      root._bokeh_is_loading--;\n",
       "      if (root._bokeh_is_loading === 0) {\n",
       "        console.debug(\"Bokeh: all BokehJS libraries/stylesheets loaded\");\n",
       "        run_callbacks()\n",
       "      }\n",
       "    }\n",
       "\n",
       "    function on_error() {\n",
       "      console.error(\"failed to load \" + url);\n",
       "    }\n",
       "\n",
       "    for (var i = 0; i < css_urls.length; i++) {\n",
       "      var url = css_urls[i];\n",
       "      const element = document.createElement(\"link\");\n",
       "      element.onload = on_load;\n",
       "      element.onerror = on_error;\n",
       "      element.rel = \"stylesheet\";\n",
       "      element.type = \"text/css\";\n",
       "      element.href = url;\n",
       "      console.debug(\"Bokeh: injecting link tag for BokehJS stylesheet: \", url);\n",
       "      document.body.appendChild(element);\n",
       "    }\n",
       "\n",
       "    const hashes = {\"https://cdn.bokeh.org/bokeh/release/bokeh-2.2.3.min.js\": \"T2yuo9Oe71Cz/I4X9Ac5+gpEa5a8PpJCDlqKYO0CfAuEszu1JrXLl8YugMqYe3sM\", \"https://cdn.bokeh.org/bokeh/release/bokeh-widgets-2.2.3.min.js\": \"98GDGJ0kOMCUMUePhksaQ/GYgB3+NH9h996V88sh3aOiUNX3N+fLXAtry6xctSZ6\", \"https://cdn.bokeh.org/bokeh/release/bokeh-tables-2.2.3.min.js\": \"89bArO+nlbP3sgakeHjCo1JYxYR5wufVgA3IbUvDY+K7w4zyxJqssu7wVnfeKCq8\"};\n",
       "\n",
       "    for (var i = 0; i < js_urls.length; i++) {\n",
       "      var url = js_urls[i];\n",
       "      var element = document.createElement('script');\n",
       "      element.onload = on_load;\n",
       "      element.onerror = on_error;\n",
       "      element.async = false;\n",
       "      element.src = url;\n",
       "      if (url in hashes) {\n",
       "        element.crossOrigin = \"anonymous\";\n",
       "        element.integrity = \"sha384-\" + hashes[url];\n",
       "      }\n",
       "      console.debug(\"Bokeh: injecting script tag for BokehJS library: \", url);\n",
       "      document.head.appendChild(element);\n",
       "    }\n",
       "  };\n",
       "\n",
       "  function inject_raw_css(css) {\n",
       "    const element = document.createElement(\"style\");\n",
       "    element.appendChild(document.createTextNode(css));\n",
       "    document.body.appendChild(element);\n",
       "  }\n",
       "\n",
       "  \n",
       "  var js_urls = [\"https://cdn.bokeh.org/bokeh/release/bokeh-2.2.3.min.js\", \"https://cdn.bokeh.org/bokeh/release/bokeh-widgets-2.2.3.min.js\", \"https://cdn.bokeh.org/bokeh/release/bokeh-tables-2.2.3.min.js\"];\n",
       "  var css_urls = [];\n",
       "  \n",
       "\n",
       "  var inline_js = [\n",
       "    function(Bokeh) {\n",
       "      Bokeh.set_log_level(\"info\");\n",
       "    },\n",
       "    function(Bokeh) {\n",
       "    \n",
       "    \n",
       "    }\n",
       "  ];\n",
       "\n",
       "  function run_inline_js() {\n",
       "    \n",
       "    if (root.Bokeh !== undefined || force === true) {\n",
       "      \n",
       "    for (var i = 0; i < inline_js.length; i++) {\n",
       "      inline_js[i].call(root, root.Bokeh);\n",
       "    }\n",
       "    if (force === true) {\n",
       "        display_loaded();\n",
       "      }} else if (Date.now() < root._bokeh_timeout) {\n",
       "      setTimeout(run_inline_js, 100);\n",
       "    } else if (!root._bokeh_failed_load) {\n",
       "      console.log(\"Bokeh: BokehJS failed to load within specified timeout.\");\n",
       "      root._bokeh_failed_load = true;\n",
       "    } else if (force !== true) {\n",
       "      var cell = $(document.getElementById(\"1001\")).parents('.cell').data().cell;\n",
       "      cell.output_area.append_execute_result(NB_LOAD_WARNING)\n",
       "    }\n",
       "\n",
       "  }\n",
       "\n",
       "  if (root._bokeh_is_loading === 0) {\n",
       "    console.debug(\"Bokeh: BokehJS loaded, going straight to plotting\");\n",
       "    run_inline_js();\n",
       "  } else {\n",
       "    load_libs(css_urls, js_urls, function() {\n",
       "      console.debug(\"Bokeh: BokehJS plotting callback run at\", now());\n",
       "      run_inline_js();\n",
       "    });\n",
       "  }\n",
       "}(window));"
      ],
      "application/vnd.bokehjs_load.v0+json": "\n(function(root) {\n  function now() {\n    return new Date();\n  }\n\n  var force = true;\n\n  if (typeof root._bokeh_onload_callbacks === \"undefined\" || force === true) {\n    root._bokeh_onload_callbacks = [];\n    root._bokeh_is_loading = undefined;\n  }\n\n  \n\n  \n  if (typeof (root._bokeh_timeout) === \"undefined\" || force === true) {\n    root._bokeh_timeout = Date.now() + 5000;\n    root._bokeh_failed_load = false;\n  }\n\n  var NB_LOAD_WARNING = {'data': {'text/html':\n     \"<div style='background-color: #fdd'>\\n\"+\n     \"<p>\\n\"+\n     \"BokehJS does not appear to have successfully loaded. If loading BokehJS from CDN, this \\n\"+\n     \"may be due to a slow or bad network connection. Possible fixes:\\n\"+\n     \"</p>\\n\"+\n     \"<ul>\\n\"+\n     \"<li>re-rerun `output_notebook()` to attempt to load from CDN again, or</li>\\n\"+\n     \"<li>use INLINE resources instead, as so:</li>\\n\"+\n     \"</ul>\\n\"+\n     \"<code>\\n\"+\n     \"from bokeh.resources import INLINE\\n\"+\n     \"output_notebook(resources=INLINE)\\n\"+\n     \"</code>\\n\"+\n     \"</div>\"}};\n\n  function display_loaded() {\n    var el = document.getElementById(\"1001\");\n    if (el != null) {\n      el.textContent = \"BokehJS is loading...\";\n    }\n    if (root.Bokeh !== undefined) {\n      if (el != null) {\n        el.textContent = \"BokehJS \" + root.Bokeh.version + \" successfully loaded.\";\n      }\n    } else if (Date.now() < root._bokeh_timeout) {\n      setTimeout(display_loaded, 100)\n    }\n  }\n\n\n  function run_callbacks() {\n    try {\n      root._bokeh_onload_callbacks.forEach(function(callback) {\n        if (callback != null)\n          callback();\n      });\n    } finally {\n      delete root._bokeh_onload_callbacks\n    }\n    console.debug(\"Bokeh: all callbacks have finished\");\n  }\n\n  function load_libs(css_urls, js_urls, callback) {\n    if (css_urls == null) css_urls = [];\n    if (js_urls == null) js_urls = [];\n\n    root._bokeh_onload_callbacks.push(callback);\n    if (root._bokeh_is_loading > 0) {\n      console.debug(\"Bokeh: BokehJS is being loaded, scheduling callback at\", now());\n      return null;\n    }\n    if (js_urls == null || js_urls.length === 0) {\n      run_callbacks();\n      return null;\n    }\n    console.debug(\"Bokeh: BokehJS not loaded, scheduling load and callback at\", now());\n    root._bokeh_is_loading = css_urls.length + js_urls.length;\n\n    function on_load() {\n      root._bokeh_is_loading--;\n      if (root._bokeh_is_loading === 0) {\n        console.debug(\"Bokeh: all BokehJS libraries/stylesheets loaded\");\n        run_callbacks()\n      }\n    }\n\n    function on_error() {\n      console.error(\"failed to load \" + url);\n    }\n\n    for (var i = 0; i < css_urls.length; i++) {\n      var url = css_urls[i];\n      const element = document.createElement(\"link\");\n      element.onload = on_load;\n      element.onerror = on_error;\n      element.rel = \"stylesheet\";\n      element.type = \"text/css\";\n      element.href = url;\n      console.debug(\"Bokeh: injecting link tag for BokehJS stylesheet: \", url);\n      document.body.appendChild(element);\n    }\n\n    const hashes = {\"https://cdn.bokeh.org/bokeh/release/bokeh-2.2.3.min.js\": \"T2yuo9Oe71Cz/I4X9Ac5+gpEa5a8PpJCDlqKYO0CfAuEszu1JrXLl8YugMqYe3sM\", \"https://cdn.bokeh.org/bokeh/release/bokeh-widgets-2.2.3.min.js\": \"98GDGJ0kOMCUMUePhksaQ/GYgB3+NH9h996V88sh3aOiUNX3N+fLXAtry6xctSZ6\", \"https://cdn.bokeh.org/bokeh/release/bokeh-tables-2.2.3.min.js\": \"89bArO+nlbP3sgakeHjCo1JYxYR5wufVgA3IbUvDY+K7w4zyxJqssu7wVnfeKCq8\"};\n\n    for (var i = 0; i < js_urls.length; i++) {\n      var url = js_urls[i];\n      var element = document.createElement('script');\n      element.onload = on_load;\n      element.onerror = on_error;\n      element.async = false;\n      element.src = url;\n      if (url in hashes) {\n        element.crossOrigin = \"anonymous\";\n        element.integrity = \"sha384-\" + hashes[url];\n      }\n      console.debug(\"Bokeh: injecting script tag for BokehJS library: \", url);\n      document.head.appendChild(element);\n    }\n  };\n\n  function inject_raw_css(css) {\n    const element = document.createElement(\"style\");\n    element.appendChild(document.createTextNode(css));\n    document.body.appendChild(element);\n  }\n\n  \n  var js_urls = [\"https://cdn.bokeh.org/bokeh/release/bokeh-2.2.3.min.js\", \"https://cdn.bokeh.org/bokeh/release/bokeh-widgets-2.2.3.min.js\", \"https://cdn.bokeh.org/bokeh/release/bokeh-tables-2.2.3.min.js\"];\n  var css_urls = [];\n  \n\n  var inline_js = [\n    function(Bokeh) {\n      Bokeh.set_log_level(\"info\");\n    },\n    function(Bokeh) {\n    \n    \n    }\n  ];\n\n  function run_inline_js() {\n    \n    if (root.Bokeh !== undefined || force === true) {\n      \n    for (var i = 0; i < inline_js.length; i++) {\n      inline_js[i].call(root, root.Bokeh);\n    }\n    if (force === true) {\n        display_loaded();\n      }} else if (Date.now() < root._bokeh_timeout) {\n      setTimeout(run_inline_js, 100);\n    } else if (!root._bokeh_failed_load) {\n      console.log(\"Bokeh: BokehJS failed to load within specified timeout.\");\n      root._bokeh_failed_load = true;\n    } else if (force !== true) {\n      var cell = $(document.getElementById(\"1001\")).parents('.cell').data().cell;\n      cell.output_area.append_execute_result(NB_LOAD_WARNING)\n    }\n\n  }\n\n  if (root._bokeh_is_loading === 0) {\n    console.debug(\"Bokeh: BokehJS loaded, going straight to plotting\");\n    run_inline_js();\n  } else {\n    load_libs(css_urls, js_urls, function() {\n      console.debug(\"Bokeh: BokehJS plotting callback run at\", now());\n      run_inline_js();\n    });\n  }\n}(window));"
     },
     "metadata": {},
     "output_type": "display_data"
    }
   ],
   "source": [
    "# Colab setup ------------------\n",
    "import os, sys, subprocess\n",
    "if \"google.colab\" in sys.modules:\n",
    "    cmd = \"pip install --upgrade iqplot watermark\"\n",
    "    process = subprocess.Popen(cmd.split(), stdout=subprocess.PIPE, stderr=subprocess.PIPE)\n",
    "    stdout, stderr = process.communicate()\n",
    "    data_path = \"https://s3.amazonaws.com/bebi103.caltech.edu/data/\"\n",
    "else:\n",
    "    data_path = \"../data/\"\n",
    "# ------------------------------\n",
    "\n",
    "import numpy as np\n",
    "import pandas as pd\n",
    "\n",
    "import iqplot\n",
    "\n",
    "import bokeh.io\n",
    "bokeh.io.output_notebook()\n",
    "\n",
    "import scipy.special\n",
    "import scipy.optimize\n",
    "import scipy.stats as st"
   ]
  },
  {
   "cell_type": "markdown",
   "metadata": {},
   "source": [
    "<hr>\n",
    "\n",
    "## Part 1: Review of Lecture\n",
    "\n",
    "In Part 1 we reviewed the Lecture 2 section on [choosing priors](https://bebi103b.github.io/lessons/05/choice_of_prior.html). A quick recap of what we learned:\n",
    "\n",
    "1. Uniform prior: Not the best. Improper prior -- it gives us no information and is not normalizable!\n",
    "2. Jeffreys prior: Also not great. Fixes the problem of the uniform prior where the priors vary with change of variables, but it is very hard to compute for some distributions. \n",
    "3. Weakly informative prior: Good! We can choose a prior probability distribution to encode what we know about the parameter before we measured data. We will discuss how to come up with weakly informative priors below.\n",
    "4. Conjugate prior: Can be helpful! Makes the posterior possible to analyze analytically, but only a few distributions have conjugates, so not always possible."
   ]
  },
  {
   "cell_type": "markdown",
   "metadata": {},
   "source": [
    "## Part 2: Tips and Practice for Choosing Weakly Informative Priors\n",
    "\n",
    "Recommended steps for choosing priors:\n",
    "\n",
    "1. Write down Bayes' Theorem first!\n",
    "\n",
    "\\begin{align}\n",
    "g(\\mu \\mid y) = \\frac{f(y\\mid \\mu )\\,g(\\mu )}{f(y)}.\n",
    "\\end{align}\n",
    "\n",
    "In words:\n",
    "\\begin{align}\n",
    "\\text{posterior} = \\frac{\\text{likelihood}\\,x\\ \\text{prior}}{\\text{evidence}}\n",
    "\\end{align}\n",
    "\n",
    "2. Choose your likelihood (please see Recitation 2/Lecture 2 for help).\n",
    "3. Assuming the parameters are independently distributed in the prior, you will need to choose a prior for each parameter in your likelihood. For example, if you choose $f(y\\mid \\mu )\\sim\\text{Normal}(\\mu, \\sigma)$, you will need to choose priors $g(\\mu)$ and $g(\\sigma)$.\n",
    "4. Consider what you know about the parameter. Do you know what it means in the system? Are there any bounds on its value? Is it related to other parameters? Will its value be very close to zero/very far from zero?\n",
    "5. Come up with a sketch of what you think the probability distribution for your prior will look like. Your sketch should cover all possible values of the parameter.\n",
    "6. Use the [Distribution Explorer](https://distribution-explorer.github.io/) to help you choose a probability distribution that matches your sketch. Consider the story and shape of the distribution. Play around with the distribution explorer, how does changing the parameters change the shape of the distribution?\n",
    "7. Go for more broad instead of more narrow!\n",
    "8. Don't stress too much! Most often there will be several reasonable choices for priors. And they will be overwhelmed by the likelihood. As long as your prior is reasonable and not overly narrow, you will be fine!\n",
    "\n",
    "We will now do a couple examples of choosing priors with data used in previous terms/years of the course. In these examples we will not worry too much about the likelihood and focus more on practicing choosing priors."
   ]
  },
  {
   "cell_type": "markdown",
   "metadata": {},
   "source": [
    "### Example 1: Spindle Size\n",
    "\n",
    "From our favorite data set involving mitotic spindle sizes....\n",
    "\n",
    "\"The data set we will use for this analysis comes from [Good, et al., Cytoplasmic volume modulates spindle size during embryogenesis\n",
    " *Science*, **342**, 856-860, 2013](http://doi.org/10.1126/science.1243147).  You can download the data set [here](https://s3.amazonaws.com/bebi103.caltech.edu/data/good_invitro_droplet_data.csv).  In this work, Matt Good and coworkers developed a microfluidic device where they could create droplets cytoplasm extracted from *Xenopus* eggs and embryos (see figure below; scale bar 20 µm).  A remarkable property about *Xenopus* extract is that mitotic spindles spontaneously form; the extracted cytoplasm has all the ingredients to form them.  This makes it an excellent model system for studying spindles.  With their device, Good and his colleagues were able to study how the size of the cell affects the dimensions of the mitotic spindle; a simple, yet beautiful, question.  The experiment is conceptually simple; they made the droplets and then measured their dimensions and the dimensions of the spindles using microscope images.\"\n",
    " \n",
    "Load in the data:"
   ]
  },
  {
   "cell_type": "code",
   "execution_count": 2,
   "metadata": {},
   "outputs": [
    {
     "data": {
      "text/html": [
       "<div>\n",
       "<style scoped>\n",
       "    .dataframe tbody tr th:only-of-type {\n",
       "        vertical-align: middle;\n",
       "    }\n",
       "\n",
       "    .dataframe tbody tr th {\n",
       "        vertical-align: top;\n",
       "    }\n",
       "\n",
       "    .dataframe thead th {\n",
       "        text-align: right;\n",
       "    }\n",
       "</style>\n",
       "<table border=\"1\" class=\"dataframe\">\n",
       "  <thead>\n",
       "    <tr style=\"text-align: right;\">\n",
       "      <th></th>\n",
       "      <th>Droplet Diameter (um)</th>\n",
       "      <th>Droplet Volume (uL)</th>\n",
       "      <th>Spindle Length (um)</th>\n",
       "      <th>Spindle Width (um)</th>\n",
       "      <th>Spindle Area (um2)</th>\n",
       "    </tr>\n",
       "  </thead>\n",
       "  <tbody>\n",
       "    <tr>\n",
       "      <th>0</th>\n",
       "      <td>27.1</td>\n",
       "      <td>0.000010</td>\n",
       "      <td>28.9</td>\n",
       "      <td>10.8</td>\n",
       "      <td>155.8</td>\n",
       "    </tr>\n",
       "    <tr>\n",
       "      <th>1</th>\n",
       "      <td>28.2</td>\n",
       "      <td>0.000012</td>\n",
       "      <td>22.7</td>\n",
       "      <td>7.2</td>\n",
       "      <td>81.5</td>\n",
       "    </tr>\n",
       "    <tr>\n",
       "      <th>2</th>\n",
       "      <td>29.4</td>\n",
       "      <td>0.000013</td>\n",
       "      <td>26.2</td>\n",
       "      <td>10.5</td>\n",
       "      <td>138.3</td>\n",
       "    </tr>\n",
       "    <tr>\n",
       "      <th>3</th>\n",
       "      <td>31.0</td>\n",
       "      <td>0.000016</td>\n",
       "      <td>19.2</td>\n",
       "      <td>9.4</td>\n",
       "      <td>90.5</td>\n",
       "    </tr>\n",
       "    <tr>\n",
       "      <th>4</th>\n",
       "      <td>31.0</td>\n",
       "      <td>0.000016</td>\n",
       "      <td>28.4</td>\n",
       "      <td>12.1</td>\n",
       "      <td>172.4</td>\n",
       "    </tr>\n",
       "  </tbody>\n",
       "</table>\n",
       "</div>"
      ],
      "text/plain": [
       "   Droplet Diameter (um)  Droplet Volume (uL)  Spindle Length (um)  \\\n",
       "0                   27.1             0.000010                 28.9   \n",
       "1                   28.2             0.000012                 22.7   \n",
       "2                   29.4             0.000013                 26.2   \n",
       "3                   31.0             0.000016                 19.2   \n",
       "4                   31.0             0.000016                 28.4   \n",
       "\n",
       "   Spindle Width (um)  Spindle Area (um2)  \n",
       "0                10.8               155.8  \n",
       "1                 7.2                81.5  \n",
       "2                10.5               138.3  \n",
       "3                 9.4                90.5  \n",
       "4                12.1               172.4  "
      ]
     },
     "execution_count": 2,
     "metadata": {},
     "output_type": "execute_result"
    }
   ],
   "source": [
    "df_spindle = pd.read_csv(\n",
    "    os.path.join(data_path, \"good_invitro_droplet_data.csv\"), comment=\"#\"\n",
    ")\n",
    "\n",
    "df_spindle.head()"
   ]
  },
  {
   "cell_type": "markdown",
   "metadata": {},
   "source": [
    "#### Plot of Spindle Length vs. Droplet Diameter"
   ]
  },
  {
   "cell_type": "code",
   "execution_count": 3,
   "metadata": {},
   "outputs": [
    {
     "data": {
      "text/html": [
       "\n",
       "\n",
       "\n",
       "\n",
       "\n",
       "\n",
       "  <div class=\"bk-root\" id=\"f7652f08-f804-4e9d-9710-0837936154b0\" data-root-id=\"1002\"></div>\n"
      ]
     },
     "metadata": {},
     "output_type": "display_data"
    },
    {
     "data": {
      "application/javascript": [
       "(function(root) {\n",
       "  function embed_document(root) {\n",
       "    \n",
       "  var docs_json = {\"207b80cd-f94c-4755-9a52-46154d03abec\":{\"roots\":{\"references\":[{\"attributes\":{\"below\":[{\"id\":\"1011\"}],\"center\":[{\"id\":\"1014\"},{\"id\":\"1018\"}],\"frame_height\":200,\"frame_width\":300,\"left\":[{\"id\":\"1015\"}],\"renderers\":[{\"id\":\"1036\"}],\"title\":{\"id\":\"1039\"},\"toolbar\":{\"id\":\"1026\"},\"x_range\":{\"id\":\"1003\"},\"x_scale\":{\"id\":\"1007\"},\"y_range\":{\"id\":\"1005\"},\"y_scale\":{\"id\":\"1009\"}},\"id\":\"1002\",\"subtype\":\"Figure\",\"type\":\"Plot\"},{\"attributes\":{\"data_source\":{\"id\":\"1033\"},\"glyph\":{\"id\":\"1034\"},\"hover_glyph\":null,\"muted_glyph\":null,\"nonselection_glyph\":{\"id\":\"1035\"},\"selection_glyph\":null,\"view\":{\"id\":\"1037\"}},\"id\":\"1036\",\"type\":\"GlyphRenderer\"},{\"attributes\":{\"source\":{\"id\":\"1033\"}},\"id\":\"1037\",\"type\":\"CDSView\"},{\"attributes\":{\"text\":\"\"},\"id\":\"1039\",\"type\":\"Title\"},{\"attributes\":{\"bottom_units\":\"screen\",\"fill_alpha\":0.5,\"fill_color\":\"lightgrey\",\"left_units\":\"screen\",\"level\":\"overlay\",\"line_alpha\":1.0,\"line_color\":\"black\",\"line_dash\":[4,4],\"line_width\":2,\"right_units\":\"screen\",\"top_units\":\"screen\"},\"id\":\"1025\",\"type\":\"BoxAnnotation\"},{\"attributes\":{},\"id\":\"1045\",\"type\":\"UnionRenderers\"},{\"attributes\":{},\"id\":\"1046\",\"type\":\"Selection\"},{\"attributes\":{\"axis_label\":\"spindle length (\\u00b5m)\",\"formatter\":{\"id\":\"1042\"},\"ticker\":{\"id\":\"1016\"}},\"id\":\"1015\",\"type\":\"LinearAxis\"},{\"attributes\":{\"axis_label\":\"droplet diamater (\\u00b5m)\",\"formatter\":{\"id\":\"1040\"},\"ticker\":{\"id\":\"1012\"}},\"id\":\"1011\",\"type\":\"LinearAxis\"},{\"attributes\":{},\"id\":\"1003\",\"type\":\"DataRange1d\"},{\"attributes\":{},\"id\":\"1007\",\"type\":\"LinearScale\"},{\"attributes\":{},\"id\":\"1005\",\"type\":\"DataRange1d\"},{\"attributes\":{},\"id\":\"1009\",\"type\":\"LinearScale\"},{\"attributes\":{\"active_drag\":\"auto\",\"active_inspect\":\"auto\",\"active_multi\":null,\"active_scroll\":\"auto\",\"active_tap\":\"auto\",\"tools\":[{\"id\":\"1019\"},{\"id\":\"1020\"},{\"id\":\"1021\"},{\"id\":\"1022\"},{\"id\":\"1023\"},{\"id\":\"1024\"}]},\"id\":\"1026\",\"type\":\"Toolbar\"},{\"attributes\":{},\"id\":\"1012\",\"type\":\"BasicTicker\"},{\"attributes\":{},\"id\":\"1016\",\"type\":\"BasicTicker\"},{\"attributes\":{\"axis\":{\"id\":\"1011\"},\"ticker\":null},\"id\":\"1014\",\"type\":\"Grid\"},{\"attributes\":{},\"id\":\"1040\",\"type\":\"BasicTickFormatter\"},{\"attributes\":{},\"id\":\"1020\",\"type\":\"WheelZoomTool\"},{\"attributes\":{\"axis\":{\"id\":\"1015\"},\"dimension\":1,\"ticker\":null},\"id\":\"1018\",\"type\":\"Grid\"},{\"attributes\":{},\"id\":\"1042\",\"type\":\"BasicTickFormatter\"},{\"attributes\":{},\"id\":\"1024\",\"type\":\"HelpTool\"},{\"attributes\":{\"data\":{\"x\":{\"__ndarray__\":\"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\",\"dtype\":\"float64\",\"order\":\"little\",\"shape\":[670]},\"y\":{\"__ndarray__\":\"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\",\"dtype\":\"float64\",\"order\":\"little\",\"shape\":[670]}},\"selected\":{\"id\":\"1046\"},\"selection_policy\":{\"id\":\"1045\"}},\"id\":\"1033\",\"type\":\"ColumnDataSource\"},{\"attributes\":{},\"id\":\"1019\",\"type\":\"PanTool\"},{\"attributes\":{\"overlay\":{\"id\":\"1025\"}},\"id\":\"1021\",\"type\":\"BoxZoomTool\"},{\"attributes\":{},\"id\":\"1022\",\"type\":\"SaveTool\"},{\"attributes\":{},\"id\":\"1023\",\"type\":\"ResetTool\"},{\"attributes\":{\"fill_alpha\":{\"value\":0.3},\"fill_color\":{\"value\":\"#1f77b4\"},\"line_alpha\":{\"value\":0.3},\"line_color\":{\"value\":\"#1f77b4\"},\"size\":{\"units\":\"screen\",\"value\":3},\"x\":{\"field\":\"x\"},\"y\":{\"field\":\"y\"}},\"id\":\"1034\",\"type\":\"Circle\"},{\"attributes\":{\"fill_alpha\":{\"value\":0.1},\"fill_color\":{\"value\":\"#1f77b4\"},\"line_alpha\":{\"value\":0.1},\"line_color\":{\"value\":\"#1f77b4\"},\"size\":{\"units\":\"screen\",\"value\":3},\"x\":{\"field\":\"x\"},\"y\":{\"field\":\"y\"}},\"id\":\"1035\",\"type\":\"Circle\"}],\"root_ids\":[\"1002\"]},\"title\":\"Bokeh Application\",\"version\":\"2.2.3\"}};\n",
       "  var render_items = [{\"docid\":\"207b80cd-f94c-4755-9a52-46154d03abec\",\"root_ids\":[\"1002\"],\"roots\":{\"1002\":\"f7652f08-f804-4e9d-9710-0837936154b0\"}}];\n",
       "  root.Bokeh.embed.embed_items_notebook(docs_json, render_items);\n",
       "\n",
       "  }\n",
       "  if (root.Bokeh !== undefined) {\n",
       "    embed_document(root);\n",
       "  } else {\n",
       "    var attempts = 0;\n",
       "    var timer = setInterval(function(root) {\n",
       "      if (root.Bokeh !== undefined) {\n",
       "        clearInterval(timer);\n",
       "        embed_document(root);\n",
       "      } else {\n",
       "        attempts++;\n",
       "        if (attempts > 100) {\n",
       "          clearInterval(timer);\n",
       "          console.log(\"Bokeh: ERROR: Unable to run BokehJS code because BokehJS library is missing\");\n",
       "        }\n",
       "      }\n",
       "    }, 10, root)\n",
       "  }\n",
       "})(window);"
      ],
      "application/vnd.bokehjs_exec.v0+json": ""
     },
     "metadata": {
      "application/vnd.bokehjs_exec.v0+json": {
       "id": "1002"
      }
     },
     "output_type": "display_data"
    }
   ],
   "source": [
    "p = bokeh.plotting.figure(\n",
    "    frame_width=300,\n",
    "    frame_height=200,\n",
    "    x_axis_label=\"droplet diamater (µm)\",\n",
    "    y_axis_label=\"spindle length (µm)\",\n",
    ")\n",
    "\n",
    "p.circle(\n",
    "    df_spindle[\"Droplet Diameter (um)\"],\n",
    "    df_spindle[\"Spindle Length (um)\"],\n",
    "    size=3,\n",
    "    alpha=0.3,\n",
    ")\n",
    "\n",
    "bokeh.io.show(p)"
   ]
  },
  {
   "cell_type": "markdown",
   "metadata": {},
   "source": [
    "#### ECDF of Spindle Length"
   ]
  },
  {
   "cell_type": "code",
   "execution_count": 4,
   "metadata": {},
   "outputs": [
    {
     "data": {
      "text/html": [
       "\n",
       "\n",
       "\n",
       "\n",
       "\n",
       "\n",
       "  <div class=\"bk-root\" id=\"453a98bf-1c72-4c43-b52b-cff2f245a76f\" data-root-id=\"1092\"></div>\n"
      ]
     },
     "metadata": {},
     "output_type": "display_data"
    },
    {
     "data": {
      "application/javascript": [
       "(function(root) {\n",
       "  function embed_document(root) {\n",
       "    \n",
       "  var docs_json = {\"836ec1d0-6f8c-4635-9a7d-00a6a5c20906\":{\"roots\":{\"references\":[{\"attributes\":{\"below\":[{\"id\":\"1101\"}],\"center\":[{\"id\":\"1104\"},{\"id\":\"1108\"}],\"frame_height\":275,\"frame_width\":375,\"left\":[{\"id\":\"1105\"}],\"renderers\":[{\"id\":\"1127\"}],\"title\":{\"id\":\"1139\"},\"toolbar\":{\"id\":\"1116\"},\"toolbar_location\":\"above\",\"x_range\":{\"id\":\"1093\"},\"x_scale\":{\"id\":\"1097\"},\"y_range\":{\"id\":\"1095\"},\"y_scale\":{\"id\":\"1099\"}},\"id\":\"1092\",\"subtype\":\"Figure\",\"type\":\"Plot\"},{\"attributes\":{},\"id\":\"1113\",\"type\":\"ResetTool\"},{\"attributes\":{},\"id\":\"1112\",\"type\":\"SaveTool\"},{\"attributes\":{\"fill_alpha\":{\"value\":0.1},\"fill_color\":{\"value\":\"#1f77b3\"},\"line_alpha\":{\"value\":0.1},\"line_color\":{\"value\":\"#1f77b3\"},\"x\":{\"field\":\"Spindle Length (um)\"},\"y\":{\"field\":\"__ECDF\"}},\"id\":\"1126\",\"type\":\"Circle\"},{\"attributes\":{},\"id\":\"1109\",\"type\":\"PanTool\"},{\"attributes\":{},\"id\":\"1099\",\"type\":\"LinearScale\"},{\"attributes\":{\"overlay\":{\"id\":\"1115\"}},\"id\":\"1111\",\"type\":\"BoxZoomTool\"},{\"attributes\":{},\"id\":\"1114\",\"type\":\"HelpTool\"},{\"attributes\":{},\"id\":\"1097\",\"type\":\"LinearScale\"},{\"attributes\":{\"data\":{\"Droplet Diameter (um)\":{\"__ndarray__\":\"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\",\"dtype\":\"float64\",\"order\":\"little\",\"shape\":[670]},\"Droplet Volume (uL)\":{\"__ndarray__\":\"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\",\"dtype\":\"float64\",\"order\":\"little\",\"shape\":[670]},\"Spindle Area (um2)\":{\"__ndarray__\":\"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\",\"dtype\":\"float64\",\"order\":\"little\",\"shape\":[670]},\"Spindle Length (um)\":{\"__ndarray__\":\"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\",\"dtype\":\"float64\",\"order\":\"little\",\"shape\":[670]},\"Spindle Width (um)\":{\"__ndarray__\":\"mpmZmZmZJUDNzMzMzMwcQAAAAAAAACVAzczMzMzMIkAzMzMzMzMoQDMzMzMzMyVAZmZmZmZmIUBmZmZmZmYhQGZmZmZmZiJAAAAAAAAAIUAAAAAAAAAjQAAAAAAAACFAZmZmZmZmI0AzMzMzMzMoQDMzMzMzMyRAzczMzMzMIkAzMzMzMzMkQGZmZmZmZiVAzczMzMzMJECamZmZmZkiQM3MzMzMzCRAzczMzMzMJUBmZmZmZmYhQDMzMzMzMyNAAAAAAAAAJkCamZmZmZkiQJqZmZmZmSFAmpmZmZmZIUCamZmZmZkjQJqZmZmZmSRAMzMzMzMzI0DNzMzMzMwgQM3MzMzMzCJAZmZmZmZmLkAzMzMzMzMlQM3MzMzMzCZAzczMzMzMIUBmZmZmZmYpQAAAAAAAACFAZmZmZmZmJ0AzMzMzMzMiQJqZmZmZmSNAmpmZmZmZIUDNzMzMzMwoQM3MzMzMzCBAzczMzMzMJkDNzMzMzMwiQJqZmZmZmSBAmpmZmZmZIkBmZmZmZmYoQJqZmZmZmSRAmpmZmZmZJ0DNzMzMzMwsQGZmZmZmZiVAMzMzMzMzLEDNzMzMzMwjQGZmZmZmZiRAmpmZmZmZLEAzMzMzMzMnQJqZmZmZmSlAMzMzMzMzJEBmZmZmZmYlQJqZmZmZmSdAMzMzMzMzKEAzMzMzMzMmQAAAAAAAACVAmpmZmZmZJUAzMzMzMzMkQAAAAAAAACNAzczMzMzMKUDNzMzMzMwmQGZmZmZmZiFAMzMzMzMzJUDNzMzMzMwjQM3MzMzMzCJAZmZmZmZmJEBmZmZmZmYnQJqZmZmZmSFAzczMzMzMJ0AAAAAAAAApQJqZmZmZmSBAzczMzMzMJEAzMzMzMzMoQM3MzMzMzCJAmpmZmZmZI0DNzMzMzMwmQGZmZmZmZiRAAAAAAAAAJkAzMzMzMzMlQAAAAAAAACZAMzMzMzMzJ0CamZmZmZkgQJqZmZmZmSNAZmZmZmZmIkAzMzMzMzMuQJqZmZmZmShAmpmZmZmZJEBmZmZmZmYhQGZmZmZmZiJAAAAAAAAAIEAzMzMzMzMpQDMzMzMzMydAZmZmZmZmLEDNzMzMzMwrQDMzMzMzMyJAmpmZmZmZIUAzMzMzMzMqQM3MzMzMzCtAMzMzMzMzHUAAAAAAAAAoQDMzMzMzMyhAzczMzMzMLkBmZmZmZmYjQDMzMzMzMytAAAAAAAAAK0DNzMzMzMwjQGZmZmZmZiFAZmZmZmZmIUBmZmZmZmYiQJqZmZmZmSBAmpmZmZmZJkDNzMzMzMwjQM3MzMzMzCVAZmZmZmZmIkBmZmZmZmYjQM3MzMzMzCFAmpmZmZmZIUAAAAAAAAAgQM3MzMzMzCNAMzMzMzMzKUCamZmZmZksQGZmZmZmZihAzczMzMzMKEBmZmZmZmYoQJqZmZmZmSZAZmZmZmZmKkAzMzMzMzMsQM3MzMzMzCJAzczMzMzMIUDNzMzMzMwlQM3MzMzMzClAZmZmZmZmJ0AzMzMzMzMmQDMzMzMzMypAZmZmZmZmJkCamZmZmZkhQM3MzMzMzChAMzMzMzMzJ0CamZmZmZkgQGZmZmZmZiZAMzMzMzMzKEAzMzMzMzMuQAAAAAAAACZAmpmZmZmZKUAAAAAAAAAqQM3MzMzMzCZAzczMzMzMJEBmZmZmZmYoQDMzMzMzMyhAzczMzMzMJkCamZmZmZklQM3MzMzMzCtAZmZmZmZmJ0BmZmZmZmYiQDMzMzMzMy1AmpmZmZmZKUAzMzMzMzMlQGZmZmZmZidAZmZmZmZmJkBmZmZmZmYqQAAAAAAAACZAZmZmZmZmJECamZmZmZknQDMzMzMzMydAmpmZmZmZIUBmZmZmZmYmQM3MzMzMzCNAzczMzMzMLkBmZmZmZmYjQJqZmZmZmSRAzczMzMzMJUAzMzMzMzMpQM3MzMzMzCdAAAAAAAAAKkDNzMzMzMwkQJqZmZmZmSdAZmZmZmZmJkAzMzMzMzMpQM3MzMzMzCNAmpmZmZmZJUAzMzMzMzMpQJqZmZmZmSVAzczMzMzMIUAzMzMzMzMmQDMzMzMzMyRAzczMzMzMHkDNzMzMzMwmQM3MzMzMzCdAZmZmZmZmJUCamZmZmZkgQJqZmZmZmSZAMzMzMzMzI0CamZmZmZkoQAAAAAAAACNAMzMzMzMzKEAAAAAAAAAmQDMzMzMzMylAmpmZmZmZKUDNzMzMzMwrQJqZmZmZmSlAzczMzMzMIEDNzMzMzMwgQDMzMzMzMyVAAAAAAAAAJ0AAAAAAAAAmQDMzMzMzMyxAmpmZmZmZKUAzMzMzMzMjQJqZmZmZmShAmpmZmZmZIUDNzMzMzMwkQM3MzMzMzCZAAAAAAAAAJkDNzMzMzMwqQGZmZmZmZiNAmpmZmZmZJ0BmZmZmZmYmQJqZmZmZmR9AMzMzMzMzKkDNzMzMzMwmQAAAAAAAAClAAAAAAAAAKkAzMzMzMzMrQM3MzMzMzCNAmpmZmZmZJkDNzMzMzMwmQM3MzMzMzCZAzczMzMzMJEBmZmZmZmYoQDMzMzMzMypAMzMzMzMzKkBmZmZmZmYkQAAAAAAAAClAmpmZmZmZK0BmZmZmZmYhQM3MzMzMzCZAmpmZmZmZK0BmZmZmZmYuQJqZmZmZmSlAmpmZmZmZIUCamZmZmZkqQDMzMzMzMy5AZmZmZmZmJ0BmZmZmZmYjQJqZmZmZmS5AMzMzMzMzJEBmZmZmZmYiQAAAAAAAgDBAZmZmZmZmLkAzMzMzMzMqQAAAAAAAADBAzczMzMzMK0AzMzMzMzMqQM3MzMzMzClAmpmZmZmZKUCamZmZmZkmQJqZmZmZmSVAzczMzMzMJ0AAAAAAAAAoQM3MzMzMzCpAzczMzMzMKkAAAAAAAAAoQGZmZmZmZixAAAAAAACAMUDNzMzMzMwxQAAAAAAAACZAMzMzMzMzJ0DNzMzMzMwiQGZmZmZmZidAmpmZmZmZKkCamZmZmZkyQJqZmZmZmSNAzczMzMzMJEBmZmZmZmYoQJqZmZmZmSRAzczMzMzMLEDNzMzMzEwwQDMzMzMzMyxAZmZmZmZmKEDNzMzMzMwuQM3MzMzMzChAmpmZmZmZK0CamZmZmZknQJqZmZmZmSdAMzMzMzMzLkAzMzMzMzMnQAAAAAAAACxAmpmZmZmZKkAAAAAAAAAmQDMzMzMzMyRAAAAAAAAAK0AAAAAAAAArQM3MzMzMzCxAAAAAAAAAKUAAAAAAAAAoQM3MzMzMzCFAmpmZmZmZKECamZmZmZkwQGZmZmZmZiVAmpmZmZmZLEBmZmZmZmYiQJqZmZmZmS1AzczMzMzMLkCamZmZmZklQDMzMzMzMyZAmpmZmZmZKkAAAAAAAAArQAAAAAAAACZAZmZmZmZmLUAAAAAAAAAmQGZmZmZmZjVAmpmZmZmZKUBmZmZmZmYpQGZmZmZmZihAzczMzMzMJ0DNzMzMzMwuQGZmZmZmZjBAmpmZmZmZJUAzMzMzMzMnQM3MzMzMzCxAMzMzMzMzJUDNzMzMzMwnQM3MzMzMzCpAzczMzMxMMUAzMzMzMzMpQGZmZmZmZihAAAAAAACAMEAzMzMzMzMuQDMzMzMzMyNAmpmZmZmZKECamZmZmZkoQDMzMzMzMypAmpmZmZmZLkCamZmZmZklQJqZmZmZmSdAMzMzMzMzLUDNzMzMzMwnQDMzMzMzMytAMzMzMzMzK0DNzMzMzMwmQAAAAAAAACZAAAAAAAAAJkBmZmZmZmYwQGZmZmZmZidAmpmZmZmZKkAAAAAAAAAnQJqZmZmZmSRAmpmZmZmZLECamZmZmZknQM3MzMzMzCpAMzMzMzMzKUCamZmZmZkkQGZmZmZmZitAMzMzMzMzL0AAAAAAAAAvQGZmZmZmZixAAAAAAAAAMUAAAAAAAAArQM3MzMzMzC1AzczMzMzMLUBmZmZmZmYqQAAAAAAAAChAmpmZmZmZKUCamZmZmZkoQJqZmZmZmSdAzczMzMzMJUBmZmZmZmYnQGZmZmZmZiVAMzMzMzMzLUAzMzMzMzMmQM3MzMzMzC1AMzMzMzMzLkAAAAAAAAAqQM3MzMzMzCpAmpmZmZmZKkAAAAAAAAAvQAAAAAAAACxAZmZmZmZmKkCamZmZmZkoQJqZmZmZmShAMzMzMzMzKUDNzMzMzMwnQAAAAAAAAC9AMzMzMzMzKEDNzMzMzMwuQGZmZmZmZixAZmZmZmZmKkBmZmZmZmYmQGZmZmZmZi1AZmZmZmZmK0AzMzMzMzMqQJqZmZmZmSVAAAAAAAAALUDNzMzMzMwmQM3MzMzMzDFAzczMzMzMLkDNzMzMzMwpQJqZmZmZmSFAmpmZmZmZKUAAAAAAAAAxQGZmZmZmZiZAAAAAAAAAMkBmZmZmZmYnQM3MzMzMzCtAAAAAAAAAJkDNzMzMzMwuQAAAAAAAAClAzczMzMzMKkAAAAAAAAArQJqZmZmZmS9AZmZmZmZmKUAAAAAAAAAxQM3MzMzMzCpAzczMzMzMKkBmZmZmZuYxQGZmZmZmZidAzczMzMzML0DNzMzMzMwmQGZmZmZmZipAMzMzMzMzKkAAAAAAAAAsQM3MzMzMzCdAmpmZmZkZM0BmZmZmZmYtQM3MzMzMzCZAzczMzMzMLkDNzMzMzMwsQJqZmZmZGTBAAAAAAAAAJkAAAAAAAAArQDMzMzMzMyNAAAAAAAAAJ0BmZmZmZmYuQDMzMzMzMytAzczMzMzMIkDNzMzMzMwkQDMzMzMzMyxAAAAAAAAALEDNzMzMzMwtQDMzMzMzMzBAzczMzMzMKUDNzMzMzMwkQJqZmZmZmTFAMzMzMzMzKUDNzMzMzEwwQJqZmZmZmShAMzMzMzMzL0BmZmZmZmYsQAAAAAAAAC1AZmZmZmZmMUDNzMzMzMwpQM3MzMzMzCVAZmZmZmZmLUAzMzMzMzMvQDMzMzMzMy1AZmZmZmZmJ0AzMzMzMzMsQM3MzMzMzCxAAAAAAAAALEAzMzMzMzMtQAAAAAAAADJAZmZmZmZmMUAzMzMzMzMqQGZmZmZmZjBAZmZmZmZmMUDNzMzMzMwtQDMzMzMzMylAmpmZmZmZMEAzMzMzMzMqQAAAAAAAgDFAzczMzMzMLkAzMzMzMzMtQM3MzMzMzC1AzczMzMzMJECamZmZmZkqQDMzMzMzMyhAmpmZmZmZJ0DNzMzMzMwtQJqZmZmZmS9AmpmZmZmZKkBmZmZmZmYuQJqZmZmZmS5AmpmZmZmZL0AAAAAAAAA2QAAAAAAAACxAAAAAAAAAKUAAAAAAAAAxQJqZmZmZmSlAAAAAAAAAKUBmZmZmZmYsQM3MzMzMzCtAzczMzMzMKkAAAAAAAAAoQM3MzMzMzC5AAAAAAAAAKUAzMzMzMzMoQGZmZmZmZiZAmpmZmZmZM0BmZmZmZmYpQJqZmZmZmS1AZmZmZmbmMUDNzMzMzMwxQDMzMzMzMy9AMzMzMzMzLkAAAAAAAIAwQJqZmZmZmStAZmZmZmZmJ0DNzMzMzMwvQM3MzMzMzC9AzczMzMzMLUAAAAAAAAAqQGZmZmZmZi9AZmZmZmZmLECamZmZmZkrQAAAAAAAAC9AmpmZmZmZLkDNzMzMzMwqQGZmZmZmZiRAmpmZmZmZKkAAAAAAAAArQGZmZmZmZjBAMzMzMzMzLkAAAAAAAAAtQM3MzMzMzCBAzczMzMzMLEBmZmZmZmYsQM3MzMzMzC9AMzMzMzMzLEAAAAAAAAArQGZmZmZmZipAmpmZmZkZMUAAAAAAAIAyQDMzMzMzMyxAmpmZmZkZMECamZmZmZkuQJqZmZmZmSpAMzMzMzMzLEAAAAAAAAAqQDMzMzMzMytAZmZmZmZmKkAAAAAAAAArQM3MzMzMzCVAMzMzMzMzKkAzMzMzMzMrQJqZmZmZmSVAzczMzMzMKEDNzMzMzMwnQJqZmZmZmSlAzczMzMzMIkAzMzMzMzMvQM3MzMzMzC5AzczMzMzMK0AAAAAAAAApQJqZmZmZmSVAMzMzMzMzMECamZmZmZkvQJqZmZmZGTJAzczMzMzMLkDNzMzMzMwmQAAAAAAAACtAAAAAAAAAMUAAAAAAAAAqQDMzMzMzMylAmpmZmZmZK0BmZmZmZuYwQM3MzMzMzC1AZmZmZmZmKUBmZmZmZmYtQDMzMzMzszBAMzMzMzMzMUCamZmZmZkrQAAAAAAAgDRAMzMzMzMzLkAzMzMzM7MwQM3MzMzMzC1AMzMzMzMzK0BmZmZmZmYwQGZmZmZmZixAAAAAAAAALkDNzMzMzMwlQJqZmZmZmSdAZmZmZmZmMUAAAAAAAIAwQAAAAAAAADFAMzMzMzMzKUAAAAAAAAAwQJqZmZmZGTBAmpmZmZmZLEAAAAAAAAApQGZmZmZmZjFAAAAAAAAAL0AzMzMzMzMvQAAAAAAAACpAZmZmZmZmNUDNzMzMzEwyQGZmZmZmZiZAAAAAAAAALUCamZmZmZkrQM3MzMzMzC5AZmZmZmZmLUCamZmZmZkrQJqZmZmZmS9AZmZmZmZmLkBmZmZmZuYzQM3MzMzMzC9AMzMzMzMzMUAAAAAAAAAtQJqZmZmZmS9AAAAAAAAAM0DNzMzMzMwtQJqZmZmZmShAmpmZmZkZMkBmZmZmZmYsQGZmZmZmZjFAZmZmZmZmK0AAAAAAAAAoQDMzMzMzszBAzczMzMzMLEDNzMzMzEwwQGZmZmZmZitAMzMzMzMzMUAzMzMzMzMuQJqZmZmZmSpAMzMzMzOzMkAzMzMzM7MxQDMzMzMzszBAAAAAAACAMECamZmZmZkqQDMzMzMzMyVAZmZmZmZmKkAzMzMzMzM0QAAAAAAAgDRAAAAAAAAAK0DNzMzMzMwrQJqZmZmZmTFAAAAAAACAMkAAAAAAAAAxQJqZmZmZmSxAMzMzMzOzMEAzMzMzMzMvQJqZmZmZmSxAzczMzMxMN0DNzMzMzEw0QGZmZmZm5jBAzczMzMzMNUBmZmZmZuY4QJqZmZmZmTNAZmZmZmbmN0CamZmZmZkrQGZmZmZmZjFAMzMzMzOzNkCamZmZmZk2QAAAAAAAgDVAAAAAAAAANECamZmZmRkyQDMzMzMzMzJAZmZmZmZmNECamZmZmZkuQM3MzMzMzCdAZmZmZmZmMUA=\",\"dtype\":\"float64\",\"order\":\"little\",\"shape\":[670]},\"__ECDF\":{\"__ndarray__\":\"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\",\"dtype\":\"float64\",\"order\":\"little\",\"shape\":[670]},\"__dummy_cat\":[\" \",\" \",\" \",\" \",\" \",\" \",\" \",\" \",\" \",\" \",\" \",\" \",\" \",\" \",\" \",\" \",\" \",\" \",\" \",\" \",\" \",\" \",\" \",\" \",\" \",\" \",\" \",\" \",\" \",\" \",\" \",\" \",\" \",\" \",\" \",\" \",\" \",\" \",\" \",\" \",\" \",\" \",\" \",\" \",\" \",\" \",\" \",\" \",\" \",\" \",\" \",\" \",\" \",\" \",\" \",\" \",\" \",\" \",\" \",\" \",\" \",\" \",\" \",\" \",\" \",\" \",\" \",\" \",\" \",\" \",\" \",\" \",\" \",\" \",\" \",\" \",\" \",\" \",\" \",\" \",\" \",\" \",\" \",\" \",\" \",\" \",\" \",\" \",\" \",\" \",\" \",\" \",\" \",\" \",\" \",\" \",\" \",\" \",\" \",\" \",\" \",\" \",\" \",\" \",\" \",\" \",\" \",\" \",\" \",\" \",\" \",\" \",\" \",\" \",\" \",\" \",\" \",\" \",\" \",\" \",\" \",\" \",\" \",\" \",\" \",\" \",\" \",\" \",\" \",\" \",\" \",\" \",\" \",\" \",\" \",\" \",\" \",\" \",\" \",\" \",\" \",\" \",\" \",\" \",\" \",\" \",\" \",\" \",\" \",\" \",\" \",\" \",\" \",\" \",\" \",\" \",\" \",\" \",\" \",\" \",\" \",\" \",\" \",\" \",\" \",\" \",\" \",\" \",\" \",\" \",\" \",\" \",\" \",\" \",\" \",\" \",\" \",\" \",\" \",\" \",\" \",\" \",\" \",\" \",\" \",\" \",\" \",\" \",\" \",\" \",\" \",\" \",\" \",\" \",\" \",\" \",\" \",\" \",\" \",\" \",\" \",\" \",\" \",\" \",\" \",\" \",\" \",\" \",\" \",\" \",\" \",\" \",\" \",\" \",\" \",\" \",\" \",\" \",\" \",\" \",\" \",\" \",\" \",\" \",\" \",\" \",\" \",\" \",\" \",\" \",\" \",\" \",\" \",\" \",\" \",\" \",\" \",\" \",\" \",\" \",\" \",\" \",\" \",\" \",\" \",\" \",\" \",\" \",\" \",\" \",\" \",\" \",\" \",\" \",\" \",\" \",\" \",\" \",\" \",\" \",\" \",\" \",\" \",\" \",\" \",\" \",\" \",\" \",\" \",\" \",\" \",\" \",\" \",\" \",\" \",\" \",\" \",\" \",\" \",\" \",\" \",\" \",\" \",\" \",\" \",\" \",\" \",\" \",\" \",\" \",\" \",\" \",\" \",\" \",\" \",\" \",\" \",\" \",\" \",\" \",\" \",\" \",\" \",\" \",\" \",\" \",\" \",\" \",\" \",\" \",\" \",\" \",\" \",\" \",\" \",\" \",\" \",\" \",\" \",\" \",\" \",\" \",\" \",\" \",\" \",\" \",\" \",\" \",\" \",\" \",\" \",\" \",\" \",\" \",\" \",\" \",\" \",\" \",\" \",\" \",\" \",\" \",\" \",\" \",\" \",\" \",\" \",\" \",\" \",\" \",\" \",\" \",\" \",\" \",\" \",\" \",\" \",\" \",\" \",\" \",\" \",\" \",\" \",\" \",\" \",\" \",\" \",\" \",\" \",\" \",\" \",\" \",\" \",\" \",\" \",\" \",\" \",\" \",\" \",\" \",\" \",\" \",\" \",\" \",\" \",\" \",\" \",\" \",\" \",\" \",\" \",\" \",\" \",\" \",\" \",\" \",\" \",\" \",\" \",\" \",\" \",\" \",\" \",\" \",\" \",\" \",\" \",\" \",\" \",\" \",\" \",\" \",\" \",\" \",\" \",\" \",\" \",\" \",\" \",\" \",\" \",\" \",\" \",\" \",\" \",\" \",\" \",\" \",\" \",\" \",\" \",\" \",\" \",\" \",\" \",\" \",\" \",\" \",\" \",\" \",\" \",\" \",\" \",\" \",\" \",\" \",\" \",\" \",\" \",\" \",\" \",\" \",\" \",\" \",\" \",\" \",\" \",\" \",\" \",\" \",\" \",\" \",\" \",\" \",\" \",\" \",\" \",\" \",\" \",\" \",\" \",\" \",\" \",\" \",\" \",\" \",\" \",\" \",\" \",\" \",\" \",\" \",\" \",\" \",\" \",\" \",\" \",\" \",\" \",\" \",\" \",\" \",\" \",\" \",\" \",\" \",\" \",\" \",\" \",\" \",\" \",\" \",\" \",\" \",\" \",\" \",\" \",\" \",\" \",\" \",\" \",\" \",\" \",\" \",\" \",\" \",\" \",\" \",\" \",\" \",\" \",\" \",\" \",\" \",\" \",\" \",\" \",\" \",\" \",\" \",\" \",\" \",\" \",\" \",\" \",\" \",\" \",\" \",\" \",\" \",\" \",\" \",\" \",\" \",\" \",\" \",\" \",\" \",\" \",\" \",\" \",\" \",\" \",\" \",\" \",\" \",\" \",\" \",\" \",\" \",\" \",\" \",\" \",\" \",\" \",\" \",\" \",\" \",\" \",\" \",\" \",\" \",\" \",\" \",\" \",\" \",\" \",\" \",\" \",\" \",\" \",\" \",\" \",\" \",\" \",\" \",\" \",\" \",\" \",\" \",\" \",\" \",\" \",\" \",\" \",\" \",\" \",\" \",\" \",\" \",\" \",\" \",\" \",\" \",\" \",\" \",\" \",\" \",\" \",\" \",\" \",\" \",\" \",\" \",\" \",\" \",\" \",\" \",\" \",\" \",\" \",\" \",\" \",\" \",\" \",\" \",\" \",\" \",\" \",\" \",\" \",\" \",\" \",\" \",\" \",\" \",\" \",\" \",\" \",\" \",\" \",\" \",\" \",\" \",\" \",\" \",\" \",\" \",\" \",\" \",\" \",\" \",\" \",\" \",\" \",\" \",\" \",\" \",\" \",\" \",\" \",\" \",\" \",\" \",\" \",\" \",\" \",\" \",\" \",\" \"],\"__label\":[\" \",\" \",\" \",\" \",\" \",\" \",\" \",\" \",\" \",\" \",\" \",\" \",\" \",\" \",\" \",\" \",\" \",\" \",\" \",\" \",\" \",\" \",\" \",\" \",\" \",\" \",\" \",\" \",\" \",\" \",\" \",\" \",\" \",\" \",\" \",\" \",\" \",\" \",\" \",\" \",\" \",\" \",\" \",\" \",\" \",\" \",\" \",\" \",\" \",\" \",\" \",\" \",\" \",\" \",\" \",\" \",\" \",\" \",\" \",\" \",\" \",\" \",\" \",\" \",\" \",\" \",\" \",\" \",\" \",\" \",\" \",\" \",\" \",\" \",\" \",\" \",\" \",\" \",\" \",\" \",\" \",\" \",\" \",\" \",\" \",\" \",\" \",\" \",\" \",\" \",\" \",\" \",\" \",\" \",\" \",\" \",\" \",\" \",\" \",\" \",\" \",\" \",\" \",\" \",\" \",\" \",\" \",\" \",\" \",\" \",\" \",\" \",\" \",\" \",\" \",\" \",\" \",\" \",\" \",\" \",\" \",\" \",\" \",\" \",\" \",\" \",\" \",\" \",\" \",\" \",\" \",\" \",\" \",\" \",\" \",\" \",\" \",\" \",\" \",\" \",\" \",\" \",\" \",\" \",\" \",\" \",\" \",\" \",\" \",\" \",\" \",\" \",\" \",\" \",\" \",\" \",\" \",\" \",\" \",\" \",\" \",\" \",\" \",\" \",\" \",\" \",\" \",\" \",\" \",\" \",\" \",\" \",\" \",\" \",\" \",\" \",\" \",\" \",\" \",\" \",\" \",\" \",\" \",\" \",\" \",\" \",\" \",\" \",\" \",\" \",\" \",\" \",\" \",\" \",\" \",\" \",\" \",\" \",\" \",\" \",\" \",\" \",\" \",\" \",\" \",\" \",\" \",\" \",\" \",\" \",\" \",\" \",\" \",\" \",\" \",\" \",\" \",\" \",\" \",\" \",\" \",\" \",\" \",\" \",\" \",\" \",\" \",\" \",\" \",\" \",\" \",\" \",\" \",\" \",\" \",\" \",\" \",\" \",\" \",\" \",\" \",\" \",\" \",\" \",\" \",\" \",\" \",\" \",\" \",\" \",\" \",\" \",\" \",\" \",\" \",\" \",\" \",\" \",\" \",\" \",\" \",\" \",\" \",\" \",\" \",\" \",\" \",\" \",\" \",\" \",\" \",\" \",\" \",\" \",\" \",\" \",\" \",\" \",\" \",\" \",\" \",\" \",\" \",\" \",\" \",\" \",\" \",\" \",\" \",\" \",\" \",\" \",\" \",\" \",\" \",\" \",\" \",\" \",\" \",\" \",\" \",\" \",\" \",\" \",\" \",\" \",\" \",\" \",\" \",\" \",\" \",\" \",\" \",\" \",\" \",\" \",\" \",\" \",\" \",\" \",\" \",\" \",\" \",\" \",\" \",\" \",\" \",\" \",\" \",\" \",\" \",\" \",\" \",\" \",\" \",\" \",\" \",\" \",\" \",\" \",\" \",\" \",\" \",\" \",\" \",\" \",\" \",\" \",\" \",\" \",\" \",\" \",\" \",\" \",\" \",\" \",\" \",\" \",\" \",\" \",\" \",\" \",\" \",\" \",\" \",\" \",\" \",\" \",\" \",\" \",\" \",\" \",\" \",\" \",\" \",\" \",\" \",\" \",\" \",\" \",\" \",\" \",\" \",\" \",\" \",\" \",\" \",\" \",\" \",\" \",\" \",\" \",\" \",\" \",\" \",\" \",\" \",\" \",\" \",\" \",\" \",\" \",\" \",\" \",\" \",\" \",\" \",\" \",\" \",\" \",\" \",\" \",\" \",\" \",\" \",\" \",\" \",\" \",\" \",\" \",\" \",\" \",\" \",\" \",\" \",\" \",\" \",\" \",\" \",\" \",\" \",\" \",\" \",\" \",\" \",\" \",\" \",\" \",\" \",\" \",\" \",\" \",\" \",\" \",\" \",\" \",\" \",\" \",\" \",\" \",\" \",\" \",\" \",\" \",\" \",\" \",\" \",\" \",\" \",\" \",\" \",\" \",\" \",\" \",\" \",\" \",\" \",\" \",\" \",\" \",\" \",\" \",\" \",\" \",\" \",\" \",\" \",\" \",\" \",\" \",\" \",\" \",\" \",\" \",\" \",\" \",\" \",\" \",\" \",\" \",\" \",\" \",\" \",\" \",\" \",\" \",\" \",\" \",\" \",\" \",\" \",\" \",\" \",\" \",\" \",\" \",\" \",\" \",\" \",\" \",\" \",\" \",\" \",\" \",\" \",\" \",\" \",\" \",\" \",\" \",\" \",\" \",\" \",\" \",\" \",\" \",\" \",\" \",\" \",\" \",\" \",\" \",\" \",\" \",\" \",\" \",\" \",\" \",\" \",\" \",\" \",\" \",\" \",\" \",\" \",\" \",\" \",\" \",\" \",\" \",\" \",\" \",\" \",\" \",\" \",\" \",\" \",\" \",\" \",\" \",\" \",\" \",\" \",\" \",\" \",\" \",\" \",\" \",\" \",\" \",\" \",\" \",\" \",\" \",\" \",\" \",\" \",\" \",\" \",\" \",\" \",\" \",\" \",\" \",\" \",\" \",\" \",\" \",\" \",\" \",\" \",\" \",\" \",\" \",\" \",\" \",\" \",\" \",\" \",\" \",\" \",\" \",\" \",\" \",\" \",\" \",\" \",\" \",\" \",\" \",\" \",\" \",\" \",\" \",\" \",\" \",\" \",\" \",\" \",\" \",\" \",\" \",\" \",\" \",\" \",\" \",\" \",\" \",\" \",\" \",\" \",\" \",\" \",\" \",\" \",\" \",\" \",\" \",\" \",\" \",\" \",\" \",\" \",\" \",\" \",\" \",\" \",\" \",\" \",\" \",\" \",\" \",\" \",\" \",\" \",\" \",\" \",\" \",\" \",\" \",\" \",\" \",\" \",\" \",\" \",\" \",\" \",\" \",\" \",\" \"],\"index\":[0,1,2,3,4,5,6,7,8,9,10,11,12,13,14,15,16,17,18,19,20,21,22,23,24,25,26,27,28,29,30,31,32,33,34,35,36,37,38,39,40,41,42,43,44,45,46,47,48,49,50,51,52,53,54,55,56,57,58,59,60,61,62,63,64,65,66,67,68,69,70,71,72,73,74,75,76,77,78,79,80,81,82,83,84,85,86,87,88,89,90,91,92,93,94,95,96,97,98,99,100,101,102,103,104,105,106,107,108,109,110,111,112,113,114,115,116,117,118,119,120,121,122,123,124,125,126,127,128,129,130,131,132,133,134,135,136,137,138,139,140,141,142,143,144,145,146,147,148,149,150,151,152,153,154,155,156,157,158,159,160,161,162,163,164,165,166,167,168,169,170,171,172,173,174,175,176,177,178,179,180,181,182,183,184,185,186,187,188,189,190,191,192,193,194,195,196,197,198,199,200,201,202,203,204,205,206,207,208,209,210,211,212,213,214,215,216,217,218,219,220,221,222,223,224,225,226,227,228,229,230,231,232,233,234,235,236,237,238,239,240,241,242,243,244,245,246,247,248,249,250,251,252,253,254,255,256,257,258,259,260,261,262,263,264,265,266,267,268,269,270,271,272,273,274,275,276,277,278,279,280,281,282,283,284,285,286,287,288,289,290,291,292,293,294,295,296,297,298,299,300,301,302,303,304,305,306,307,308,309,310,311,312,313,314,315,316,317,318,319,320,321,322,323,324,325,326,327,328,329,330,331,332,333,334,335,336,337,338,339,340,341,342,343,344,345,346,347,348,349,350,351,352,353,354,355,356,357,358,359,360,361,362,363,364,365,366,367,368,369,370,371,372,373,374,375,376,377,378,379,380,381,382,383,384,385,386,387,388,389,390,391,392,393,394,395,396,397,398,399,400,401,402,403,404,405,406,407,408,409,410,411,412,413,414,415,416,417,418,419,420,421,422,423,424,425,426,427,428,429,430,431,432,433,434,435,436,437,438,439,440,441,442,443,444,445,446,447,448,449,450,451,452,453,454,455,456,457,458,459,460,461,462,463,464,465,466,467,468,469,470,471,472,473,474,475,476,477,478,479,480,481,482,483,484,485,486,487,488,489,490,491,492,493,494,495,496,497,498,499,500,501,502,503,504,505,506,507,508,509,510,511,512,513,514,515,516,517,518,519,520,521,522,523,524,525,526,527,528,529,530,531,532,533,534,535,536,537,538,539,540,541,542,543,544,545,546,547,548,549,550,551,552,553,554,555,556,557,558,559,560,561,562,563,564,565,566,567,568,569,570,571,572,573,574,575,576,577,578,579,580,581,582,583,584,585,586,587,588,589,590,591,592,593,594,595,596,597,598,599,600,601,602,603,604,605,606,607,608,609,610,611,612,613,614,615,616,617,618,619,620,621,622,623,624,625,626,627,628,629,630,631,632,633,634,635,636,637,638,639,640,641,642,643,644,645,646,647,648,649,650,651,652,653,654,655,656,657,658,659,660,661,662,663,664,665,666,667,668,669]},\"selected\":{\"id\":\"1146\"},\"selection_policy\":{\"id\":\"1145\"}},\"id\":\"1123\",\"type\":\"ColumnDataSource\"},{\"attributes\":{},\"id\":\"1145\",\"type\":\"UnionRenderers\"},{\"attributes\":{\"bottom_units\":\"screen\",\"fill_alpha\":0.5,\"fill_color\":\"lightgrey\",\"left_units\":\"screen\",\"level\":\"overlay\",\"line_alpha\":1.0,\"line_color\":\"black\",\"line_dash\":[4,4],\"line_width\":2,\"right_units\":\"screen\",\"top_units\":\"screen\"},\"id\":\"1115\",\"type\":\"BoxAnnotation\"},{\"attributes\":{\"axis\":{\"id\":\"1101\"},\"ticker\":null},\"id\":\"1104\",\"type\":\"Grid\"},{\"attributes\":{\"data_source\":{\"id\":\"1123\"},\"glyph\":{\"id\":\"1125\"},\"hover_glyph\":null,\"muted_glyph\":null,\"nonselection_glyph\":{\"id\":\"1126\"},\"selection_glyph\":null,\"view\":{\"id\":\"1128\"}},\"id\":\"1127\",\"type\":\"GlyphRenderer\"},{\"attributes\":{},\"id\":\"1146\",\"type\":\"Selection\"},{\"attributes\":{},\"id\":\"1095\",\"type\":\"DataRange1d\"},{\"attributes\":{},\"id\":\"1142\",\"type\":\"BasicTickFormatter\"},{\"attributes\":{\"axis\":{\"id\":\"1105\"},\"dimension\":1,\"ticker\":null},\"id\":\"1108\",\"type\":\"Grid\"},{\"attributes\":{\"source\":{\"id\":\"1123\"}},\"id\":\"1128\",\"type\":\"CDSView\"},{\"attributes\":{},\"id\":\"1106\",\"type\":\"BasicTicker\"},{\"attributes\":{\"fill_color\":{\"value\":\"#1f77b3\"},\"line_color\":{\"value\":\"#1f77b3\"},\"x\":{\"field\":\"Spindle Length (um)\"},\"y\":{\"field\":\"__ECDF\"}},\"id\":\"1125\",\"type\":\"Circle\"},{\"attributes\":{\"axis_label\":\"Spindle Length (um)\",\"formatter\":{\"id\":\"1140\"},\"ticker\":{\"id\":\"1102\"}},\"id\":\"1101\",\"type\":\"LinearAxis\"},{\"attributes\":{},\"id\":\"1093\",\"type\":\"DataRange1d\"},{\"attributes\":{\"axis_label\":\"ECDF\",\"formatter\":{\"id\":\"1142\"},\"ticker\":{\"id\":\"1106\"}},\"id\":\"1105\",\"type\":\"LinearAxis\"},{\"attributes\":{\"active_drag\":\"auto\",\"active_inspect\":\"auto\",\"active_multi\":null,\"active_scroll\":\"auto\",\"active_tap\":\"auto\",\"tools\":[{\"id\":\"1109\"},{\"id\":\"1110\"},{\"id\":\"1111\"},{\"id\":\"1112\"},{\"id\":\"1113\"},{\"id\":\"1114\"}]},\"id\":\"1116\",\"type\":\"Toolbar\"},{\"attributes\":{},\"id\":\"1140\",\"type\":\"BasicTickFormatter\"},{\"attributes\":{},\"id\":\"1102\",\"type\":\"BasicTicker\"},{\"attributes\":{},\"id\":\"1110\",\"type\":\"WheelZoomTool\"},{\"attributes\":{\"text\":\"\"},\"id\":\"1139\",\"type\":\"Title\"}],\"root_ids\":[\"1092\"]},\"title\":\"Bokeh Application\",\"version\":\"2.2.3\"}};\n",
       "  var render_items = [{\"docid\":\"836ec1d0-6f8c-4635-9a7d-00a6a5c20906\",\"root_ids\":[\"1092\"],\"roots\":{\"1092\":\"453a98bf-1c72-4c43-b52b-cff2f245a76f\"}}];\n",
       "  root.Bokeh.embed.embed_items_notebook(docs_json, render_items);\n",
       "\n",
       "  }\n",
       "  if (root.Bokeh !== undefined) {\n",
       "    embed_document(root);\n",
       "  } else {\n",
       "    var attempts = 0;\n",
       "    var timer = setInterval(function(root) {\n",
       "      if (root.Bokeh !== undefined) {\n",
       "        clearInterval(timer);\n",
       "        embed_document(root);\n",
       "      } else {\n",
       "        attempts++;\n",
       "        if (attempts > 100) {\n",
       "          clearInterval(timer);\n",
       "          console.log(\"Bokeh: ERROR: Unable to run BokehJS code because BokehJS library is missing\");\n",
       "        }\n",
       "      }\n",
       "    }, 10, root)\n",
       "  }\n",
       "})(window);"
      ],
      "application/vnd.bokehjs_exec.v0+json": ""
     },
     "metadata": {
      "application/vnd.bokehjs_exec.v0+json": {
       "id": "1092"
      }
     },
     "output_type": "display_data"
    }
   ],
   "source": [
    "bokeh.io.show(iqplot.ecdf(df_spindle, q='Spindle Length (um)'))"
   ]
  },
  {
   "cell_type": "markdown",
   "metadata": {},
   "source": [
    "Say the spindle length is independent of droplet size. We would then expect the spindle length to be given by\n",
    "\n",
    "\\begin{aligned}\n",
    "l_i = \\phi + e_i,\n",
    "\\end{aligned}\n",
    "\n",
    "where $e_i$ is the noise component of the $i$the datum. So, we have a theoretical model for spindle length, $l = \\phi$, and to get a fully generative model, we need to model the errors $e_i$.  \n",
    "\n",
    "Let us use the following likelihood (for explanation on how this likelihood was chosen, please see [the discussion of this data set from last term](https://bebi103a.github.io/lessons/20/model_building.html#Model-1:-Spindle-size-is-independent-of-droplet-size)).\n",
    "\n",
    "\\begin{align}\n",
    "l_i \\sim \\text{Norm}(\\phi, \\sigma) \\;\\;\\forall i.\n",
    "\\end{align}\n",
    "\n",
    "So, we will need to choose the priors $g(\\phi)$ and $g(\\sigma)$.  "
   ]
  },
  {
   "cell_type": "markdown",
   "metadata": {},
   "source": [
    "#### Possibility #1:   \n",
    "\n",
    "Let's think about what we know about mitotic spindles. I don't know their exact range in size, but I would guess a reasonable choice for $\\phi$ might be around ~20 µm. Why? I know a eukaryotic cell is around 100 µm, so it's going to be smaller than that. But I also know the mitotic spindle has to separate chromosomes during metaphase/anaphase, so they're going to have some length probably greater than 1 µm. 20 um sounds reasonable, but I'm not super sure about it, so let's be sure to keep it broad. I think the spindles could probably take on a large range of values. I also don't think the mean length is going to be affected by any other parameters in my model. Based on this, I'll make a rough sketch of my idea for $g(\\phi)$.\n",
    "\n",
    "<div style=\"margin: auto; width: 500px\">\n",
    "\n",
    "![Sketch of prior](prior_sketch.jpg)\n",
    "    \n",
    "</div>\n",
    "\n",
    "\n",
    "Great! I can use the Distribution Explorer to choose a reasonable prior based on my sketch. I will choose: \n",
    "\n",
    "\\begin{align}\n",
    "g(\\phi) \\sim \\text{Norm}(20, 20).\n",
    "\\end{align}\n",
    "\n",
    "We can plot the result."
   ]
  },
  {
   "cell_type": "code",
   "execution_count": 5,
   "metadata": {},
   "outputs": [
    {
     "data": {
      "text/html": [
       "\n",
       "\n",
       "\n",
       "\n",
       "\n",
       "\n",
       "  <div class=\"bk-root\" id=\"635f10f5-ed19-4fa5-afea-db8fd6d092d1\" data-root-id=\"1192\"></div>\n"
      ]
     },
     "metadata": {},
     "output_type": "display_data"
    },
    {
     "data": {
      "application/javascript": [
       "(function(root) {\n",
       "  function embed_document(root) {\n",
       "    \n",
       "  var docs_json = {\"0caa2cc2-eee0-4a1a-a7b3-a87d1a05ac43\":{\"roots\":{\"references\":[{\"attributes\":{\"below\":[{\"id\":\"1201\"}],\"center\":[{\"id\":\"1204\"},{\"id\":\"1208\"}],\"frame_height\":200,\"frame_width\":300,\"left\":[{\"id\":\"1205\"}],\"renderers\":[{\"id\":\"1226\"}],\"title\":{\"id\":\"1247\"},\"toolbar\":{\"id\":\"1216\"},\"x_range\":{\"id\":\"1193\"},\"x_scale\":{\"id\":\"1197\"},\"y_range\":{\"id\":\"1195\"},\"y_scale\":{\"id\":\"1199\"}},\"id\":\"1192\",\"subtype\":\"Figure\",\"type\":\"Plot\"},{\"attributes\":{\"axis_label\":\"\\u03c6 (\\u00b5m)\",\"formatter\":{\"id\":\"1248\"},\"ticker\":{\"id\":\"1202\"}},\"id\":\"1201\",\"type\":\"LinearAxis\"},{\"attributes\":{},\"id\":\"1197\",\"type\":\"LinearScale\"},{\"attributes\":{},\"id\":\"1193\",\"type\":\"DataRange1d\"},{\"attributes\":{},\"id\":\"1195\",\"type\":\"DataRange1d\"},{\"attributes\":{},\"id\":\"1210\",\"type\":\"WheelZoomTool\"},{\"attributes\":{},\"id\":\"1199\",\"type\":\"LinearScale\"},{\"attributes\":{},\"id\":\"1250\",\"type\":\"BasicTickFormatter\"},{\"attributes\":{},\"id\":\"1214\",\"type\":\"HelpTool\"},{\"attributes\":{},\"id\":\"1209\",\"type\":\"PanTool\"},{\"attributes\":{\"text\":\"\"},\"id\":\"1247\",\"type\":\"Title\"},{\"attributes\":{},\"id\":\"1202\",\"type\":\"BasicTicker\"},{\"attributes\":{\"axis\":{\"id\":\"1201\"},\"ticker\":null},\"id\":\"1204\",\"type\":\"Grid\"},{\"attributes\":{},\"id\":\"1212\",\"type\":\"SaveTool\"},{\"attributes\":{\"active_drag\":\"auto\",\"active_inspect\":\"auto\",\"active_multi\":null,\"active_scroll\":\"auto\",\"active_tap\":\"auto\",\"tools\":[{\"id\":\"1209\"},{\"id\":\"1210\"},{\"id\":\"1211\"},{\"id\":\"1212\"},{\"id\":\"1213\"},{\"id\":\"1214\"}]},\"id\":\"1216\",\"type\":\"Toolbar\"},{\"attributes\":{\"axis_label\":\"g(\\u03c6)\",\"formatter\":{\"id\":\"1250\"},\"ticker\":{\"id\":\"1206\"}},\"id\":\"1205\",\"type\":\"LinearAxis\"},{\"attributes\":{\"line_color\":\"#1f77b4\",\"line_width\":2,\"x\":{\"field\":\"x\"},\"y\":{\"field\":\"y\"}},\"id\":\"1224\",\"type\":\"Line\"},{\"attributes\":{},\"id\":\"1206\",\"type\":\"BasicTicker\"},{\"attributes\":{},\"id\":\"1213\",\"type\":\"ResetTool\"},{\"attributes\":{\"line_alpha\":0.1,\"line_color\":\"#1f77b4\",\"line_width\":2,\"x\":{\"field\":\"x\"},\"y\":{\"field\":\"y\"}},\"id\":\"1225\",\"type\":\"Line\"},{\"attributes\":{\"source\":{\"id\":\"1223\"}},\"id\":\"1227\",\"type\":\"CDSView\"},{\"attributes\":{\"data_source\":{\"id\":\"1223\"},\"glyph\":{\"id\":\"1224\"},\"hover_glyph\":null,\"muted_glyph\":null,\"nonselection_glyph\":{\"id\":\"1225\"},\"selection_glyph\":null,\"view\":{\"id\":\"1227\"}},\"id\":\"1226\",\"type\":\"GlyphRenderer\"},{\"attributes\":{\"overlay\":{\"id\":\"1215\"}},\"id\":\"1211\",\"type\":\"BoxZoomTool\"},{\"attributes\":{\"data\":{\"x\":{\"__ndarray__\":\"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\",\"dtype\":\"float64\",\"order\":\"little\",\"shape\":[200]},\"y\":{\"__ndarray__\":\"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\",\"dtype\":\"float64\",\"order\":\"little\",\"shape\":[200]}},\"selected\":{\"id\":\"1254\"},\"selection_policy\":{\"id\":\"1253\"}},\"id\":\"1223\",\"type\":\"ColumnDataSource\"},{\"attributes\":{\"axis\":{\"id\":\"1205\"},\"dimension\":1,\"ticker\":null},\"id\":\"1208\",\"type\":\"Grid\"},{\"attributes\":{},\"id\":\"1253\",\"type\":\"UnionRenderers\"},{\"attributes\":{},\"id\":\"1254\",\"type\":\"Selection\"},{\"attributes\":{},\"id\":\"1248\",\"type\":\"BasicTickFormatter\"},{\"attributes\":{\"bottom_units\":\"screen\",\"fill_alpha\":0.5,\"fill_color\":\"lightgrey\",\"left_units\":\"screen\",\"level\":\"overlay\",\"line_alpha\":1.0,\"line_color\":\"black\",\"line_dash\":[4,4],\"line_width\":2,\"right_units\":\"screen\",\"top_units\":\"screen\"},\"id\":\"1215\",\"type\":\"BoxAnnotation\"}],\"root_ids\":[\"1192\"]},\"title\":\"Bokeh Application\",\"version\":\"2.2.3\"}};\n",
       "  var render_items = [{\"docid\":\"0caa2cc2-eee0-4a1a-a7b3-a87d1a05ac43\",\"root_ids\":[\"1192\"],\"roots\":{\"1192\":\"635f10f5-ed19-4fa5-afea-db8fd6d092d1\"}}];\n",
       "  root.Bokeh.embed.embed_items_notebook(docs_json, render_items);\n",
       "\n",
       "  }\n",
       "  if (root.Bokeh !== undefined) {\n",
       "    embed_document(root);\n",
       "  } else {\n",
       "    var attempts = 0;\n",
       "    var timer = setInterval(function(root) {\n",
       "      if (root.Bokeh !== undefined) {\n",
       "        clearInterval(timer);\n",
       "        embed_document(root);\n",
       "      } else {\n",
       "        attempts++;\n",
       "        if (attempts > 100) {\n",
       "          clearInterval(timer);\n",
       "          console.log(\"Bokeh: ERROR: Unable to run BokehJS code because BokehJS library is missing\");\n",
       "        }\n",
       "      }\n",
       "    }, 10, root)\n",
       "  }\n",
       "})(window);"
      ],
      "application/vnd.bokehjs_exec.v0+json": ""
     },
     "metadata": {
      "application/vnd.bokehjs_exec.v0+json": {
       "id": "1192"
      }
     },
     "output_type": "display_data"
    }
   ],
   "source": [
    "phi = np.linspace(-50, 100, 200)\n",
    "p = bokeh.plotting.figure(\n",
    "    frame_width=300, frame_height=200, x_axis_label=\"φ (µm)\", y_axis_label=\"g(φ)\"\n",
    ")\n",
    "p.line(phi, st.norm.pdf(phi, 20, 20), line_width=2)\n",
    "bokeh.io.show(p)"
   ]
  },
  {
   "cell_type": "markdown",
   "metadata": {},
   "source": [
    "For $g(\\sigma)$, I might choose a normal prior again. I think spindle size may vary a fair amount. They are created spontaneously in a droplet, so I would guess there could be many sizes. Therefore, I might choose\n",
    "$$\n",
    "\\begin{aligned}\n",
    "g(\\sigma) \\sim \\text{Norm}(5, 5)\n",
    "\\end{aligned}\n",
    "$$"
   ]
  },
  {
   "cell_type": "code",
   "execution_count": 6,
   "metadata": {},
   "outputs": [
    {
     "data": {
      "text/html": [
       "\n",
       "\n",
       "\n",
       "\n",
       "\n",
       "\n",
       "  <div class=\"bk-root\" id=\"84dc0e40-dda5-4aa1-b42f-fb9c4e451539\" data-root-id=\"1300\"></div>\n"
      ]
     },
     "metadata": {},
     "output_type": "display_data"
    },
    {
     "data": {
      "application/javascript": [
       "(function(root) {\n",
       "  function embed_document(root) {\n",
       "    \n",
       "  var docs_json = {\"1bda9953-7800-4258-88a7-1ab8ff0236d8\":{\"roots\":{\"references\":[{\"attributes\":{\"below\":[{\"id\":\"1309\"}],\"center\":[{\"id\":\"1312\"},{\"id\":\"1316\"}],\"frame_height\":200,\"frame_width\":300,\"left\":[{\"id\":\"1313\"}],\"renderers\":[{\"id\":\"1334\"}],\"title\":{\"id\":\"1364\"},\"toolbar\":{\"id\":\"1324\"},\"x_range\":{\"id\":\"1301\"},\"x_scale\":{\"id\":\"1305\"},\"y_range\":{\"id\":\"1303\"},\"y_scale\":{\"id\":\"1307\"}},\"id\":\"1300\",\"subtype\":\"Figure\",\"type\":\"Plot\"},{\"attributes\":{\"data\":{\"x\":{\"__ndarray__\":\"AAAAAAAAJMBlk0022WQjwMomm2yyySLALrrooosuIsCTTTbZZJMhwPjggw8++CDAXXTRRRddIMCEDz744IMfwE422WSTTR7AF1100UUXHcDhgw8++OAbwKqqqqqqqhrAdNFFF110GcA++OCDDz4YwAgffPDBBxfA0UUXXXTRFcCbbLLJJpsUwGWTTTbZZBPALrrooosuEsD44IMPPvgQwIQPPvjggw/AFl100UUXDcCqqqqqqqoKwD744IMPPgjA0EUXXXTRBcBkk0022WQDwPjggw8++ADAGF100UUX/b9A+OCDDz74v2CTTTbZZPO/EF100UUX7b9gk0022WTjv2CTTTbZZNO/AAAAAAAAAABgk0022WTTP2CTTTbZZOM/IF100UUX7T9ok0022WTzP0D44IMPPvg/GF100UUX/T/44IMPPvgAQGSTTTbZZANA1EUXXXTRBUBA+OCDDz4IQKyqqqqqqgpAGF100UUXDUCEDz744IMPQPjggw8++BBAMLrooosuEkBmk0022WQTQJxssskmmxRA0kUXXXTRFUAIH3zwwQcXQED44IMPPhhAdNFFF110GUCsqqqqqqoaQOCDDz744BtAGF100UUXHUBQNtlkk00eQIQPPvjggx9AXnTRRRddIED44IMPPvggQJRNNtlkkyFALrrooosuIkDKJptssskiQGaTTTbZZCNAAAAAAAAAJECcbLLJJpskQDbZZJNNNiVA0kUXXXTRJUBssskmm2wmQAgffPDBBydApIsuuuiiJ0A++OCDDz4oQNpkk0022ShAdNFFF110KUAQPvjggw8qQKyqqqqqqipARhdddNFFK0Digw8++OArQHzwwQcffCxAGF100UUXLUCyySabbLItQE422WSTTS5A6qKLLrroLkCEDz744IMvQBA++OCDDzBAXXTRRRddMECrqqqqqqowQPjggw8++DBARhdddNFFMUCUTTbZZJMxQOGDDz744DFAL7rooosuMkB88MEHH3wyQMomm2yyyTJAGF100UUXM0Blk0022WQzQLPJJptssjNAAAAAAAAANEA=\",\"dtype\":\"float64\",\"order\":\"little\",\"shape\":[100]},\"y\":{\"__ndarray__\":\"dYolZmgLTT+R+Wdj0WJRPzQdpGP2vFQ/rw/cUVilWD8d6Iq/vS5dP7/RTrC+NmE/mJTEP7o7ZD8nmeT2+bFnP/JkLBjRpWs/bpnjbhQScD+NL6iMMp1yPyKEgvMge3U/klVuEtWyeD92MDBCQ0t8P66t9E6hJYA/g3j1o7Zcgj9Ts1qq/s2EP4Yj7VpTfIc/mg32Tzdqij/ypm2EwJmNPzhAfT9BhpA/ktM9LLxhkj9QaUCOd1+UP2K6S4c4f5Y/zTmANFnAmD8d78cXwCGbP0JfxtnYoZ0/MGq4WEcfoD/CQltdpHqhP/fuoT904aI/geK2deVRpD8m3OHu5cmlP81k6zgmR6c/kxJcCx7HqD9+6vY3EkeqP9otTfYbxKs/GlJxdjE7rT/6le6cL6muP+LkS2ByBbA/me3oHI6usD9d14VFVU6xP6EJt/E847E/DX/eW8trsj/53BEVnuayP343M/xvUrM/tZpo1B6usz8UuqBYsPizP5qdY6xWMbQ/W3e9DXRXtD8T6YawnWq0PxLphrCdarQ/W3e9DXRXtD+anWOsVjG0PxS6oFiw+LM/tZpo1B6usz9+NzP8b1KzP/ncERWe5rI/DH/eW8trsj+gCbfxPOOxP13XhUVVTrE/mO3oHI6usD/i5EtgcgWwP/aV7pwvqa4/GlJxdjE7rT/aLU32G8SrP3vq9jcSR6o/kxJcCx7HqD/KZOs4JkenPybc4e7lyaU/fuK2deVRpD/37qE/dOGiP8JCW12keqE/Lmq4WEcfoD9CX8bZ2KGdPxvvxxfAIZs/zTmANFnAmD9iukuHOH+WP0ppQI53X5Q/ktM9LLxhkj8zQH0/QYaQP/KmbYTAmY0/lQ32Tzdqij+GI+1aU3yHP1OzWqr+zYQ/fnj1o7Zcgj+urfROoSWAP3AwMEJDS3w/klVuEtWyeD8ahILzIHt1P40vqIwynXI/bpnjbhQScD/qZCwY0aVrPyeZ5Pb5sWc/k5TEP7o7ZD+/0U6wvjZhPxLoir+9Ll0/nA/cUVilWD80HaRj9rxUP4j5Z2PRYlE/dYolZmgLTT8=\",\"dtype\":\"float64\",\"order\":\"little\",\"shape\":[100]}},\"selected\":{\"id\":\"1371\"},\"selection_policy\":{\"id\":\"1370\"}},\"id\":\"1331\",\"type\":\"ColumnDataSource\"},{\"attributes\":{},\"id\":\"1365\",\"type\":\"BasicTickFormatter\"},{\"attributes\":{\"data_source\":{\"id\":\"1331\"},\"glyph\":{\"id\":\"1332\"},\"hover_glyph\":null,\"muted_glyph\":null,\"nonselection_glyph\":{\"id\":\"1333\"},\"selection_glyph\":null,\"view\":{\"id\":\"1335\"}},\"id\":\"1334\",\"type\":\"GlyphRenderer\"},{\"attributes\":{},\"id\":\"1301\",\"type\":\"DataRange1d\"},{\"attributes\":{\"axis_label\":\"sigma (\\u00b5m)\",\"formatter\":{\"id\":\"1365\"},\"ticker\":{\"id\":\"1310\"}},\"id\":\"1309\",\"type\":\"LinearAxis\"},{\"attributes\":{},\"id\":\"1305\",\"type\":\"LinearScale\"},{\"attributes\":{},\"id\":\"1367\",\"type\":\"BasicTickFormatter\"},{\"attributes\":{\"source\":{\"id\":\"1331\"}},\"id\":\"1335\",\"type\":\"CDSView\"},{\"attributes\":{\"axis\":{\"id\":\"1313\"},\"dimension\":1,\"ticker\":null},\"id\":\"1316\",\"type\":\"Grid\"},{\"attributes\":{},\"id\":\"1303\",\"type\":\"DataRange1d\"},{\"attributes\":{},\"id\":\"1307\",\"type\":\"LinearScale\"},{\"attributes\":{},\"id\":\"1320\",\"type\":\"SaveTool\"},{\"attributes\":{\"line_alpha\":0.1,\"line_color\":\"#1f77b4\",\"line_width\":2,\"x\":{\"field\":\"x\"},\"y\":{\"field\":\"y\"}},\"id\":\"1333\",\"type\":\"Line\"},{\"attributes\":{},\"id\":\"1310\",\"type\":\"BasicTicker\"},{\"attributes\":{\"axis\":{\"id\":\"1309\"},\"ticker\":null},\"id\":\"1312\",\"type\":\"Grid\"},{\"attributes\":{\"overlay\":{\"id\":\"1323\"}},\"id\":\"1319\",\"type\":\"BoxZoomTool\"},{\"attributes\":{},\"id\":\"1321\",\"type\":\"ResetTool\"},{\"attributes\":{\"axis_label\":\"g(sigma)\",\"formatter\":{\"id\":\"1367\"},\"ticker\":{\"id\":\"1314\"}},\"id\":\"1313\",\"type\":\"LinearAxis\"},{\"attributes\":{},\"id\":\"1318\",\"type\":\"WheelZoomTool\"},{\"attributes\":{},\"id\":\"1322\",\"type\":\"HelpTool\"},{\"attributes\":{},\"id\":\"1314\",\"type\":\"BasicTicker\"},{\"attributes\":{\"line_color\":\"#1f77b4\",\"line_width\":2,\"x\":{\"field\":\"x\"},\"y\":{\"field\":\"y\"}},\"id\":\"1332\",\"type\":\"Line\"},{\"attributes\":{\"active_drag\":\"auto\",\"active_inspect\":\"auto\",\"active_multi\":null,\"active_scroll\":\"auto\",\"active_tap\":\"auto\",\"tools\":[{\"id\":\"1317\"},{\"id\":\"1318\"},{\"id\":\"1319\"},{\"id\":\"1320\"},{\"id\":\"1321\"},{\"id\":\"1322\"}]},\"id\":\"1324\",\"type\":\"Toolbar\"},{\"attributes\":{},\"id\":\"1317\",\"type\":\"PanTool\"},{\"attributes\":{\"text\":\"\"},\"id\":\"1364\",\"type\":\"Title\"},{\"attributes\":{\"bottom_units\":\"screen\",\"fill_alpha\":0.5,\"fill_color\":\"lightgrey\",\"left_units\":\"screen\",\"level\":\"overlay\",\"line_alpha\":1.0,\"line_color\":\"black\",\"line_dash\":[4,4],\"line_width\":2,\"right_units\":\"screen\",\"top_units\":\"screen\"},\"id\":\"1323\",\"type\":\"BoxAnnotation\"},{\"attributes\":{},\"id\":\"1370\",\"type\":\"UnionRenderers\"},{\"attributes\":{},\"id\":\"1371\",\"type\":\"Selection\"}],\"root_ids\":[\"1300\"]},\"title\":\"Bokeh Application\",\"version\":\"2.2.3\"}};\n",
       "  var render_items = [{\"docid\":\"1bda9953-7800-4258-88a7-1ab8ff0236d8\",\"root_ids\":[\"1300\"],\"roots\":{\"1300\":\"84dc0e40-dda5-4aa1-b42f-fb9c4e451539\"}}];\n",
       "  root.Bokeh.embed.embed_items_notebook(docs_json, render_items);\n",
       "\n",
       "  }\n",
       "  if (root.Bokeh !== undefined) {\n",
       "    embed_document(root);\n",
       "  } else {\n",
       "    var attempts = 0;\n",
       "    var timer = setInterval(function(root) {\n",
       "      if (root.Bokeh !== undefined) {\n",
       "        clearInterval(timer);\n",
       "        embed_document(root);\n",
       "      } else {\n",
       "        attempts++;\n",
       "        if (attempts > 100) {\n",
       "          clearInterval(timer);\n",
       "          console.log(\"Bokeh: ERROR: Unable to run BokehJS code because BokehJS library is missing\");\n",
       "        }\n",
       "      }\n",
       "    }, 10, root)\n",
       "  }\n",
       "})(window);"
      ],
      "application/vnd.bokehjs_exec.v0+json": ""
     },
     "metadata": {
      "application/vnd.bokehjs_exec.v0+json": {
       "id": "1300"
      }
     },
     "output_type": "display_data"
    }
   ],
   "source": [
    "sigma = np.linspace(-10, 20, 100)\n",
    "p = bokeh.plotting.figure(\n",
    "    frame_width=300,\n",
    "    frame_height=200,\n",
    "    x_axis_label=\"sigma (µm)\",\n",
    "    y_axis_label=\"g(sigma)\",\n",
    ")\n",
    "p.line(sigma, st.norm.pdf(sigma, 5, 5), line_width=2)\n",
    "bokeh.io.show(p)"
   ]
  },
  {
   "cell_type": "markdown",
   "metadata": {},
   "source": [
    "In this case, I chose the shape for the prior above because 1) I am speculating that the average length might vary by 25-70%, and 2) this standard deviation is likely to have a distribution that has the shape of a normal distribution. \n"
   ]
  },
  {
   "cell_type": "markdown",
   "metadata": {},
   "source": [
    "#### Visualizing the Prior\n",
    "The prior can be a bit confusing because it's hard to think about what it means. When choosing priors, we think about our knowledge of the parameter before collecting data. From what we know, we can estimate the probability of the parameter taking on certain values, and therefore can choose a reasonable distribution for our prior probability. One question that came up in recitation a lot is: what does each part of the prior mean? For example, what does the µ in $g(\\phi) \\sim \\text{Normal}(\\mu, \\sigma)$ represent? What about the $\\sigma$?\n",
    "\n",
    "Consider our prior $g(\\phi) \\sim \\text{Normal}(\\mu, \\sigma)$. We want to choose a prior for $\\phi$ that represents the probability of $\\phi$ taking on possible values. We chose a normal prior, so we are concerned with prior parameters $\\mu$ and $\\sigma$. It is important to note that the $\\mu$ in $g(\\phi) \\sim \\text{Normal}(\\mu, \\sigma)$ is not the same parameter as the $\\phi$ in $l_i \\sim \\text{Norm}(\\phi, \\sigma) \\;\\;\\forall i$. In the likelihood, $l_i \\sim \\text{Norm}(\\phi, \\sigma) \\;\\;\\forall i$, $\\phi$ is the location parameter of the PDF of the likelihood, and therefore represents the center of the probability distribution of the values of $l_i$. In the prior for $\\phi$, $g(\\phi) \\sim \\text{Normal}(\\mu, \\sigma)$, $\\mu$ is the location parameter of the probability distribution of the possible values of $\\phi$, the center we were just talking about. Essentially, $g(\\phi)$ is giving the estimated probability distribution for where $\\phi$ lies.  \n",
    "\n",
    "What can be even more confusing is the $\\sigma$ in $g(\\phi) \\sim \\text{Normal}(\\mu, \\sigma)$. This is not related to the $\\sigma$ in $l_i \\sim \\text{Norm}(\\phi, \\sigma) \\;\\;\\forall i$!! In $g(\\phi) \\sim \\text{Normal}(\\mu, \\sigma)$, $\\sigma$ is the scale parameter for our PDF for possible $\\phi$s. If we want to pick a broad normal prior probability distribution for $\\phi$, then $\\sigma$ will be large."
   ]
  },
  {
   "cell_type": "markdown",
   "metadata": {},
   "source": [
    "#### Possibility #2:\n",
    "\n",
    "You may be thinking: hold on, $\\phi$ and $\\sigma$ could not physically have negative values, so why are we using normal priors that could potentially take on negative values? Totally fair point! We can resolve this in a few ways: \n",
    "\n",
    "1. If the location parameter for our Normal prior is far away from 0, negative values have a very low probability anyway due to the light tails, so we won't have to worry about them too much. We can just include a conditional statement in our model to avoid negative values for our prior.\n",
    "2. We could choose a Log-Normal or Half-Normal prior to avoid this issue. Be sure to review those distributions on the distribution explorer to make sure they are reasonable choices.\n",
    "\n",
    "Rethinking my prior $g(\\phi)$, I might consider a Log-Normal prior. 1) The Log-Normal prior will not take on negative values, which is physically true for $\\phi$, and 2) I think it is reasonable that $\\text{ln}(\\phi)$ is normally distributed. I could expect the probability on the left side of $\\mu$ to vanish more quickly than on the right. So, I will choose:  \n",
    "\n",
    "\\begin{align}\n",
    "g(\\phi) \\sim \\text{LogNorm}(\\text{ln} \\ 20, 0.75)\n",
    "\\end{align}\n",
    "\n",
    "Which looks like:"
   ]
  },
  {
   "cell_type": "code",
   "execution_count": 7,
   "metadata": {},
   "outputs": [
    {
     "data": {
      "text/html": [
       "\n",
       "\n",
       "\n",
       "\n",
       "\n",
       "\n",
       "  <div class=\"bk-root\" id=\"63ba9648-7dc9-418f-a5c5-860aeeab619c\" data-root-id=\"1417\"></div>\n"
      ]
     },
     "metadata": {},
     "output_type": "display_data"
    },
    {
     "data": {
      "application/javascript": [
       "(function(root) {\n",
       "  function embed_document(root) {\n",
       "    \n",
       "  var docs_json = {\"a914cb61-e569-43d1-86eb-715e3f004b3b\":{\"roots\":{\"references\":[{\"attributes\":{\"below\":[{\"id\":\"1426\"}],\"center\":[{\"id\":\"1429\"},{\"id\":\"1433\"}],\"frame_height\":200,\"frame_width\":300,\"left\":[{\"id\":\"1430\"}],\"renderers\":[{\"id\":\"1451\"}],\"title\":{\"id\":\"1490\"},\"toolbar\":{\"id\":\"1441\"},\"x_range\":{\"id\":\"1418\"},\"x_scale\":{\"id\":\"1422\"},\"y_range\":{\"id\":\"1420\"},\"y_scale\":{\"id\":\"1424\"}},\"id\":\"1417\",\"subtype\":\"Figure\",\"type\":\"Plot\"},{\"attributes\":{\"source\":{\"id\":\"1448\"}},\"id\":\"1452\",\"type\":\"CDSView\"},{\"attributes\":{},\"id\":\"1434\",\"type\":\"PanTool\"},{\"attributes\":{\"overlay\":{\"id\":\"1440\"}},\"id\":\"1436\",\"type\":\"BoxZoomTool\"},{\"attributes\":{},\"id\":\"1437\",\"type\":\"SaveTool\"},{\"attributes\":{},\"id\":\"1435\",\"type\":\"WheelZoomTool\"},{\"attributes\":{},\"id\":\"1496\",\"type\":\"UnionRenderers\"},{\"attributes\":{},\"id\":\"1438\",\"type\":\"ResetTool\"},{\"attributes\":{},\"id\":\"1497\",\"type\":\"Selection\"},{\"attributes\":{\"line_alpha\":0.1,\"line_color\":\"#1f77b4\",\"line_width\":2,\"x\":{\"field\":\"x\"},\"y\":{\"field\":\"y\"}},\"id\":\"1450\",\"type\":\"Line\"},{\"attributes\":{\"axis_label\":\"g(phi)\",\"formatter\":{\"id\":\"1493\"},\"ticker\":{\"id\":\"1431\"}},\"id\":\"1430\",\"type\":\"LinearAxis\"},{\"attributes\":{\"axis\":{\"id\":\"1430\"},\"dimension\":1,\"ticker\":null},\"id\":\"1433\",\"type\":\"Grid\"},{\"attributes\":{},\"id\":\"1491\",\"type\":\"BasicTickFormatter\"},{\"attributes\":{},\"id\":\"1493\",\"type\":\"BasicTickFormatter\"},{\"attributes\":{\"axis\":{\"id\":\"1426\"},\"ticker\":null},\"id\":\"1429\",\"type\":\"Grid\"},{\"attributes\":{},\"id\":\"1439\",\"type\":\"HelpTool\"},{\"attributes\":{},\"id\":\"1431\",\"type\":\"BasicTicker\"},{\"attributes\":{\"active_drag\":\"auto\",\"active_inspect\":\"auto\",\"active_multi\":null,\"active_scroll\":\"auto\",\"active_tap\":\"auto\",\"tools\":[{\"id\":\"1434\"},{\"id\":\"1435\"},{\"id\":\"1436\"},{\"id\":\"1437\"},{\"id\":\"1438\"},{\"id\":\"1439\"}]},\"id\":\"1441\",\"type\":\"Toolbar\"},{\"attributes\":{\"text\":\"\"},\"id\":\"1490\",\"type\":\"Title\"},{\"attributes\":{\"data\":{\"x\":{\"__ndarray__\":\"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\",\"dtype\":\"float64\",\"order\":\"little\",\"shape\":[200]},\"y\":{\"__ndarray__\":\"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\",\"dtype\":\"float64\",\"order\":\"little\",\"shape\":[200]}},\"selected\":{\"id\":\"1497\"},\"selection_policy\":{\"id\":\"1496\"}},\"id\":\"1448\",\"type\":\"ColumnDataSource\"},{\"attributes\":{\"bottom_units\":\"screen\",\"fill_alpha\":0.5,\"fill_color\":\"lightgrey\",\"left_units\":\"screen\",\"level\":\"overlay\",\"line_alpha\":1.0,\"line_color\":\"black\",\"line_dash\":[4,4],\"line_width\":2,\"right_units\":\"screen\",\"top_units\":\"screen\"},\"id\":\"1440\",\"type\":\"BoxAnnotation\"},{\"attributes\":{},\"id\":\"1418\",\"type\":\"DataRange1d\"},{\"attributes\":{\"data_source\":{\"id\":\"1448\"},\"glyph\":{\"id\":\"1449\"},\"hover_glyph\":null,\"muted_glyph\":null,\"nonselection_glyph\":{\"id\":\"1450\"},\"selection_glyph\":null,\"view\":{\"id\":\"1452\"}},\"id\":\"1451\",\"type\":\"GlyphRenderer\"},{\"attributes\":{\"axis_label\":\"phi (\\u00b5m)\",\"formatter\":{\"id\":\"1491\"},\"ticker\":{\"id\":\"1427\"}},\"id\":\"1426\",\"type\":\"LinearAxis\"},{\"attributes\":{},\"id\":\"1422\",\"type\":\"LinearScale\"},{\"attributes\":{},\"id\":\"1420\",\"type\":\"DataRange1d\"},{\"attributes\":{\"line_color\":\"#1f77b4\",\"line_width\":2,\"x\":{\"field\":\"x\"},\"y\":{\"field\":\"y\"}},\"id\":\"1449\",\"type\":\"Line\"},{\"attributes\":{},\"id\":\"1424\",\"type\":\"LinearScale\"},{\"attributes\":{},\"id\":\"1427\",\"type\":\"BasicTicker\"}],\"root_ids\":[\"1417\"]},\"title\":\"Bokeh Application\",\"version\":\"2.2.3\"}};\n",
       "  var render_items = [{\"docid\":\"a914cb61-e569-43d1-86eb-715e3f004b3b\",\"root_ids\":[\"1417\"],\"roots\":{\"1417\":\"63ba9648-7dc9-418f-a5c5-860aeeab619c\"}}];\n",
       "  root.Bokeh.embed.embed_items_notebook(docs_json, render_items);\n",
       "\n",
       "  }\n",
       "  if (root.Bokeh !== undefined) {\n",
       "    embed_document(root);\n",
       "  } else {\n",
       "    var attempts = 0;\n",
       "    var timer = setInterval(function(root) {\n",
       "      if (root.Bokeh !== undefined) {\n",
       "        clearInterval(timer);\n",
       "        embed_document(root);\n",
       "      } else {\n",
       "        attempts++;\n",
       "        if (attempts > 100) {\n",
       "          clearInterval(timer);\n",
       "          console.log(\"Bokeh: ERROR: Unable to run BokehJS code because BokehJS library is missing\");\n",
       "        }\n",
       "      }\n",
       "    }, 10, root)\n",
       "  }\n",
       "})(window);"
      ],
      "application/vnd.bokehjs_exec.v0+json": ""
     },
     "metadata": {
      "application/vnd.bokehjs_exec.v0+json": {
       "id": "1417"
      }
     },
     "output_type": "display_data"
    }
   ],
   "source": [
    "phi = np.linspace(0, 100, 200)\n",
    "p = bokeh.plotting.figure(\n",
    "    frame_width=300, frame_height=200, x_axis_label=\"phi (µm)\", y_axis_label=\"g(phi)\"\n",
    ")\n",
    "p.line(phi, st.lognorm.pdf(phi, 0.75, loc=0, scale=20), line_width=2)\n",
    "bokeh.io.show(p)"
   ]
  },
  {
   "cell_type": "markdown",
   "metadata": {},
   "source": [
    "Looks reasonable!  \n",
    "\n",
    "Revisiting $g(\\sigma)$, we know it doesn't make sense for $\\sigma$ to be negative. I think Half-Normal would be an appropriate choice here, especially considering our original plot of $g(\\sigma) \\sim \\text{Norm}(5, 5)$. It also doesn't make sense that $\\text{ln}(\\sigma)$ would be normally distributed, so Half-Normal is a good choice. I might choose Half-Normal centered at 0 with a large scale parameter, such as\n",
    "\n",
    "$$\n",
    "\\begin{aligned}\n",
    "g(\\sigma) \\sim \\text{HalfNorm}(0, 10)\n",
    "\\end{aligned}\n",
    "$$\n",
    "\n",
    "This would look like:"
   ]
  },
  {
   "cell_type": "code",
   "execution_count": 8,
   "metadata": {},
   "outputs": [
    {
     "data": {
      "text/html": [
       "\n",
       "\n",
       "\n",
       "\n",
       "\n",
       "\n",
       "  <div class=\"bk-root\" id=\"d5567092-0203-4e39-a18b-0032dd14e8d8\" data-root-id=\"1543\"></div>\n"
      ]
     },
     "metadata": {},
     "output_type": "display_data"
    },
    {
     "data": {
      "application/javascript": [
       "(function(root) {\n",
       "  function embed_document(root) {\n",
       "    \n",
       "  var docs_json = {\"cce07ffc-4a82-4fc3-89fb-d36298cb1ef0\":{\"roots\":{\"references\":[{\"attributes\":{\"below\":[{\"id\":\"1552\"}],\"center\":[{\"id\":\"1555\"},{\"id\":\"1559\"}],\"frame_height\":200,\"frame_width\":300,\"left\":[{\"id\":\"1556\"}],\"renderers\":[{\"id\":\"1577\"}],\"title\":{\"id\":\"1625\"},\"toolbar\":{\"id\":\"1567\"},\"x_range\":{\"id\":\"1544\"},\"x_scale\":{\"id\":\"1548\"},\"y_range\":{\"id\":\"1546\"},\"y_scale\":{\"id\":\"1550\"}},\"id\":\"1543\",\"subtype\":\"Figure\",\"type\":\"Plot\"},{\"attributes\":{\"bottom_units\":\"screen\",\"fill_alpha\":0.5,\"fill_color\":\"lightgrey\",\"left_units\":\"screen\",\"level\":\"overlay\",\"line_alpha\":1.0,\"line_color\":\"black\",\"line_dash\":[4,4],\"line_width\":2,\"right_units\":\"screen\",\"top_units\":\"screen\"},\"id\":\"1566\",\"type\":\"BoxAnnotation\"},{\"attributes\":{},\"id\":\"1565\",\"type\":\"HelpTool\"},{\"attributes\":{\"line_alpha\":0.1,\"line_color\":\"#1f77b4\",\"line_width\":2,\"x\":{\"field\":\"x\"},\"y\":{\"field\":\"y\"}},\"id\":\"1576\",\"type\":\"Line\"},{\"attributes\":{\"data_source\":{\"id\":\"1574\"},\"glyph\":{\"id\":\"1575\"},\"hover_glyph\":null,\"muted_glyph\":null,\"nonselection_glyph\":{\"id\":\"1576\"},\"selection_glyph\":null,\"view\":{\"id\":\"1578\"}},\"id\":\"1577\",\"type\":\"GlyphRenderer\"},{\"attributes\":{\"source\":{\"id\":\"1574\"}},\"id\":\"1578\",\"type\":\"CDSView\"},{\"attributes\":{},\"id\":\"1563\",\"type\":\"SaveTool\"},{\"attributes\":{},\"id\":\"1564\",\"type\":\"ResetTool\"},{\"attributes\":{\"text\":\"\"},\"id\":\"1625\",\"type\":\"Title\"},{\"attributes\":{},\"id\":\"1557\",\"type\":\"BasicTicker\"},{\"attributes\":{},\"id\":\"1631\",\"type\":\"UnionRenderers\"},{\"attributes\":{},\"id\":\"1632\",\"type\":\"Selection\"},{\"attributes\":{},\"id\":\"1561\",\"type\":\"WheelZoomTool\"},{\"attributes\":{\"active_drag\":\"auto\",\"active_inspect\":\"auto\",\"active_multi\":null,\"active_scroll\":\"auto\",\"active_tap\":\"auto\",\"tools\":[{\"id\":\"1560\"},{\"id\":\"1561\"},{\"id\":\"1562\"},{\"id\":\"1563\"},{\"id\":\"1564\"},{\"id\":\"1565\"}]},\"id\":\"1567\",\"type\":\"Toolbar\"},{\"attributes\":{},\"id\":\"1553\",\"type\":\"BasicTicker\"},{\"attributes\":{\"axis\":{\"id\":\"1552\"},\"ticker\":null},\"id\":\"1555\",\"type\":\"Grid\"},{\"attributes\":{\"data\":{\"x\":{\"__ndarray__\":\"AAAAAAAAAADQsuM5lRTgP9Cy4zmVFPA/OIzV1t8e+D/QsuM5lRQAQISfXIi6GQRAOIzV1t8eCEDseE4lBSQMQNCy4zmVFBBAKikg4ScXEkCEn1yIuhkUQN4VmS9NHBZAOIzV1t8eGECSAhJ+ciEaQOx4TiUFJBxARu+KzJcmHkDQsuM5lRQgQP3tgY3eFSFAKikg4ScXIkBXZL40cRgjQISfXIi6GSRAsdr62wMbJUDeFZkvTRwmQAtRN4OWHSdAOIzV1t8eKEBlx3MqKSApQJICEn5yISpAvz2w0bsiK0DseE4lBSQsQBm07HhOJS1ARu+KzJcmLkBzKikg4ScvQNCy4zmVFDBAZtCy4zmVMED97YGN3hUxQJQLUTeDljFAKikg4ScXMkDARu+KzJcyQFdkvjRxGDNA7oGN3hWZM0CEn1yIuhk0QBq9KzJfmjRAsdr62wMbNUBI+MmFqJs1QN4VmS9NHDZAdDNo2fGcNkALUTeDlh03QKJuBi07njdAOIzV1t8eOEDOqaSAhJ84QGXHcyopIDlA/ORC1M2gOUCSAhJ+ciE6QCgg4ScXojpAvz2w0bsiO0BWW397YKM7QOx4TiUFJDxAgpYdz6mkPEAZtOx4TiU9QLDRuyLzpT1ARu+KzJcmPkDcDFp2PKc+QHMqKSDhJz9ACkj4yYWoP0DQsuM5lRRAQJtBy47nVEBAZtCy4zmVQEAyX5o4jNVAQP3tgY3eFUFAyHxp4jBWQUCUC1E3g5ZBQF+aOIzV1kFAKikg4ScXQkD1twc2eldCQMBG74rMl0JAjNXW3x7YQkBXZL40cRhDQCLzpYnDWENA7oGN3hWZQ0C5EHUzaNlDQISfXIi6GURATy5E3QxaREAavSsyX5pEQOZLE4ex2kRAsdr62wMbRUB8aeIwVltFQEj4yYWom0VAE4ex2vrbRUDeFZkvTRxGQKmkgISfXEZAdDNo2fGcRkBAwk8uRN1GQAtRN4OWHUdA1t8e2OhdR0CibgYtO55HQG397YGN3kdAOIzV1t8eSEADG70rMl9IQM6ppICEn0hAmjiM1dbfSEBlx3MqKSBJQDBWW397YElA/ORC1M2gSUDHcyopIOFJQJICEn5yIUpAXZH50sRhSkAoIOEnF6JKQPSuyHxp4kpAvz2w0bsiS0CKzJcmDmNLQFZbf3tgo0tAIepm0LLjS0DseE4lBSRMQLcHNnpXZExAgpYdz6mkTEBOJQUk/ORMQBm07HhOJU1A5ELUzaBlTUCw0bsi86VNQHtgo3dF5k1ARu+KzJcmTkARfnIh6mZOQNwMWnY8p05AqJtBy47nTkBzKikg4SdPQD65EHUzaE9ACkj4yYWoT0DV1t8e2OhPQNCy4zmVFFBANnpXZL40UECbQcuO51RQQAEJP7kQdVBAZtCy4zmVUEDMlyYOY7VQQDJfmjiM1VBAlyYOY7X1UED97YGN3hVRQGO19bcHNlFAyHxp4jBWUUAuRN0MWnZRQJQLUTeDllFA+dLEYay2UUBfmjiM1dZRQMRhrLb+9lFAKikg4ScXUkCQ8JMLUTdSQPW3BzZ6V1JAW397YKN3UkDARu+KzJdSQCYOY7X1t1JAjNXW3x7YUkDxnEoKSPhSQFdkvjRxGFNAvSsyX5o4U0Ai86WJw1hTQIi6GbTseFNA7oGN3hWZU0BTSQEJP7lTQLkQdTNo2VNAHtjoXZH5U0CEn1yIuhlUQOpm0LLjOVRATy5E3QxaVEC19bcHNnpUQBq9KzJfmlRAgISfXIi6VEDmSxOHsdpUQEsTh7Ha+lRAsdr62wMbVUAXom4GLTtVQHxp4jBWW1VA4jBWW397VUBI+MmFqJtVQK2/PbDRu1VAE4ex2vrbVUB4TiUFJPxVQN4VmS9NHFZARN0MWnY8VkCppICEn1xWQA9s9K7IfFZAdDNo2fGcVkDa+tsDG71WQEDCTy5E3VZApYnDWG39VkALUTeDlh1XQHEYq62/PVdA1t8e2OhdV0A8p5ICEn5XQKJuBi07nldABzZ6V2S+V0Bt/e2Bjd5XQNLEYay2/ldAOIzV1t8eWECeU0kBCT9YQAMbvSsyX1hAaeIwVlt/WEDOqaSAhJ9YQDRxGKutv1hAmjiM1dbfWEAAAAAAAABZQA==\",\"dtype\":\"float64\",\"order\":\"little\",\"shape\":[200]},\"y\":{\"__ndarray__\":\"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\",\"dtype\":\"float64\",\"order\":\"little\",\"shape\":[200]}},\"selected\":{\"id\":\"1632\"},\"selection_policy\":{\"id\":\"1631\"}},\"id\":\"1574\",\"type\":\"ColumnDataSource\"},{\"attributes\":{},\"id\":\"1544\",\"type\":\"DataRange1d\"},{\"attributes\":{},\"id\":\"1626\",\"type\":\"BasicTickFormatter\"},{\"attributes\":{},\"id\":\"1560\",\"type\":\"PanTool\"},{\"attributes\":{\"axis_label\":\"sigma (\\u00b5m)\",\"formatter\":{\"id\":\"1626\"},\"ticker\":{\"id\":\"1553\"}},\"id\":\"1552\",\"type\":\"LinearAxis\"},{\"attributes\":{},\"id\":\"1548\",\"type\":\"LinearScale\"},{\"attributes\":{\"line_color\":\"#1f77b4\",\"line_width\":2,\"x\":{\"field\":\"x\"},\"y\":{\"field\":\"y\"}},\"id\":\"1575\",\"type\":\"Line\"},{\"attributes\":{\"overlay\":{\"id\":\"1566\"}},\"id\":\"1562\",\"type\":\"BoxZoomTool\"},{\"attributes\":{},\"id\":\"1628\",\"type\":\"BasicTickFormatter\"},{\"attributes\":{},\"id\":\"1546\",\"type\":\"DataRange1d\"},{\"attributes\":{},\"id\":\"1550\",\"type\":\"LinearScale\"},{\"attributes\":{\"axis\":{\"id\":\"1556\"},\"dimension\":1,\"ticker\":null},\"id\":\"1559\",\"type\":\"Grid\"},{\"attributes\":{\"axis_label\":\"g(sigma)\",\"formatter\":{\"id\":\"1628\"},\"ticker\":{\"id\":\"1557\"}},\"id\":\"1556\",\"type\":\"LinearAxis\"}],\"root_ids\":[\"1543\"]},\"title\":\"Bokeh Application\",\"version\":\"2.2.3\"}};\n",
       "  var render_items = [{\"docid\":\"cce07ffc-4a82-4fc3-89fb-d36298cb1ef0\",\"root_ids\":[\"1543\"],\"roots\":{\"1543\":\"d5567092-0203-4e39-a18b-0032dd14e8d8\"}}];\n",
       "  root.Bokeh.embed.embed_items_notebook(docs_json, render_items);\n",
       "\n",
       "  }\n",
       "  if (root.Bokeh !== undefined) {\n",
       "    embed_document(root);\n",
       "  } else {\n",
       "    var attempts = 0;\n",
       "    var timer = setInterval(function(root) {\n",
       "      if (root.Bokeh !== undefined) {\n",
       "        clearInterval(timer);\n",
       "        embed_document(root);\n",
       "      } else {\n",
       "        attempts++;\n",
       "        if (attempts > 100) {\n",
       "          clearInterval(timer);\n",
       "          console.log(\"Bokeh: ERROR: Unable to run BokehJS code because BokehJS library is missing\");\n",
       "        }\n",
       "      }\n",
       "    }, 10, root)\n",
       "  }\n",
       "})(window);"
      ],
      "application/vnd.bokehjs_exec.v0+json": ""
     },
     "metadata": {
      "application/vnd.bokehjs_exec.v0+json": {
       "id": "1543"
      }
     },
     "output_type": "display_data"
    }
   ],
   "source": [
    "sigma = np.linspace(0, 40, 200)\n",
    "p = bokeh.plotting.figure(\n",
    "    frame_width=300,\n",
    "    frame_height=200,\n",
    "    x_axis_label=\"sigma (µm)\",\n",
    "    y_axis_label=\"g(sigma)\",\n",
    ")\n",
    "p.line(phi, st.halfnorm.pdf(sigma, 0, 10), line_width=2)\n",
    "bokeh.io.show(p)"
   ]
  },
  {
   "cell_type": "markdown",
   "metadata": {},
   "source": [
    "So, our final model would be:\n",
    "\n",
    "\\begin{aligned}\n",
    "&\\phi \\sim \\text{LogNorm}(\\text{ln} \\ 20, 0.75) \\\\\n",
    "&\\sigma \\sim \\text{HalfNorm}(0, 10) \\\\\n",
    "&l_i \\sim \\text{Norm}(\\phi, \\sigma) \\;\\;\\forall i.\n",
    "\\end{aligned}"
   ]
  },
  {
   "cell_type": "markdown",
   "metadata": {},
   "source": [
    "#### Possibility #3: A New Model\n",
    "\n",
    "Let's use a new model for spindle length where droplet diameter is related to spindle length. To understand how we came up with this model, and its caveats, please refer to [the discussion of the model from last term](https://bebi103a.github.io/lessons/20/model_building.html#Model-2:-Spindle-length-is-set-by-total-amount-of-tubulin). Be sure to read through this first, otherwise the following will not make sense.\n",
    "\n",
    "We have a theoretical model relating the droplet diameter to the spindle length. Let us now build a generative model. For spindle, droplet pair _i_, we assume\n",
    "\n",
    "\\begin{align}\n",
    "l_i = \\frac{\\gamma d_i}{\\left(1+(\\gamma d/\\phi)^3\\right)^{\\frac{1}{3}}} + e_i.\n",
    "\\end{align}\n",
    "\n",
    "We will assume that $e_i$ is Normally distributed with variance $\\sigma^2$. This leads us to our statistical model.\n",
    "\n",
    "\\begin{align}\n",
    "&\\mu_i =  \\frac{\\gamma d_i}{\\left(1+(\\gamma d_i/\\phi)^3\\right)^{\\frac{1}{3}}}, \\\\[1em]\n",
    "&l_i \\sim \\text{Norm}(\\mu_i, \\sigma) \\;\\forall i,\n",
    "\\end{align}\n",
    "\n",
    "where\n",
    "\n",
    "\\begin{align}\n",
    "\\gamma &= \\left(\\frac{T_0-T_\\mathrm{min}}{k^2T_\\mathrm{s}}\\right)^\\frac{1}{3} \\\\\n",
    "\\phi &= \\gamma\\left(\\frac{6\\alpha\\beta}{\\pi}\\right)^{\\frac{1}{3}},\n",
    "\\end{align}\n",
    "\n",
    "which is equivalently stated as\n",
    "\n",
    "\\begin{aligned}\n",
    "l_i \\sim \\text{Norm}\\left(\\frac{\\gamma d_i}{\\left(1+(\\gamma d_i/\\phi)^3\\right)^{\\frac{1}{3}}}, \\sigma\\right) \\;\\forall i.\n",
    "\\end{aligned}\n",
    "\n",
    "\n",
    "Yikes, we have a lot more parameters in this model! Not to worry, we will choose priors for one parameter at a time. Starting with $\\phi$, this still represents the location parameter for the distribution of spindle size. So, we will use the same prior:\n",
    "\n",
    "\\begin{align}\n",
    "\\phi \\sim \\text{LogNorm}(\\mathrm{ln}  20, 0.75)\n",
    "\\end{align}\n",
    "\n",
    "Now let's consider $\\gamma$. $\\gamma$ determines the relationship between $d$, the droplet diameter, and $\\phi$, the spindle length. We can already think of some bounds on $\\gamma$. $\\gamma$ must be greater than 0. Also, $\\gamma$ must be less than or equal to 1, or else the spindle length exceeds the droplet diameter. Further, we can see that for large droplets, with $d \\gg \\phi/\\gamma$, the spindle size becomes independent of $d$, with\n",
    "\n",
    "\\begin{align}\n",
    "l \\approx \\phi.\n",
    "\\end{align}\n",
    "\n",
    "Conversely, for $ d \\ll \\phi/\\gamma$, the spindle length varies approximately linearly with diameter.\n",
    "\n",
    "\\begin{align}\n",
    "l(d) \\approx \\gamma\\,d.\n",
    "\\end{align}\n",
    "\n",
    "Of course, these cases are physically possible. Please see the notes I referenced from BE/Bi 103a to review the limitations of this model. So, we know our model will only work in cases of droplets with intermediate diameter. Thus, we will choose:\n",
    "\n",
    "\\begin{align}\n",
    "\\gamma \\sim \\text{Beta}(2, 2).\n",
    "\\end{align}\n",
    "\n",
    "Let's take a look."
   ]
  },
  {
   "cell_type": "code",
   "execution_count": 9,
   "metadata": {},
   "outputs": [
    {
     "data": {
      "text/html": [
       "\n",
       "\n",
       "\n",
       "\n",
       "\n",
       "\n",
       "  <div class=\"bk-root\" id=\"76848678-a781-4d5b-9f73-37b51b96295a\" data-root-id=\"1678\"></div>\n"
      ]
     },
     "metadata": {},
     "output_type": "display_data"
    },
    {
     "data": {
      "application/javascript": [
       "(function(root) {\n",
       "  function embed_document(root) {\n",
       "    \n",
       "  var docs_json = {\"15d138a4-16ab-42ac-b435-0316d0911531\":{\"roots\":{\"references\":[{\"attributes\":{\"below\":[{\"id\":\"1687\"}],\"center\":[{\"id\":\"1690\"},{\"id\":\"1694\"}],\"frame_height\":200,\"frame_width\":300,\"left\":[{\"id\":\"1691\"}],\"renderers\":[{\"id\":\"1712\"}],\"title\":{\"id\":\"1769\"},\"toolbar\":{\"id\":\"1702\"},\"x_range\":{\"id\":\"1679\"},\"x_scale\":{\"id\":\"1683\"},\"y_range\":{\"id\":\"1681\"},\"y_scale\":{\"id\":\"1685\"}},\"id\":\"1678\",\"subtype\":\"Figure\",\"type\":\"Plot\"},{\"attributes\":{\"axis_label\":\"\\u03b3 (\\u00b5m)\",\"formatter\":{\"id\":\"1770\"},\"ticker\":{\"id\":\"1688\"}},\"id\":\"1687\",\"type\":\"LinearAxis\"},{\"attributes\":{},\"id\":\"1700\",\"type\":\"HelpTool\"},{\"attributes\":{\"active_drag\":\"auto\",\"active_inspect\":\"auto\",\"active_multi\":null,\"active_scroll\":\"auto\",\"active_tap\":\"auto\",\"tools\":[{\"id\":\"1695\"},{\"id\":\"1696\"},{\"id\":\"1697\"},{\"id\":\"1698\"},{\"id\":\"1699\"},{\"id\":\"1700\"}]},\"id\":\"1702\",\"type\":\"Toolbar\"},{\"attributes\":{},\"id\":\"1698\",\"type\":\"SaveTool\"},{\"attributes\":{},\"id\":\"1699\",\"type\":\"ResetTool\"},{\"attributes\":{},\"id\":\"1679\",\"type\":\"Range1d\"},{\"attributes\":{\"text\":\"\"},\"id\":\"1769\",\"type\":\"Title\"},{\"attributes\":{\"line_color\":\"#1f77b4\",\"line_width\":2,\"x\":{\"field\":\"x\"},\"y\":{\"field\":\"y\"}},\"id\":\"1710\",\"type\":\"Line\"},{\"attributes\":{},\"id\":\"1772\",\"type\":\"BasicTickFormatter\"},{\"attributes\":{\"axis\":{\"id\":\"1687\"},\"ticker\":null},\"id\":\"1690\",\"type\":\"Grid\"},{\"attributes\":{\"line_alpha\":0.1,\"line_color\":\"#1f77b4\",\"line_width\":2,\"x\":{\"field\":\"x\"},\"y\":{\"field\":\"y\"}},\"id\":\"1711\",\"type\":\"Line\"},{\"attributes\":{},\"id\":\"1696\",\"type\":\"WheelZoomTool\"},{\"attributes\":{},\"id\":\"1770\",\"type\":\"BasicTickFormatter\"},{\"attributes\":{\"source\":{\"id\":\"1709\"}},\"id\":\"1713\",\"type\":\"CDSView\"},{\"attributes\":{},\"id\":\"1692\",\"type\":\"BasicTicker\"},{\"attributes\":{},\"id\":\"1695\",\"type\":\"PanTool\"},{\"attributes\":{},\"id\":\"1685\",\"type\":\"LinearScale\"},{\"attributes\":{\"axis\":{\"id\":\"1691\"},\"dimension\":1,\"ticker\":null},\"id\":\"1694\",\"type\":\"Grid\"},{\"attributes\":{\"bottom_units\":\"screen\",\"fill_alpha\":0.5,\"fill_color\":\"lightgrey\",\"left_units\":\"screen\",\"level\":\"overlay\",\"line_alpha\":1.0,\"line_color\":\"black\",\"line_dash\":[4,4],\"line_width\":2,\"right_units\":\"screen\",\"top_units\":\"screen\"},\"id\":\"1701\",\"type\":\"BoxAnnotation\"},{\"attributes\":{\"axis_label\":\"\\u03b3(gamma)\",\"formatter\":{\"id\":\"1772\"},\"ticker\":{\"id\":\"1692\"}},\"id\":\"1691\",\"type\":\"LinearAxis\"},{\"attributes\":{\"data_source\":{\"id\":\"1709\"},\"glyph\":{\"id\":\"1710\"},\"hover_glyph\":null,\"muted_glyph\":null,\"nonselection_glyph\":{\"id\":\"1711\"},\"selection_glyph\":null,\"view\":{\"id\":\"1713\"}},\"id\":\"1712\",\"type\":\"GlyphRenderer\"},{\"attributes\":{\"overlay\":{\"id\":\"1701\"}},\"id\":\"1697\",\"type\":\"BoxZoomTool\"},{\"attributes\":{},\"id\":\"1775\",\"type\":\"UnionRenderers\"},{\"attributes\":{},\"id\":\"1776\",\"type\":\"Selection\"},{\"attributes\":{},\"id\":\"1681\",\"type\":\"DataRange1d\"},{\"attributes\":{},\"id\":\"1683\",\"type\":\"LinearScale\"},{\"attributes\":{},\"id\":\"1688\",\"type\":\"BasicTicker\"},{\"attributes\":{\"data\":{\"x\":{\"__ndarray__\":\"AAAAAAAAAABbv1Kg1q+EP1u/UqDWr5Q/CB988MEHnz9bv1Kg1q+kPzJvZ0jM26k/CB988MEHrz9wZ0jM2xmyP1u/UqDWr7Q/RhdddNFFtz8yb2dIzNu5Px3HcRzHcbw/CB988MEHvz96O0Ni3s7AP3BnSMzbGcI/ZZNNNtlkwz9bv1Kg1q/EP1HrVwrU+sU/RhdddNFFxz88Q2LezpDIPzJvZ0jM28k/J5tssskmyz8dx3Ecx3HMPxPzdobEvM0/CB988MEHzz9/pUCtXynQP3o7Q2LeztA/ddFFF1100T9wZ0jM2xnSP2r9SoFav9I/ZZNNNtlk0z9gKVDrVwrUP1u/UqDWr9Q/VlVVVVVV1T9R61cK1PrVP0yBWr9SoNY/RhdddNFF1z9BrV8pUOvXPzxDYt7OkNg/N9lkk0022T8yb2dIzNvZPy0Fav1Kgdo/J5tssskm2z8iMW9nSMzbPx3HcRzHcdw/GF100UUX3T8T83aGxLzdPw6JeTtDYt4/CB988MEH3z8DtX6lQK3fP3+lQK1fKeA/ffDBBx984D96O0Ni3s7gP3eGxLydIeE/ddFFF1104T9yHMdxHMfhP3BnSMzbGeI/bbLJJpts4j9q/UqBWr/iP2hIzNsZEuM/ZZNNNtlk4z9j3s6QmLfjP2ApUOtXCuQ/XnTRRRdd5D9bv1Kg1q/kP1gK1PqVAuU/VlVVVVVV5T9ToNavFKjlP1HrVwrU+uU/TjbZZJNN5j9MgVq/UqDmP0nM2xkS8+Y/RhdddNFF5z9EYt7OkJjnP0GtXylQ6+c/P/jggw8+6D88Q2LezpDoPzmO4ziO4+g/N9lkk0026T80JObtDInpPzJvZ0jM2+k/L7rooosu6j8tBWr9SoHqPypQ61cK1Oo/J5tssskm6z8l5u0MiXnrPyIxb2dIzOs/IHzwwQcf7D8dx3Ecx3HsPxsS83aGxOw/GF100UUX7T8VqPUrBWrtPxPzdobEvO0/ED744IMP7j8OiXk7Q2LuPwvU+pUCte4/CB988MEH7z8Gav1KgVrvPwO1fqVAre8/AAAAAAAA8D8=\",\"dtype\":\"float64\",\"order\":\"little\",\"shape\":[100]},\"y\":{\"__ndarray__\":\"AAAAAAAAAAAfHHOBhLeuPz4ZahJHZ74/wNCIOkeRxj9uE1g0zMbNP1dqUTsZatI/Ooq0AL3c1T9laVVqUTvZP9QHNHjWhdw/jWVQKky83z9FQVVAWW/hP2ovob2E9uI/L/0Ljahz5D+YqpWuxOblP6Q3PiLZT+c/UqQF6OWu6D+k8Ov/6gPqP5sc8WnoTus/MygVJt6P7D9vE1g0zMbtP0/euZSy8+4/Z0Sdo0gL8D98Ce0ltJfwP2A+TNEbH/E/FuO6pX+h8T+e9zij3x7yP/Z7xsk7l/I/InBjGZQK8z8f1A+S6HjzP+2nyzM54vM/jOuW/oVG9D/+nnHyzqX0P0HCWw8UAPU/VlVVVVVV9T88WF7EkqX1P/TKdlzM8PU/fa2eHQI39j/Y/9UHNHj2PwXCHBtitPY/A/RyV4zr9j/Tldi8sh33P3WnTUvVSvc/5yjSAvRy9z8tGmbjDpb3P0J7Ce0ltPc/Kky8HznN9z/kjH57SOH3P249UABU8Pc/zF0xrlv69z/67SGFX//3P/rtIYVf//c/zF0xrlv69z9uPVAAVPD3P+SMfntI4fc/Kky8HznN9z9CewntJbT3PyoaZuMOlvc/5yjSAvRy9z90p01L1Ur3P9OV2LyyHfc/AvRyV4zr9j8DwhwbYrT2P9j/1Qc0ePY/fa2eHQI39j/yynZczPD1PztYXsSSpfU/VVVVVVVV9T9AwlsPFAD1P/2ecfLOpfQ/i+uW/oVG9D/sp8szOeLzPx7UD5LoePM/IXBjGZQK8z/2e8bJO5fyP573OKPfHvI/FOO6pX+h8T9fPkzRGx/xP3oJ7SW0l/A/Z0Sdo0gL8D9L3rmUsvPuP2wTWDTMxu0/MSgVJt6P7D+WHPFp6E7rP6Hw6//qA+o/UqQF6OWu6D+eNz4i2U/nP5aqla7E5uU/Kv0Ljahz5D9lL6G9hPbiPz5BVUBZb+E/hWVQKky83z/QBzR41oXcP1xpVWpRO9k/NYq0AL3c1T9JalE7GWrSP18TWDTMxs0/utCIOkeRxj8UGWoSR2e+P/kbc4GEt64/AAAAAAAAAAA=\",\"dtype\":\"float64\",\"order\":\"little\",\"shape\":[100]}},\"selected\":{\"id\":\"1776\"},\"selection_policy\":{\"id\":\"1775\"}},\"id\":\"1709\",\"type\":\"ColumnDataSource\"}],\"root_ids\":[\"1678\"]},\"title\":\"Bokeh Application\",\"version\":\"2.2.3\"}};\n",
       "  var render_items = [{\"docid\":\"15d138a4-16ab-42ac-b435-0316d0911531\",\"root_ids\":[\"1678\"],\"roots\":{\"1678\":\"76848678-a781-4d5b-9f73-37b51b96295a\"}}];\n",
       "  root.Bokeh.embed.embed_items_notebook(docs_json, render_items);\n",
       "\n",
       "  }\n",
       "  if (root.Bokeh !== undefined) {\n",
       "    embed_document(root);\n",
       "  } else {\n",
       "    var attempts = 0;\n",
       "    var timer = setInterval(function(root) {\n",
       "      if (root.Bokeh !== undefined) {\n",
       "        clearInterval(timer);\n",
       "        embed_document(root);\n",
       "      } else {\n",
       "        attempts++;\n",
       "        if (attempts > 100) {\n",
       "          clearInterval(timer);\n",
       "          console.log(\"Bokeh: ERROR: Unable to run BokehJS code because BokehJS library is missing\");\n",
       "        }\n",
       "      }\n",
       "    }, 10, root)\n",
       "  }\n",
       "})(window);"
      ],
      "application/vnd.bokehjs_exec.v0+json": ""
     },
     "metadata": {
      "application/vnd.bokehjs_exec.v0+json": {
       "id": "1678"
      }
     },
     "output_type": "display_data"
    }
   ],
   "source": [
    "gamma = np.linspace(0, 1, 100)\n",
    "p = bokeh.plotting.figure(\n",
    "    frame_width=300,\n",
    "    frame_height=200,\n",
    "    x_axis_label=\"γ (µm)\",\n",
    "    y_axis_label=\"γ(gamma)\",\n",
    "    x_range=[0, 1],\n",
    ")\n",
    "p.line(gamma, st.beta.pdf(gamma, 2, 2), line_width=2)\n",
    "bokeh.io.show(p)"
   ]
  },
  {
   "cell_type": "markdown",
   "metadata": {},
   "source": [
    "*Notice how useful the beta distribution can be!*  \n",
    "\n",
    "Next, we will consider $\\sigma$. We could use our previous choice, $\\sigma \\sim \\text{HalfNorm}(0, 10)$. We could also consider the case where we assume $\\sigma$ scales with $\\phi$. This is not an unreasonable assumption. As $\\phi$ increases, we may expect the standard deviation $\\sigma$ to increase as well. We can write the expression:  \n",
    "\n",
    "\\begin{align}\n",
    "\\sigma = \\sigma_0 \\phi\n",
    "\\end{align}\n",
    "\n",
    "We have now introduced a new prior parameter, $\\sigma_0$. $\\sigma_0$ is our constant of proportionality for the relationship between $\\sigma$ and $\\phi$. We choose a gamma prior for $\\sigma_0$:\n",
    "\n",
    "\\begin{align}\n",
    "\\sigma_0 = \\text{Gamma}(2, 10)\n",
    "\\end{align}\n",
    "\n",
    "Gamma makes sense in this case because, as stated in the Distribution Explorer: \"it imparts a heavier tail than the Half-Normal distribution (but not too heavy; it keeps parameters from growing too large), and allows the parameter value to come close to zero.\" We want to leave room for the case where $\\sigma_0$ is small, so a Gamma distribution is appropriate.\n",
    "\n",
    "Let's plot it up to take a look."
   ]
  },
  {
   "cell_type": "code",
   "execution_count": 10,
   "metadata": {},
   "outputs": [
    {
     "data": {
      "text/html": [
       "\n",
       "\n",
       "\n",
       "\n",
       "\n",
       "\n",
       "  <div class=\"bk-root\" id=\"bf20063c-7cc6-48e8-a2c4-4185f63e2bd5\" data-root-id=\"1822\"></div>\n"
      ]
     },
     "metadata": {},
     "output_type": "display_data"
    },
    {
     "data": {
      "application/javascript": [
       "(function(root) {\n",
       "  function embed_document(root) {\n",
       "    \n",
       "  var docs_json = {\"dfea654b-78cf-44ce-83e2-f82f32b8ea5c\":{\"roots\":{\"references\":[{\"attributes\":{\"below\":[{\"id\":\"1831\"}],\"center\":[{\"id\":\"1834\"},{\"id\":\"1838\"}],\"frame_height\":200,\"frame_width\":300,\"left\":[{\"id\":\"1835\"}],\"renderers\":[{\"id\":\"1856\"}],\"title\":{\"id\":\"1922\"},\"toolbar\":{\"id\":\"1846\"},\"x_range\":{\"id\":\"1823\"},\"x_scale\":{\"id\":\"1827\"},\"y_range\":{\"id\":\"1825\"},\"y_scale\":{\"id\":\"1829\"}},\"id\":\"1822\",\"subtype\":\"Figure\",\"type\":\"Plot\"},{\"attributes\":{},\"id\":\"1925\",\"type\":\"BasicTickFormatter\"},{\"attributes\":{},\"id\":\"1923\",\"type\":\"BasicTickFormatter\"},{\"attributes\":{\"bottom_units\":\"screen\",\"fill_alpha\":0.5,\"fill_color\":\"lightgrey\",\"left_units\":\"screen\",\"level\":\"overlay\",\"line_alpha\":1.0,\"line_color\":\"black\",\"line_dash\":[4,4],\"line_width\":2,\"right_units\":\"screen\",\"top_units\":\"screen\"},\"id\":\"1845\",\"type\":\"BoxAnnotation\"},{\"attributes\":{\"data_source\":{\"id\":\"1853\"},\"glyph\":{\"id\":\"1854\"},\"hover_glyph\":null,\"muted_glyph\":null,\"nonselection_glyph\":{\"id\":\"1855\"},\"selection_glyph\":null,\"view\":{\"id\":\"1857\"}},\"id\":\"1856\",\"type\":\"GlyphRenderer\"},{\"attributes\":{},\"id\":\"1823\",\"type\":\"DataRange1d\"},{\"attributes\":{\"axis_label\":\"\\u03c3\\u2080\",\"formatter\":{\"id\":\"1923\"},\"ticker\":{\"id\":\"1832\"}},\"id\":\"1831\",\"type\":\"LinearAxis\"},{\"attributes\":{},\"id\":\"1827\",\"type\":\"LinearScale\"},{\"attributes\":{},\"id\":\"1825\",\"type\":\"DataRange1d\"},{\"attributes\":{},\"id\":\"1829\",\"type\":\"LinearScale\"},{\"attributes\":{\"data\":{\"x\":{\"__ndarray__\":\"AAAAAAAAAABbv1Kg1q+UP1u/UqDWr6Q/CB988MEHrz9bv1Kg1q+0PzJvZ0jM27k/CB988MEHvz9wZ0jM2xnCP1u/UqDWr8Q/RhdddNFFxz8yb2dIzNvJPx3HcRzHccw/CB988MEHzz96O0Ni3s7QP3BnSMzbGdI/ZZNNNtlk0z9bv1Kg1q/UP1HrVwrU+tU/RhdddNFF1z88Q2LezpDYPzJvZ0jM29k/J5tssskm2z8dx3Ecx3HcPxPzdobEvN0/CB988MEH3z9/pUCtXyngP3o7Q2LezuA/ddFFF1104T9wZ0jM2xniP2r9SoFav+I/ZZNNNtlk4z9gKVDrVwrkP1u/UqDWr+Q/VlVVVVVV5T9R61cK1PrlP0yBWr9SoOY/RhdddNFF5z9BrV8pUOvnPzxDYt7OkOg/N9lkk0026T8yb2dIzNvpPy0Fav1Kgeo/J5tssskm6z8iMW9nSMzrPx3HcRzHcew/GF100UUX7T8T83aGxLztPw6JeTtDYu4/CB988MEH7z8DtX6lQK3vP3+lQK1fKfA/ffDBBx988D96O0Ni3s7wP3eGxLydIfE/ddFFF1108T9yHMdxHMfxP3BnSMzbGfI/bbLJJpts8j9q/UqBWr/yP2hIzNsZEvM/ZZNNNtlk8z9j3s6QmLfzP2ApUOtXCvQ/XnTRRRdd9D9bv1Kg1q/0P1gK1PqVAvU/VlVVVVVV9T9ToNavFKj1P1HrVwrU+vU/TjbZZJNN9j9MgVq/UqD2P0nM2xkS8/Y/RhdddNFF9z9EYt7OkJj3P0GtXylQ6/c/P/jggw8++D88Q2LezpD4PzmO4ziO4/g/N9lkk002+T80JObtDIn5PzJvZ0jM2/k/L7rooosu+j8tBWr9SoH6PypQ61cK1Po/J5tssskm+z8l5u0MiXn7PyIxb2dIzPs/IHzwwQcf/D8dx3Ecx3H8PxsS83aGxPw/GF100UUX/T8VqPUrBWr9PxPzdobEvP0/ED744IMP/j8OiXk7Q2L+PwvU+pUCtf4/CB988MEH/z8Gav1KgVr/PwO1fqVArf8/AAAAAAAAAEA=\",\"dtype\":\"float64\",\"order\":\"little\",\"shape\":[100]},\"y\":{\"__ndarray__\":\"AAAAAAAAAAAUPSobHmn6P6tH7QBdlAVAiDObzsFyCkAGm72+UdAMQG5FdwfKbQ1AaFsj/NXaDEAKYpjCj4ELQIVqXQ5wrwlAO8SkszqcB0AnFDH9V28FQBAmN/vyQwNAmFHjOSIsAUA/48zjomb+PyctYAwuwPo/Kzvuti1r9z9ahBiLGWn0P9xgCAcmuPE/TmPh7tKo7j9gBV5mY3HqP1Wb2ZM7vuY/i+4d7hSD4z/pFsaBubPgP4/nyQzOiNw/e/rfSxpU2D/6ISo54rTUP7O+vbd8mNE/PQYFySfczT9dZ3n/M03JPyDjroVlacU/+bVaeysZwj/3DjcptI++P4rTUrDKxrk/Ee3Ezzi4tT/OsajkzkiyPyUV94Imwq4/vUEdCJ/ZqT8VfYUqULWlP8M/z+F7N6I/NYO8x2mNnj/nZoR/kpqZP05DjFJ9cZU/S4Qj+L3ykT/8s82+TQeOP0MVruczG4k/91+8sOH6hD96yrjA84WBP/PCgxAdQn0/M2p/HjlqeD/T8nYQUV10P7CSaPee+nA/4e7TIB9NbD8gYXZc6JNnP3JcrAOnomM/gxQUuKlYYD+CGrJWCDVbP/0lfjxzolY/AmNlrxDTUj+IrvGjRE1PP/56aBlbBEo/62FrWUWeRT+VtHeDTPVBPx436dbd0z0/QOP7grvDOD/hBZYgSI40P6/+Gy/hDjE/9H10EfRNLD8PX9yFN3onP9BiRkQdeCM/reYy+UwkID8j7iLKscIaP7tUWAuFLRY/PC16ClFgEj9D6ub6XHIOP4bqVt/YNwk/ZfyQXjfiBD+PFRaMhUoBP5aqs13PoPw+1R+tRPux9z5f/SsM7ZvzPl1kNdWXOfA+hU/LxXfY6j4clOahqzTmPmmO7Dh3XeI+zqWncH9f3j5OwBQg0xzZPrKRKPimwtQ+pDcTUPso0T4Md/YVVl3MPqtXYaeAcMc+IBSZPvhdwz6+0kfNDwDAPnJM6NUpb7o+3OnTgWfVtT7iiRTIFgiyPtypwpipx60+O/eTLLOWqD4KGk7Q1kykPgzZYygAwqA+vGJM5hGqmz4=\",\"dtype\":\"float64\",\"order\":\"little\",\"shape\":[100]}},\"selected\":{\"id\":\"1929\"},\"selection_policy\":{\"id\":\"1928\"}},\"id\":\"1853\",\"type\":\"ColumnDataSource\"},{\"attributes\":{},\"id\":\"1928\",\"type\":\"UnionRenderers\"},{\"attributes\":{},\"id\":\"1832\",\"type\":\"BasicTicker\"},{\"attributes\":{},\"id\":\"1929\",\"type\":\"Selection\"},{\"attributes\":{\"axis\":{\"id\":\"1831\"},\"ticker\":null},\"id\":\"1834\",\"type\":\"Grid\"},{\"attributes\":{\"text\":\"\"},\"id\":\"1922\",\"type\":\"Title\"},{\"attributes\":{},\"id\":\"1840\",\"type\":\"WheelZoomTool\"},{\"attributes\":{\"axis_label\":\"g(\\u03c3\\u2080)\",\"formatter\":{\"id\":\"1925\"},\"ticker\":{\"id\":\"1836\"}},\"id\":\"1835\",\"type\":\"LinearAxis\"},{\"attributes\":{\"axis\":{\"id\":\"1835\"},\"dimension\":1,\"ticker\":null},\"id\":\"1838\",\"type\":\"Grid\"},{\"attributes\":{\"line_alpha\":0.1,\"line_color\":\"#1f77b4\",\"line_width\":2,\"x\":{\"field\":\"x\"},\"y\":{\"field\":\"y\"}},\"id\":\"1855\",\"type\":\"Line\"},{\"attributes\":{},\"id\":\"1836\",\"type\":\"BasicTicker\"},{\"attributes\":{},\"id\":\"1844\",\"type\":\"HelpTool\"},{\"attributes\":{},\"id\":\"1839\",\"type\":\"PanTool\"},{\"attributes\":{\"overlay\":{\"id\":\"1845\"}},\"id\":\"1841\",\"type\":\"BoxZoomTool\"},{\"attributes\":{\"active_drag\":\"auto\",\"active_inspect\":\"auto\",\"active_multi\":null,\"active_scroll\":\"auto\",\"active_tap\":\"auto\",\"tools\":[{\"id\":\"1839\"},{\"id\":\"1840\"},{\"id\":\"1841\"},{\"id\":\"1842\"},{\"id\":\"1843\"},{\"id\":\"1844\"}]},\"id\":\"1846\",\"type\":\"Toolbar\"},{\"attributes\":{},\"id\":\"1842\",\"type\":\"SaveTool\"},{\"attributes\":{},\"id\":\"1843\",\"type\":\"ResetTool\"},{\"attributes\":{\"source\":{\"id\":\"1853\"}},\"id\":\"1857\",\"type\":\"CDSView\"},{\"attributes\":{\"line_color\":\"#1f77b4\",\"line_width\":2,\"x\":{\"field\":\"x\"},\"y\":{\"field\":\"y\"}},\"id\":\"1854\",\"type\":\"Line\"}],\"root_ids\":[\"1822\"]},\"title\":\"Bokeh Application\",\"version\":\"2.2.3\"}};\n",
       "  var render_items = [{\"docid\":\"dfea654b-78cf-44ce-83e2-f82f32b8ea5c\",\"root_ids\":[\"1822\"],\"roots\":{\"1822\":\"bf20063c-7cc6-48e8-a2c4-4185f63e2bd5\"}}];\n",
       "  root.Bokeh.embed.embed_items_notebook(docs_json, render_items);\n",
       "\n",
       "  }\n",
       "  if (root.Bokeh !== undefined) {\n",
       "    embed_document(root);\n",
       "  } else {\n",
       "    var attempts = 0;\n",
       "    var timer = setInterval(function(root) {\n",
       "      if (root.Bokeh !== undefined) {\n",
       "        clearInterval(timer);\n",
       "        embed_document(root);\n",
       "      } else {\n",
       "        attempts++;\n",
       "        if (attempts > 100) {\n",
       "          clearInterval(timer);\n",
       "          console.log(\"Bokeh: ERROR: Unable to run BokehJS code because BokehJS library is missing\");\n",
       "        }\n",
       "      }\n",
       "    }, 10, root)\n",
       "  }\n",
       "})(window);"
      ],
      "application/vnd.bokehjs_exec.v0+json": ""
     },
     "metadata": {
      "application/vnd.bokehjs_exec.v0+json": {
       "id": "1822"
      }
     },
     "output_type": "display_data"
    }
   ],
   "source": [
    "sigma_0 = np.linspace(0, 2, 100)\n",
    "p = bokeh.plotting.figure(\n",
    "    frame_width=300, frame_height=200, x_axis_label=\"σ₀\", y_axis_label=\"g(σ₀)\"\n",
    ")\n",
    "p.line(sigma_0, st.gamma.pdf(sigma_0, 2, loc=0, scale=0.1), line_width=2)\n",
    "bokeh.io.show(p)"
   ]
  },
  {
   "cell_type": "markdown",
   "metadata": {},
   "source": [
    "\n",
    "We have now finished building the model:\n",
    "\n",
    "\\begin{align}\n",
    "&\\phi \\sim \\text{LogNorm}(\\ln 20, 0.75),\\\\[1em]\n",
    "&\\gamma \\sim \\text{Beta}(2, 2), \\\\[1em]\n",
    "&\\sigma_0 \\sim \\text{Gamma}(2, 10),\\\\[1em]\n",
    "&\\sigma = \\sigma_0\\,\\phi,\\\\[1em]\n",
    "&\\mu_i =  \\frac{\\gamma d_i}{\\left(1+(\\gamma d_i/\\phi)^3\\right)^{\\frac{1}{3}}}, \\\\[1em]\n",
    "&l_i \\sim \\text{Norm}(\\mu_i, \\sigma) \\;\\forall i.\n",
    "\\end{align}"
   ]
  },
  {
   "cell_type": "markdown",
   "metadata": {},
   "source": [
    "### Example 2: Microtubule Catastrophe  - Try it yourself!\n",
    "\n",
    "[Dataset download](https://s3.amazonaws.com/bebi103.caltech.edu/data/gardner_time_to_catastrophe_dic_tidy.csv)  \n",
    "Gardner, Zanic, and coworkers investigated the dynamics of microtubule catastrophe, the switching of a microtubule from a growing to a shrinking state. In particular, they were interested in the time between the start of growth of a microtubule and the catastrophe event. They monitored microtubules by using tubulin (the monomer that comprises a microtubule) that was labeled with a fluorescent marker. As a control to make sure that fluorescent labels and exposure to laser light did not affect the microtubule dynamics, they performed a similar experiment using differential interference contrast (DIC) microscopy. They measured the time until catastrophe with labeled and unlabeled tubulin."
   ]
  },
  {
   "cell_type": "code",
   "execution_count": 11,
   "metadata": {},
   "outputs": [
    {
     "data": {
      "text/html": [
       "<div>\n",
       "<style scoped>\n",
       "    .dataframe tbody tr th:only-of-type {\n",
       "        vertical-align: middle;\n",
       "    }\n",
       "\n",
       "    .dataframe tbody tr th {\n",
       "        vertical-align: top;\n",
       "    }\n",
       "\n",
       "    .dataframe thead th {\n",
       "        text-align: right;\n",
       "    }\n",
       "</style>\n",
       "<table border=\"1\" class=\"dataframe\">\n",
       "  <thead>\n",
       "    <tr style=\"text-align: right;\">\n",
       "      <th></th>\n",
       "      <th>time to catastrophe (s)</th>\n",
       "      <th>labeled</th>\n",
       "    </tr>\n",
       "  </thead>\n",
       "  <tbody>\n",
       "    <tr>\n",
       "      <th>0</th>\n",
       "      <td>470.0</td>\n",
       "      <td>True</td>\n",
       "    </tr>\n",
       "    <tr>\n",
       "      <th>1</th>\n",
       "      <td>1415.0</td>\n",
       "      <td>True</td>\n",
       "    </tr>\n",
       "    <tr>\n",
       "      <th>2</th>\n",
       "      <td>130.0</td>\n",
       "      <td>True</td>\n",
       "    </tr>\n",
       "    <tr>\n",
       "      <th>3</th>\n",
       "      <td>280.0</td>\n",
       "      <td>True</td>\n",
       "    </tr>\n",
       "    <tr>\n",
       "      <th>4</th>\n",
       "      <td>550.0</td>\n",
       "      <td>True</td>\n",
       "    </tr>\n",
       "  </tbody>\n",
       "</table>\n",
       "</div>"
      ],
      "text/plain": [
       "   time to catastrophe (s)  labeled\n",
       "0                    470.0     True\n",
       "1                   1415.0     True\n",
       "2                    130.0     True\n",
       "3                    280.0     True\n",
       "4                    550.0     True"
      ]
     },
     "execution_count": 11,
     "metadata": {},
     "output_type": "execute_result"
    }
   ],
   "source": [
    "df_mt = pd.read_csv(\n",
    "    os.path.join(data_path, \"gardner_time_to_catastrophe_dic_tidy.csv\"), index_col=0\n",
    ")\n",
    "labeled = df_mt.loc[df_mt[\"labeled\"], \"time to catastrophe (s)\"].values\n",
    "\n",
    "df_mt.head()"
   ]
  },
  {
   "cell_type": "markdown",
   "metadata": {},
   "source": [
    "#### ECDF of Catastrophe Times for Labeled Tubulin"
   ]
  },
  {
   "cell_type": "code",
   "execution_count": 12,
   "metadata": {},
   "outputs": [
    {
     "data": {
      "text/html": [
       "\n",
       "\n",
       "\n",
       "\n",
       "\n",
       "\n",
       "  <div class=\"bk-root\" id=\"f2995e30-994f-4671-9e47-0997dcb3e12c\" data-root-id=\"1975\"></div>\n"
      ]
     },
     "metadata": {},
     "output_type": "display_data"
    },
    {
     "data": {
      "application/javascript": [
       "(function(root) {\n",
       "  function embed_document(root) {\n",
       "    \n",
       "  var docs_json = {\"a34db337-64c4-4e33-8548-b99dc30d96d0\":{\"roots\":{\"references\":[{\"attributes\":{\"below\":[{\"id\":\"1984\"}],\"center\":[{\"id\":\"1987\"},{\"id\":\"1991\"}],\"frame_height\":275,\"frame_width\":375,\"left\":[{\"id\":\"1988\"}],\"renderers\":[{\"id\":\"2009\"},{\"id\":\"2015\"}],\"title\":{\"id\":\"2090\"},\"toolbar\":{\"id\":\"1999\"},\"toolbar_location\":\"above\",\"x_range\":{\"id\":\"1976\"},\"x_scale\":{\"id\":\"1980\"},\"y_range\":{\"id\":\"1978\"},\"y_scale\":{\"id\":\"1982\"}},\"id\":\"1975\",\"subtype\":\"Figure\",\"type\":\"Plot\"},{\"attributes\":{\"active_drag\":\"auto\",\"active_inspect\":\"auto\",\"active_multi\":null,\"active_scroll\":\"auto\",\"active_tap\":\"auto\",\"tools\":[{\"id\":\"1992\"},{\"id\":\"1993\"},{\"id\":\"1994\"},{\"id\":\"1995\"},{\"id\":\"1996\"},{\"id\":\"1997\"}]},\"id\":\"1999\",\"type\":\"Toolbar\"},{\"attributes\":{},\"id\":\"1997\",\"type\":\"HelpTool\"},{\"attributes\":{},\"id\":\"1995\",\"type\":\"SaveTool\"},{\"attributes\":{\"axis\":{\"id\":\"1984\"},\"ticker\":null},\"id\":\"1987\",\"type\":\"Grid\"},{\"attributes\":{},\"id\":\"1996\",\"type\":\"ResetTool\"},{\"attributes\":{\"source\":{\"id\":\"2011\"}},\"id\":\"2016\",\"type\":\"CDSView\"},{\"attributes\":{\"data_source\":{\"id\":\"2011\"},\"glyph\":{\"id\":\"2013\"},\"hover_glyph\":null,\"muted_glyph\":null,\"nonselection_glyph\":{\"id\":\"2014\"},\"selection_glyph\":null,\"view\":{\"id\":\"2016\"}},\"id\":\"2015\",\"type\":\"GlyphRenderer\"},{\"attributes\":{},\"id\":\"1989\",\"type\":\"BasicTicker\"},{\"attributes\":{\"source\":{\"id\":\"2006\"}},\"id\":\"2010\",\"type\":\"CDSView\"},{\"attributes\":{\"data_source\":{\"id\":\"2006\"},\"glyph\":{\"id\":\"2007\"},\"hover_glyph\":null,\"muted_glyph\":null,\"nonselection_glyph\":{\"id\":\"2008\"},\"selection_glyph\":null,\"view\":{\"id\":\"2010\"}},\"id\":\"2009\",\"type\":\"GlyphRenderer\"},{\"attributes\":{\"data\":{\"__ECDF\":{\"__ndarray__\":\"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\",\"dtype\":\"float64\",\"order\":\"little\",\"shape\":[211]},\"__dummy_cat\":[\" \",\" \",\" \",\" \",\" \",\" \",\" \",\" \",\" \",\" \",\" \",\" \",\" \",\" \",\" \",\" \",\" \",\" \",\" \",\" \",\" \",\" \",\" \",\" \",\" \",\" \",\" \",\" \",\" \",\" \",\" \",\" \",\" \",\" \",\" \",\" \",\" \",\" \",\" \",\" \",\" \",\" \",\" \",\" \",\" \",\" \",\" \",\" \",\" \",\" \",\" \",\" \",\" \",\" \",\" \",\" \",\" \",\" \",\" \",\" \",\" \",\" \",\" \",\" \",\" \",\" \",\" \",\" \",\" \",\" \",\" \",\" \",\" \",\" \",\" \",\" \",\" \",\" \",\" \",\" \",\" \",\" \",\" \",\" \",\" \",\" \",\" \",\" \",\" \",\" \",\" \",\" \",\" \",\" \",\" \",\" \",\" \",\" \",\" \",\" \",\" \",\" \",\" \",\" \",\" \",\" \",\" \",\" \",\" \",\" \",\" \",\" \",\" \",\" \",\" \",\" \",\" \",\" \",\" \",\" \",\" \",\" \",\" \",\" \",\" \",\" \",\" \",\" \",\" \",\" \",\" \",\" \",\" \",\" \",\" \",\" \",\" \",\" \",\" \",\" \",\" \",\" \",\" \",\" \",\" \",\" \",\" \",\" \",\" \",\" \",\" \",\" \",\" \",\" \",\" \",\" \",\" \",\" \",\" \",\" \",\" \",\" \",\" \",\" \",\" \",\" \",\" \",\" \",\" \",\" \",\" \",\" \",\" \",\" \",\" \",\" \",\" \",\" \",\" \",\" \",\" \",\" \",\" \",\" \",\" \",\" \",\" \",\" \",\" \",\" \",\" \",\" \",\" \",\" \",\" \",\" \",\" \",\" \",\" \",\" \",\" \",\" \",\" \",\" \",\" \",\" \",\" \",\" \",\" \",\" \",\" \"],\"__label\":[\" \",\" \",\" \",\" \",\" \",\" \",\" \",\" \",\" \",\" \",\" \",\" \",\" \",\" \",\" \",\" \",\" \",\" \",\" \",\" \",\" \",\" \",\" \",\" \",\" \",\" \",\" \",\" \",\" \",\" \",\" \",\" \",\" \",\" \",\" \",\" \",\" \",\" \",\" \",\" \",\" \",\" \",\" \",\" \",\" \",\" \",\" \",\" \",\" \",\" \",\" \",\" \",\" \",\" \",\" \",\" \",\" \",\" \",\" \",\" \",\" \",\" \",\" \",\" \",\" \",\" \",\" \",\" \",\" \",\" \",\" \",\" \",\" \",\" \",\" \",\" \",\" \",\" \",\" \",\" \",\" \",\" \",\" \",\" \",\" \",\" \",\" \",\" \",\" \",\" \",\" \",\" \",\" \",\" \",\" \",\" \",\" \",\" \",\" \",\" \",\" \",\" \",\" \",\" \",\" \",\" \",\" \",\" \",\" \",\" \",\" \",\" \",\" \",\" \",\" \",\" \",\" \",\" \",\" \",\" \",\" \",\" \",\" \",\" \",\" \",\" \",\" \",\" \",\" \",\" \",\" \",\" \",\" \",\" \",\" \",\" \",\" \",\" \",\" \",\" \",\" \",\" \",\" \",\" \",\" \",\" \",\" \",\" \",\" \",\" \",\" \",\" \",\" \",\" \",\" \",\" \",\" \",\" \",\" \",\" \",\" \",\" \",\" \",\" \",\" \",\" \",\" \",\" \",\" \",\" \",\" \",\" \",\" \",\" \",\" \",\" \",\" \",\" \",\" \",\" \",\" \",\" \",\" \",\" \",\" \",\" \",\" \",\" \",\" \",\" \",\" \",\" \",\" \",\" \",\" \",\" \",\" \",\" \",\" \",\" \",\" \",\" \",\" \",\" \",\" \",\" \",\" \",\" \",\" \",\" \",\" \"],\"index\":[0,1,2,3,4,5,6,7,8,9,10,11,12,13,14,15,16,17,18,19,20,21,22,23,24,25,26,27,28,29,30,31,32,33,34,35,36,37,38,39,40,41,42,43,44,45,46,47,48,49,50,51,52,53,54,55,56,57,58,59,60,61,62,63,64,65,66,67,68,69,70,71,72,73,74,75,76,77,78,79,80,81,82,83,84,85,86,87,88,89,90,91,92,93,94,95,96,97,98,99,100,101,102,103,104,105,106,107,108,109,110,111,112,113,114,115,116,117,118,119,120,121,122,123,124,125,126,127,128,129,130,131,132,133,134,135,136,137,138,139,140,141,142,143,144,145,146,147,148,149,150,151,152,153,154,155,156,157,158,159,160,161,162,163,164,165,166,167,168,169,170,171,172,173,174,175,176,177,178,179,180,181,182,183,184,185,186,187,188,189,190,191,192,193,194,195,196,197,198,199,200,201,202,203,204,205,206,207,208,209,210],\"t (s)\":{\"__ndarray__\":\"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\",\"dtype\":\"float64\",\"order\":\"little\",\"shape\":[211]}},\"selected\":{\"id\":\"2099\"},\"selection_policy\":{\"id\":\"2098\"}},\"id\":\"2011\",\"type\":\"ColumnDataSource\"},{\"attributes\":{\"fill_alpha\":0.1,\"fill_color\":\"#1f77b3\",\"line_alpha\":0.1,\"line_color\":\"#1f77b4\",\"x\":{\"field\":\"x\"},\"y\":{\"field\":\"y\"}},\"id\":\"2008\",\"type\":\"Patch\"},{\"attributes\":{},\"id\":\"2097\",\"type\":\"Selection\"},{\"attributes\":{},\"id\":\"2096\",\"type\":\"UnionRenderers\"},{\"attributes\":{\"bottom_units\":\"screen\",\"fill_alpha\":0.5,\"fill_color\":\"lightgrey\",\"left_units\":\"screen\",\"level\":\"overlay\",\"line_alpha\":1.0,\"line_color\":\"black\",\"line_dash\":[4,4],\"line_width\":2,\"right_units\":\"screen\",\"top_units\":\"screen\"},\"id\":\"1998\",\"type\":\"BoxAnnotation\"},{\"attributes\":{},\"id\":\"1982\",\"type\":\"LinearScale\"},{\"attributes\":{},\"id\":\"1976\",\"type\":\"DataRange1d\"},{\"attributes\":{\"axis_label\":\"t (s)\",\"formatter\":{\"id\":\"2091\"},\"ticker\":{\"id\":\"1985\"}},\"id\":\"1984\",\"type\":\"LinearAxis\"},{\"attributes\":{},\"id\":\"1992\",\"type\":\"PanTool\"},{\"attributes\":{\"overlay\":{\"id\":\"1998\"}},\"id\":\"1994\",\"type\":\"BoxZoomTool\"},{\"attributes\":{\"axis\":{\"id\":\"1988\"},\"dimension\":1,\"ticker\":null},\"id\":\"1991\",\"type\":\"Grid\"},{\"attributes\":{\"data\":{\"x\":{\"__ndarray__\":\"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\",\"dtype\":\"float64\",\"order\":\"little\",\"shape\":[844]},\"y\":{\"__ndarray__\":\"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\",\"dtype\":\"float64\",\"order\":\"little\",\"shape\":[844]}},\"selected\":{\"id\":\"2097\"},\"selection_policy\":{\"id\":\"2096\"}},\"id\":\"2006\",\"type\":\"ColumnDataSource\"},{\"attributes\":{\"fill_alpha\":{\"value\":0.1},\"fill_color\":{\"value\":\"#1f77b3\"},\"line_alpha\":{\"value\":0.1},\"line_color\":{\"value\":\"#1f77b3\"},\"x\":{\"field\":\"t (s)\"},\"y\":{\"field\":\"__ECDF\"}},\"id\":\"2014\",\"type\":\"Circle\"},{\"attributes\":{\"text\":\"\"},\"id\":\"2090\",\"type\":\"Title\"},{\"attributes\":{\"axis_label\":\"ECDF\",\"formatter\":{\"id\":\"2093\"},\"ticker\":{\"id\":\"1989\"}},\"id\":\"1988\",\"type\":\"LinearAxis\"},{\"attributes\":{},\"id\":\"2098\",\"type\":\"UnionRenderers\"},{\"attributes\":{},\"id\":\"1993\",\"type\":\"WheelZoomTool\"},{\"attributes\":{},\"id\":\"2099\",\"type\":\"Selection\"},{\"attributes\":{},\"id\":\"2091\",\"type\":\"BasicTickFormatter\"},{\"attributes\":{\"fill_alpha\":0.5,\"fill_color\":\"#1f77b3\",\"line_alpha\":0,\"line_color\":\"#1f77b4\",\"x\":{\"field\":\"x\"},\"y\":{\"field\":\"y\"}},\"id\":\"2007\",\"type\":\"Patch\"},{\"attributes\":{},\"id\":\"1978\",\"type\":\"DataRange1d\"},{\"attributes\":{\"fill_color\":{\"value\":\"#1f77b3\"},\"line_color\":{\"value\":\"#1f77b3\"},\"x\":{\"field\":\"t (s)\"},\"y\":{\"field\":\"__ECDF\"}},\"id\":\"2013\",\"type\":\"Circle\"},{\"attributes\":{},\"id\":\"1985\",\"type\":\"BasicTicker\"},{\"attributes\":{},\"id\":\"1980\",\"type\":\"LinearScale\"},{\"attributes\":{},\"id\":\"2093\",\"type\":\"BasicTickFormatter\"}],\"root_ids\":[\"1975\"]},\"title\":\"Bokeh Application\",\"version\":\"2.2.3\"}};\n",
       "  var render_items = [{\"docid\":\"a34db337-64c4-4e33-8548-b99dc30d96d0\",\"root_ids\":[\"1975\"],\"roots\":{\"1975\":\"f2995e30-994f-4671-9e47-0997dcb3e12c\"}}];\n",
       "  root.Bokeh.embed.embed_items_notebook(docs_json, render_items);\n",
       "\n",
       "  }\n",
       "  if (root.Bokeh !== undefined) {\n",
       "    embed_document(root);\n",
       "  } else {\n",
       "    var attempts = 0;\n",
       "    var timer = setInterval(function(root) {\n",
       "      if (root.Bokeh !== undefined) {\n",
       "        clearInterval(timer);\n",
       "        embed_document(root);\n",
       "      } else {\n",
       "        attempts++;\n",
       "        if (attempts > 100) {\n",
       "          clearInterval(timer);\n",
       "          console.log(\"Bokeh: ERROR: Unable to run BokehJS code because BokehJS library is missing\");\n",
       "        }\n",
       "      }\n",
       "    }, 10, root)\n",
       "  }\n",
       "})(window);"
      ],
      "application/vnd.bokehjs_exec.v0+json": ""
     },
     "metadata": {
      "application/vnd.bokehjs_exec.v0+json": {
       "id": "1975"
      }
     },
     "output_type": "display_data"
    }
   ],
   "source": [
    "p = iqplot.ecdf(labeled, q='t (s)', conf_int=True)\n",
    "\n",
    "bokeh.io.show(p)"
   ]
  },
  {
   "cell_type": "markdown",
   "metadata": {},
   "source": [
    "Last term, we explored a Gamma model for this dataset, which gives the amount of time we have to wait for $\\alpha$ arrivals of a Poisson process. This models a multistep process where each step happens at the same rate. So $\\alpha$ is the number of arrivals, and $\\beta$ is the rate of arrivals. \n",
    "\n",
    "In the distribution explorer, it is easier to see the impacts of changing the parameters. When $\\beta$ is small, the gamma distribution gets broad. This makes sense because the rate is small and thus the waiting time will likely be larger or more variable. When $\\beta$ rate is large, the gamma distribution gets sharp; the waiting time will be short with a large rate. \n",
    "\n",
    "We have two parameters - $\\alpha$ and $\\beta$. Let's try to pick reasonable priors for $\\alpha$ and $\\beta$. \n",
    "\n",
    "For $\\beta$, we know that it is not physically possible for it to be negative or zero. We also know it will not be faster than the speed of light, ~ 3e8 m/s. In scipy, the lognormal pdf takes in a scale parameter, which is 1/$\\beta$. It might be easier to think of a prior for 1/$\\beta$, instead of $\\beta$ itself. We can define $\\theta$ = 1/$\\beta$. If $\\beta$ is very large, say approaching the speed of light, then $\\theta$ will be very small, approaching zero. \n",
    "\n",
    "I am not a biologist, but I would bet to say it is unlikely that microtubule catastrophe will take longer than one hours = 3600 seconds. 1/3600 ~ 2e-4 $\\beta$ rate. So we could use 1/2e-4 = 5000 for a $\\theta$ upper bound. \n",
    "\n",
    "The range 0 – 5000 is a pretty wide, but we could use a lognormal, since I expect more probability towards faster rates than really slow ones. Let's use a mean of 500.\n",
    "\n",
    "\\begin{aligned}\n",
    "g(\\phi) \\sim \\text{LogNorm}(\\text{ln} \\ 500, 0.75).\n",
    "\\end{aligned}"
   ]
  },
  {
   "cell_type": "code",
   "execution_count": 13,
   "metadata": {},
   "outputs": [
    {
     "data": {
      "text/html": [
       "\n",
       "\n",
       "\n",
       "\n",
       "\n",
       "\n",
       "  <div class=\"bk-root\" id=\"2c88cc06-987a-4110-b04b-963c5768461e\" data-root-id=\"2155\"></div>\n"
      ]
     },
     "metadata": {},
     "output_type": "display_data"
    },
    {
     "data": {
      "application/javascript": [
       "(function(root) {\n",
       "  function embed_document(root) {\n",
       "    \n",
       "  var docs_json = {\"442e4f9a-a36a-4f48-b5bb-6284969a0c49\":{\"roots\":{\"references\":[{\"attributes\":{\"below\":[{\"id\":\"2164\"}],\"center\":[{\"id\":\"2167\"},{\"id\":\"2171\"}],\"frame_height\":300,\"frame_width\":400,\"left\":[{\"id\":\"2168\"}],\"renderers\":[{\"id\":\"2189\"}],\"title\":{\"id\":\"2275\"},\"toolbar\":{\"id\":\"2179\"},\"x_range\":{\"id\":\"2156\"},\"x_scale\":{\"id\":\"2160\"},\"y_range\":{\"id\":\"2158\"},\"y_scale\":{\"id\":\"2162\"}},\"id\":\"2155\",\"subtype\":\"Figure\",\"type\":\"Plot\"},{\"attributes\":{},\"id\":\"2176\",\"type\":\"ResetTool\"},{\"attributes\":{},\"id\":\"2276\",\"type\":\"BasicTickFormatter\"},{\"attributes\":{\"overlay\":{\"id\":\"2178\"}},\"id\":\"2174\",\"type\":\"BoxZoomTool\"},{\"attributes\":{\"bottom_units\":\"screen\",\"fill_alpha\":0.5,\"fill_color\":\"lightgrey\",\"left_units\":\"screen\",\"level\":\"overlay\",\"line_alpha\":1.0,\"line_color\":\"black\",\"line_dash\":[4,4],\"line_width\":2,\"right_units\":\"screen\",\"top_units\":\"screen\"},\"id\":\"2178\",\"type\":\"BoxAnnotation\"},{\"attributes\":{},\"id\":\"2173\",\"type\":\"WheelZoomTool\"},{\"attributes\":{\"line_alpha\":0.1,\"line_color\":\"#1f77b4\",\"line_width\":2,\"x\":{\"field\":\"x\"},\"y\":{\"field\":\"y\"}},\"id\":\"2188\",\"type\":\"Line\"},{\"attributes\":{},\"id\":\"2278\",\"type\":\"BasicTickFormatter\"},{\"attributes\":{\"axis\":{\"id\":\"2168\"},\"dimension\":1,\"ticker\":null},\"id\":\"2171\",\"type\":\"Grid\"},{\"attributes\":{\"line_color\":\"#1f77b4\",\"line_width\":2,\"x\":{\"field\":\"x\"},\"y\":{\"field\":\"y\"}},\"id\":\"2187\",\"type\":\"Line\"},{\"attributes\":{},\"id\":\"2177\",\"type\":\"HelpTool\"},{\"attributes\":{\"source\":{\"id\":\"2186\"}},\"id\":\"2190\",\"type\":\"CDSView\"},{\"attributes\":{\"active_drag\":\"auto\",\"active_inspect\":\"auto\",\"active_multi\":null,\"active_scroll\":\"auto\",\"active_tap\":\"auto\",\"tools\":[{\"id\":\"2172\"},{\"id\":\"2173\"},{\"id\":\"2174\"},{\"id\":\"2175\"},{\"id\":\"2176\"},{\"id\":\"2177\"}]},\"id\":\"2179\",\"type\":\"Toolbar\"},{\"attributes\":{\"data\":{\"x\":{\"__ndarray__\":\"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\",\"dtype\":\"float64\",\"order\":\"little\",\"shape\":[200]},\"y\":{\"__ndarray__\":\"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\",\"dtype\":\"float64\",\"order\":\"little\",\"shape\":[200]}},\"selected\":{\"id\":\"2282\"},\"selection_policy\":{\"id\":\"2281\"}},\"id\":\"2186\",\"type\":\"ColumnDataSource\"},{\"attributes\":{},\"id\":\"2281\",\"type\":\"UnionRenderers\"},{\"attributes\":{},\"id\":\"2156\",\"type\":\"DataRange1d\"},{\"attributes\":{\"axis_label\":\"g(\\u03b8)\",\"formatter\":{\"id\":\"2278\"},\"ticker\":{\"id\":\"2169\"}},\"id\":\"2168\",\"type\":\"LinearAxis\"},{\"attributes\":{\"text\":\"\"},\"id\":\"2275\",\"type\":\"Title\"},{\"attributes\":{\"axis_label\":\"\\u03b8 (s)\",\"formatter\":{\"id\":\"2276\"},\"ticker\":{\"id\":\"2165\"}},\"id\":\"2164\",\"type\":\"LinearAxis\"},{\"attributes\":{},\"id\":\"2160\",\"type\":\"LinearScale\"},{\"attributes\":{\"data_source\":{\"id\":\"2186\"},\"glyph\":{\"id\":\"2187\"},\"hover_glyph\":null,\"muted_glyph\":null,\"nonselection_glyph\":{\"id\":\"2188\"},\"selection_glyph\":null,\"view\":{\"id\":\"2190\"}},\"id\":\"2189\",\"type\":\"GlyphRenderer\"},{\"attributes\":{},\"id\":\"2158\",\"type\":\"DataRange1d\"},{\"attributes\":{},\"id\":\"2162\",\"type\":\"LinearScale\"},{\"attributes\":{},\"id\":\"2165\",\"type\":\"BasicTicker\"},{\"attributes\":{},\"id\":\"2175\",\"type\":\"SaveTool\"},{\"attributes\":{\"axis\":{\"id\":\"2164\"},\"ticker\":null},\"id\":\"2167\",\"type\":\"Grid\"},{\"attributes\":{},\"id\":\"2282\",\"type\":\"Selection\"},{\"attributes\":{},\"id\":\"2172\",\"type\":\"PanTool\"},{\"attributes\":{},\"id\":\"2169\",\"type\":\"BasicTicker\"}],\"root_ids\":[\"2155\"]},\"title\":\"Bokeh Application\",\"version\":\"2.2.3\"}};\n",
       "  var render_items = [{\"docid\":\"442e4f9a-a36a-4f48-b5bb-6284969a0c49\",\"root_ids\":[\"2155\"],\"roots\":{\"2155\":\"2c88cc06-987a-4110-b04b-963c5768461e\"}}];\n",
       "  root.Bokeh.embed.embed_items_notebook(docs_json, render_items);\n",
       "\n",
       "  }\n",
       "  if (root.Bokeh !== undefined) {\n",
       "    embed_document(root);\n",
       "  } else {\n",
       "    var attempts = 0;\n",
       "    var timer = setInterval(function(root) {\n",
       "      if (root.Bokeh !== undefined) {\n",
       "        clearInterval(timer);\n",
       "        embed_document(root);\n",
       "      } else {\n",
       "        attempts++;\n",
       "        if (attempts > 100) {\n",
       "          clearInterval(timer);\n",
       "          console.log(\"Bokeh: ERROR: Unable to run BokehJS code because BokehJS library is missing\");\n",
       "        }\n",
       "      }\n",
       "    }, 10, root)\n",
       "  }\n",
       "})(window);"
      ],
      "application/vnd.bokehjs_exec.v0+json": ""
     },
     "metadata": {
      "application/vnd.bokehjs_exec.v0+json": {
       "id": "2155"
      }
     },
     "output_type": "display_data"
    }
   ],
   "source": [
    "theta = np.linspace(0, 5000, 200)\n",
    "p = bokeh.plotting.figure(\n",
    "    frame_width=400, frame_height=300, x_axis_label=\"θ (s)\", y_axis_label=\"g(θ)\"\n",
    ")\n",
    "p.line(theta, st.lognorm.pdf(theta, 0.7, loc=0, scale=500), line_width=2)\n",
    "bokeh.io.show(p)"
   ]
  },
  {
   "cell_type": "markdown",
   "metadata": {},
   "source": [
    "For $\\alpha$, we do have a rough bound. We know $\\alpha$ must not be negative, or zero. We also know that if we use a mean $\\theta$ of 500, then $\\beta$ = 1/500 = .002. And, looking at the data, a mean catastrophe time is about 500. If we then use the mean moment of the gamma distribution,  and set 500 = $\\alpha$/ $\\beta$ = $\\alpha$/ .002, we get an order of magnitude estimate for $\\alpha$ of 1. Based on this, it is not likely to be larger than 10."
   ]
  },
  {
   "cell_type": "code",
   "execution_count": 14,
   "metadata": {},
   "outputs": [
    {
     "data": {
      "text/html": [
       "\n",
       "\n",
       "\n",
       "\n",
       "\n",
       "\n",
       "  <div class=\"bk-root\" id=\"73f52f13-19b9-42b2-8f95-e17bf97348c4\" data-root-id=\"2328\"></div>\n"
      ]
     },
     "metadata": {},
     "output_type": "display_data"
    },
    {
     "data": {
      "application/javascript": [
       "(function(root) {\n",
       "  function embed_document(root) {\n",
       "    \n",
       "  var docs_json = {\"902937de-c506-4199-8631-e65de14cd87a\":{\"roots\":{\"references\":[{\"attributes\":{\"below\":[{\"id\":\"2337\"}],\"center\":[{\"id\":\"2340\"},{\"id\":\"2344\"}],\"frame_height\":200,\"frame_width\":300,\"left\":[{\"id\":\"2341\"}],\"renderers\":[{\"id\":\"2362\"}],\"title\":{\"id\":\"2457\"},\"toolbar\":{\"id\":\"2352\"},\"x_range\":{\"id\":\"2329\"},\"x_scale\":{\"id\":\"2333\"},\"y_range\":{\"id\":\"2331\"},\"y_scale\":{\"id\":\"2335\"}},\"id\":\"2328\",\"subtype\":\"Figure\",\"type\":\"Plot\"},{\"attributes\":{\"line_color\":\"#1f77b4\",\"line_width\":2,\"x\":{\"field\":\"x\"},\"y\":{\"field\":\"y\"}},\"id\":\"2360\",\"type\":\"Line\"},{\"attributes\":{\"bottom_units\":\"screen\",\"fill_alpha\":0.5,\"fill_color\":\"lightgrey\",\"left_units\":\"screen\",\"level\":\"overlay\",\"line_alpha\":1.0,\"line_color\":\"black\",\"line_dash\":[4,4],\"line_width\":2,\"right_units\":\"screen\",\"top_units\":\"screen\"},\"id\":\"2351\",\"type\":\"BoxAnnotation\"},{\"attributes\":{\"source\":{\"id\":\"2359\"}},\"id\":\"2363\",\"type\":\"CDSView\"},{\"attributes\":{\"line_alpha\":0.1,\"line_color\":\"#1f77b4\",\"line_width\":2,\"x\":{\"field\":\"x\"},\"y\":{\"field\":\"y\"}},\"id\":\"2361\",\"type\":\"Line\"},{\"attributes\":{},\"id\":\"2329\",\"type\":\"DataRange1d\"},{\"attributes\":{},\"id\":\"2458\",\"type\":\"BasicTickFormatter\"},{\"attributes\":{},\"id\":\"2348\",\"type\":\"SaveTool\"},{\"attributes\":{},\"id\":\"2460\",\"type\":\"BasicTickFormatter\"},{\"attributes\":{},\"id\":\"2349\",\"type\":\"ResetTool\"},{\"attributes\":{\"active_drag\":\"auto\",\"active_inspect\":\"auto\",\"active_multi\":null,\"active_scroll\":\"auto\",\"active_tap\":\"auto\",\"tools\":[{\"id\":\"2345\"},{\"id\":\"2346\"},{\"id\":\"2347\"},{\"id\":\"2348\"},{\"id\":\"2349\"},{\"id\":\"2350\"}]},\"id\":\"2352\",\"type\":\"Toolbar\"},{\"attributes\":{\"data\":{\"x\":{\"__ndarray__\":\"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\",\"dtype\":\"float64\",\"order\":\"little\",\"shape\":[200]},\"y\":{\"__ndarray__\":\"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\",\"dtype\":\"float64\",\"order\":\"little\",\"shape\":[200]}},\"selected\":{\"id\":\"2464\"},\"selection_policy\":{\"id\":\"2463\"}},\"id\":\"2359\",\"type\":\"ColumnDataSource\"},{\"attributes\":{\"text\":\"\"},\"id\":\"2457\",\"type\":\"Title\"},{\"attributes\":{\"axis_label\":\"\\u03b1\",\"formatter\":{\"id\":\"2458\"},\"ticker\":{\"id\":\"2338\"}},\"id\":\"2337\",\"type\":\"LinearAxis\"},{\"attributes\":{},\"id\":\"2333\",\"type\":\"LinearScale\"},{\"attributes\":{\"overlay\":{\"id\":\"2351\"}},\"id\":\"2347\",\"type\":\"BoxZoomTool\"},{\"attributes\":{},\"id\":\"2350\",\"type\":\"HelpTool\"},{\"attributes\":{},\"id\":\"2331\",\"type\":\"DataRange1d\"},{\"attributes\":{},\"id\":\"2342\",\"type\":\"BasicTicker\"},{\"attributes\":{},\"id\":\"2335\",\"type\":\"LinearScale\"},{\"attributes\":{\"data_source\":{\"id\":\"2359\"},\"glyph\":{\"id\":\"2360\"},\"hover_glyph\":null,\"muted_glyph\":null,\"nonselection_glyph\":{\"id\":\"2361\"},\"selection_glyph\":null,\"view\":{\"id\":\"2363\"}},\"id\":\"2362\",\"type\":\"GlyphRenderer\"},{\"attributes\":{},\"id\":\"2338\",\"type\":\"BasicTicker\"},{\"attributes\":{\"axis\":{\"id\":\"2337\"},\"ticker\":null},\"id\":\"2340\",\"type\":\"Grid\"},{\"attributes\":{},\"id\":\"2346\",\"type\":\"WheelZoomTool\"},{\"attributes\":{\"axis_label\":\"g(\\u03b1)\",\"formatter\":{\"id\":\"2460\"},\"ticker\":{\"id\":\"2342\"}},\"id\":\"2341\",\"type\":\"LinearAxis\"},{\"attributes\":{\"axis\":{\"id\":\"2341\"},\"dimension\":1,\"ticker\":null},\"id\":\"2344\",\"type\":\"Grid\"},{\"attributes\":{},\"id\":\"2463\",\"type\":\"UnionRenderers\"},{\"attributes\":{},\"id\":\"2345\",\"type\":\"PanTool\"},{\"attributes\":{},\"id\":\"2464\",\"type\":\"Selection\"}],\"root_ids\":[\"2328\"]},\"title\":\"Bokeh Application\",\"version\":\"2.2.3\"}};\n",
       "  var render_items = [{\"docid\":\"902937de-c506-4199-8631-e65de14cd87a\",\"root_ids\":[\"2328\"],\"roots\":{\"2328\":\"73f52f13-19b9-42b2-8f95-e17bf97348c4\"}}];\n",
       "  root.Bokeh.embed.embed_items_notebook(docs_json, render_items);\n",
       "\n",
       "  }\n",
       "  if (root.Bokeh !== undefined) {\n",
       "    embed_document(root);\n",
       "  } else {\n",
       "    var attempts = 0;\n",
       "    var timer = setInterval(function(root) {\n",
       "      if (root.Bokeh !== undefined) {\n",
       "        clearInterval(timer);\n",
       "        embed_document(root);\n",
       "      } else {\n",
       "        attempts++;\n",
       "        if (attempts > 100) {\n",
       "          clearInterval(timer);\n",
       "          console.log(\"Bokeh: ERROR: Unable to run BokehJS code because BokehJS library is missing\");\n",
       "        }\n",
       "      }\n",
       "    }, 10, root)\n",
       "  }\n",
       "})(window);"
      ],
      "application/vnd.bokehjs_exec.v0+json": ""
     },
     "metadata": {
      "application/vnd.bokehjs_exec.v0+json": {
       "id": "2328"
      }
     },
     "output_type": "display_data"
    }
   ],
   "source": [
    "alpha = np.linspace(0, 20, 200)\n",
    "p = bokeh.plotting.figure(\n",
    "    frame_width=300, frame_height=200, x_axis_label=\"α\", y_axis_label=\"g(α)\"\n",
    ")\n",
    "p.line(alpha, st.halfnorm.pdf(alpha, 0, 5), line_width=2)\n",
    "bokeh.io.show(p)"
   ]
  },
  {
   "cell_type": "markdown",
   "metadata": {},
   "source": [
    "## Computing environment"
   ]
  },
  {
   "cell_type": "code",
   "execution_count": 15,
   "metadata": {},
   "outputs": [
    {
     "name": "stdout",
     "output_type": "stream",
     "text": [
      "CPython 3.8.5\n",
      "IPython 7.19.0\n",
      "\n",
      "numpy 1.19.2\n",
      "pandas 1.2.1\n",
      "bokeh 2.2.3\n",
      "iqplot 0.2.0\n",
      "jupyterlab 2.2.6\n"
     ]
    }
   ],
   "source": [
    "%load_ext watermark\n",
    "%watermark -v -p numpy,pandas,bokeh,iqplot,jupyterlab"
   ]
  }
 ],
 "metadata": {
  "kernelspec": {
   "display_name": "Python 3",
   "language": "python",
   "name": "python3"
  },
  "language_info": {
   "codemirror_mode": {
    "name": "ipython",
    "version": 3
   },
   "file_extension": ".py",
   "mimetype": "text/x-python",
   "name": "python",
   "nbconvert_exporter": "python",
   "pygments_lexer": "ipython3",
   "version": "3.8.5"
  }
 },
 "nbformat": 4,
 "nbformat_minor": 4
}
