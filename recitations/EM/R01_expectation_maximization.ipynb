{
 "cells": [
  {
   "cell_type": "code",
   "execution_count": 1,
   "metadata": {
    "id": "e59njrIaRuVQ"
   },
   "outputs": [
    {
     "data": {
      "text/html": [
       "    <style>\n",
       "        .bk-notebook-logo {\n",
       "            display: block;\n",
       "            width: 20px;\n",
       "            height: 20px;\n",
       "            background-image: url(data:image/png;base64,iVBORw0KGgoAAAANSUhEUgAAABQAAAAUCAYAAACNiR0NAAAABHNCSVQICAgIfAhkiAAAAAlwSFlzAAALEgAACxIB0t1+/AAAABx0RVh0U29mdHdhcmUAQWRvYmUgRmlyZXdvcmtzIENTNui8sowAAAOkSURBVDiNjZRtaJVlGMd/1/08zzln5zjP1LWcU9N0NkN8m2CYjpgQYQXqSs0I84OLIC0hkEKoPtiH3gmKoiJDU7QpLgoLjLIQCpEsNJ1vqUOdO7ppbuec5+V+rj4ctwzd8IIbbi6u+8f1539dt3A78eXC7QizUF7gyV1fD1Yqg4JWz84yffhm0qkFqBogB9rM8tZdtwVsPUhWhGcFJngGeWrPzHm5oaMmkfEg1usvLFyc8jLRqDOMru7AyC8saQr7GG7f5fvDeH7Ej8CM66nIF+8yngt6HWaKh7k49Soy9nXurCi1o3qUbS3zWfrYeQDTB/Qj6kX6Ybhw4B+bOYoLKCC9H3Nu/leUTZ1JdRWkkn2ldcCamzrcf47KKXdAJllSlxAOkRgyHsGC/zRday5Qld9DyoM4/q/rUoy/CXh3jzOu3bHUVZeU+DEn8FInkPBFlu3+nW3Nw0mk6vCDiWg8CeJaxEwuHS3+z5RgY+YBR6V1Z1nxSOfoaPa4LASWxxdNp+VWTk7+4vzaou8v8PN+xo+KY2xsw6une2frhw05CTYOmQvsEhjhWjn0bmXPjpE1+kplmmkP3suftwTubK9Vq22qKmrBhpY4jvd5afdRA3wGjFAgcnTK2s4hY0/GPNIb0nErGMCRxWOOX64Z8RAC4oCXdklmEvcL8o0BfkNK4lUg9HTl+oPlQxdNo3Mg4Nv175e/1LDGzZen30MEjRUtmXSfiTVu1kK8W4txyV6BMKlbgk3lMwYCiusNy9fVfvvwMxv8Ynl6vxoByANLTWplvuj/nF9m2+PDtt1eiHPBr1oIfhCChQMBw6Aw0UulqTKZdfVvfG7VcfIqLG9bcldL/+pdWTLxLUy8Qq38heUIjh4XlzZxzQm19lLFlr8vdQ97rjZVOLf8nclzckbcD4wxXMidpX30sFd37Fv/GtwwhzhxGVAprjbg0gCAEeIgwCZyTV2Z1REEW8O4py0wsjeloKoMr6iCY6dP92H6Vw/oTyICIthibxjm/DfN9lVz8IqtqKYLUXfoKVMVQVVJOElGjrnnUt9T9wbgp8AyYKaGlqingHZU/uG2NTZSVqwHQTWkx9hxjkpWDaCg6Ckj5qebgBVbT3V3NNXMSiWSDdGV3hrtzla7J+duwPOToIg42ChPQOQjspnSlp1V+Gjdged7+8UN5CRAV7a5EdFNwCjEaBR27b3W890TE7g24NAP/mMDXRWrGoFPQI9ls/MWO2dWFAar/xcOIImbbpA3zgAAAABJRU5ErkJggg==);\n",
       "        }\n",
       "    </style>\n",
       "    <div>\n",
       "        <a href=\"https://bokeh.org\" target=\"_blank\" class=\"bk-notebook-logo\"></a>\n",
       "        <span id=\"e13fb965-3a27-411b-a644-d00da31b284d\">Loading BokehJS ...</span>\n",
       "    </div>\n"
      ]
     },
     "metadata": {},
     "output_type": "display_data"
    },
    {
     "data": {
      "application/javascript": [
       "'use strict';\n",
       "(function(root) {\n",
       "  function now() {\n",
       "    return new Date();\n",
       "  }\n",
       "\n",
       "  const force = true;\n",
       "\n",
       "  if (typeof root._bokeh_onload_callbacks === \"undefined\" || force === true) {\n",
       "    root._bokeh_onload_callbacks = [];\n",
       "    root._bokeh_is_loading = undefined;\n",
       "  }\n",
       "\n",
       "const JS_MIME_TYPE = 'application/javascript';\n",
       "  const HTML_MIME_TYPE = 'text/html';\n",
       "  const EXEC_MIME_TYPE = 'application/vnd.bokehjs_exec.v0+json';\n",
       "  const CLASS_NAME = 'output_bokeh rendered_html';\n",
       "\n",
       "  /**\n",
       "   * Render data to the DOM node\n",
       "   */\n",
       "  function render(props, node) {\n",
       "    const script = document.createElement(\"script\");\n",
       "    node.appendChild(script);\n",
       "  }\n",
       "\n",
       "  /**\n",
       "   * Handle when an output is cleared or removed\n",
       "   */\n",
       "  function handleClearOutput(event, handle) {\n",
       "    function drop(id) {\n",
       "      const view = Bokeh.index.get_by_id(id)\n",
       "      if (view != null) {\n",
       "        view.model.document.clear()\n",
       "        Bokeh.index.delete(view)\n",
       "      }\n",
       "    }\n",
       "\n",
       "    const cell = handle.cell;\n",
       "\n",
       "    const id = cell.output_area._bokeh_element_id;\n",
       "    const server_id = cell.output_area._bokeh_server_id;\n",
       "\n",
       "    // Clean up Bokeh references\n",
       "    if (id != null) {\n",
       "      drop(id)\n",
       "    }\n",
       "\n",
       "    if (server_id !== undefined) {\n",
       "      // Clean up Bokeh references\n",
       "      const cmd_clean = \"from bokeh.io.state import curstate; print(curstate().uuid_to_server['\" + server_id + \"'].get_sessions()[0].document.roots[0]._id)\";\n",
       "      cell.notebook.kernel.execute(cmd_clean, {\n",
       "        iopub: {\n",
       "          output: function(msg) {\n",
       "            const id = msg.content.text.trim()\n",
       "            drop(id)\n",
       "          }\n",
       "        }\n",
       "      });\n",
       "      // Destroy server and session\n",
       "      const cmd_destroy = \"import bokeh.io.notebook as ion; ion.destroy_server('\" + server_id + \"')\";\n",
       "      cell.notebook.kernel.execute(cmd_destroy);\n",
       "    }\n",
       "  }\n",
       "\n",
       "  /**\n",
       "   * Handle when a new output is added\n",
       "   */\n",
       "  function handleAddOutput(event, handle) {\n",
       "    const output_area = handle.output_area;\n",
       "    const output = handle.output;\n",
       "\n",
       "    // limit handleAddOutput to display_data with EXEC_MIME_TYPE content only\n",
       "    if ((output.output_type != \"display_data\") || (!Object.prototype.hasOwnProperty.call(output.data, EXEC_MIME_TYPE))) {\n",
       "      return\n",
       "    }\n",
       "\n",
       "    const toinsert = output_area.element.find(\".\" + CLASS_NAME.split(' ')[0]);\n",
       "\n",
       "    if (output.metadata[EXEC_MIME_TYPE][\"id\"] !== undefined) {\n",
       "      toinsert[toinsert.length - 1].firstChild.textContent = output.data[JS_MIME_TYPE];\n",
       "      // store reference to embed id on output_area\n",
       "      output_area._bokeh_element_id = output.metadata[EXEC_MIME_TYPE][\"id\"];\n",
       "    }\n",
       "    if (output.metadata[EXEC_MIME_TYPE][\"server_id\"] !== undefined) {\n",
       "      const bk_div = document.createElement(\"div\");\n",
       "      bk_div.innerHTML = output.data[HTML_MIME_TYPE];\n",
       "      const script_attrs = bk_div.children[0].attributes;\n",
       "      for (let i = 0; i < script_attrs.length; i++) {\n",
       "        toinsert[toinsert.length - 1].firstChild.setAttribute(script_attrs[i].name, script_attrs[i].value);\n",
       "        toinsert[toinsert.length - 1].firstChild.textContent = bk_div.children[0].textContent\n",
       "      }\n",
       "      // store reference to server id on output_area\n",
       "      output_area._bokeh_server_id = output.metadata[EXEC_MIME_TYPE][\"server_id\"];\n",
       "    }\n",
       "  }\n",
       "\n",
       "  function register_renderer(events, OutputArea) {\n",
       "\n",
       "    function append_mime(data, metadata, element) {\n",
       "      // create a DOM node to render to\n",
       "      const toinsert = this.create_output_subarea(\n",
       "        metadata,\n",
       "        CLASS_NAME,\n",
       "        EXEC_MIME_TYPE\n",
       "      );\n",
       "      this.keyboard_manager.register_events(toinsert);\n",
       "      // Render to node\n",
       "      const props = {data: data, metadata: metadata[EXEC_MIME_TYPE]};\n",
       "      render(props, toinsert[toinsert.length - 1]);\n",
       "      element.append(toinsert);\n",
       "      return toinsert\n",
       "    }\n",
       "\n",
       "    /* Handle when an output is cleared or removed */\n",
       "    events.on('clear_output.CodeCell', handleClearOutput);\n",
       "    events.on('delete.Cell', handleClearOutput);\n",
       "\n",
       "    /* Handle when a new output is added */\n",
       "    events.on('output_added.OutputArea', handleAddOutput);\n",
       "\n",
       "    /**\n",
       "     * Register the mime type and append_mime function with output_area\n",
       "     */\n",
       "    OutputArea.prototype.register_mime_type(EXEC_MIME_TYPE, append_mime, {\n",
       "      /* Is output safe? */\n",
       "      safe: true,\n",
       "      /* Index of renderer in `output_area.display_order` */\n",
       "      index: 0\n",
       "    });\n",
       "  }\n",
       "\n",
       "  // register the mime type if in Jupyter Notebook environment and previously unregistered\n",
       "  if (root.Jupyter !== undefined) {\n",
       "    const events = require('base/js/events');\n",
       "    const OutputArea = require('notebook/js/outputarea').OutputArea;\n",
       "\n",
       "    if (OutputArea.prototype.mime_types().indexOf(EXEC_MIME_TYPE) == -1) {\n",
       "      register_renderer(events, OutputArea);\n",
       "    }\n",
       "  }\n",
       "  if (typeof (root._bokeh_timeout) === \"undefined\" || force === true) {\n",
       "    root._bokeh_timeout = Date.now() + 5000;\n",
       "    root._bokeh_failed_load = false;\n",
       "  }\n",
       "\n",
       "  const NB_LOAD_WARNING = {'data': {'text/html':\n",
       "     \"<div style='background-color: #fdd'>\\n\"+\n",
       "     \"<p>\\n\"+\n",
       "     \"BokehJS does not appear to have successfully loaded. If loading BokehJS from CDN, this \\n\"+\n",
       "     \"may be due to a slow or bad network connection. Possible fixes:\\n\"+\n",
       "     \"</p>\\n\"+\n",
       "     \"<ul>\\n\"+\n",
       "     \"<li>re-rerun `output_notebook()` to attempt to load from CDN again, or</li>\\n\"+\n",
       "     \"<li>use INLINE resources instead, as so:</li>\\n\"+\n",
       "     \"</ul>\\n\"+\n",
       "     \"<code>\\n\"+\n",
       "     \"from bokeh.resources import INLINE\\n\"+\n",
       "     \"output_notebook(resources=INLINE)\\n\"+\n",
       "     \"</code>\\n\"+\n",
       "     \"</div>\"}};\n",
       "\n",
       "  function display_loaded(error = null) {\n",
       "    const el = document.getElementById(\"e13fb965-3a27-411b-a644-d00da31b284d\");\n",
       "    if (el != null) {\n",
       "      const html = (() => {\n",
       "        if (typeof root.Bokeh === \"undefined\") {\n",
       "          if (error == null) {\n",
       "            return \"BokehJS is loading ...\";\n",
       "          } else {\n",
       "            return \"BokehJS failed to load.\";\n",
       "          }\n",
       "        } else {\n",
       "          const prefix = `BokehJS ${root.Bokeh.version}`;\n",
       "          if (error == null) {\n",
       "            return `${prefix} successfully loaded.`;\n",
       "          } else {\n",
       "            return `${prefix} <b>encountered errors</b> while loading and may not function as expected.`;\n",
       "          }\n",
       "        }\n",
       "      })();\n",
       "      el.innerHTML = html;\n",
       "\n",
       "      if (error != null) {\n",
       "        const wrapper = document.createElement(\"div\");\n",
       "        wrapper.style.overflow = \"auto\";\n",
       "        wrapper.style.height = \"5em\";\n",
       "        wrapper.style.resize = \"vertical\";\n",
       "        const content = document.createElement(\"div\");\n",
       "        content.style.fontFamily = \"monospace\";\n",
       "        content.style.whiteSpace = \"pre-wrap\";\n",
       "        content.style.backgroundColor = \"rgb(255, 221, 221)\";\n",
       "        content.textContent = error.stack ?? error.toString();\n",
       "        wrapper.append(content);\n",
       "        el.append(wrapper);\n",
       "      }\n",
       "    } else if (Date.now() < root._bokeh_timeout) {\n",
       "      setTimeout(() => display_loaded(error), 100);\n",
       "    }\n",
       "  }\n",
       "\n",
       "  function run_callbacks() {\n",
       "    try {\n",
       "      root._bokeh_onload_callbacks.forEach(function(callback) {\n",
       "        if (callback != null)\n",
       "          callback();\n",
       "      });\n",
       "    } finally {\n",
       "      delete root._bokeh_onload_callbacks\n",
       "    }\n",
       "    console.debug(\"Bokeh: all callbacks have finished\");\n",
       "  }\n",
       "\n",
       "  function load_libs(css_urls, js_urls, callback) {\n",
       "    if (css_urls == null) css_urls = [];\n",
       "    if (js_urls == null) js_urls = [];\n",
       "\n",
       "    root._bokeh_onload_callbacks.push(callback);\n",
       "    if (root._bokeh_is_loading > 0) {\n",
       "      console.debug(\"Bokeh: BokehJS is being loaded, scheduling callback at\", now());\n",
       "      return null;\n",
       "    }\n",
       "    if (js_urls == null || js_urls.length === 0) {\n",
       "      run_callbacks();\n",
       "      return null;\n",
       "    }\n",
       "    console.debug(\"Bokeh: BokehJS not loaded, scheduling load and callback at\", now());\n",
       "    root._bokeh_is_loading = css_urls.length + js_urls.length;\n",
       "\n",
       "    function on_load() {\n",
       "      root._bokeh_is_loading--;\n",
       "      if (root._bokeh_is_loading === 0) {\n",
       "        console.debug(\"Bokeh: all BokehJS libraries/stylesheets loaded\");\n",
       "        run_callbacks()\n",
       "      }\n",
       "    }\n",
       "\n",
       "    function on_error(url) {\n",
       "      console.error(\"failed to load \" + url);\n",
       "    }\n",
       "\n",
       "    for (let i = 0; i < css_urls.length; i++) {\n",
       "      const url = css_urls[i];\n",
       "      const element = document.createElement(\"link\");\n",
       "      element.onload = on_load;\n",
       "      element.onerror = on_error.bind(null, url);\n",
       "      element.rel = \"stylesheet\";\n",
       "      element.type = \"text/css\";\n",
       "      element.href = url;\n",
       "      console.debug(\"Bokeh: injecting link tag for BokehJS stylesheet: \", url);\n",
       "      document.body.appendChild(element);\n",
       "    }\n",
       "\n",
       "    for (let i = 0; i < js_urls.length; i++) {\n",
       "      const url = js_urls[i];\n",
       "      const element = document.createElement('script');\n",
       "      element.onload = on_load;\n",
       "      element.onerror = on_error.bind(null, url);\n",
       "      element.async = false;\n",
       "      element.src = url;\n",
       "      console.debug(\"Bokeh: injecting script tag for BokehJS library: \", url);\n",
       "      document.head.appendChild(element);\n",
       "    }\n",
       "  };\n",
       "\n",
       "  function inject_raw_css(css) {\n",
       "    const element = document.createElement(\"style\");\n",
       "    element.appendChild(document.createTextNode(css));\n",
       "    document.body.appendChild(element);\n",
       "  }\n",
       "\n",
       "  const js_urls = [\"https://cdn.bokeh.org/bokeh/release/bokeh-3.6.0.min.js\", \"https://cdn.bokeh.org/bokeh/release/bokeh-gl-3.6.0.min.js\", \"https://cdn.bokeh.org/bokeh/release/bokeh-widgets-3.6.0.min.js\", \"https://cdn.bokeh.org/bokeh/release/bokeh-tables-3.6.0.min.js\", \"https://cdn.bokeh.org/bokeh/release/bokeh-mathjax-3.6.0.min.js\"];\n",
       "  const css_urls = [];\n",
       "\n",
       "  const inline_js = [    function(Bokeh) {\n",
       "      Bokeh.set_log_level(\"info\");\n",
       "    },\n",
       "function(Bokeh) {\n",
       "    }\n",
       "  ];\n",
       "\n",
       "  function run_inline_js() {\n",
       "    if (root.Bokeh !== undefined || force === true) {\n",
       "      try {\n",
       "            for (let i = 0; i < inline_js.length; i++) {\n",
       "      inline_js[i].call(root, root.Bokeh);\n",
       "    }\n",
       "\n",
       "      } catch (error) {display_loaded(error);throw error;\n",
       "      }if (force === true) {\n",
       "        display_loaded();\n",
       "      }} else if (Date.now() < root._bokeh_timeout) {\n",
       "      setTimeout(run_inline_js, 100);\n",
       "    } else if (!root._bokeh_failed_load) {\n",
       "      console.log(\"Bokeh: BokehJS failed to load within specified timeout.\");\n",
       "      root._bokeh_failed_load = true;\n",
       "    } else if (force !== true) {\n",
       "      const cell = $(document.getElementById(\"e13fb965-3a27-411b-a644-d00da31b284d\")).parents('.cell').data().cell;\n",
       "      cell.output_area.append_execute_result(NB_LOAD_WARNING)\n",
       "    }\n",
       "  }\n",
       "\n",
       "  if (root._bokeh_is_loading === 0) {\n",
       "    console.debug(\"Bokeh: BokehJS loaded, going straight to plotting\");\n",
       "    run_inline_js();\n",
       "  } else {\n",
       "    load_libs(css_urls, js_urls, function() {\n",
       "      console.debug(\"Bokeh: BokehJS plotting callback run at\", now());\n",
       "      run_inline_js();\n",
       "    });\n",
       "  }\n",
       "}(window));"
      ],
      "application/vnd.bokehjs_load.v0+json": "'use strict';\n(function(root) {\n  function now() {\n    return new Date();\n  }\n\n  const force = true;\n\n  if (typeof root._bokeh_onload_callbacks === \"undefined\" || force === true) {\n    root._bokeh_onload_callbacks = [];\n    root._bokeh_is_loading = undefined;\n  }\n\n\n  if (typeof (root._bokeh_timeout) === \"undefined\" || force === true) {\n    root._bokeh_timeout = Date.now() + 5000;\n    root._bokeh_failed_load = false;\n  }\n\n  const NB_LOAD_WARNING = {'data': {'text/html':\n     \"<div style='background-color: #fdd'>\\n\"+\n     \"<p>\\n\"+\n     \"BokehJS does not appear to have successfully loaded. If loading BokehJS from CDN, this \\n\"+\n     \"may be due to a slow or bad network connection. Possible fixes:\\n\"+\n     \"</p>\\n\"+\n     \"<ul>\\n\"+\n     \"<li>re-rerun `output_notebook()` to attempt to load from CDN again, or</li>\\n\"+\n     \"<li>use INLINE resources instead, as so:</li>\\n\"+\n     \"</ul>\\n\"+\n     \"<code>\\n\"+\n     \"from bokeh.resources import INLINE\\n\"+\n     \"output_notebook(resources=INLINE)\\n\"+\n     \"</code>\\n\"+\n     \"</div>\"}};\n\n  function display_loaded(error = null) {\n    const el = document.getElementById(\"e13fb965-3a27-411b-a644-d00da31b284d\");\n    if (el != null) {\n      const html = (() => {\n        if (typeof root.Bokeh === \"undefined\") {\n          if (error == null) {\n            return \"BokehJS is loading ...\";\n          } else {\n            return \"BokehJS failed to load.\";\n          }\n        } else {\n          const prefix = `BokehJS ${root.Bokeh.version}`;\n          if (error == null) {\n            return `${prefix} successfully loaded.`;\n          } else {\n            return `${prefix} <b>encountered errors</b> while loading and may not function as expected.`;\n          }\n        }\n      })();\n      el.innerHTML = html;\n\n      if (error != null) {\n        const wrapper = document.createElement(\"div\");\n        wrapper.style.overflow = \"auto\";\n        wrapper.style.height = \"5em\";\n        wrapper.style.resize = \"vertical\";\n        const content = document.createElement(\"div\");\n        content.style.fontFamily = \"monospace\";\n        content.style.whiteSpace = \"pre-wrap\";\n        content.style.backgroundColor = \"rgb(255, 221, 221)\";\n        content.textContent = error.stack ?? error.toString();\n        wrapper.append(content);\n        el.append(wrapper);\n      }\n    } else if (Date.now() < root._bokeh_timeout) {\n      setTimeout(() => display_loaded(error), 100);\n    }\n  }\n\n  function run_callbacks() {\n    try {\n      root._bokeh_onload_callbacks.forEach(function(callback) {\n        if (callback != null)\n          callback();\n      });\n    } finally {\n      delete root._bokeh_onload_callbacks\n    }\n    console.debug(\"Bokeh: all callbacks have finished\");\n  }\n\n  function load_libs(css_urls, js_urls, callback) {\n    if (css_urls == null) css_urls = [];\n    if (js_urls == null) js_urls = [];\n\n    root._bokeh_onload_callbacks.push(callback);\n    if (root._bokeh_is_loading > 0) {\n      console.debug(\"Bokeh: BokehJS is being loaded, scheduling callback at\", now());\n      return null;\n    }\n    if (js_urls == null || js_urls.length === 0) {\n      run_callbacks();\n      return null;\n    }\n    console.debug(\"Bokeh: BokehJS not loaded, scheduling load and callback at\", now());\n    root._bokeh_is_loading = css_urls.length + js_urls.length;\n\n    function on_load() {\n      root._bokeh_is_loading--;\n      if (root._bokeh_is_loading === 0) {\n        console.debug(\"Bokeh: all BokehJS libraries/stylesheets loaded\");\n        run_callbacks()\n      }\n    }\n\n    function on_error(url) {\n      console.error(\"failed to load \" + url);\n    }\n\n    for (let i = 0; i < css_urls.length; i++) {\n      const url = css_urls[i];\n      const element = document.createElement(\"link\");\n      element.onload = on_load;\n      element.onerror = on_error.bind(null, url);\n      element.rel = \"stylesheet\";\n      element.type = \"text/css\";\n      element.href = url;\n      console.debug(\"Bokeh: injecting link tag for BokehJS stylesheet: \", url);\n      document.body.appendChild(element);\n    }\n\n    for (let i = 0; i < js_urls.length; i++) {\n      const url = js_urls[i];\n      const element = document.createElement('script');\n      element.onload = on_load;\n      element.onerror = on_error.bind(null, url);\n      element.async = false;\n      element.src = url;\n      console.debug(\"Bokeh: injecting script tag for BokehJS library: \", url);\n      document.head.appendChild(element);\n    }\n  };\n\n  function inject_raw_css(css) {\n    const element = document.createElement(\"style\");\n    element.appendChild(document.createTextNode(css));\n    document.body.appendChild(element);\n  }\n\n  const js_urls = [\"https://cdn.bokeh.org/bokeh/release/bokeh-3.6.0.min.js\", \"https://cdn.bokeh.org/bokeh/release/bokeh-gl-3.6.0.min.js\", \"https://cdn.bokeh.org/bokeh/release/bokeh-widgets-3.6.0.min.js\", \"https://cdn.bokeh.org/bokeh/release/bokeh-tables-3.6.0.min.js\", \"https://cdn.bokeh.org/bokeh/release/bokeh-mathjax-3.6.0.min.js\"];\n  const css_urls = [];\n\n  const inline_js = [    function(Bokeh) {\n      Bokeh.set_log_level(\"info\");\n    },\nfunction(Bokeh) {\n    }\n  ];\n\n  function run_inline_js() {\n    if (root.Bokeh !== undefined || force === true) {\n      try {\n            for (let i = 0; i < inline_js.length; i++) {\n      inline_js[i].call(root, root.Bokeh);\n    }\n\n      } catch (error) {display_loaded(error);throw error;\n      }if (force === true) {\n        display_loaded();\n      }} else if (Date.now() < root._bokeh_timeout) {\n      setTimeout(run_inline_js, 100);\n    } else if (!root._bokeh_failed_load) {\n      console.log(\"Bokeh: BokehJS failed to load within specified timeout.\");\n      root._bokeh_failed_load = true;\n    } else if (force !== true) {\n      const cell = $(document.getElementById(\"e13fb965-3a27-411b-a644-d00da31b284d\")).parents('.cell').data().cell;\n      cell.output_area.append_execute_result(NB_LOAD_WARNING)\n    }\n  }\n\n  if (root._bokeh_is_loading === 0) {\n    console.debug(\"Bokeh: BokehJS loaded, going straight to plotting\");\n    run_inline_js();\n  } else {\n    load_libs(css_urls, js_urls, function() {\n      console.debug(\"Bokeh: BokehJS plotting callback run at\", now());\n      run_inline_js();\n    });\n  }\n}(window));"
     },
     "metadata": {},
     "output_type": "display_data"
    }
   ],
   "source": [
    "import os\n",
    "import warnings\n",
    "with warnings.catch_warnings():\n",
    "    warnings.simplefilter('ignore')\n",
    "\n",
    "import scipy.stats as st\n",
    "import scipy.optimize\n",
    "\n",
    "import pandas as pd\n",
    "import numpy as np\n",
    "\n",
    "import iqplot\n",
    "import bokeh.io\n",
    "bokeh.io.output_notebook()"
   ]
  },
  {
   "cell_type": "markdown",
   "metadata": {},
   "source": [
    "Introduction to the EM Algorithm \n",
    "===================================\n",
    "The Expectation-Maximization (EM) algorithm is a powerful iterative method used for parameter estimation in statistical models, particularly when the data is incomplete or has latent variables. It is widely used in machine learning, statistics, and signal processing to maximize the likelihood of observed data, especially when the direct computation of this likelihood is difficult.\n",
    "\n",
    "In this exercise, we will introduce the classic EM algorithm and discuss the basic idea of why it works. There are several versions of the EM algorithm that have been described in the literature. The book [Tools for Statistical Inference](https://doi.org/10.1007/978-1-4612-4024-2) by Michael Tanner has a straightforward interpretation of the classical and variational forms of the EM algorithm as well as several applications.  "
   ]
  },
  {
   "cell_type": "markdown",
   "metadata": {},
   "source": [
    "Description of the EM algorithm\n",
    "================================\n",
    "As mentioned above, the EM algorithm is an iterative procedure that has important applications in settings where there are *latent*, or otherwise unobserved random variables. The procedure can be described by two alternating steps: finding the expectation (E) of a function of the latent variables, and maximizing (M) the resulting posterior density to estimate the parameters. In the section below, we will show that each iteration of the algorithm increases the value of the posterior until convergence. \n",
    "\n",
    "### Why does the EM algorithm work?\n",
    "To see how the algorithm works, recall that the log posterior can be written as\n",
    "\n",
    "$$\n",
    "    \\ln\\, g(\\theta \\mid y) = \\ln\\, f(y \\mid \\theta) + \\ln\\, g(\\theta) - \\ln\\, f(y)\n",
    "$$ \n",
    "\\\n",
    "The conventional form of the EM algorithm requires treatment of the log likelihood, which we denote $\\ln\\, f(y \\mid \\theta) \\coloneqq \\ell(\\theta ; \\mathcal{Y})$. We introduce an auxiliary latent variable, $\\mathcal{X}$ which is unobserved. Observe that for any probability distribution $\\mathcal{Q}(x)$\n",
    "\\\n",
    "$$ \n",
    "    \\begin{align}\n",
    "        \\ell(\\theta ; \\mathcal{Y}) &= \\ln\\, \\int_{x}\\, f(\\mathcal{Y}, x \\mid \\theta) \\,dx \\\\\n",
    "        & = \\ln\\, \\int_{x}\\, \\mathcal{Q}(x) \\frac{f(\\mathcal{Y}, x \\mid \\theta)}{\\mathcal{Q}(x)} \\,dx \\\\\n",
    "        & \\geq \\int_{x}\\, \\mathcal{Q}(x) \\ln\\, \\frac{f(\\mathcal{Y},x \\mid \\theta)}{\\mathcal{Q}(x)} \\,dx\n",
    "    \\end{align}\n",
    "$$\n",
    "\\\n",
    "where the last line  follows from [Jensen's inequality](https://en.wikipedia.org/wiki/Jensen%27s_inequality) for concave functions. Now, consider for a particular $\\theta_{t}$, $\\mathcal{Q}(x) = f(\\mathcal{X} \\mid \\mathcal{Y}, \\theta_{t})$. The last line of the inequality above can be rewritten as\n",
    "\n",
    "$$\n",
    "    \\begin{align}\n",
    "        \\int_{x}\\, \\mathcal{Q}(x) \\ln\\, \\frac{f(\\mathcal{Y},x \\mid \\theta)}{\\mathcal{Q}(x)} \\,dx &= \\int_{x} f(x \\mid \\mathcal{Y}, \\theta_{t}) \\ln\\, \\frac{f(\\mathcal{Y},x \\mid \\theta)}{f(x \\mid \\mathcal{Y}, \\theta_{t})} \\,dx  \\\\\n",
    "        &= \\mathbb{E}[ \\ln\\, ( \\frac{f(\\mathcal{X},\\mathcal{Y} \\mid \\theta)}{f(\\mathcal{X}\\mid \\mathcal{Y}, \\theta_{t})} ) \\mid \\mathcal{Y},\\theta_{t}]\n",
    "    \\end{align}\n",
    "$$\n",
    "\\\n",
    "Letting $g(\\theta \\mid \\theta_{t})$ equal the right hand side of the expression above, we have that $\\ell(\\theta ; \\mathcal{Y}) \\geq g(\\theta \\mid \\theta_{t})$. The inequality holds with equality whenever $\\theta = \\theta_{t}$. Otherwise, $g(\\theta \\mid \\theta_{t})$ is guaranteed to be a lower bound of $\\ell(\\theta ; \\mathcal{Y})$. Separating $g(\\theta \\mid \\theta_{t})$ into terms with $\\theta$ dependence, we have\n",
    "\\\n",
    "$$\n",
    "    \\begin{align}\n",
    "        g(\\theta \\mid \\theta_{t}) &= \\mathbb{E}[\\ln\\, f(\\mathcal{X},\\mathcal{Y}\\mid \\theta) \\mid \\mathcal{Y}, \\theta_{t}] - \\mathbb{E}[\\ln\\, f(\\mathcal{X}\\mid\\mathcal{Y}, \\theta_{t}) \\mid \\mathcal{Y}, \\theta_{t}] \\\\\n",
    "        &= Q(\\theta \\mid \\theta_{t}) - \\mathbb{E}[\\ln\\, f(\\mathcal{X}\\mid\\mathcal{Y}, \\theta_{t}) \\mid \\mathcal{Y}, \\theta_{t}] \\\\ \n",
    "    \\end{align}\n",
    "$$\n",
    "\n",
    "### Putting it all together\n",
    "The so-called Q-function, $Q(\\theta \\mid \\theta_{t})$ is computed in the **E-step** of the EM algorithm, and is updated iteratively in the **M-step**. More specifically, the **E-step** and **M-step** work as follows:\n",
    "\\\n",
    "\\\n",
    "<u>**E-step**</u>\n",
    "\\\n",
    "Compute $Q(\\theta \\mid \\theta_{t})$ with respect to the unobserved data, $\\mathcal{X}$ with $\\theta = \\theta_t$\n",
    "\n",
    "$$\n",
    "    \\begin{align}\n",
    "       Q(\\theta \\mid \\theta_{t}) &= \\mathbb{E}[\\ln\\, f(\\mathcal{X},\\mathcal{Y}\\mid \\theta) \\mid \\mathcal{Y}, \\theta_{t}] \\\\ \n",
    "       &= \\int_{x}\\, f(x | \\mathcal{Y}, \\theta_{t}) \\ln\\,f(x, \\mathcal{Y}\\mid \\theta)\\,dx\n",
    "    \\end{align}\n",
    "$$\n",
    "\n",
    "\n",
    "<ins>**M-step**</ins>\n",
    "\\\n",
    "The **M-step** assigns $\\theta_{t+1}$ to the value of $\\theta$ that maximizes $Q(\\theta \\mid \\theta_{t})$. In other words, \n",
    "\n",
    "$$\n",
    "    \\begin{align}\n",
    "        \\theta_{t+1} = \\arg\\max_{\\theta}\\, Q(\\theta \\mid \\theta_{t}) \n",
    "    \\end{align}\n",
    "$$ \n",
    "\n",
    "The **M-step** enforces that $g(\\theta_{t} \\mid \\theta_{t})\\leq g(\\theta_{t+1} \\mid \\theta_{t})$. Therefore, we have the inequality, $\\ell(\\theta_{t};\\mathcal{Y}) = g(\\theta_{t} \\mid \\theta_{t}) \\leq g(\\theta_{t+1} \\mid \\theta_{t}) \\leq \\ell(\\theta_{t+1}; \\mathcal{Y})$, which shows that the **M-step** results in monotonic improvement of the log likelihood! \n",
    "\n",
    "We iterate between the **E-Step** and **M-Step** until the difference between $\\theta_{t}$ and $\\theta_{t+1}$ is negligibly small, indicating convergence. "
   ]
  },
  {
   "cell_type": "markdown",
   "metadata": {
    "jp-MarkdownHeadingCollapsed": true
   },
   "source": [
    "Application of the EM Algorigthm to Bayesian Inference\n",
    "=======================================================\n",
    "The primary goal of Bayesian inference is to evaluate the posterior distribution. This can be challenging when the posterior is complex, multi-modal, or otherwise difficult to evaluate directly. In these cases, statitics such as the mode of the posterior distribution can be useful for summarizing the distribution. In section below, we will describe how the EM algorithm can be a useful tool for finding the mode of a posterior distribution.\n",
    "\n",
    "Notice that the likelihood can be decomposed as follows: \n",
    "\n",
    "$$\n",
    "    \\begin{align}\n",
    "    \\ell(\\mathcal{Y}; \\theta) &= \\int_{x}\\, f(\\mathcal{X}|\\mathcal{Y},\\theta_{t})\\,\\ln(\\frac{f(\\mathcal{X},\\mathcal{Y}\\mid\\theta)}{f(\\mathcal{X}\\mid\\mathcal{Y},\\theta_{t})}\\,\\frac{f(\\mathcal{X}\\mid\\mathcal{Y},\\theta_{t})}{f(\\mathcal{X}\\mid\\mathcal{Y},\\theta)})\\,dx \\\\\n",
    "    &= \\int_{x} f(\\mathcal{X}\\mid\\mathcal{Y},\\theta_{t})\\,\\ln(\\frac{f(\\mathcal{X},\\mathcal{Y}\\mid\\theta)}{f(\\mathcal{X}\\mid\\mathcal{Y},\\theta_{t})})\\,dx + \\int_{x} f(\\mathcal{X}\\mid\\mathcal{Y},\\theta_{t})\\, ln(\\frac{f(\\mathcal{X}\\mid\\mathcal{Y},\\theta_{t})}{f(\\mathcal{X}\\mid\\mathcal{Y},\\theta)})\\,dx \\\\ \n",
    "    &= Q(\\theta \\mid \\theta_{t}) - \\mathbb{E}[\\ln\\, f(\\mathcal{X}\\mid\\mathcal{Y}, \\theta_{t}) \\mid \\mathcal{Y}, \\theta_{t}] + D_{\\mathrm{KL}}(f(\\mathcal{X}\\mid\\mathcal{Y},\\theta_{t})\\| f(\\mathcal{X}\\mid\\mathcal{Y}, \\theta)) \\\\ \n",
    "    &= g(\\theta\\mid\\theta_{t}) + D_{\\mathrm{KL}}(f(\\mathcal{X}\\mid\\mathcal{Y},\\theta_{t})\\| f(\\mathcal{X}\\mid\\mathcal{Y}, \\theta)) \n",
    "    \\end{align}\n",
    "$$\n",
    "\n",
    "where $D_{\\mathrm{KL}}$ is the Kullback-Leibler (KL) divergence. For general probability distributios $p$ and $q$ can be shown that the KL-divergence $D_{\\mathrm{KL}}(p\\|q)$ satisfies $D_{\\mathrm{KL}}(p\\|q) \\geq 0$ and equals zero if and only if $p=q$. It follows then that when $\\theta = \\theta_{t}$, $\\ell(\\mathcal{Y};\\theta_{t}) = g(\\theta_t\\mid\\theta_{t})$, which we showed above. Returning to the log posterior and substiting the likelihood above, \n",
    "\n",
    "$$\n",
    "    \\ln\\,g(\\theta\\mid\\mathcal{Y}) = g(\\theta\\mid\\theta_{t}) +  D_{\\mathrm{KL}}(f(\\mathcal{X}\\mid\\mathcal{Y},\\theta_{t})\\| f(\\mathcal{X}\\mid\\mathcal{Y}, \\theta)) + \\ln\\,g(\\theta) - \\ln\\,f(\\mathcal{y})\n",
    "$$\n",
    "\n",
    "If we wish to use the EM algorithm to find the mode of the posterior the E-step is exactly the same as above since only the term $g(\\theta\\mid\\theta_{t})$ has any dependence on the latent variable, $\\mathcal{X}$. The M-step, however, must be updated to include the log prior, $\\ln\\,g(\\theta)$. "
   ]
  },
  {
   "cell_type": "markdown",
   "metadata": {},
   "source": [
    "Example: A Normal-Mixture Model\n",
    "===============================\n",
    "A classic application of this algorithm is assigning data points to components in a normal mixture model. You can think of this as a generalized form of the k-means clustering algorithm, which you may be familiar with. The core idea is that we assume the data points are generated from a mixture of a known number of Gaussian distributions.\n",
    "\n",
    "In this example, we'll simulate data from three Gaussian distributions, each with distinct location and scale parameters. After defining the full model for these data, we'll explore how we can use the EM algorithm to identify the mode of the posterior distribution.  "
   ]
  },
  {
   "cell_type": "code",
   "execution_count": 2,
   "metadata": {
    "colab": {
     "base_uri": "https://localhost:8080/",
     "height": 341
    },
    "id": "LoUFGT6nV2aV",
    "outputId": "baca051e-846f-445d-8580-812783fe763f"
   },
   "outputs": [
    {
     "data": {
      "text/html": [
       "<div>\n",
       "<style scoped>\n",
       "    .dataframe tbody tr th:only-of-type {\n",
       "        vertical-align: middle;\n",
       "    }\n",
       "\n",
       "    .dataframe tbody tr th {\n",
       "        vertical-align: top;\n",
       "    }\n",
       "\n",
       "    .dataframe thead th {\n",
       "        text-align: right;\n",
       "    }\n",
       "</style>\n",
       "<table border=\"1\" class=\"dataframe\">\n",
       "  <thead>\n",
       "    <tr style=\"text-align: right;\">\n",
       "      <th></th>\n",
       "      <th>group</th>\n",
       "      <th>value</th>\n",
       "    </tr>\n",
       "  </thead>\n",
       "  <tbody>\n",
       "    <tr>\n",
       "      <th>0</th>\n",
       "      <td>g1</td>\n",
       "      <td>28.807034</td>\n",
       "    </tr>\n",
       "    <tr>\n",
       "      <th>1</th>\n",
       "      <td>g1</td>\n",
       "      <td>32.406405</td>\n",
       "    </tr>\n",
       "    <tr>\n",
       "      <th>2</th>\n",
       "      <td>g1</td>\n",
       "      <td>28.321243</td>\n",
       "    </tr>\n",
       "    <tr>\n",
       "      <th>3</th>\n",
       "      <td>g1</td>\n",
       "      <td>32.538124</td>\n",
       "    </tr>\n",
       "    <tr>\n",
       "      <th>4</th>\n",
       "      <td>g1</td>\n",
       "      <td>28.905978</td>\n",
       "    </tr>\n",
       "  </tbody>\n",
       "</table>\n",
       "</div>"
      ],
      "text/plain": [
       "  group      value\n",
       "0    g1  28.807034\n",
       "1    g1  32.406405\n",
       "2    g1  28.321243\n",
       "3    g1  32.538124\n",
       "4    g1  28.905978"
      ]
     },
     "execution_count": 2,
     "metadata": {},
     "output_type": "execute_result"
    }
   ],
   "source": [
    "# Simulate multiple gaussian RVs\n",
    "g1 = st.norm.rvs(size=500, loc=30, scale=1.75)\n",
    "g2 = st.norm.rvs(size=500, loc=25, scale=1)\n",
    "g3 = st.norm.rvs(size=250, loc=40, scale=0.25)\n",
    "\n",
    "df = pd.DataFrame.from_dict({\"g1\" : g1, \"g2\": g2, \"g3\":g3}, orient='index').stack()\n",
    "df = df.reset_index(level=0, name='value').rename(columns={'level_0':'group'})\n",
    "\n",
    "df.head()"
   ]
  },
  {
   "cell_type": "markdown",
   "metadata": {},
   "source": [
    "Let's do a quick visualization of the simulated data. "
   ]
  },
  {
   "cell_type": "code",
   "execution_count": 3,
   "metadata": {
    "colab": {
     "base_uri": "https://localhost:8080/",
     "height": 367
    },
    "id": "RPE7dP-FKlsk",
    "outputId": "531e7251-8f64-49c5-c08a-dd2ae7e4ce65"
   },
   "outputs": [
    {
     "data": {
      "text/html": [
       "\n",
       "  <div id=\"d8d44156-d5aa-40e9-9b3c-fdad34986d0f\" data-root-id=\"p1001\" style=\"display: contents;\"></div>\n"
      ]
     },
     "metadata": {},
     "output_type": "display_data"
    },
    {
     "data": {
      "application/javascript": [
       "(function(root) {\n",
       "  function embed_document(root) {\n",
       "  const docs_json = {\"817e6e45-5ac3-4901-917d-bb63bc1ad3d1\":{\"version\":\"3.6.0\",\"title\":\"Bokeh Application\",\"roots\":[{\"type\":\"object\",\"name\":\"Figure\",\"id\":\"p1001\",\"attributes\":{\"x_range\":{\"type\":\"object\",\"name\":\"DataRange1d\",\"id\":\"p1002\"},\"y_range\":{\"type\":\"object\",\"name\":\"DataRange1d\",\"id\":\"p1003\"},\"x_scale\":{\"type\":\"object\",\"name\":\"LinearScale\",\"id\":\"p1010\"},\"y_scale\":{\"type\":\"object\",\"name\":\"LinearScale\",\"id\":\"p1011\"},\"title\":{\"type\":\"object\",\"name\":\"Title\",\"id\":\"p1008\"},\"renderers\":[{\"type\":\"object\",\"name\":\"GlyphRenderer\",\"id\":\"p1041\",\"attributes\":{\"data_source\":{\"type\":\"object\",\"name\":\"ColumnDataSource\",\"id\":\"p1035\",\"attributes\":{\"selected\":{\"type\":\"object\",\"name\":\"Selection\",\"id\":\"p1036\",\"attributes\":{\"indices\":[],\"line_indices\":[]}},\"selection_policy\":{\"type\":\"object\",\"name\":\"UnionRenderers\",\"id\":\"p1037\"},\"data\":{\"type\":\"map\",\"entries\":[[\"x\",{\"type\":\"ndarray\",\"array\":{\"type\":\"bytes\",\"data\":\"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\"},\"shape\":[1000],\"dtype\":\"float64\",\"order\":\"little\"}],[\"y\",{\"type\":\"ndarray\",\"array\":{\"type\":\"bytes\",\"data\":\"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\"},\"shape\":[1000],\"dtype\":\"float64\",\"order\":\"little\"}]]}}},\"view\":{\"type\":\"object\",\"name\":\"CDSView\",\"id\":\"p1042\",\"attributes\":{\"filter\":{\"type\":\"object\",\"name\":\"AllIndices\",\"id\":\"p1043\"}}},\"glyph\":{\"type\":\"object\",\"name\":\"Line\",\"id\":\"p1038\",\"attributes\":{\"x\":{\"type\":\"field\",\"field\":\"x\"},\"y\":{\"type\":\"field\",\"field\":\"y\"},\"line_color\":\"#1f77b3\",\"line_width\":2}},\"nonselection_glyph\":{\"type\":\"object\",\"name\":\"Line\",\"id\":\"p1039\",\"attributes\":{\"x\":{\"type\":\"field\",\"field\":\"x\"},\"y\":{\"type\":\"field\",\"field\":\"y\"},\"line_color\":\"#1f77b3\",\"line_alpha\":0.1,\"line_width\":2}},\"muted_glyph\":{\"type\":\"object\",\"name\":\"Line\",\"id\":\"p1040\",\"attributes\":{\"x\":{\"type\":\"field\",\"field\":\"x\"},\"y\":{\"type\":\"field\",\"field\":\"y\"},\"line_color\":\"#1f77b3\",\"line_alpha\":0.2,\"line_width\":2}}}},{\"type\":\"object\",\"name\":\"GlyphRenderer\",\"id\":\"p1050\",\"attributes\":{\"data_source\":{\"type\":\"object\",\"name\":\"ColumnDataSource\",\"id\":\"p1044\",\"attributes\":{\"selected\":{\"type\":\"object\",\"name\":\"Selection\",\"id\":\"p1045\",\"attributes\":{\"indices\":[],\"line_indices\":[]}},\"selection_policy\":{\"type\":\"object\",\"name\":\"UnionRenderers\",\"id\":\"p1046\"},\"data\":{\"type\":\"map\"}}},\"view\":{\"type\":\"object\",\"name\":\"CDSView\",\"id\":\"p1051\",\"attributes\":{\"filter\":{\"type\":\"object\",\"name\":\"AllIndices\",\"id\":\"p1052\"}}},\"glyph\":{\"type\":\"object\",\"name\":\"Ray\",\"id\":\"p1047\",\"attributes\":{\"x\":{\"type\":\"value\",\"value\":24.400096352795973},\"y\":{\"type\":\"value\",\"value\":0},\"angle\":{\"type\":\"value\",\"value\":3.141592653589793},\"line_color\":{\"type\":\"value\",\"value\":\"#1f77b3\"},\"line_width\":{\"type\":\"value\",\"value\":2}}},\"nonselection_glyph\":{\"type\":\"object\",\"name\":\"Ray\",\"id\":\"p1048\",\"attributes\":{\"x\":{\"type\":\"value\",\"value\":24.400096352795973},\"y\":{\"type\":\"value\",\"value\":0},\"angle\":{\"type\":\"value\",\"value\":3.141592653589793},\"line_color\":{\"type\":\"value\",\"value\":\"#1f77b3\"},\"line_alpha\":{\"type\":\"value\",\"value\":0.1},\"line_width\":{\"type\":\"value\",\"value\":2}}},\"muted_glyph\":{\"type\":\"object\",\"name\":\"Ray\",\"id\":\"p1049\",\"attributes\":{\"x\":{\"type\":\"value\",\"value\":24.400096352795973},\"y\":{\"type\":\"value\",\"value\":0},\"angle\":{\"type\":\"value\",\"value\":3.141592653589793},\"line_color\":{\"type\":\"value\",\"value\":\"#1f77b3\"},\"line_alpha\":{\"type\":\"value\",\"value\":0.2},\"line_width\":{\"type\":\"value\",\"value\":2}}}}},{\"type\":\"object\",\"name\":\"GlyphRenderer\",\"id\":\"p1059\",\"attributes\":{\"data_source\":{\"type\":\"object\",\"name\":\"ColumnDataSource\",\"id\":\"p1053\",\"attributes\":{\"selected\":{\"type\":\"object\",\"name\":\"Selection\",\"id\":\"p1054\",\"attributes\":{\"indices\":[],\"line_indices\":[]}},\"selection_policy\":{\"type\":\"object\",\"name\":\"UnionRenderers\",\"id\":\"p1055\"},\"data\":{\"type\":\"map\"}}},\"view\":{\"type\":\"object\",\"name\":\"CDSView\",\"id\":\"p1060\",\"attributes\":{\"filter\":{\"type\":\"object\",\"name\":\"AllIndices\",\"id\":\"p1061\"}}},\"glyph\":{\"type\":\"object\",\"name\":\"Ray\",\"id\":\"p1056\",\"attributes\":{\"x\":{\"type\":\"value\",\"value\":35.47451955063202},\"y\":{\"type\":\"value\",\"value\":1},\"line_color\":{\"type\":\"value\",\"value\":\"#1f77b3\"},\"line_width\":{\"type\":\"value\",\"value\":2}}},\"nonselection_glyph\":{\"type\":\"object\",\"name\":\"Ray\",\"id\":\"p1057\",\"attributes\":{\"x\":{\"type\":\"value\",\"value\":35.47451955063202},\"y\":{\"type\":\"value\",\"value\":1},\"line_color\":{\"type\":\"value\",\"value\":\"#1f77b3\"},\"line_alpha\":{\"type\":\"value\",\"value\":0.1},\"line_width\":{\"type\":\"value\",\"value\":2}}},\"muted_glyph\":{\"type\":\"object\",\"name\":\"Ray\",\"id\":\"p1058\",\"attributes\":{\"x\":{\"type\":\"value\",\"value\":35.47451955063202},\"y\":{\"type\":\"value\",\"value\":1},\"line_color\":{\"type\":\"value\",\"value\":\"#1f77b3\"},\"line_alpha\":{\"type\":\"value\",\"value\":0.2},\"line_width\":{\"type\":\"value\",\"value\":2}}}}},{\"type\":\"object\",\"name\":\"GlyphRenderer\",\"id\":\"p1068\",\"attributes\":{\"data_source\":{\"type\":\"object\",\"name\":\"ColumnDataSource\",\"id\":\"p1062\",\"attributes\":{\"selected\":{\"type\":\"object\",\"name\":\"Selection\",\"id\":\"p1063\",\"attributes\":{\"indices\":[],\"line_indices\":[]}},\"selection_policy\":{\"type\":\"object\",\"name\":\"UnionRenderers\",\"id\":\"p1064\"},\"data\":{\"type\":\"map\",\"entries\":[[\"x\",{\"type\":\"ndarray\",\"array\":{\"type\":\"bytes\",\"data\":\"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\"},\"shape\":[1000],\"dtype\":\"float64\",\"order\":\"little\"}],[\"y\",{\"type\":\"ndarray\",\"array\":{\"type\":\"bytes\",\"data\":\"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\"},\"shape\":[1000],\"dtype\":\"float64\",\"order\":\"little\"}]]}}},\"view\":{\"type\":\"object\",\"name\":\"CDSView\",\"id\":\"p1069\",\"attributes\":{\"filter\":{\"type\":\"object\",\"name\":\"AllIndices\",\"id\":\"p1070\"}}},\"glyph\":{\"type\":\"object\",\"name\":\"Line\",\"id\":\"p1065\",\"attributes\":{\"x\":{\"type\":\"field\",\"field\":\"x\"},\"y\":{\"type\":\"field\",\"field\":\"y\"},\"line_color\":\"#ff7e0e\",\"line_width\":2}},\"nonselection_glyph\":{\"type\":\"object\",\"name\":\"Line\",\"id\":\"p1066\",\"attributes\":{\"x\":{\"type\":\"field\",\"field\":\"x\"},\"y\":{\"type\":\"field\",\"field\":\"y\"},\"line_color\":\"#ff7e0e\",\"line_alpha\":0.1,\"line_width\":2}},\"muted_glyph\":{\"type\":\"object\",\"name\":\"Line\",\"id\":\"p1067\",\"attributes\":{\"x\":{\"type\":\"field\",\"field\":\"x\"},\"y\":{\"type\":\"field\",\"field\":\"y\"},\"line_color\":\"#ff7e0e\",\"line_alpha\":0.2,\"line_width\":2}}}},{\"type\":\"object\",\"name\":\"GlyphRenderer\",\"id\":\"p1077\",\"attributes\":{\"data_source\":{\"type\":\"object\",\"name\":\"ColumnDataSource\",\"id\":\"p1071\",\"attributes\":{\"selected\":{\"type\":\"object\",\"name\":\"Selection\",\"id\":\"p1072\",\"attributes\":{\"indices\":[],\"line_indices\":[]}},\"selection_policy\":{\"type\":\"object\",\"name\":\"UnionRenderers\",\"id\":\"p1073\"},\"data\":{\"type\":\"map\"}}},\"view\":{\"type\":\"object\",\"name\":\"CDSView\",\"id\":\"p1078\",\"attributes\":{\"filter\":{\"type\":\"object\",\"name\":\"AllIndices\",\"id\":\"p1079\"}}},\"glyph\":{\"type\":\"object\",\"name\":\"Ray\",\"id\":\"p1074\",\"attributes\":{\"x\":{\"type\":\"value\",\"value\":22.51109764145877},\"y\":{\"type\":\"value\",\"value\":0},\"angle\":{\"type\":\"value\",\"value\":3.141592653589793},\"line_color\":{\"type\":\"value\",\"value\":\"#ff7e0e\"},\"line_width\":{\"type\":\"value\",\"value\":2}}},\"nonselection_glyph\":{\"type\":\"object\",\"name\":\"Ray\",\"id\":\"p1075\",\"attributes\":{\"x\":{\"type\":\"value\",\"value\":22.51109764145877},\"y\":{\"type\":\"value\",\"value\":0},\"angle\":{\"type\":\"value\",\"value\":3.141592653589793},\"line_color\":{\"type\":\"value\",\"value\":\"#ff7e0e\"},\"line_alpha\":{\"type\":\"value\",\"value\":0.1},\"line_width\":{\"type\":\"value\",\"value\":2}}},\"muted_glyph\":{\"type\":\"object\",\"name\":\"Ray\",\"id\":\"p1076\",\"attributes\":{\"x\":{\"type\":\"value\",\"value\":22.51109764145877},\"y\":{\"type\":\"value\",\"value\":0},\"angle\":{\"type\":\"value\",\"value\":3.141592653589793},\"line_color\":{\"type\":\"value\",\"value\":\"#ff7e0e\"},\"line_alpha\":{\"type\":\"value\",\"value\":0.2},\"line_width\":{\"type\":\"value\",\"value\":2}}}}},{\"type\":\"object\",\"name\":\"GlyphRenderer\",\"id\":\"p1086\",\"attributes\":{\"data_source\":{\"type\":\"object\",\"name\":\"ColumnDataSource\",\"id\":\"p1080\",\"attributes\":{\"selected\":{\"type\":\"object\",\"name\":\"Selection\",\"id\":\"p1081\",\"attributes\":{\"indices\":[],\"line_indices\":[]}},\"selection_policy\":{\"type\":\"object\",\"name\":\"UnionRenderers\",\"id\":\"p1082\"},\"data\":{\"type\":\"map\"}}},\"view\":{\"type\":\"object\",\"name\":\"CDSView\",\"id\":\"p1087\",\"attributes\":{\"filter\":{\"type\":\"object\",\"name\":\"AllIndices\",\"id\":\"p1088\"}}},\"glyph\":{\"type\":\"object\",\"name\":\"Ray\",\"id\":\"p1083\",\"attributes\":{\"x\":{\"type\":\"value\",\"value\":27.822061056461905},\"y\":{\"type\":\"value\",\"value\":1},\"line_color\":{\"type\":\"value\",\"value\":\"#ff7e0e\"},\"line_width\":{\"type\":\"value\",\"value\":2}}},\"nonselection_glyph\":{\"type\":\"object\",\"name\":\"Ray\",\"id\":\"p1084\",\"attributes\":{\"x\":{\"type\":\"value\",\"value\":27.822061056461905},\"y\":{\"type\":\"value\",\"value\":1},\"line_color\":{\"type\":\"value\",\"value\":\"#ff7e0e\"},\"line_alpha\":{\"type\":\"value\",\"value\":0.1},\"line_width\":{\"type\":\"value\",\"value\":2}}},\"muted_glyph\":{\"type\":\"object\",\"name\":\"Ray\",\"id\":\"p1085\",\"attributes\":{\"x\":{\"type\":\"value\",\"value\":27.822061056461905},\"y\":{\"type\":\"value\",\"value\":1},\"line_color\":{\"type\":\"value\",\"value\":\"#ff7e0e\"},\"line_alpha\":{\"type\":\"value\",\"value\":0.2},\"line_width\":{\"type\":\"value\",\"value\":2}}}}},{\"type\":\"object\",\"name\":\"GlyphRenderer\",\"id\":\"p1095\",\"attributes\":{\"data_source\":{\"type\":\"object\",\"name\":\"ColumnDataSource\",\"id\":\"p1089\",\"attributes\":{\"selected\":{\"type\":\"object\",\"name\":\"Selection\",\"id\":\"p1090\",\"attributes\":{\"indices\":[],\"line_indices\":[]}},\"selection_policy\":{\"type\":\"object\",\"name\":\"UnionRenderers\",\"id\":\"p1091\"},\"data\":{\"type\":\"map\",\"entries\":[[\"x\",{\"type\":\"ndarray\",\"array\":{\"type\":\"bytes\",\"data\":\"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\"},\"shape\":[500],\"dtype\":\"float64\",\"order\":\"little\"}],[\"y\",{\"type\":\"ndarray\",\"array\":{\"type\":\"bytes\",\"data\":\"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\"},\"shape\":[500],\"dtype\":\"float64\",\"order\":\"little\"}]]}}},\"view\":{\"type\":\"object\",\"name\":\"CDSView\",\"id\":\"p1096\",\"attributes\":{\"filter\":{\"type\":\"object\",\"name\":\"AllIndices\",\"id\":\"p1097\"}}},\"glyph\":{\"type\":\"object\",\"name\":\"Line\",\"id\":\"p1092\",\"attributes\":{\"x\":{\"type\":\"field\",\"field\":\"x\"},\"y\":{\"type\":\"field\",\"field\":\"y\"},\"line_color\":\"#2ba02b\",\"line_width\":2}},\"nonselection_glyph\":{\"type\":\"object\",\"name\":\"Line\",\"id\":\"p1093\",\"attributes\":{\"x\":{\"type\":\"field\",\"field\":\"x\"},\"y\":{\"type\":\"field\",\"field\":\"y\"},\"line_color\":\"#2ba02b\",\"line_alpha\":0.1,\"line_width\":2}},\"muted_glyph\":{\"type\":\"object\",\"name\":\"Line\",\"id\":\"p1094\",\"attributes\":{\"x\":{\"type\":\"field\",\"field\":\"x\"},\"y\":{\"type\":\"field\",\"field\":\"y\"},\"line_color\":\"#2ba02b\",\"line_alpha\":0.2,\"line_width\":2}}}},{\"type\":\"object\",\"name\":\"GlyphRenderer\",\"id\":\"p1104\",\"attributes\":{\"data_source\":{\"type\":\"object\",\"name\":\"ColumnDataSource\",\"id\":\"p1098\",\"attributes\":{\"selected\":{\"type\":\"object\",\"name\":\"Selection\",\"id\":\"p1099\",\"attributes\":{\"indices\":[],\"line_indices\":[]}},\"selection_policy\":{\"type\":\"object\",\"name\":\"UnionRenderers\",\"id\":\"p1100\"},\"data\":{\"type\":\"map\"}}},\"view\":{\"type\":\"object\",\"name\":\"CDSView\",\"id\":\"p1105\",\"attributes\":{\"filter\":{\"type\":\"object\",\"name\":\"AllIndices\",\"id\":\"p1106\"}}},\"glyph\":{\"type\":\"object\",\"name\":\"Ray\",\"id\":\"p1101\",\"attributes\":{\"x\":{\"type\":\"value\",\"value\":39.297495832561964},\"y\":{\"type\":\"value\",\"value\":0},\"angle\":{\"type\":\"value\",\"value\":3.141592653589793},\"line_color\":{\"type\":\"value\",\"value\":\"#2ba02b\"},\"line_width\":{\"type\":\"value\",\"value\":2}}},\"nonselection_glyph\":{\"type\":\"object\",\"name\":\"Ray\",\"id\":\"p1102\",\"attributes\":{\"x\":{\"type\":\"value\",\"value\":39.297495832561964},\"y\":{\"type\":\"value\",\"value\":0},\"angle\":{\"type\":\"value\",\"value\":3.141592653589793},\"line_color\":{\"type\":\"value\",\"value\":\"#2ba02b\"},\"line_alpha\":{\"type\":\"value\",\"value\":0.1},\"line_width\":{\"type\":\"value\",\"value\":2}}},\"muted_glyph\":{\"type\":\"object\",\"name\":\"Ray\",\"id\":\"p1103\",\"attributes\":{\"x\":{\"type\":\"value\",\"value\":39.297495832561964},\"y\":{\"type\":\"value\",\"value\":0},\"angle\":{\"type\":\"value\",\"value\":3.141592653589793},\"line_color\":{\"type\":\"value\",\"value\":\"#2ba02b\"},\"line_alpha\":{\"type\":\"value\",\"value\":0.2},\"line_width\":{\"type\":\"value\",\"value\":2}}}}},{\"type\":\"object\",\"name\":\"GlyphRenderer\",\"id\":\"p1113\",\"attributes\":{\"data_source\":{\"type\":\"object\",\"name\":\"ColumnDataSource\",\"id\":\"p1107\",\"attributes\":{\"selected\":{\"type\":\"object\",\"name\":\"Selection\",\"id\":\"p1108\",\"attributes\":{\"indices\":[],\"line_indices\":[]}},\"selection_policy\":{\"type\":\"object\",\"name\":\"UnionRenderers\",\"id\":\"p1109\"},\"data\":{\"type\":\"map\"}}},\"view\":{\"type\":\"object\",\"name\":\"CDSView\",\"id\":\"p1114\",\"attributes\":{\"filter\":{\"type\":\"object\",\"name\":\"AllIndices\",\"id\":\"p1115\"}}},\"glyph\":{\"type\":\"object\",\"name\":\"Ray\",\"id\":\"p1110\",\"attributes\":{\"x\":{\"type\":\"value\",\"value\":40.71431333436464},\"y\":{\"type\":\"value\",\"value\":1},\"line_color\":{\"type\":\"value\",\"value\":\"#2ba02b\"},\"line_width\":{\"type\":\"value\",\"value\":2}}},\"nonselection_glyph\":{\"type\":\"object\",\"name\":\"Ray\",\"id\":\"p1111\",\"attributes\":{\"x\":{\"type\":\"value\",\"value\":40.71431333436464},\"y\":{\"type\":\"value\",\"value\":1},\"line_color\":{\"type\":\"value\",\"value\":\"#2ba02b\"},\"line_alpha\":{\"type\":\"value\",\"value\":0.1},\"line_width\":{\"type\":\"value\",\"value\":2}}},\"muted_glyph\":{\"type\":\"object\",\"name\":\"Ray\",\"id\":\"p1112\",\"attributes\":{\"x\":{\"type\":\"value\",\"value\":40.71431333436464},\"y\":{\"type\":\"value\",\"value\":1},\"line_color\":{\"type\":\"value\",\"value\":\"#2ba02b\"},\"line_alpha\":{\"type\":\"value\",\"value\":0.2},\"line_width\":{\"type\":\"value\",\"value\":2}}}}}],\"toolbar\":{\"type\":\"object\",\"name\":\"Toolbar\",\"id\":\"p1009\",\"attributes\":{\"tools\":[{\"type\":\"object\",\"name\":\"PanTool\",\"id\":\"p1022\"},{\"type\":\"object\",\"name\":\"WheelZoomTool\",\"id\":\"p1023\",\"attributes\":{\"renderers\":\"auto\"}},{\"type\":\"object\",\"name\":\"BoxZoomTool\",\"id\":\"p1024\",\"attributes\":{\"overlay\":{\"type\":\"object\",\"name\":\"BoxAnnotation\",\"id\":\"p1025\",\"attributes\":{\"syncable\":false,\"line_color\":\"black\",\"line_alpha\":1.0,\"line_width\":2,\"line_dash\":[4,4],\"fill_color\":\"lightgrey\",\"fill_alpha\":0.5,\"level\":\"overlay\",\"visible\":false,\"left\":{\"type\":\"number\",\"value\":\"nan\"},\"right\":{\"type\":\"number\",\"value\":\"nan\"},\"top\":{\"type\":\"number\",\"value\":\"nan\"},\"bottom\":{\"type\":\"number\",\"value\":\"nan\"},\"left_units\":\"canvas\",\"right_units\":\"canvas\",\"top_units\":\"canvas\",\"bottom_units\":\"canvas\",\"handles\":{\"type\":\"object\",\"name\":\"BoxInteractionHandles\",\"id\":\"p1031\",\"attributes\":{\"all\":{\"type\":\"object\",\"name\":\"AreaVisuals\",\"id\":\"p1030\",\"attributes\":{\"fill_color\":\"white\",\"hover_fill_color\":\"lightgray\"}}}}}}}},{\"type\":\"object\",\"name\":\"SaveTool\",\"id\":\"p1032\"},{\"type\":\"object\",\"name\":\"ResetTool\",\"id\":\"p1033\"},{\"type\":\"object\",\"name\":\"HelpTool\",\"id\":\"p1034\"}]}},\"toolbar_location\":\"above\",\"left\":[{\"type\":\"object\",\"name\":\"LinearAxis\",\"id\":\"p1017\",\"attributes\":{\"ticker\":{\"type\":\"object\",\"name\":\"BasicTicker\",\"id\":\"p1018\",\"attributes\":{\"mantissas\":[1,2,5]}},\"formatter\":{\"type\":\"object\",\"name\":\"BasicTickFormatter\",\"id\":\"p1019\"},\"axis_label\":\"ECDF\",\"major_label_policy\":{\"type\":\"object\",\"name\":\"AllLabels\",\"id\":\"p1020\"}}}],\"right\":[{\"type\":\"object\",\"name\":\"Legend\",\"id\":\"p1116\",\"attributes\":{\"location\":\"center\",\"click_policy\":\"hide\",\"items\":[{\"type\":\"object\",\"name\":\"LegendItem\",\"id\":\"p1117\",\"attributes\":{\"label\":{\"type\":\"value\",\"value\":\"g1\"},\"renderers\":[{\"id\":\"p1041\"},{\"id\":\"p1059\"},{\"id\":\"p1050\"}]}},{\"type\":\"object\",\"name\":\"LegendItem\",\"id\":\"p1118\",\"attributes\":{\"label\":{\"type\":\"value\",\"value\":\"g2\"},\"renderers\":[{\"id\":\"p1068\"},{\"id\":\"p1086\"},{\"id\":\"p1077\"}]}},{\"type\":\"object\",\"name\":\"LegendItem\",\"id\":\"p1119\",\"attributes\":{\"label\":{\"type\":\"value\",\"value\":\"g3\"},\"renderers\":[{\"id\":\"p1095\"},{\"id\":\"p1113\"},{\"id\":\"p1104\"}]}}]}}],\"below\":[{\"type\":\"object\",\"name\":\"LinearAxis\",\"id\":\"p1012\",\"attributes\":{\"ticker\":{\"type\":\"object\",\"name\":\"BasicTicker\",\"id\":\"p1013\",\"attributes\":{\"mantissas\":[1,2,5]}},\"formatter\":{\"type\":\"object\",\"name\":\"BasicTickFormatter\",\"id\":\"p1014\"},\"axis_label\":\"Realized value\",\"major_label_policy\":{\"type\":\"object\",\"name\":\"AllLabels\",\"id\":\"p1015\"}}}],\"center\":[{\"type\":\"object\",\"name\":\"Grid\",\"id\":\"p1016\",\"attributes\":{\"axis\":{\"id\":\"p1012\"}}},{\"type\":\"object\",\"name\":\"Grid\",\"id\":\"p1021\",\"attributes\":{\"dimension\":1,\"axis\":{\"id\":\"p1017\"}}}],\"frame_width\":375,\"frame_height\":275}}]}};\n",
       "  const render_items = [{\"docid\":\"817e6e45-5ac3-4901-917d-bb63bc1ad3d1\",\"roots\":{\"p1001\":\"d8d44156-d5aa-40e9-9b3c-fdad34986d0f\"},\"root_ids\":[\"p1001\"]}];\n",
       "  void root.Bokeh.embed.embed_items_notebook(docs_json, render_items);\n",
       "  }\n",
       "  if (root.Bokeh !== undefined) {\n",
       "    embed_document(root);\n",
       "  } else {\n",
       "    let attempts = 0;\n",
       "    const timer = setInterval(function(root) {\n",
       "      if (root.Bokeh !== undefined) {\n",
       "        clearInterval(timer);\n",
       "        embed_document(root);\n",
       "      } else {\n",
       "        attempts++;\n",
       "        if (attempts > 100) {\n",
       "          clearInterval(timer);\n",
       "          console.log(\"Bokeh: ERROR: Unable to run BokehJS code because BokehJS library is missing\");\n",
       "        }\n",
       "      }\n",
       "    }, 10, root)\n",
       "  }\n",
       "})(window);"
      ],
      "application/vnd.bokehjs_exec.v0+json": ""
     },
     "metadata": {
      "application/vnd.bokehjs_exec.v0+json": {
       "id": "p1001"
      }
     },
     "output_type": "display_data"
    }
   ],
   "source": [
    "bokeh.io.show(\n",
    "    iqplot.ecdf(\n",
    "        data=df,\n",
    "        q='value',\n",
    "        cats='group',\n",
    "        x_axis_label='Realized value'\n",
    "    )\n",
    ")"
   ]
  },
  {
   "cell_type": "markdown",
   "metadata": {
    "id": "-IkZxucx0WNs"
   },
   "source": [
    "It is clear that the distributions for each simulated group are distinct. To see where the EM algorigthm could be useful, consider a scenario where we did not know the distribution that generated each measurement. Our ECDF would instead look something like this"
   ]
  },
  {
   "cell_type": "code",
   "execution_count": 4,
   "metadata": {
    "colab": {
     "base_uri": "https://localhost:8080/",
     "height": 367
    },
    "id": "dglbc5VV0usE",
    "outputId": "c6657a55-ba19-4fa2-eea9-9cafecb3d706"
   },
   "outputs": [
    {
     "data": {
      "text/html": [
       "\n",
       "  <div id=\"ae6139f0-e822-4823-b356-22fdb3cfc3bb\" data-root-id=\"p1126\" style=\"display: contents;\"></div>\n"
      ]
     },
     "metadata": {},
     "output_type": "display_data"
    },
    {
     "data": {
      "application/javascript": [
       "(function(root) {\n",
       "  function embed_document(root) {\n",
       "  const docs_json = {\"edfd2e85-af72-49e1-a550-7e0f2b6b21bb\":{\"version\":\"3.6.0\",\"title\":\"Bokeh Application\",\"roots\":[{\"type\":\"object\",\"name\":\"Figure\",\"id\":\"p1126\",\"attributes\":{\"x_range\":{\"type\":\"object\",\"name\":\"DataRange1d\",\"id\":\"p1127\"},\"y_range\":{\"type\":\"object\",\"name\":\"DataRange1d\",\"id\":\"p1128\"},\"x_scale\":{\"type\":\"object\",\"name\":\"LinearScale\",\"id\":\"p1135\"},\"y_scale\":{\"type\":\"object\",\"name\":\"LinearScale\",\"id\":\"p1136\"},\"title\":{\"type\":\"object\",\"name\":\"Title\",\"id\":\"p1133\"},\"renderers\":[{\"type\":\"object\",\"name\":\"GlyphRenderer\",\"id\":\"p1166\",\"attributes\":{\"data_source\":{\"type\":\"object\",\"name\":\"ColumnDataSource\",\"id\":\"p1160\",\"attributes\":{\"selected\":{\"type\":\"object\",\"name\":\"Selection\",\"id\":\"p1161\",\"attributes\":{\"indices\":[],\"line_indices\":[]}},\"selection_policy\":{\"type\":\"object\",\"name\":\"UnionRenderers\",\"id\":\"p1162\"},\"data\":{\"type\":\"map\",\"entries\":[[\"x\",{\"type\":\"ndarray\",\"array\":{\"type\":\"bytes\",\"data\":\"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\"},\"shape\":[2500],\"dtype\":\"float64\",\"order\":\"little\"}],[\"y\",{\"type\":\"ndarray\",\"array\":{\"type\":\"bytes\",\"data\":\"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\"},\"shape\":[2500],\"dtype\":\"float64\",\"order\":\"little\"}]]}}},\"view\":{\"type\":\"object\",\"name\":\"CDSView\",\"id\":\"p1167\",\"attributes\":{\"filter\":{\"type\":\"object\",\"name\":\"AllIndices\",\"id\":\"p1168\"}}},\"glyph\":{\"type\":\"object\",\"name\":\"Line\",\"id\":\"p1163\",\"attributes\":{\"x\":{\"type\":\"field\",\"field\":\"x\"},\"y\":{\"type\":\"field\",\"field\":\"y\"},\"line_color\":\"#1f77b3\",\"line_width\":2}},\"nonselection_glyph\":{\"type\":\"object\",\"name\":\"Line\",\"id\":\"p1164\",\"attributes\":{\"x\":{\"type\":\"field\",\"field\":\"x\"},\"y\":{\"type\":\"field\",\"field\":\"y\"},\"line_color\":\"#1f77b3\",\"line_alpha\":0.1,\"line_width\":2}},\"muted_glyph\":{\"type\":\"object\",\"name\":\"Line\",\"id\":\"p1165\",\"attributes\":{\"x\":{\"type\":\"field\",\"field\":\"x\"},\"y\":{\"type\":\"field\",\"field\":\"y\"},\"line_color\":\"#1f77b3\",\"line_alpha\":0.2,\"line_width\":2}}}},{\"type\":\"object\",\"name\":\"GlyphRenderer\",\"id\":\"p1175\",\"attributes\":{\"data_source\":{\"type\":\"object\",\"name\":\"ColumnDataSource\",\"id\":\"p1169\",\"attributes\":{\"selected\":{\"type\":\"object\",\"name\":\"Selection\",\"id\":\"p1170\",\"attributes\":{\"indices\":[],\"line_indices\":[]}},\"selection_policy\":{\"type\":\"object\",\"name\":\"UnionRenderers\",\"id\":\"p1171\"},\"data\":{\"type\":\"map\"}}},\"view\":{\"type\":\"object\",\"name\":\"CDSView\",\"id\":\"p1176\",\"attributes\":{\"filter\":{\"type\":\"object\",\"name\":\"AllIndices\",\"id\":\"p1177\"}}},\"glyph\":{\"type\":\"object\",\"name\":\"Ray\",\"id\":\"p1172\",\"attributes\":{\"x\":{\"type\":\"value\",\"value\":22.51109764145877},\"y\":{\"type\":\"value\",\"value\":0},\"angle\":{\"type\":\"value\",\"value\":3.141592653589793},\"line_color\":{\"type\":\"value\",\"value\":\"#1f77b3\"},\"line_width\":{\"type\":\"value\",\"value\":2}}},\"nonselection_glyph\":{\"type\":\"object\",\"name\":\"Ray\",\"id\":\"p1173\",\"attributes\":{\"x\":{\"type\":\"value\",\"value\":22.51109764145877},\"y\":{\"type\":\"value\",\"value\":0},\"angle\":{\"type\":\"value\",\"value\":3.141592653589793},\"line_color\":{\"type\":\"value\",\"value\":\"#1f77b3\"},\"line_alpha\":{\"type\":\"value\",\"value\":0.1},\"line_width\":{\"type\":\"value\",\"value\":2}}},\"muted_glyph\":{\"type\":\"object\",\"name\":\"Ray\",\"id\":\"p1174\",\"attributes\":{\"x\":{\"type\":\"value\",\"value\":22.51109764145877},\"y\":{\"type\":\"value\",\"value\":0},\"angle\":{\"type\":\"value\",\"value\":3.141592653589793},\"line_color\":{\"type\":\"value\",\"value\":\"#1f77b3\"},\"line_alpha\":{\"type\":\"value\",\"value\":0.2},\"line_width\":{\"type\":\"value\",\"value\":2}}}}},{\"type\":\"object\",\"name\":\"GlyphRenderer\",\"id\":\"p1184\",\"attributes\":{\"data_source\":{\"type\":\"object\",\"name\":\"ColumnDataSource\",\"id\":\"p1178\",\"attributes\":{\"selected\":{\"type\":\"object\",\"name\":\"Selection\",\"id\":\"p1179\",\"attributes\":{\"indices\":[],\"line_indices\":[]}},\"selection_policy\":{\"type\":\"object\",\"name\":\"UnionRenderers\",\"id\":\"p1180\"},\"data\":{\"type\":\"map\"}}},\"view\":{\"type\":\"object\",\"name\":\"CDSView\",\"id\":\"p1185\",\"attributes\":{\"filter\":{\"type\":\"object\",\"name\":\"AllIndices\",\"id\":\"p1186\"}}},\"glyph\":{\"type\":\"object\",\"name\":\"Ray\",\"id\":\"p1181\",\"attributes\":{\"x\":{\"type\":\"value\",\"value\":40.71431333436464},\"y\":{\"type\":\"value\",\"value\":1},\"line_color\":{\"type\":\"value\",\"value\":\"#1f77b3\"},\"line_width\":{\"type\":\"value\",\"value\":2}}},\"nonselection_glyph\":{\"type\":\"object\",\"name\":\"Ray\",\"id\":\"p1182\",\"attributes\":{\"x\":{\"type\":\"value\",\"value\":40.71431333436464},\"y\":{\"type\":\"value\",\"value\":1},\"line_color\":{\"type\":\"value\",\"value\":\"#1f77b3\"},\"line_alpha\":{\"type\":\"value\",\"value\":0.1},\"line_width\":{\"type\":\"value\",\"value\":2}}},\"muted_glyph\":{\"type\":\"object\",\"name\":\"Ray\",\"id\":\"p1183\",\"attributes\":{\"x\":{\"type\":\"value\",\"value\":40.71431333436464},\"y\":{\"type\":\"value\",\"value\":1},\"line_color\":{\"type\":\"value\",\"value\":\"#1f77b3\"},\"line_alpha\":{\"type\":\"value\",\"value\":0.2},\"line_width\":{\"type\":\"value\",\"value\":2}}}}}],\"toolbar\":{\"type\":\"object\",\"name\":\"Toolbar\",\"id\":\"p1134\",\"attributes\":{\"tools\":[{\"type\":\"object\",\"name\":\"PanTool\",\"id\":\"p1147\"},{\"type\":\"object\",\"name\":\"WheelZoomTool\",\"id\":\"p1148\",\"attributes\":{\"renderers\":\"auto\"}},{\"type\":\"object\",\"name\":\"BoxZoomTool\",\"id\":\"p1149\",\"attributes\":{\"overlay\":{\"type\":\"object\",\"name\":\"BoxAnnotation\",\"id\":\"p1150\",\"attributes\":{\"syncable\":false,\"line_color\":\"black\",\"line_alpha\":1.0,\"line_width\":2,\"line_dash\":[4,4],\"fill_color\":\"lightgrey\",\"fill_alpha\":0.5,\"level\":\"overlay\",\"visible\":false,\"left\":{\"type\":\"number\",\"value\":\"nan\"},\"right\":{\"type\":\"number\",\"value\":\"nan\"},\"top\":{\"type\":\"number\",\"value\":\"nan\"},\"bottom\":{\"type\":\"number\",\"value\":\"nan\"},\"left_units\":\"canvas\",\"right_units\":\"canvas\",\"top_units\":\"canvas\",\"bottom_units\":\"canvas\",\"handles\":{\"type\":\"object\",\"name\":\"BoxInteractionHandles\",\"id\":\"p1156\",\"attributes\":{\"all\":{\"type\":\"object\",\"name\":\"AreaVisuals\",\"id\":\"p1155\",\"attributes\":{\"fill_color\":\"white\",\"hover_fill_color\":\"lightgray\"}}}}}}}},{\"type\":\"object\",\"name\":\"SaveTool\",\"id\":\"p1157\"},{\"type\":\"object\",\"name\":\"ResetTool\",\"id\":\"p1158\"},{\"type\":\"object\",\"name\":\"HelpTool\",\"id\":\"p1159\"}]}},\"toolbar_location\":\"above\",\"left\":[{\"type\":\"object\",\"name\":\"LinearAxis\",\"id\":\"p1142\",\"attributes\":{\"ticker\":{\"type\":\"object\",\"name\":\"BasicTicker\",\"id\":\"p1143\",\"attributes\":{\"mantissas\":[1,2,5]}},\"formatter\":{\"type\":\"object\",\"name\":\"BasicTickFormatter\",\"id\":\"p1144\"},\"axis_label\":\"ECDF\",\"major_label_policy\":{\"type\":\"object\",\"name\":\"AllLabels\",\"id\":\"p1145\"}}}],\"below\":[{\"type\":\"object\",\"name\":\"LinearAxis\",\"id\":\"p1137\",\"attributes\":{\"ticker\":{\"type\":\"object\",\"name\":\"BasicTicker\",\"id\":\"p1138\",\"attributes\":{\"mantissas\":[1,2,5]}},\"formatter\":{\"type\":\"object\",\"name\":\"BasicTickFormatter\",\"id\":\"p1139\"},\"axis_label\":\"Realized value\",\"major_label_policy\":{\"type\":\"object\",\"name\":\"AllLabels\",\"id\":\"p1140\"}}}],\"center\":[{\"type\":\"object\",\"name\":\"Grid\",\"id\":\"p1141\",\"attributes\":{\"axis\":{\"id\":\"p1137\"}}},{\"type\":\"object\",\"name\":\"Grid\",\"id\":\"p1146\",\"attributes\":{\"dimension\":1,\"axis\":{\"id\":\"p1142\"}}}],\"frame_width\":375,\"frame_height\":275}}]}};\n",
       "  const render_items = [{\"docid\":\"edfd2e85-af72-49e1-a550-7e0f2b6b21bb\",\"roots\":{\"p1126\":\"ae6139f0-e822-4823-b356-22fdb3cfc3bb\"},\"root_ids\":[\"p1126\"]}];\n",
       "  void root.Bokeh.embed.embed_items_notebook(docs_json, render_items);\n",
       "  }\n",
       "  if (root.Bokeh !== undefined) {\n",
       "    embed_document(root);\n",
       "  } else {\n",
       "    let attempts = 0;\n",
       "    const timer = setInterval(function(root) {\n",
       "      if (root.Bokeh !== undefined) {\n",
       "        clearInterval(timer);\n",
       "        embed_document(root);\n",
       "      } else {\n",
       "        attempts++;\n",
       "        if (attempts > 100) {\n",
       "          clearInterval(timer);\n",
       "          console.log(\"Bokeh: ERROR: Unable to run BokehJS code because BokehJS library is missing\");\n",
       "        }\n",
       "      }\n",
       "    }, 10, root)\n",
       "  }\n",
       "})(window);"
      ],
      "application/vnd.bokehjs_exec.v0+json": ""
     },
     "metadata": {
      "application/vnd.bokehjs_exec.v0+json": {
       "id": "p1126"
      }
     },
     "output_type": "display_data"
    }
   ],
   "source": [
    "bokeh.io.show(\n",
    "    iqplot.ecdf(\n",
    "        data=df,\n",
    "        q='value',\n",
    "        x_axis_label='Realized value'\n",
    "    )\n",
    ")"
   ]
  },
  {
   "cell_type": "markdown",
   "metadata": {
    "id": "tz-P1-VB0opv"
   },
   "source": [
    "In this setting, computing statistics like the average for each group is no longer possible because we don't know which distribution corresponds to each measurement. The EM algorithm offers a solution. To apply the EM algorithm, we will assume that there is an unobserved random variable $\\mathcal{Y} = \\{y_1, ...., y_n\\}$ representing the assignment of each of the $n$ measurements to one of $k = 3$ Gaussians, where $P(\\mathcal{Y}=j) = \\pi_{j}$. Assuming that the measurements are generated from a Gaussian mixture distribution, the complete likelihood is given by\n",
    "\n",
    "$$\n",
    "\\begin{align}\n",
    "  f(\\mathcal{X}, \\mathcal{Y}\\mid\\theta) &= \\prod_{i=1}^{N}\\,f(x_i\\mid y_i, \\theta)f(y_i\\mid\\theta)\\\\\n",
    "  &= \\prod_{i=1}^{N}\\,\\pi_{y_{i}}\\cdot\\mathcal{N}(\\mu_{y_i}, \\sigma_{y_i})\n",
    "\\end{align}\n",
    "$$\n",
    "where the parameters of the model are $\\theta = (\\pi_1, ..., \\pi_k, \\mu_1, ..., \\mu_k, \\sigma_1,...,\\sigma_k)$. With this model in hand, we can construct the Q function, $Q(\\theta\\mid\\theta_t)$.\n",
    "\n",
    "\n",
    "$$\n",
    "  \\begin{align}\n",
    "    Q(\\theta\\mid\\theta_t) &= \\mathbb{E}\\left[\\ln\\,f(\\mathcal{X},\\mathcal{Y}|\\theta)\\mid\\mathcal{X},\\theta_t\\right]\\\\\n",
    "    &= \\sum_{i=1}^{N}\\sum_{j=1}^{M}\\, f(\\mathcal{Y}=j|\\mathcal{X}=x_i,\\theta_t)\\ln\\,f(\\mathcal{X}=x_i,\\mathcal{Y}=j|\\theta)\\, dy \\\\\n",
    "    &= \\sum_{i=1}^{N}\\sum_{j=1}^{M}\\, \\frac{f(\\mathcal{X}=x_i \\mid\\mathcal{Y}=j, \\theta_t)f(\\mathcal{Y}=j\\mid\\theta_t)}{\\sum_{k=1}^{M}\\,f(\\mathcal{X}=x_i \\mid\\mathcal{Y}=k, \\theta_t)f(\\mathcal{Y}=k\\mid\\theta_t)}\\ln f(\\mathcal{X}=x_i \\mid\\mathcal{Y}=j, \\theta)f(\\mathcal{Y}=j\\mid\\theta)\\,dy\n",
    "  \\end{align}\n",
    "$$\n",
    "\n",
    "Define $\\gamma_{ij} \\colon= \\frac{f(\\mathcal{X}=x_i \\mid\\mathcal{Y}=j, \\theta_{t})f(\\mathcal{Y}=j\\mid\\theta_{t})}{\\sum_{k=1}^{M}\\,f(\\mathcal{X}=x_i \\mid\\mathcal{Y}=k, \\theta_{t})f(\\mathcal{Y}=k\\mid\\theta_{t})}$ so that,\n",
    "\n",
    "$$\n",
    "  \\begin{align}\n",
    "  Q(\\theta\\mid\\theta_t) = \\sum_{i=1}^{N}\\sum_{j=1}^{M}\\,\\gamma_{ij}\\,\\ln\\pi_jf(\\mathcal{X}=x_i \\mid\\mathcal{Y}=j, \\theta)\n",
    "  \\end{align}\n",
    "$$\n",
    "\n",
    "\n",
    "In the E-step, we'll compute this function assuming $\\theta = \\theta_t$. Notice, that  $f(\\mathcal{Y}=j|\\mathcal{X}=x_i,\\theta_t)$ represents the probability of assigment $j$ given the data and parameters. In the literature, this is referred to as the *responsibility* of the $j$-th component for $x_i$.\n",
    "\n",
    "\n",
    "We'll define a few helper functions for this part of the algorithm."
   ]
  },
  {
   "cell_type": "code",
   "execution_count": 5,
   "metadata": {
    "id": "dB5ZmxY2FCyn"
   },
   "outputs": [],
   "source": [
    "def responsibility(x, params):\n",
    "    \"\"\"\n",
    "    Compute responsibility of component `y` for the data `x`.\n",
    "    \"\"\"\n",
    "    mu, sigma, pi = params\n",
    "    r0 = st.norm.pdf(x[:,None], mu, np.sqrt(sigma)) * pi\n",
    "\n",
    "    return r0/np.sum(r0, axis=1)[:,None]\n",
    "\n",
    "def q_function(x, params, params_old):\n",
    "  \"\"\"\n",
    "  Compute the expected value of the complete log-likelihood\n",
    "  \"\"\"\n",
    "  resp = responsibility(x, params_old)\n",
    "  ll = log_complete_likelihood(x, params)\n",
    "\n",
    "  return resp, np.sum(resp * ll)\n",
    "\n",
    "def log_complete_likelihood(x, params):\n",
    "    \"\"\"\n",
    "    Compute log of the *complete* data likelihood\n",
    "    \"\"\"\n",
    "    mu, sigma, pi = params\n",
    "    return st.norm.logpdf(x[:,None], mu, np.sqrt(sigma)) + np.log(pi)"
   ]
  },
  {
   "cell_type": "markdown",
   "metadata": {
    "id": "XfgQSuvO8aWj"
   },
   "source": [
    "To describe the full generative model, we need to define priors for the parameters.\n",
    "\n",
    "The $\\mathbf{\\pi}$ have the constraint that $\\sum_{j=1}^{k}\\, \\pi_{j} = 1$, so we will use a Dirichlet prior. According to Wikipedia, values of the concentration parameter, $\\mathbf{\\alpha}$ below 1 prefer sparse distributions  and the case where each $\\alpha_k = 1$ is equivalent to the uniform distribution over the $(K-1)$-simplex. We will set $\\alpha$ so that the the distribution is less concentrated and each of the $k$ components have equal weight. That is,\n",
    "\n",
    "$$\n",
    "  \\pi_1,\\cdots,\\pi_k \\sim \\text{Dirichlet}(1.5,1.5,1.5)\n",
    "$$\n",
    "\n",
    "Also, we have normal priors on the means of the Normal distributions, $\\mu_k$\n",
    "$$\n",
    "  \\mu_k \\sim \\mathcal{N}(30, 5)\n",
    "$$\n",
    "\n",
    "and we will assign broad Gamma priors to the variances, $\\sigma_k$\n",
    "$$\n",
    "  \\sigma_k \\sim \\text{Gamma}(5, 1)\n",
    "$$"
   ]
  },
  {
   "cell_type": "markdown",
   "metadata": {
    "id": "8zlJ3bTPNwIS"
   },
   "source": [
    "Let's code up these priors so that we can compare the results from MAP estimation to those from the EM algorithm. As we will see below, we can derive the update rules for each parameter analytically, so that we do not have to compute the prior at each step."
   ]
  },
  {
   "cell_type": "code",
   "execution_count": 6,
   "metadata": {
    "id": "KxpkKJ6yBJtt"
   },
   "outputs": [],
   "source": [
    "def log_prior(params):\n",
    "    \"\"\"\n",
    "    Compute the log prior\n",
    "    \"\"\"\n",
    "    mu, sigma, pi = params\n",
    "    \n",
    "    if (params <= 0).any():\n",
    "        return -np.inf\n",
    "    \n",
    "    if (np.abs(np.sum(pi) - 1.0) > 10e-10):\n",
    "        return -np.inf\n",
    "    \n",
    "    lp = np.sum(st.norm.logpdf(mu, 30, np.sqrt(5)))\n",
    "    lp += np.sum(st.gamma.logpdf(sigma, 5, loc=0, scale=1))\n",
    "    lp += st.dirichlet.logpdf(pi, np.array([1.5,1.5,1.5]))\n",
    "    \n",
    "    return lp\n",
    "\n",
    "def log_complete_likelihood(x, params):\n",
    "    \"\"\"\n",
    "    Compute log of the *complete* data likelihood\n",
    "    \"\"\"\n",
    "    mu, sigma, pi = params\n",
    "    return st.norm.logpdf(x[:,None], mu, np.sqrt(sigma)) + np.log(pi)\n",
    "\n",
    "def log_likelihood(x, params):\n",
    "    mu, sigma, pi = params\n",
    "    \n",
    "    lik = st.norm.pdf(x[:,None], mu, np.sqrt(sigma)) * pi\n",
    "    lik = np.sum(lik, axis=1)\n",
    "    \n",
    "    return np.sum(np.log(lik))\n",
    "\n",
    "def log_posterior(params, x):\n",
    "    lp = log_prior(params)\n",
    "    if lp == -np.inf:\n",
    "        return lp\n",
    "    \n",
    "    return lp + log_likelihood(x, params)\n",
    "\n",
    "def neg_log_posterior(params, x):\n",
    "    params = params.reshape(3,-1)\n",
    "    return -log_posterior(params, x)"
   ]
  },
  {
   "cell_type": "markdown",
   "metadata": {
    "id": "-KuYJEtKbcIp"
   },
   "source": [
    "\n",
    "The M-step involves finding the value $\\theta$ that maximizes $Q(\\theta\\mid\\theta_{t}) + \\log\\,g(\\theta)$. We can compute this value analytically by taking partial derivatives and setting the expressions equal to 0. With a bit of Calculus and algebra, we can show that each of the parameters have the following update rules:\n",
    "\n",
    "For $\\sigma_{k}^2$ with a Gamma prior:  \n",
    "\n",
    "$$\n",
    "\\begin{aligned}\n",
    "  {\\sigma_k^2}^{(t+1)} &= \\frac{\\sum_{i=1}^{N} \\gamma_{ik} (x_i - \\mu_k)^2 + 2 \\beta_0}{\\sum_{i=1}^{N} \\gamma_{ik} + 2 (\\alpha_0 - 1)}\n",
    "\\end{aligned}\n",
    "$$\n",
    "\n",
    "where $\\alpha_0$ and $\\beta_0$ are the shape and scale parameters of the Gamma prior.\n",
    "\n",
    "For $\\mu_k$ with a Normal prior:\n",
    "$$\n",
    "\\begin{aligned}\n",
    "  {\\mu_k}^{(t+1)} &= \\frac{\\sum_{i=1}^{N} \\gamma_{ik} x_i + \\frac{\\sigma_k^2}{\\tau_0^2} \\mu_0}{\\sum_{i=1}^{N} \\gamma_{ik} + \\frac{\\sigma_k^2}{\\tau_0^2}}\n",
    "\\end{aligned}\n",
    "$$\n",
    "\n",
    "where $\\mu_0$ and $\\tau_0^2$ are the mean and variance of the Normal prior\n",
    "\n",
    "The mixing probabilities are updated with the following rule\n",
    "$$\n",
    "\\begin{aligned}\n",
    "{\\pi_k}^{(t+1)} = \\frac{\\sum_{i=1}^{N} \\gamma_{ik} + (\\alpha_k-1)}{\\sum_{k=1}^{K} \\left( \\sum_{i=1}^{N} \\gamma_{ik} + (\\alpha_k-1) \\right)}\n",
    "\\end{aligned}\n",
    "$$\n",
    "\n",
    "\n",
    "This shows that the responsibilities, $\\gamma_{ij}$ determine the update rules for all of the parameters."
   ]
  },
  {
   "cell_type": "code",
   "execution_count": 7,
   "metadata": {
    "id": "NCYVMPX7zdUy"
   },
   "outputs": [],
   "source": [
    "def update_mu(x, r, sigma, *, hyper_mu=30, hyper_tau=5):\n",
    "  \"\"\"\n",
    "  Update rule for mu\n",
    "  \"\"\"\n",
    "  mu_new = np.sum(r * x[:,None], axis=0) + (sigma/hyper_tau)*hyper_mu\n",
    "  mu_new /= np.sum(r, axis=0) + (sigma/hyper_tau)\n",
    "\n",
    "  return mu_new\n",
    "\n",
    "def update_pi(x, r, *, hyper_alpha=np.array([1.5, 1.5, 1.5])):\n",
    "  \"\"\"\n",
    "  Update mixing probabilites\n",
    "  \"\"\"\n",
    "  # double sum of responsibilities is N.\n",
    "  N = x.shape[0]\n",
    "\n",
    "  pi_new = np.sum(r, axis=0) + (hyper_alpha - 1)\n",
    "  pi_new /= N + np.sum(hyper_alpha - 1)\n",
    "\n",
    "  return pi_new\n",
    "\n",
    "def update_sigma(x, r, mu, *, hyper_alpha=5, hyper_beta=1):\n",
    "  \"\"\"\n",
    "  Update rule for sigma\n",
    "  \"\"\"\n",
    "  sigma_new = np.sum((x[:,None] - mu)**2 * r, axis=0) + 2*hyper_beta\n",
    "  sigma_new /= np.sum(r, axis=0) + 2 * (hyper_alpha-1)\n",
    "\n",
    "  return sigma_new"
   ]
  },
  {
   "cell_type": "markdown",
   "metadata": {
    "id": "RvKl-OR5C_5e"
   },
   "source": [
    "Now, we'll define the E-step and M-step and compose these functions into a single function that runs the EM algorithm until convergence. "
   ]
  },
  {
   "cell_type": "code",
   "execution_count": 8,
   "metadata": {
    "id": "rh2m8kdp6sdv"
   },
   "outputs": [],
   "source": [
    "def e_step(x, params):\n",
    "    \"\"\"\n",
    "    Expectation step of the EM algorithm\n",
    "    \"\"\"\n",
    "    return q_function(x, params, params)\n",
    "\n",
    "def m_step(x, r, params):\n",
    "    \"\"\"\n",
    "    Update step of the EM algorithm\n",
    "    \"\"\"\n",
    "    mu, sigma, pi = params\n",
    "    \n",
    "    new_mu = update_mu(x, r, sigma)\n",
    "    new_sigma = update_sigma(x, r, new_mu)\n",
    "    new_pi = update_pi(x, r)\n",
    "    \n",
    "    return np.array([new_mu, new_sigma, new_pi])"
   ]
  },
  {
   "cell_type": "code",
   "execution_count": 9,
   "metadata": {},
   "outputs": [],
   "source": [
    "def em_algorithm(x, params_init, *, max_iter=100, tolerance=1e-6):\n",
    "    \"\"\"\n",
    "    Run the EM algorithm to fit a Gaussian mixture model.\n",
    "    \"\"\"\n",
    "    q_old = -np.inf\n",
    "    params = params_init\n",
    "    \n",
    "    for iteration in range(max_iter):\n",
    "        rp, q = e_step(data, params)\n",
    "    \n",
    "        if np.abs(q - q_old) < tolerance:\n",
    "                print(f\"Converged at iteration {iteration}\")\n",
    "                break\n",
    "\n",
    "        params = m_step(data, rp, params)\n",
    "        q_old = q\n",
    "\n",
    "    if iteration == (max_iter-1):\n",
    "        print(f'Failed to converge after {max_iter} iterations')\n",
    "        \n",
    "    return params"
   ]
  },
  {
   "cell_type": "markdown",
   "metadata": {},
   "source": [
    "Now, we'll initialize the parameters of the model. For $\\mu$, we'll sample values from the data vector. For $\\pi$, we'll start by assuming each of the groups is equally represented and for $\\sigma$ we will use a scaled plug-in estimate of the variance of data.  "
   ]
  },
  {
   "cell_type": "code",
   "execution_count": 10,
   "metadata": {
    "id": "kp5kOC7rjfb7"
   },
   "outputs": [],
   "source": [
    "data = df['value'].values\n",
    "n = data.shape[0]\n",
    "n_components = 3\n",
    "\n",
    "# Initialize parameters\n",
    "sigma_init = np.array([np.var(data)/3] * n_components)\n",
    "pi_init = np.array([1/n_components] * n_components)\n",
    "mu_init = data[np.random.choice(n, n_components, replace = False)]\n",
    "\n",
    "params_init = np.array([mu_init, sigma_init, pi_init])"
   ]
  },
  {
   "cell_type": "markdown",
   "metadata": {},
   "source": [
    "Now we are ready to run the EM algorithm. "
   ]
  },
  {
   "cell_type": "code",
   "execution_count": 11,
   "metadata": {
    "scrolled": true
   },
   "outputs": [
    {
     "name": "stdout",
     "output_type": "stream",
     "text": [
      "Converged at iteration 88\n"
     ]
    }
   ],
   "source": [
    "mode_posterior = em_algorithm(data, params_init, max_iter=2000)"
   ]
  },
  {
   "cell_type": "markdown",
   "metadata": {},
   "source": [
    "Let's take a look at the results. Recall that the order is arbitrary. "
   ]
  },
  {
   "cell_type": "code",
   "execution_count": 12,
   "metadata": {},
   "outputs": [
    {
     "name": "stdout",
     "output_type": "stream",
     "text": [
      "\n",
      "        Estimated μ for group 0: 29.91\n",
      "        Estimated σ² for group 0: 3.16\n",
      "        Estimated π for group 0: 0.41\n",
      "        \n",
      "\n",
      "        Estimated μ for group 1: 24.97\n",
      "        Estimated σ² for group 1: 0.99\n",
      "        Estimated π for group 1: 0.39\n",
      "        \n",
      "\n",
      "        Estimated μ for group 2: 40.00\n",
      "        Estimated σ² for group 2: 0.06\n",
      "        Estimated π for group 2: 0.20\n",
      "        \n"
     ]
    }
   ],
   "source": [
    "for i, parameters in enumerate(zip(*mode_posterior)):\n",
    "    print(\n",
    "        \"\"\"\n",
    "        Estimated \\u03BC for group {0}: {1:.2f}\n",
    "        Estimated σ² for group {0}: {2:.2f}\n",
    "        Estimated \\u03C0 for group {0}: {3:.2f}\n",
    "        \"\"\".format(i, *parameters)\n",
    "    )"
   ]
  },
  {
   "cell_type": "markdown",
   "metadata": {},
   "source": [
    "Pretty close to the true values for these parameters! We can also predict which distribution generated each datum. This is easy to do once we compute the responsibilities using our estimated parameters.  "
   ]
  },
  {
   "cell_type": "code",
   "execution_count": 13,
   "metadata": {},
   "outputs": [],
   "source": [
    "rsp = responsibility(data, mode_posterior)\n",
    "\n",
    "# Predict based on greatest responsibility\n",
    "df['em_prediction'] = np.argmax(rsp, axis=1).astype(str)"
   ]
  },
  {
   "cell_type": "markdown",
   "metadata": {},
   "source": [
    "Since our predictions are categorical, we can construct a quick visualization to see how well we did.  "
   ]
  },
  {
   "cell_type": "code",
   "execution_count": 14,
   "metadata": {},
   "outputs": [],
   "source": [
    "group_estimates = df.groupby(['group','em_prediction']).size()\n",
    "\n",
    "df_plot = pd.DataFrame({\n",
    "    \"count\" : group_estimates.values,\n",
    "    \"factors\" : group_estimates.index.values\n",
    "})"
   ]
  },
  {
   "cell_type": "code",
   "execution_count": 15,
   "metadata": {},
   "outputs": [
    {
     "data": {
      "text/html": [
       "\n",
       "  <div id=\"e080ee72-5ece-4fe8-9b5d-3b22da62b16d\" data-root-id=\"p1193\" style=\"display: contents;\"></div>\n"
      ]
     },
     "metadata": {},
     "output_type": "display_data"
    },
    {
     "data": {
      "application/javascript": [
       "(function(root) {\n",
       "  function embed_document(root) {\n",
       "  const docs_json = {\"5f5b89b0-dc27-4137-b430-0da7fe1a6c35\":{\"version\":\"3.6.0\",\"title\":\"Bokeh Application\",\"roots\":[{\"type\":\"object\",\"name\":\"Figure\",\"id\":\"p1193\",\"attributes\":{\"width\":450,\"height\":300,\"x_range\":{\"type\":\"object\",\"name\":\"FactorRange\",\"id\":\"p1192\",\"attributes\":{\"factors\":[[\"g1\",\"0\"],[\"g1\",\"1\"],[\"g2\",\"0\"],[\"g2\",\"1\"],[\"g3\",\"2\"]]}},\"y_range\":{\"type\":\"object\",\"name\":\"DataRange1d\",\"id\":\"p1195\"},\"x_scale\":{\"type\":\"object\",\"name\":\"CategoricalScale\",\"id\":\"p1202\"},\"y_scale\":{\"type\":\"object\",\"name\":\"LinearScale\",\"id\":\"p1203\"},\"title\":{\"type\":\"object\",\"name\":\"Title\",\"id\":\"p1200\"},\"renderers\":[{\"type\":\"object\",\"name\":\"GlyphRenderer\",\"id\":\"p1234\",\"attributes\":{\"data_source\":{\"type\":\"object\",\"name\":\"ColumnDataSource\",\"id\":\"p1189\",\"attributes\":{\"selected\":{\"type\":\"object\",\"name\":\"Selection\",\"id\":\"p1190\",\"attributes\":{\"indices\":[],\"line_indices\":[]}},\"selection_policy\":{\"type\":\"object\",\"name\":\"UnionRenderers\",\"id\":\"p1191\"},\"data\":{\"type\":\"map\",\"entries\":[[\"index\",{\"type\":\"ndarray\",\"array\":{\"type\":\"bytes\",\"data\":\"AAAAAAEAAAACAAAAAwAAAAQAAAA=\"},\"shape\":[5],\"dtype\":\"int32\",\"order\":\"little\"}],[\"count\",{\"type\":\"ndarray\",\"array\":{\"type\":\"bytes\",\"data\":\"5AEAABAAAAAUAAAA4AEAAPoAAAA=\"},\"shape\":[5],\"dtype\":\"int32\",\"order\":\"little\"}],[\"factors\",{\"type\":\"ndarray\",\"array\":[[\"g1\",\"0\"],[\"g1\",\"1\"],[\"g2\",\"0\"],[\"g2\",\"1\"],[\"g3\",\"2\"]],\"shape\":[5],\"dtype\":\"object\",\"order\":\"little\"}]]}}},\"view\":{\"type\":\"object\",\"name\":\"CDSView\",\"id\":\"p1235\",\"attributes\":{\"filter\":{\"type\":\"object\",\"name\":\"AllIndices\",\"id\":\"p1236\"}}},\"glyph\":{\"type\":\"object\",\"name\":\"VBar\",\"id\":\"p1231\",\"attributes\":{\"x\":{\"type\":\"field\",\"field\":\"factors\"},\"width\":{\"type\":\"value\",\"value\":0.75},\"top\":{\"type\":\"field\",\"field\":\"count\"},\"line_color\":{\"type\":\"value\",\"value\":\"#1f77b4\"},\"fill_color\":{\"type\":\"value\",\"value\":\"#1f77b4\"}}},\"nonselection_glyph\":{\"type\":\"object\",\"name\":\"VBar\",\"id\":\"p1232\",\"attributes\":{\"x\":{\"type\":\"field\",\"field\":\"factors\"},\"width\":{\"type\":\"value\",\"value\":0.75},\"top\":{\"type\":\"field\",\"field\":\"count\"},\"line_color\":{\"type\":\"value\",\"value\":\"#1f77b4\"},\"line_alpha\":{\"type\":\"value\",\"value\":0.1},\"fill_color\":{\"type\":\"value\",\"value\":\"#1f77b4\"},\"fill_alpha\":{\"type\":\"value\",\"value\":0.1},\"hatch_alpha\":{\"type\":\"value\",\"value\":0.1}}},\"muted_glyph\":{\"type\":\"object\",\"name\":\"VBar\",\"id\":\"p1233\",\"attributes\":{\"x\":{\"type\":\"field\",\"field\":\"factors\"},\"width\":{\"type\":\"value\",\"value\":0.75},\"top\":{\"type\":\"field\",\"field\":\"count\"},\"line_color\":{\"type\":\"value\",\"value\":\"#1f77b4\"},\"line_alpha\":{\"type\":\"value\",\"value\":0.2},\"fill_color\":{\"type\":\"value\",\"value\":\"#1f77b4\"},\"fill_alpha\":{\"type\":\"value\",\"value\":0.2},\"hatch_alpha\":{\"type\":\"value\",\"value\":0.2}}}}}],\"toolbar\":{\"type\":\"object\",\"name\":\"Toolbar\",\"id\":\"p1201\",\"attributes\":{\"tools\":[{\"type\":\"object\",\"name\":\"PanTool\",\"id\":\"p1214\"},{\"type\":\"object\",\"name\":\"WheelZoomTool\",\"id\":\"p1215\",\"attributes\":{\"renderers\":\"auto\"}},{\"type\":\"object\",\"name\":\"BoxZoomTool\",\"id\":\"p1216\",\"attributes\":{\"overlay\":{\"type\":\"object\",\"name\":\"BoxAnnotation\",\"id\":\"p1217\",\"attributes\":{\"syncable\":false,\"line_color\":\"black\",\"line_alpha\":1.0,\"line_width\":2,\"line_dash\":[4,4],\"fill_color\":\"lightgrey\",\"fill_alpha\":0.5,\"level\":\"overlay\",\"visible\":false,\"left\":{\"type\":\"number\",\"value\":\"nan\"},\"right\":{\"type\":\"number\",\"value\":\"nan\"},\"top\":{\"type\":\"number\",\"value\":\"nan\"},\"bottom\":{\"type\":\"number\",\"value\":\"nan\"},\"left_units\":\"canvas\",\"right_units\":\"canvas\",\"top_units\":\"canvas\",\"bottom_units\":\"canvas\",\"handles\":{\"type\":\"object\",\"name\":\"BoxInteractionHandles\",\"id\":\"p1223\",\"attributes\":{\"all\":{\"type\":\"object\",\"name\":\"AreaVisuals\",\"id\":\"p1222\",\"attributes\":{\"fill_color\":\"white\",\"hover_fill_color\":\"lightgray\"}}}}}}}},{\"type\":\"object\",\"name\":\"SaveTool\",\"id\":\"p1224\"},{\"type\":\"object\",\"name\":\"ResetTool\",\"id\":\"p1225\"},{\"type\":\"object\",\"name\":\"HelpTool\",\"id\":\"p1226\"},{\"type\":\"object\",\"name\":\"HoverTool\",\"id\":\"p1227\",\"attributes\":{\"renderers\":\"auto\",\"tooltips\":[[\"count\",\"@{count}\"]]}}]}},\"toolbar_location\":null,\"left\":[{\"type\":\"object\",\"name\":\"LinearAxis\",\"id\":\"p1209\",\"attributes\":{\"ticker\":{\"type\":\"object\",\"name\":\"BasicTicker\",\"id\":\"p1210\",\"attributes\":{\"mantissas\":[1,2,5]}},\"formatter\":{\"type\":\"object\",\"name\":\"BasicTickFormatter\",\"id\":\"p1211\"},\"major_label_policy\":{\"type\":\"object\",\"name\":\"AllLabels\",\"id\":\"p1212\"}}}],\"below\":[{\"type\":\"object\",\"name\":\"CategoricalAxis\",\"id\":\"p1204\",\"attributes\":{\"ticker\":{\"type\":\"object\",\"name\":\"CategoricalTicker\",\"id\":\"p1205\"},\"formatter\":{\"type\":\"object\",\"name\":\"CategoricalTickFormatter\",\"id\":\"p1206\"},\"major_label_policy\":{\"type\":\"object\",\"name\":\"AllLabels\",\"id\":\"p1207\"}}}],\"center\":[{\"type\":\"object\",\"name\":\"Grid\",\"id\":\"p1208\",\"attributes\":{\"axis\":{\"id\":\"p1204\"}}},{\"type\":\"object\",\"name\":\"Grid\",\"id\":\"p1213\",\"attributes\":{\"dimension\":1,\"axis\":{\"id\":\"p1209\"}}}]}}]}};\n",
       "  const render_items = [{\"docid\":\"5f5b89b0-dc27-4137-b430-0da7fe1a6c35\",\"roots\":{\"p1193\":\"e080ee72-5ece-4fe8-9b5d-3b22da62b16d\"},\"root_ids\":[\"p1193\"]}];\n",
       "  void root.Bokeh.embed.embed_items_notebook(docs_json, render_items);\n",
       "  }\n",
       "  if (root.Bokeh !== undefined) {\n",
       "    embed_document(root);\n",
       "  } else {\n",
       "    let attempts = 0;\n",
       "    const timer = setInterval(function(root) {\n",
       "      if (root.Bokeh !== undefined) {\n",
       "        clearInterval(timer);\n",
       "        embed_document(root);\n",
       "      } else {\n",
       "        attempts++;\n",
       "        if (attempts > 100) {\n",
       "          clearInterval(timer);\n",
       "          console.log(\"Bokeh: ERROR: Unable to run BokehJS code because BokehJS library is missing\");\n",
       "        }\n",
       "      }\n",
       "    }, 10, root)\n",
       "  }\n",
       "})(window);"
      ],
      "application/vnd.bokehjs_exec.v0+json": ""
     },
     "metadata": {
      "application/vnd.bokehjs_exec.v0+json": {
       "id": "p1193"
      }
     },
     "output_type": "display_data"
    }
   ],
   "source": [
    "source = bokeh.plotting.ColumnDataSource(df_plot)\n",
    "\n",
    "p = bokeh.plotting.figure(\n",
    "    x_range=bokeh.models.FactorRange(*df_plot.factors.values), \n",
    "    width=450, \n",
    "    height=300,\n",
    "    toolbar_location=None, \n",
    "     tooltips=[\n",
    "        (\"count\", \"@{count}\"),\n",
    "    ])\n",
    "\n",
    "p.vbar(x='factors', top='count', width=0.75, source=source)\n",
    "\n",
    "\n",
    "bokeh.io.show(p)"
   ]
  },
  {
   "cell_type": "markdown",
   "metadata": {},
   "source": [
    "For the most part, there's good alignment between the true category and the predicted category. For fun, let's compare the to the results from direct optimization of the posterior to find the MAP. "
   ]
  },
  {
   "cell_type": "code",
   "execution_count": 16,
   "metadata": {
    "id": "N_XWHGAzDn_J",
    "scrolled": true
   },
   "outputs": [
    {
     "name": "stderr",
     "output_type": "stream",
     "text": [
      "/Users/bois/miniconda3/envs/bebi103_build/lib/python3.12/site-packages/scipy/optimize/_optimize.py:2472: RuntimeWarning: invalid value encountered in scalar multiply\n",
      "  tmp2 = (x - v) * (fx - fw)\n",
      "/Users/bois/miniconda3/envs/bebi103_build/lib/python3.12/site-packages/scipy/optimize/_optimize.py:2473: RuntimeWarning: invalid value encountered in scalar subtract\n",
      "  p = (x - v) * tmp2 - (x - w) * tmp1\n"
     ]
    }
   ],
   "source": [
    "args = (data,)\n",
    "\n",
    "# Compute the MAP\n",
    "res = scipy.optimize.minimize(\n",
    "    neg_log_posterior, params_init.flatten(), args=args, method=\"powell\",\n",
    "    \n",
    ")\n",
    "\n",
    "map_posterior = res.x.reshape(3,-1)"
   ]
  },
  {
   "cell_type": "markdown",
   "metadata": {},
   "source": [
    "We'll print these results. Again, remember that the order may not match exactly"
   ]
  },
  {
   "cell_type": "code",
   "execution_count": 17,
   "metadata": {},
   "outputs": [
    {
     "name": "stdout",
     "output_type": "stream",
     "text": [
      "\n",
      "        Estimated μ for group 0: 29.94\n",
      "        Estimated σ² for group 0: 3.15\n",
      "        Estimated π for group 0: 0.33\n",
      "        \n",
      "\n",
      "        Estimated μ for group 1: 24.99\n",
      "        Estimated σ² for group 1: 1.04\n",
      "        Estimated π for group 1: 0.33\n",
      "        \n",
      "\n",
      "        Estimated μ for group 2: 40.00\n",
      "        Estimated σ² for group 2: 0.06\n",
      "        Estimated π for group 2: 0.33\n",
      "        \n"
     ]
    }
   ],
   "source": [
    "for i, parameters in enumerate(zip(*map_posterior)):\n",
    "    print(\n",
    "        \"\"\"\n",
    "        Estimated \\u03BC for group {0}: {1:.2f}\n",
    "        Estimated σ² for group {0}: {2:.2f}\n",
    "        Estimated \\u03C0 for group {0}: {3:.2f}\n",
    "        \"\"\".format(i, *parameters)\n",
    "    )"
   ]
  },
  {
   "cell_type": "code",
   "execution_count": 18,
   "metadata": {},
   "outputs": [
    {
     "name": "stdout",
     "output_type": "stream",
     "text": [
      "Python implementation: CPython\n",
      "Python version       : 3.12.8\n",
      "IPython version      : 8.30.0\n",
      "\n",
      "numpy     : 1.26.4\n",
      "scipy     : 1.14.1\n",
      "bokeh     : 3.6.0\n",
      "jupyterlab: 4.2.7\n",
      "\n"
     ]
    }
   ],
   "source": [
    "%load_ext watermark\n",
    "%watermark -v -p numpy,scipy,bokeh,jupyterlab"
   ]
  }
 ],
 "metadata": {
  "colab": {
   "provenance": []
  },
  "kernelspec": {
   "display_name": "Python 3 (ipykernel)",
   "language": "python",
   "name": "python3"
  },
  "language_info": {
   "codemirror_mode": {
    "name": "ipython",
    "version": 3
   },
   "file_extension": ".py",
   "mimetype": "text/x-python",
   "name": "python",
   "nbconvert_exporter": "python",
   "pygments_lexer": "ipython3",
   "version": "3.12.8"
  }
 },
 "nbformat": 4,
 "nbformat_minor": 4
}
