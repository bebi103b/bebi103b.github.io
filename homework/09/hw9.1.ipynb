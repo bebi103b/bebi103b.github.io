{
 "cells": [
  {
   "cell_type": "markdown",
   "metadata": {},
   "source": [
    "# Homework 9.1: Analysis of heritability in finch beak geometry (70 pts)\n",
    "\n",
    "[Data set download](https://s3.amazonaws.com/bebi103.caltech.edu/data/grant_and_grant_2014.csv)\n",
    "\n",
    "<hr>"
   ]
  },
  {
   "cell_type": "markdown",
   "metadata": {},
   "source": [
    "Peter and Rosemary Grant have been working on the Galápagos island of Daphne for over forty years. During this time, they have collected lots and lots of data about physiological features of finches. They published a book with a summary of some of their major results (Grant P. R., Grant B. R., *Data from: 40 years of evolution. Darwin's finches on Daphne Major Island*, Princeton University Press, 2014). They made their data from the book publicly available via the [Dryad Digital Repository](http://dx.doi.org/10.5061/dryad.g6g3h).\n",
    "\n",
    "In this problem, we will investigate their data on the heritability of beak depth (the distance, top to bottom, of a closed beak) in the ground finch *Geospiza fortis*. The data set consists of the maternal beak depth, the paternal beak depth, and the mean beak depth of their offspring. You can download the data set, which I got from Dryad and tidied up into a CSV file, [here](https://s3.amazonaws.com/bebi103.caltech.edu/data/grant_and_grant_2014.csv).\n",
    "\n",
    "**a)** The **narrow sense heritability**, denoted $h^2$, of a trait is defined as the ratio of the additive genetic variance in offspring to the total phenotypic variance in the parent. The additive genetic variance of a population describes the variability in a trait resulting from the sum of all effects of the alleles. In other words, $h^2$ is the ratio of the parent-offspring covariance in the trait value to the variance in the parents.\n",
    "\n",
    "\\begin{align}\n",
    "h^2 = \\frac{\\sigma_{po}}{\\sigma_p^2},\n",
    "\\end{align}\n",
    "\n",
    "where the subscripts $o$ and $p$ indicate offspring and parents, respectively.\n",
    "\n",
    "In practice, $h^2$ is often computed by plotting the average beak depth of the offspring against the average beak depth of the two parents, and then preforming a linear least squares regression, with $h^2$ being given by the slope. Show that this gives a maximum likelihood estimate of $h^2$ as we have defined it. Equivalently, you can show that this gives an MAP estimate with uniform priors on all parameters. (This is in some ways an exercise in trying to understand what people mean when the describe their methods with inadequate detail to reproduce it without guesswork, which happens all too often.)\n",
    "\n",
    "*Note*: in this analysis, we are neglecting confounding issues and just assuming the environment is unchanging and that the mean trait values we are using for the parents and the offspring is indicative of the differences.\n",
    "\n",
    "**b)** In choosing to do a linear regression, we tacitly assume a statistical model where there is no error at all in the measurement of parental beak depth (the x-axis), and homoscedastic errors in the offspring beak depth (the y-axis). Since both are measured in a similar way, this is not really a good generative statistical model. Instead propose a generative model and perform a parameter estimate for the heritability using that model. You should go through a complete principled pipeline. This includes prior predictive checks, simulation-based calibration with checks for shrinkage and z-scores, and posterior predictive checks."
   ]
  },
  {
   "cell_type": "markdown",
   "metadata": {},
   "source": [
    "<br />"
   ]
  }
 ],
 "metadata": {
  "anaconda-cloud": {},
  "kernelspec": {
   "display_name": "Python 3",
   "language": "python",
   "name": "python3"
  },
  "language_info": {
   "codemirror_mode": {
    "name": "ipython",
    "version": 3
   },
   "file_extension": ".py",
   "mimetype": "text/x-python",
   "name": "python",
   "nbconvert_exporter": "python",
   "pygments_lexer": "ipython3",
   "version": "3.8.8"
  }
 },
 "nbformat": 4,
 "nbformat_minor": 4
}
