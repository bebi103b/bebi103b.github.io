{
 "cells": [
  {
   "cell_type": "markdown",
   "metadata": {},
   "source": [
    "# 11. Course feedback\n",
    "\n",
    "<hr>"
   ]
  },
  {
   "cell_type": "markdown",
   "metadata": {},
   "source": [
    "This homework is to be done individually, not in groups. Your responses are not to be put in your GitHub account so you can speak candidly without the influence of your teammates. You should not use a Jupyter notebook to do the problem. Instead, you should submit your responses either as a PDF or just as text in an email. Do not submit a MS Word document or a Jupyter notebook. Please email your responses to **all** of the following email addresses.\n",
    "\n",
    "    bois at caltech dot edu\n",
    "    rfu at caltech dot edu\n",
    "    mmguar at caltech dot edu\n",
    "    amsubram at caltech dot edu\n",
    "\n",
    "A total of 20 points will be awarded for thoughtful responses for this homework. I am not expecting a paragraph for each question, but if you have detailed comments on something you have a strong or insightful opinion about, I would like to hear them."
   ]
  },
  {
   "cell_type": "markdown",
   "metadata": {},
   "source": [
    "### Problem 11.1: Topical coverage\n",
    "\n",
    "**a)** Are there topics you would like covered that were not?\n",
    "\n",
    "**b)** Were there topics you think we spent too much time on?\n",
    "\n",
    "**c)** Which topics did you find most interesting?\n",
    "\n",
    "**d)** Which did you find most pertinent?\n",
    "\n",
    "**e)** Where there any common misconceptions that persisted throughout the course for you? What topics (if any) did you find particularly hard to understand and apply?"
   ]
  },
  {
   "cell_type": "markdown",
   "metadata": {},
   "source": [
    "<br />"
   ]
  },
  {
   "cell_type": "markdown",
   "metadata": {},
   "source": [
    "### Problem 11.2: Data sets and exercises\n",
    "\n",
    "**a)** What was your favorite homework problem or data set? Which problem would you remove? Why?\n",
    "\n",
    "**b)** Some of the homeworks involved slamming up against some computational roadblocks, from tough optimization problems to Stan sampling. In other parts of the homeworks, I gave you tips and watchouts. You will hit those roadblocks in the future, and my hope is that having encountered them in class, they will not be so bothersome. How do you feel about this amount of admittedly painful challenges? Should I have given more watchouts and build more of the code structure for you, should I have given you less tips and let you hit more roadblocks, or was it about right?\n",
    "\n",
    "**c)** On the other hand, I worked to abstract away too much grungy work. Most of the `bebi103` package is meant to help you avoid doing parsing and be able to write declarative code. How do you feel about this? Should I have facilitated more or less, or what is about right?"
   ]
  },
  {
   "cell_type": "markdown",
   "metadata": {},
   "source": [
    "<br />"
   ]
  },
  {
   "cell_type": "markdown",
   "metadata": {},
   "source": [
    "### Problem 10.3: Course structure\n",
    "\n",
    "**a)** Where did the majority of your learning take place? (Example answers include: Reading the lessons, doing the lesson exercises, completing the homeworks, interacting with TAs during the Tuesday sessions, interacting with TAs during office hours, during JB's lectures, during JB's office hours, talking with teammates, etc.)\n",
    "\n",
    "**b)** What did you think of the week's timing? In particular, we had homework due on Fridays based on recommendations from students from last term. This meant that homework was introduced ten days before it was due. Did you like this structure? If not, do you have suggestions?\n",
    "\n",
    "**c)** Did you attend any recitation sessions? Did you find them useful? Do you have general suggestions for that?\n",
    "\n",
    "**d)** Do you have any comments on the lecture style or material?\n",
    "\n",
    "**e)** Did you read any of the suggested readings in the Readings/tutorials section of the course website? If so, which did you find particularly useful?"
   ]
  },
  {
   "cell_type": "markdown",
   "metadata": {},
   "source": [
    "<br />"
   ]
  },
  {
   "cell_type": "markdown",
   "metadata": {},
   "source": [
    "### Problem 10.4: Your future\n",
    "\n",
    "**a)** What will you be able to do with your data that you weren't able to before?\n",
    "\n",
    "**b)** Has this class changed the way you read scientific papers? Has it changed your opinion on any papers you've read previously?\n",
    "\n",
    "**c)** Which of the following principles/techniques do you think you will apply in your work going forward?\n",
    "\n",
    "1. Bayesian generative modeling in general\n",
    "2. Hierarchical models\n",
    "3. Brute force plotting of posterior distributions\n",
    "4. MAP finding and reporting credible regions making a local Normal approximation\n",
    "5. Markov chain Monte Carlo\n",
    "6. Posterior predictive checks\n",
    "7. Model comparison using WAIC and LOO\n",
    "8. Principled pipelines including prior predictive checks, ground truth checking, shrinkage checking, and simulation based calibration\n",
    "9. Variational inference\n",
    "10. Nonparametric Bayes, and Gaussian processes in particular\n",
    "\n",
    "**d)** Which of the following software tools do you think you will use in your work going forward?\n",
    "\n",
    "1. Jupyter notebooks\n",
    "2. Git/GitHub\n",
    "3. Python-based tools in general (NumPy, SciPy, etc.)\n",
    "4. Pandas\n",
    "5. Bokeh\n",
    "6. HoloViews\n",
    "7. Panel\n",
    "8. Distribution explorer\n",
    "9. `iqplot`\n",
    "9. The `bebi103` package\n",
    "10. Stan\n",
    "\n",
    "\n",
    "**e)** Will you share what you have learned with your labmates/classmates?\n",
    "\n",
    "**f)** Will you share what you have learned with your PI?"
   ]
  },
  {
   "cell_type": "markdown",
   "metadata": {},
   "source": [
    "<br />"
   ]
  },
  {
   "cell_type": "markdown",
   "metadata": {},
   "source": [
    "### Problem 10.5: Miscellany\n",
    "\n",
    "Please include any comments you have that I have not asked about. You can also refer to [last term's homework](http://bebi103.caltech.edu.s3-website-us-east-1.amazonaws.com/2019a/content/homework/hw10/hw10.html) for additional questions."
   ]
  }
 ],
 "metadata": {
  "anaconda-cloud": {},
  "kernelspec": {
   "display_name": "Python 3 (ipykernel)",
   "language": "python",
   "name": "python3"
  },
  "language_info": {
   "codemirror_mode": {
    "name": "ipython",
    "version": 3
   },
   "file_extension": ".py",
   "mimetype": "text/x-python",
   "name": "python",
   "nbconvert_exporter": "python",
   "pygments_lexer": "ipython3",
   "version": "3.9.7"
  }
 },
 "nbformat": 4,
 "nbformat_minor": 4
}
