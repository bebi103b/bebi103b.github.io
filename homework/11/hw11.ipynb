{
 "cells": [
  {
   "cell_type": "markdown",
   "metadata": {},
   "source": [
    "# 11. Course feedback\n",
    "\n",
    "<hr>"
   ]
  },
  {
   "cell_type": "markdown",
   "metadata": {},
   "source": [
    "A total of 20 points will be awarded for thoughtful responses for this homework. You may submit this homework as a Jupyter notebook, a PDF, or a text file. I am not expecting a paragraph for each question, but if you have detailed comments on something you have a strong or insightful opinion about, I would like to hear them."
   ]
  },
  {
   "cell_type": "markdown",
   "metadata": {},
   "source": [
    "### Problem 11.1: Topical coverage\n",
    "\n",
    "**a)** Are there topics you would like covered that were not?\n",
    "\n",
    "**b)** Were there topics you think we spent too much time on?\n",
    "\n",
    "**c)** Which topics did you find most interesting?\n",
    "\n",
    "**d)** Which did you find most pertinent?\n",
    "\n",
    "**e)** Where there any common misconceptions that persisted throughout the course for you? What topics (if any) did you find particularly hard to understand and apply?"
   ]
  },
  {
   "cell_type": "markdown",
   "metadata": {},
   "source": [
    "<br />"
   ]
  },
  {
   "cell_type": "markdown",
   "metadata": {},
   "source": [
    "### Problem 11.2: Data sets and exercises\n",
    "\n",
    "**a)** What was your favorite homework problem or data set? Which problem would you remove? Why?\n",
    "\n",
    "**b)** Some of the homeworks involved slamming up against some computational roadblocks, from tough optimization problems to Stan sampling. In other parts of the homeworks, I gave you tips and watchouts. You will hit those roadblocks in the future, and my hope is that having encountered them in class, they will not be so bothersome. How do you feel about this amount of admittedly painful challenges? Should I have given more watchouts and built more of the code structure for you, should I have given you less tips and let you hit more roadblocks, or was it about right?\n",
    "\n",
    "**c)** On the other hand, I worked to abstract away too much grungy work. Most of the `bebi103` package is meant to help you avoid doing parsing and be able to write declarative code. How do you feel about this? Should I have facilitated more or less, or what is about right?"
   ]
  },
  {
   "cell_type": "markdown",
   "metadata": {},
   "source": [
    "<br />"
   ]
  },
  {
   "cell_type": "markdown",
   "metadata": {},
   "source": [
    "### Problem 11.3: Course structure\n",
    "\n",
    "**a)** Where did the majority of your learning take place? (Example answers include: Reading the lessons, doing the lesson exercises, completing the homeworks, interacting with TAs during the Wednesday sessions, interacting with TAs during office hours, during JB's lectures, during JB's office hours, etc.)\n",
    "\n",
    "**b)** What did you think of the week's timing with lecture on Mondays, work session on Wednesdays, and assignments due on Fridays? Did you like this structure? If not, do you have suggestions?\n",
    "\n",
    "**c)** Did you attend any recitation sessions? Did you find them useful? Do you have general suggestions for that?\n",
    "\n",
    "**d)** Do you have any comments on the lecture style or material?\n",
    "\n",
    "**e)** Did you read any of the suggested readings in the Readings/tutorials section of the course website? If so, which did you find particularly useful?"
   ]
  },
  {
   "cell_type": "markdown",
   "metadata": {},
   "source": [
    "<br />"
   ]
  },
  {
   "cell_type": "markdown",
   "metadata": {},
   "source": [
    "### Problem 11.4: Distribution Explorer\n",
    "\n",
    "I have been working hard on the Distribution Explorer and did a major set of mostly under-the-hood improvements before the start of the term. It sees widespread usage, and I am always looking to make it better. Do you have any suggestions about the Distribution Explorer?"
   ]
  },
  {
   "cell_type": "markdown",
   "metadata": {},
   "source": [
    "<br />"
   ]
  },
  {
   "cell_type": "markdown",
   "metadata": {},
   "source": [
    "### Problem 11.5: Miscellany\n",
    "\n",
    "Please include any comments you have that I have not asked about."
   ]
  }
 ],
 "metadata": {
  "anaconda-cloud": {},
  "kernelspec": {
   "display_name": "Python 3 (ipykernel)",
   "language": "python",
   "name": "python3"
  },
  "language_info": {
   "codemirror_mode": {
    "name": "ipython",
    "version": 3
   },
   "file_extension": ".py",
   "mimetype": "text/x-python",
   "name": "python",
   "nbconvert_exporter": "python",
   "pygments_lexer": "ipython3",
   "version": "3.11.5"
  }
 },
 "nbformat": 4,
 "nbformat_minor": 4
}
