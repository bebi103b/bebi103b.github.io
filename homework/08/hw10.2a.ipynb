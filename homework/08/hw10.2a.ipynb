{
 "cells": [
  {
   "cell_type": "markdown",
   "metadata": {},
   "source": [
    "# Homework 10.2a: Propose your own analysis (0 pts)\n",
    "\n",
    "<hr>"
   ]
  },
  {
   "cell_type": "markdown",
   "metadata": {},
   "source": [
    "For Homework 10, you may choose to *either* do [Homework 10.1](../10/hw10.1.ipynb) about Caulobacter growth, or you may propose your own analysis to perform, which we list as [Homework 10.2](../hw10/hw10.2.ipynb). If you choose to propose your own problem, the proposal for the problem (preferably with a little exploratory data analysis so we have a good idea what the data set looks like) must be submitted with Homework 8. The course staff will review the proposals and either accept your proposal (possibly with some suggestions) or ask you to do problem 10.1 instead. We will let you know our decision at least one week before Homework 10 is due. Consider this proposal part (a) of problem 10.2.\n",
    "\n",
    "You should propose a problem based on a data set or data sets from a research project by members of your teams, by friends or colleagues, or from the literature. You'll have to get access to the data sets for research that is not your own; hopefully the data sets are public. You are to analyze the data using the Bayesian modeling techniques we have learned in this class. In your proposal give a brief overview of the objectives of the experiments and the modeling approaches you plan on taking."
   ]
  }
 ],
 "metadata": {
  "kernelspec": {
   "display_name": "Python 3",
   "language": "python",
   "name": "python3"
  },
  "language_info": {
   "codemirror_mode": {
    "name": "ipython",
    "version": 3
   },
   "file_extension": ".py",
   "mimetype": "text/x-python",
   "name": "python",
   "nbconvert_exporter": "python",
   "pygments_lexer": "ipython3",
   "version": "3.8.5"
  }
 },
 "nbformat": 4,
 "nbformat_minor": 4
}
