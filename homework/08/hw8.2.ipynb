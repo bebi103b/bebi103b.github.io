{
 "cells": [
  {
   "cell_type": "markdown",
   "metadata": {},
   "source": [
    "# Homework 8.2: Hierarchical modeling of repeated experiments (60 pts)\n",
    "\n",
    "[Data set download](https://s3.amazonaws.com/bebi103.caltech.edu/data/naganathan_explanted_somite_deformability.csv)\n",
    "\n",
    "<hr>"
   ]
  },
  {
   "cell_type": "markdown",
   "metadata": {},
   "source": [
    "Somitogenesis is the process by which **somites**, precursors to vertebrae, form sequentially in a developing embryo. The developing zebrafish embryo is an import model system for the study of this process. The video below shows this process."
   ]
  },
  {
   "cell_type": "code",
   "execution_count": 1,
   "metadata": {},
   "outputs": [
    {
     "data": {
      "image/jpeg": "[encoded data removed]",
      "text/html": [
       "\n",
       "        <iframe\n",
       "            width=\"400\"\n",
       "            height=\"300\"\n",
       "            src=\"https://www.youtube.com/embed/aR0CLyGFrxo\"\n",
       "            frameborder=\"0\"\n",
       "            allowfullscreen\n",
       "        ></iframe>\n",
       "        "
      ],
      "text/plain": [
       "<IPython.lib.display.YouTubeVideo at 0x7f824f3954f0>"
      ]
     },
     "execution_count": 1,
     "metadata": {},
     "output_type": "execute_result"
    }
   ],
   "source": [
    "from IPython.display import YouTubeVideo\n",
    "YouTubeVideo('aR0CLyGFrxo')"
   ]
  },
  {
   "cell_type": "markdown",
   "metadata": {},
   "source": [
    "The somites form with near perfect precision, both in time and space. In particular, the shape of each somite is nearly identical, with the somites to the left of the notochord (the spinal cord precursor) having exactly the same shape as the somites on the right.\n",
    "\n",
    "In a [recent publication](https://doi.org/10.1101/2020.08.14.251645), Naganathan, Popović, and Oates noticed that immediately upon formation, the somites are not perfectly shaped. Rather, their shape gets corrected over time. The authors hypothesized that this correction is achieved via surface tension between the somite and its surroundings. This implies that the somite acts like a liquid drop.\n",
    "\n",
    "Using a physical theory and careful in vivo measurements that we will not explore in this problem, the authors were able to infer the ratio of the viscosity to the surface tension to be $\\eta / \\Gamma = 3.78 \\pm 0.24$ min/µm. (The error bar is computed assuming by finding a set of MAP parameter values assuming uniform priors in their model and then approximating the posterior locally as Normal and computing a 68% credible region.)\n",
    "\n",
    "To investigate the idea that the somite behave like liquid droplets and further to provide an independent measurement of the $\\eta/\\Gamma$ ratio, Naganathan excised individual somites and placed them in buffer. He then imaged them as they rounded up, as a liquid droplet would do. Such a [video](somite_rounding_up.mp4) is below (from the supplement of the paper).\n",
    "\n",
    "<div style=\"margin: auto; width: 500px;\">\n",
    "    \n",
    "<video src=\"somite_rounding_up.mp4\" controls>A somite rounding up</video>\n",
    "    \n",
    "</div>\n",
    "\n",
    "When the somite is first placed in the buffer, is has the shape of a prolate spheroid. Over time, it becomes rounds up to become spherical. [Liciani and coworkers (1997)](https://doi.org/10.1002/(SICI)1099-0488(19970715)35:9%3C1393::AID-POLB9%3E3.0.CO;2-N) worked out a theoretical expression for a prolate spheroid droplet rounding up due to surface tension.\n",
    "\n",
    "\\begin{align}\n",
    "D(t) = D_0\\,\\mathrm{e}^{-t/\\tau_e},\n",
    "\\end{align}\n",
    "\n",
    "where $D$ is the deformability, given by $D = (b - a) / (b + a)$, where $a$ and $b$ are respectively the minor and major axes of the prolate spheroid. (Once rounded up, the deformability goes to zero.) They derived that\n",
    "\n",
    "\\begin{align}\n",
    "\\tau_e = \\frac{19}{20}\\,\\frac{\\eta R}{\\Gamma},\n",
    "\\end{align}\n",
    "\n",
    "where $R$ is the radius of the sphere of the rounded up droplet. Naganathan used fluorescence imaging and image processing techniques to measure $a$ and $b$ for the explanted somites over time to get a trace of $D$ over time. The ending radius of a spherical somite explant is 31 µm.\n",
    "\n",
    "You can download the time traces of $D$ versus time for five explanted somites [here](https://s3.amazonaws.com/bebi103.caltech.edu/data/naganathan_explanted_somite_deformability.csv). The data were kindly provided by Sundar Naganathan.\n",
    "\n",
    "Your task in this problem is to obtain an estimate for $\\eta/\\Gamma$ for the explants with a goal of comparing that ratio of the one observed in vivo. If they are close, this lends credence to the idea that somites behave like liquid droplets and surface tension does indeed contribute to their shape. You should use a hierarchical model."
   ]
  },
  {
   "cell_type": "markdown",
   "metadata": {},
   "source": [
    "<br />"
   ]
  }
 ],
 "metadata": {
  "anaconda-cloud": {},
  "kernelspec": {
   "display_name": "Python 3",
   "language": "python",
   "name": "python3"
  },
  "language_info": {
   "codemirror_mode": {
    "name": "ipython",
    "version": 3
   },
   "file_extension": ".py",
   "mimetype": "text/x-python",
   "name": "python",
   "nbconvert_exporter": "python",
   "pygments_lexer": "ipython3",
   "version": "3.8.5"
  }
 },
 "nbformat": 4,
 "nbformat_minor": 4
}
